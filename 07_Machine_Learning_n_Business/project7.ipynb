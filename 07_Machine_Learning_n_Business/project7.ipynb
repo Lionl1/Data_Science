{
 "cells": [
  {
   "cell_type": "markdown",
   "metadata": {},
   "source": [
    "# <center> Выбор локации для скважины"
   ]
  },
  {
   "cell_type": "markdown",
   "metadata": {},
   "source": [
    "Допустим, вы работаете в добывающей компании «ГлавРосГосНефть». Нужно решить, где бурить новую скважину.\n",
    "\n",
    "Вам предоставлены пробы нефти в трёх регионах: в каждом 10 000 месторождений, где измерили качество нефти и объём её запасов. Постройте модель машинного обучения, которая поможет определить регион, где добыча принесёт наибольшую прибыль. Проанализируйте возможную прибыль и риски техникой *Bootstrap.*\n",
    "\n",
    "Шаги для выбора локации:\n",
    "\n",
    "- В избранном регионе ищут месторождения, для каждого определяют значения признаков;\n",
    "- Строят модель и оценивают объём запасов;\n",
    "- Выбирают месторождения с самым высокими оценками значений. Количество месторождений зависит от бюджета компании и стоимости разработки одной скважины;\n",
    "- Прибыль равна суммарной прибыли отобранных месторождений."
   ]
  },
  {
   "cell_type": "code",
   "execution_count": 1,
   "metadata": {},
   "outputs": [],
   "source": [
    "import pandas as pd\n",
    "import numpy as np\n",
    "import seaborn as sns\n",
    "import matplotlib.pyplot as plt\n",
    "from sklearn.model_selection import train_test_split\n",
    "from sklearn.metrics import mean_squared_error\n",
    "from sklearn.linear_model import LinearRegression"
   ]
  },
  {
   "cell_type": "markdown",
   "metadata": {},
   "source": [
    "## Загрузка и подготовка данных"
   ]
  },
  {
   "cell_type": "code",
   "execution_count": 2,
   "metadata": {},
   "outputs": [],
   "source": [
    "# Функция для графиков распределения по столбцам\n",
    "def plots(table,legend=True):\n",
    "    for column in table.columns:\n",
    "        if table[column].dtypes != 'object' :\n",
    "            if column != 'id':\n",
    "                fig = plt.figure(figsize=(20,5))\n",
    "                plt.subplot(1,2, 1)\n",
    "                sns.histplot(data=table, x=column,legend=legend,kde=True)\n",
    "                plt.title(f'Распределение, {column}')\n",
    "                plt.ylabel('Частота')\n",
    "                plt.xlabel(column)\n",
    "                plt.subplot(1,2, 2)\n",
    "                sns.boxplot(data=table, y=column)\n",
    "                plt.title(f'Боксплот, {column}')\n",
    "                plt.show()\n",
    "    display(table.describe())\n",
    "  \n",
    " "
   ]
  },
  {
   "cell_type": "code",
   "execution_count": 3,
   "metadata": {},
   "outputs": [
    {
     "data": {
      "text/html": [
       "<div>\n",
       "<style scoped>\n",
       "    .dataframe tbody tr th:only-of-type {\n",
       "        vertical-align: middle;\n",
       "    }\n",
       "\n",
       "    .dataframe tbody tr th {\n",
       "        vertical-align: top;\n",
       "    }\n",
       "\n",
       "    .dataframe thead th {\n",
       "        text-align: right;\n",
       "    }\n",
       "</style>\n",
       "<table border=\"1\" class=\"dataframe\">\n",
       "  <thead>\n",
       "    <tr style=\"text-align: right;\">\n",
       "      <th></th>\n",
       "      <th>id</th>\n",
       "      <th>f0</th>\n",
       "      <th>f1</th>\n",
       "      <th>f2</th>\n",
       "      <th>product</th>\n",
       "    </tr>\n",
       "  </thead>\n",
       "  <tbody>\n",
       "    <tr>\n",
       "      <th>0</th>\n",
       "      <td>txEyH</td>\n",
       "      <td>0.705745</td>\n",
       "      <td>-0.497823</td>\n",
       "      <td>1.221170</td>\n",
       "      <td>105.280062</td>\n",
       "    </tr>\n",
       "    <tr>\n",
       "      <th>1</th>\n",
       "      <td>2acmU</td>\n",
       "      <td>1.334711</td>\n",
       "      <td>-0.340164</td>\n",
       "      <td>4.365080</td>\n",
       "      <td>73.037750</td>\n",
       "    </tr>\n",
       "    <tr>\n",
       "      <th>2</th>\n",
       "      <td>409Wp</td>\n",
       "      <td>1.022732</td>\n",
       "      <td>0.151990</td>\n",
       "      <td>1.419926</td>\n",
       "      <td>85.265647</td>\n",
       "    </tr>\n",
       "  </tbody>\n",
       "</table>\n",
       "</div>"
      ],
      "text/plain": [
       "      id        f0        f1        f2     product\n",
       "0  txEyH  0.705745 -0.497823  1.221170  105.280062\n",
       "1  2acmU  1.334711 -0.340164  4.365080   73.037750\n",
       "2  409Wp  1.022732  0.151990  1.419926   85.265647"
      ]
     },
     "metadata": {},
     "output_type": "display_data"
    },
    {
     "name": "stdout",
     "output_type": "stream",
     "text": [
      "<class 'pandas.core.frame.DataFrame'>\n",
      "RangeIndex: 100000 entries, 0 to 99999\n",
      "Data columns (total 5 columns):\n",
      " #   Column   Non-Null Count   Dtype  \n",
      "---  ------   --------------   -----  \n",
      " 0   id       100000 non-null  object \n",
      " 1   f0       100000 non-null  float64\n",
      " 2   f1       100000 non-null  float64\n",
      " 3   f2       100000 non-null  float64\n",
      " 4   product  100000 non-null  float64\n",
      "dtypes: float64(4), object(1)\n",
      "memory usage: 3.8+ MB\n"
     ]
    },
    {
     "data": {
      "text/plain": [
       "None"
      ]
     },
     "metadata": {},
     "output_type": "display_data"
    },
    {
     "data": {
      "text/html": [
       "<div>\n",
       "<style scoped>\n",
       "    .dataframe tbody tr th:only-of-type {\n",
       "        vertical-align: middle;\n",
       "    }\n",
       "\n",
       "    .dataframe tbody tr th {\n",
       "        vertical-align: top;\n",
       "    }\n",
       "\n",
       "    .dataframe thead th {\n",
       "        text-align: right;\n",
       "    }\n",
       "</style>\n",
       "<table border=\"1\" class=\"dataframe\">\n",
       "  <thead>\n",
       "    <tr style=\"text-align: right;\">\n",
       "      <th></th>\n",
       "      <th>id</th>\n",
       "      <th>f0</th>\n",
       "      <th>f1</th>\n",
       "      <th>f2</th>\n",
       "      <th>product</th>\n",
       "    </tr>\n",
       "  </thead>\n",
       "  <tbody>\n",
       "    <tr>\n",
       "      <th>0</th>\n",
       "      <td>kBEdx</td>\n",
       "      <td>-15.001348</td>\n",
       "      <td>-8.276000</td>\n",
       "      <td>-0.005876</td>\n",
       "      <td>3.179103</td>\n",
       "    </tr>\n",
       "    <tr>\n",
       "      <th>1</th>\n",
       "      <td>62mP7</td>\n",
       "      <td>14.272088</td>\n",
       "      <td>-3.475083</td>\n",
       "      <td>0.999183</td>\n",
       "      <td>26.953261</td>\n",
       "    </tr>\n",
       "    <tr>\n",
       "      <th>2</th>\n",
       "      <td>vyE1P</td>\n",
       "      <td>6.263187</td>\n",
       "      <td>-5.948386</td>\n",
       "      <td>5.001160</td>\n",
       "      <td>134.766305</td>\n",
       "    </tr>\n",
       "  </tbody>\n",
       "</table>\n",
       "</div>"
      ],
      "text/plain": [
       "      id         f0        f1        f2     product\n",
       "0  kBEdx -15.001348 -8.276000 -0.005876    3.179103\n",
       "1  62mP7  14.272088 -3.475083  0.999183   26.953261\n",
       "2  vyE1P   6.263187 -5.948386  5.001160  134.766305"
      ]
     },
     "metadata": {},
     "output_type": "display_data"
    },
    {
     "name": "stdout",
     "output_type": "stream",
     "text": [
      "<class 'pandas.core.frame.DataFrame'>\n",
      "RangeIndex: 100000 entries, 0 to 99999\n",
      "Data columns (total 5 columns):\n",
      " #   Column   Non-Null Count   Dtype  \n",
      "---  ------   --------------   -----  \n",
      " 0   id       100000 non-null  object \n",
      " 1   f0       100000 non-null  float64\n",
      " 2   f1       100000 non-null  float64\n",
      " 3   f2       100000 non-null  float64\n",
      " 4   product  100000 non-null  float64\n",
      "dtypes: float64(4), object(1)\n",
      "memory usage: 3.8+ MB\n"
     ]
    },
    {
     "data": {
      "text/plain": [
       "None"
      ]
     },
     "metadata": {},
     "output_type": "display_data"
    },
    {
     "data": {
      "text/html": [
       "<div>\n",
       "<style scoped>\n",
       "    .dataframe tbody tr th:only-of-type {\n",
       "        vertical-align: middle;\n",
       "    }\n",
       "\n",
       "    .dataframe tbody tr th {\n",
       "        vertical-align: top;\n",
       "    }\n",
       "\n",
       "    .dataframe thead th {\n",
       "        text-align: right;\n",
       "    }\n",
       "</style>\n",
       "<table border=\"1\" class=\"dataframe\">\n",
       "  <thead>\n",
       "    <tr style=\"text-align: right;\">\n",
       "      <th></th>\n",
       "      <th>id</th>\n",
       "      <th>f0</th>\n",
       "      <th>f1</th>\n",
       "      <th>f2</th>\n",
       "      <th>product</th>\n",
       "    </tr>\n",
       "  </thead>\n",
       "  <tbody>\n",
       "    <tr>\n",
       "      <th>0</th>\n",
       "      <td>fwXo0</td>\n",
       "      <td>-1.146987</td>\n",
       "      <td>0.963328</td>\n",
       "      <td>-0.828965</td>\n",
       "      <td>27.758673</td>\n",
       "    </tr>\n",
       "    <tr>\n",
       "      <th>1</th>\n",
       "      <td>WJtFt</td>\n",
       "      <td>0.262778</td>\n",
       "      <td>0.269839</td>\n",
       "      <td>-2.530187</td>\n",
       "      <td>56.069697</td>\n",
       "    </tr>\n",
       "    <tr>\n",
       "      <th>2</th>\n",
       "      <td>ovLUW</td>\n",
       "      <td>0.194587</td>\n",
       "      <td>0.289035</td>\n",
       "      <td>-5.586433</td>\n",
       "      <td>62.871910</td>\n",
       "    </tr>\n",
       "  </tbody>\n",
       "</table>\n",
       "</div>"
      ],
      "text/plain": [
       "      id        f0        f1        f2    product\n",
       "0  fwXo0 -1.146987  0.963328 -0.828965  27.758673\n",
       "1  WJtFt  0.262778  0.269839 -2.530187  56.069697\n",
       "2  ovLUW  0.194587  0.289035 -5.586433  62.871910"
      ]
     },
     "metadata": {},
     "output_type": "display_data"
    },
    {
     "name": "stdout",
     "output_type": "stream",
     "text": [
      "<class 'pandas.core.frame.DataFrame'>\n",
      "RangeIndex: 100000 entries, 0 to 99999\n",
      "Data columns (total 5 columns):\n",
      " #   Column   Non-Null Count   Dtype  \n",
      "---  ------   --------------   -----  \n",
      " 0   id       100000 non-null  object \n",
      " 1   f0       100000 non-null  float64\n",
      " 2   f1       100000 non-null  float64\n",
      " 3   f2       100000 non-null  float64\n",
      " 4   product  100000 non-null  float64\n",
      "dtypes: float64(4), object(1)\n",
      "memory usage: 3.8+ MB\n"
     ]
    },
    {
     "data": {
      "text/plain": [
       "None"
      ]
     },
     "metadata": {},
     "output_type": "display_data"
    }
   ],
   "source": [
    "# Загружаем данные\n",
    "try:\n",
    "    region_1 = pd.read_csv('/datasets/geo_data_0.csv')\n",
    "    region_2 = pd.read_csv('/datasets/geo_data_1.csv')\n",
    "    region_3 = pd.read_csv('/datasets/geo_data_2.csv')\n",
    "except:\n",
    "    region_1 = pd.read_csv('https://code.s3.yandex.net/datasets/geo_data_0.csv')\n",
    "    region_2 = pd.read_csv('https://code.s3.yandex.net/datasets/geo_data_1.csv')\n",
    "    region_3 = pd.read_csv('https://code.s3.yandex.net/datasets/geo_data_2.csv')\n",
    "\n",
    "table_list = [region_1, region_2, region_3] # Список таблиц\n",
    "for i in table_list:\n",
    "    display(i.head(3))\n",
    "    display(i.info())\n",
    "    "
   ]
  },
  {
   "cell_type": "markdown",
   "metadata": {},
   "source": [
    "### Статистика"
   ]
  },
  {
   "cell_type": "code",
   "execution_count": 4,
   "metadata": {},
   "outputs": [
    {
     "name": "stdout",
     "output_type": "stream",
     "text": [
      "<class 'pandas.core.frame.DataFrame'>\n",
      "RangeIndex: 100000 entries, 0 to 99999\n",
      "Data columns (total 5 columns):\n",
      " #   Column   Non-Null Count   Dtype  \n",
      "---  ------   --------------   -----  \n",
      " 0   id       100000 non-null  object \n",
      " 1   f0       100000 non-null  float64\n",
      " 2   f1       100000 non-null  float64\n",
      " 3   f2       100000 non-null  float64\n",
      " 4   product  100000 non-null  float64\n",
      "dtypes: float64(4), object(1)\n",
      "memory usage: 3.8+ MB\n"
     ]
    },
    {
     "data": {
      "text/plain": [
       "None"
      ]
     },
     "metadata": {},
     "output_type": "display_data"
    },
    {
     "data": {
      "text/html": [
       "<div>\n",
       "<style scoped>\n",
       "    .dataframe tbody tr th:only-of-type {\n",
       "        vertical-align: middle;\n",
       "    }\n",
       "\n",
       "    .dataframe tbody tr th {\n",
       "        vertical-align: top;\n",
       "    }\n",
       "\n",
       "    .dataframe thead th {\n",
       "        text-align: right;\n",
       "    }\n",
       "</style>\n",
       "<table border=\"1\" class=\"dataframe\">\n",
       "  <thead>\n",
       "    <tr style=\"text-align: right;\">\n",
       "      <th></th>\n",
       "      <th>f0</th>\n",
       "      <th>f1</th>\n",
       "      <th>f2</th>\n",
       "      <th>product</th>\n",
       "    </tr>\n",
       "  </thead>\n",
       "  <tbody>\n",
       "    <tr>\n",
       "      <th>count</th>\n",
       "      <td>100000.000000</td>\n",
       "      <td>100000.000000</td>\n",
       "      <td>100000.000000</td>\n",
       "      <td>100000.000000</td>\n",
       "    </tr>\n",
       "    <tr>\n",
       "      <th>mean</th>\n",
       "      <td>0.500419</td>\n",
       "      <td>0.250143</td>\n",
       "      <td>2.502647</td>\n",
       "      <td>92.500000</td>\n",
       "    </tr>\n",
       "    <tr>\n",
       "      <th>std</th>\n",
       "      <td>0.871832</td>\n",
       "      <td>0.504433</td>\n",
       "      <td>3.248248</td>\n",
       "      <td>44.288691</td>\n",
       "    </tr>\n",
       "    <tr>\n",
       "      <th>min</th>\n",
       "      <td>-1.408605</td>\n",
       "      <td>-0.848218</td>\n",
       "      <td>-12.088328</td>\n",
       "      <td>0.000000</td>\n",
       "    </tr>\n",
       "    <tr>\n",
       "      <th>25%</th>\n",
       "      <td>-0.072580</td>\n",
       "      <td>-0.200881</td>\n",
       "      <td>0.287748</td>\n",
       "      <td>56.497507</td>\n",
       "    </tr>\n",
       "    <tr>\n",
       "      <th>50%</th>\n",
       "      <td>0.502360</td>\n",
       "      <td>0.250252</td>\n",
       "      <td>2.515969</td>\n",
       "      <td>91.849972</td>\n",
       "    </tr>\n",
       "    <tr>\n",
       "      <th>75%</th>\n",
       "      <td>1.073581</td>\n",
       "      <td>0.700646</td>\n",
       "      <td>4.715088</td>\n",
       "      <td>128.564089</td>\n",
       "    </tr>\n",
       "    <tr>\n",
       "      <th>max</th>\n",
       "      <td>2.362331</td>\n",
       "      <td>1.343769</td>\n",
       "      <td>16.003790</td>\n",
       "      <td>185.364347</td>\n",
       "    </tr>\n",
       "  </tbody>\n",
       "</table>\n",
       "</div>"
      ],
      "text/plain": [
       "                  f0             f1             f2        product\n",
       "count  100000.000000  100000.000000  100000.000000  100000.000000\n",
       "mean        0.500419       0.250143       2.502647      92.500000\n",
       "std         0.871832       0.504433       3.248248      44.288691\n",
       "min        -1.408605      -0.848218     -12.088328       0.000000\n",
       "25%        -0.072580      -0.200881       0.287748      56.497507\n",
       "50%         0.502360       0.250252       2.515969      91.849972\n",
       "75%         1.073581       0.700646       4.715088     128.564089\n",
       "max         2.362331       1.343769      16.003790     185.364347"
      ]
     },
     "metadata": {},
     "output_type": "display_data"
    },
    {
     "name": "stdout",
     "output_type": "stream",
     "text": [
      "Число явных дубликатов = 0\n",
      "\n",
      "<class 'pandas.core.frame.DataFrame'>\n",
      "RangeIndex: 100000 entries, 0 to 99999\n",
      "Data columns (total 5 columns):\n",
      " #   Column   Non-Null Count   Dtype  \n",
      "---  ------   --------------   -----  \n",
      " 0   id       100000 non-null  object \n",
      " 1   f0       100000 non-null  float64\n",
      " 2   f1       100000 non-null  float64\n",
      " 3   f2       100000 non-null  float64\n",
      " 4   product  100000 non-null  float64\n",
      "dtypes: float64(4), object(1)\n",
      "memory usage: 3.8+ MB\n"
     ]
    },
    {
     "data": {
      "text/plain": [
       "None"
      ]
     },
     "metadata": {},
     "output_type": "display_data"
    },
    {
     "data": {
      "text/html": [
       "<div>\n",
       "<style scoped>\n",
       "    .dataframe tbody tr th:only-of-type {\n",
       "        vertical-align: middle;\n",
       "    }\n",
       "\n",
       "    .dataframe tbody tr th {\n",
       "        vertical-align: top;\n",
       "    }\n",
       "\n",
       "    .dataframe thead th {\n",
       "        text-align: right;\n",
       "    }\n",
       "</style>\n",
       "<table border=\"1\" class=\"dataframe\">\n",
       "  <thead>\n",
       "    <tr style=\"text-align: right;\">\n",
       "      <th></th>\n",
       "      <th>f0</th>\n",
       "      <th>f1</th>\n",
       "      <th>f2</th>\n",
       "      <th>product</th>\n",
       "    </tr>\n",
       "  </thead>\n",
       "  <tbody>\n",
       "    <tr>\n",
       "      <th>count</th>\n",
       "      <td>100000.000000</td>\n",
       "      <td>100000.000000</td>\n",
       "      <td>100000.000000</td>\n",
       "      <td>100000.000000</td>\n",
       "    </tr>\n",
       "    <tr>\n",
       "      <th>mean</th>\n",
       "      <td>1.141296</td>\n",
       "      <td>-4.796579</td>\n",
       "      <td>2.494541</td>\n",
       "      <td>68.825000</td>\n",
       "    </tr>\n",
       "    <tr>\n",
       "      <th>std</th>\n",
       "      <td>8.965932</td>\n",
       "      <td>5.119872</td>\n",
       "      <td>1.703572</td>\n",
       "      <td>45.944423</td>\n",
       "    </tr>\n",
       "    <tr>\n",
       "      <th>min</th>\n",
       "      <td>-31.609576</td>\n",
       "      <td>-26.358598</td>\n",
       "      <td>-0.018144</td>\n",
       "      <td>0.000000</td>\n",
       "    </tr>\n",
       "    <tr>\n",
       "      <th>25%</th>\n",
       "      <td>-6.298551</td>\n",
       "      <td>-8.267985</td>\n",
       "      <td>1.000021</td>\n",
       "      <td>26.953261</td>\n",
       "    </tr>\n",
       "    <tr>\n",
       "      <th>50%</th>\n",
       "      <td>1.153055</td>\n",
       "      <td>-4.813172</td>\n",
       "      <td>2.011479</td>\n",
       "      <td>57.085625</td>\n",
       "    </tr>\n",
       "    <tr>\n",
       "      <th>75%</th>\n",
       "      <td>8.621015</td>\n",
       "      <td>-1.332816</td>\n",
       "      <td>3.999904</td>\n",
       "      <td>107.813044</td>\n",
       "    </tr>\n",
       "    <tr>\n",
       "      <th>max</th>\n",
       "      <td>29.421755</td>\n",
       "      <td>18.734063</td>\n",
       "      <td>5.019721</td>\n",
       "      <td>137.945408</td>\n",
       "    </tr>\n",
       "  </tbody>\n",
       "</table>\n",
       "</div>"
      ],
      "text/plain": [
       "                  f0             f1             f2        product\n",
       "count  100000.000000  100000.000000  100000.000000  100000.000000\n",
       "mean        1.141296      -4.796579       2.494541      68.825000\n",
       "std         8.965932       5.119872       1.703572      45.944423\n",
       "min       -31.609576     -26.358598      -0.018144       0.000000\n",
       "25%        -6.298551      -8.267985       1.000021      26.953261\n",
       "50%         1.153055      -4.813172       2.011479      57.085625\n",
       "75%         8.621015      -1.332816       3.999904     107.813044\n",
       "max        29.421755      18.734063       5.019721     137.945408"
      ]
     },
     "metadata": {},
     "output_type": "display_data"
    },
    {
     "name": "stdout",
     "output_type": "stream",
     "text": [
      "Число явных дубликатов = 0\n",
      "\n",
      "<class 'pandas.core.frame.DataFrame'>\n",
      "RangeIndex: 100000 entries, 0 to 99999\n",
      "Data columns (total 5 columns):\n",
      " #   Column   Non-Null Count   Dtype  \n",
      "---  ------   --------------   -----  \n",
      " 0   id       100000 non-null  object \n",
      " 1   f0       100000 non-null  float64\n",
      " 2   f1       100000 non-null  float64\n",
      " 3   f2       100000 non-null  float64\n",
      " 4   product  100000 non-null  float64\n",
      "dtypes: float64(4), object(1)\n",
      "memory usage: 3.8+ MB\n"
     ]
    },
    {
     "data": {
      "text/plain": [
       "None"
      ]
     },
     "metadata": {},
     "output_type": "display_data"
    },
    {
     "data": {
      "text/html": [
       "<div>\n",
       "<style scoped>\n",
       "    .dataframe tbody tr th:only-of-type {\n",
       "        vertical-align: middle;\n",
       "    }\n",
       "\n",
       "    .dataframe tbody tr th {\n",
       "        vertical-align: top;\n",
       "    }\n",
       "\n",
       "    .dataframe thead th {\n",
       "        text-align: right;\n",
       "    }\n",
       "</style>\n",
       "<table border=\"1\" class=\"dataframe\">\n",
       "  <thead>\n",
       "    <tr style=\"text-align: right;\">\n",
       "      <th></th>\n",
       "      <th>f0</th>\n",
       "      <th>f1</th>\n",
       "      <th>f2</th>\n",
       "      <th>product</th>\n",
       "    </tr>\n",
       "  </thead>\n",
       "  <tbody>\n",
       "    <tr>\n",
       "      <th>count</th>\n",
       "      <td>100000.000000</td>\n",
       "      <td>100000.000000</td>\n",
       "      <td>100000.000000</td>\n",
       "      <td>100000.000000</td>\n",
       "    </tr>\n",
       "    <tr>\n",
       "      <th>mean</th>\n",
       "      <td>0.002023</td>\n",
       "      <td>-0.002081</td>\n",
       "      <td>2.495128</td>\n",
       "      <td>95.000000</td>\n",
       "    </tr>\n",
       "    <tr>\n",
       "      <th>std</th>\n",
       "      <td>1.732045</td>\n",
       "      <td>1.730417</td>\n",
       "      <td>3.473445</td>\n",
       "      <td>44.749921</td>\n",
       "    </tr>\n",
       "    <tr>\n",
       "      <th>min</th>\n",
       "      <td>-8.760004</td>\n",
       "      <td>-7.084020</td>\n",
       "      <td>-11.970335</td>\n",
       "      <td>0.000000</td>\n",
       "    </tr>\n",
       "    <tr>\n",
       "      <th>25%</th>\n",
       "      <td>-1.162288</td>\n",
       "      <td>-1.174820</td>\n",
       "      <td>0.130359</td>\n",
       "      <td>59.450441</td>\n",
       "    </tr>\n",
       "    <tr>\n",
       "      <th>50%</th>\n",
       "      <td>0.009424</td>\n",
       "      <td>-0.009482</td>\n",
       "      <td>2.484236</td>\n",
       "      <td>94.925613</td>\n",
       "    </tr>\n",
       "    <tr>\n",
       "      <th>75%</th>\n",
       "      <td>1.158535</td>\n",
       "      <td>1.163678</td>\n",
       "      <td>4.858794</td>\n",
       "      <td>130.595027</td>\n",
       "    </tr>\n",
       "    <tr>\n",
       "      <th>max</th>\n",
       "      <td>7.238262</td>\n",
       "      <td>7.844801</td>\n",
       "      <td>16.739402</td>\n",
       "      <td>190.029838</td>\n",
       "    </tr>\n",
       "  </tbody>\n",
       "</table>\n",
       "</div>"
      ],
      "text/plain": [
       "                  f0             f1             f2        product\n",
       "count  100000.000000  100000.000000  100000.000000  100000.000000\n",
       "mean        0.002023      -0.002081       2.495128      95.000000\n",
       "std         1.732045       1.730417       3.473445      44.749921\n",
       "min        -8.760004      -7.084020     -11.970335       0.000000\n",
       "25%        -1.162288      -1.174820       0.130359      59.450441\n",
       "50%         0.009424      -0.009482       2.484236      94.925613\n",
       "75%         1.158535       1.163678       4.858794     130.595027\n",
       "max         7.238262       7.844801      16.739402     190.029838"
      ]
     },
     "metadata": {},
     "output_type": "display_data"
    },
    {
     "name": "stdout",
     "output_type": "stream",
     "text": [
      "Число явных дубликатов = 0\n",
      "\n"
     ]
    }
   ],
   "source": [
    "for table in table_list:\n",
    "    display(table.info())\n",
    "    display(table.describe())\n",
    "    print(f'Число явных дубликатов = {table.duplicated().sum()}')\n",
    "    print();"
   ]
  },
  {
   "cell_type": "code",
   "execution_count": 5,
   "metadata": {},
   "outputs": [
    {
     "data": {
      "text/plain": [
       "10"
      ]
     },
     "metadata": {},
     "output_type": "display_data"
    },
    {
     "name": "stdout",
     "output_type": "stream",
     "text": [
      "<class 'pandas.core.frame.DataFrame'>\n",
      "Int64Index: 99990 entries, 0 to 99999\n",
      "Data columns (total 5 columns):\n",
      " #   Column   Non-Null Count  Dtype  \n",
      "---  ------   --------------  -----  \n",
      " 0   id       99990 non-null  object \n",
      " 1   f0       99990 non-null  float64\n",
      " 2   f1       99990 non-null  float64\n",
      " 3   f2       99990 non-null  float64\n",
      " 4   product  99990 non-null  float64\n",
      "dtypes: float64(4), object(1)\n",
      "memory usage: 4.6+ MB\n"
     ]
    },
    {
     "data": {
      "text/plain": [
       "4"
      ]
     },
     "metadata": {},
     "output_type": "display_data"
    },
    {
     "name": "stdout",
     "output_type": "stream",
     "text": [
      "<class 'pandas.core.frame.DataFrame'>\n",
      "Int64Index: 99996 entries, 0 to 99999\n",
      "Data columns (total 5 columns):\n",
      " #   Column   Non-Null Count  Dtype  \n",
      "---  ------   --------------  -----  \n",
      " 0   id       99996 non-null  object \n",
      " 1   f0       99996 non-null  float64\n",
      " 2   f1       99996 non-null  float64\n",
      " 3   f2       99996 non-null  float64\n",
      " 4   product  99996 non-null  float64\n",
      "dtypes: float64(4), object(1)\n",
      "memory usage: 4.6+ MB\n"
     ]
    },
    {
     "data": {
      "text/plain": [
       "4"
      ]
     },
     "metadata": {},
     "output_type": "display_data"
    },
    {
     "name": "stdout",
     "output_type": "stream",
     "text": [
      "<class 'pandas.core.frame.DataFrame'>\n",
      "Int64Index: 99996 entries, 0 to 99999\n",
      "Data columns (total 5 columns):\n",
      " #   Column   Non-Null Count  Dtype  \n",
      "---  ------   --------------  -----  \n",
      " 0   id       99996 non-null  object \n",
      " 1   f0       99996 non-null  float64\n",
      " 2   f1       99996 non-null  float64\n",
      " 3   f2       99996 non-null  float64\n",
      " 4   product  99996 non-null  float64\n",
      "dtypes: float64(4), object(1)\n",
      "memory usage: 4.6+ MB\n"
     ]
    }
   ],
   "source": [
    "# проверим на дубликаты  столбец с id\n",
    "for table in table_list:\n",
    "    display(table.duplicated(['id']).sum())\n",
    "    table = table.drop_duplicates(subset=['id'])\n",
    "    table.info()"
   ]
  },
  {
   "cell_type": "code",
   "execution_count": 6,
   "metadata": {
    "scrolled": false
   },
   "outputs": [
    {
     "name": "stdout",
     "output_type": "stream",
     "text": [
      "Region\n"
     ]
    },
    {
     "data": {
      "image/png": "[encoded data removed]",
      "text/plain": [
       "<Figure size 1440x360 with 2 Axes>"
      ]
     },
     "metadata": {
      "needs_background": "light"
     },
     "output_type": "display_data"
    },
    {
     "data": {
      "image/png": "[encoded data removed]",
      "text/plain": [
       "<Figure size 1440x360 with 2 Axes>"
      ]
     },
     "metadata": {
      "needs_background": "light"
     },
     "output_type": "display_data"
    },
    {
     "data": {
      "image/png": "[encoded data removed]",
      "text/plain": [
       "<Figure size 1440x360 with 2 Axes>"
      ]
     },
     "metadata": {
      "needs_background": "light"
     },
     "output_type": "display_data"
    },
    {
     "data": {
      "image/png": "[encoded data removed]",
      "text/plain": [
       "<Figure size 1440x360 with 2 Axes>"
      ]
     },
     "metadata": {
      "needs_background": "light"
     },
     "output_type": "display_data"
    },
    {
     "data": {
      "text/html": [
       "<div>\n",
       "<style scoped>\n",
       "    .dataframe tbody tr th:only-of-type {\n",
       "        vertical-align: middle;\n",
       "    }\n",
       "\n",
       "    .dataframe tbody tr th {\n",
       "        vertical-align: top;\n",
       "    }\n",
       "\n",
       "    .dataframe thead th {\n",
       "        text-align: right;\n",
       "    }\n",
       "</style>\n",
       "<table border=\"1\" class=\"dataframe\">\n",
       "  <thead>\n",
       "    <tr style=\"text-align: right;\">\n",
       "      <th></th>\n",
       "      <th>f0</th>\n",
       "      <th>f1</th>\n",
       "      <th>f2</th>\n",
       "      <th>product</th>\n",
       "    </tr>\n",
       "  </thead>\n",
       "  <tbody>\n",
       "    <tr>\n",
       "      <th>count</th>\n",
       "      <td>100000.000000</td>\n",
       "      <td>100000.000000</td>\n",
       "      <td>100000.000000</td>\n",
       "      <td>100000.000000</td>\n",
       "    </tr>\n",
       "    <tr>\n",
       "      <th>mean</th>\n",
       "      <td>0.500419</td>\n",
       "      <td>0.250143</td>\n",
       "      <td>2.502647</td>\n",
       "      <td>92.500000</td>\n",
       "    </tr>\n",
       "    <tr>\n",
       "      <th>std</th>\n",
       "      <td>0.871832</td>\n",
       "      <td>0.504433</td>\n",
       "      <td>3.248248</td>\n",
       "      <td>44.288691</td>\n",
       "    </tr>\n",
       "    <tr>\n",
       "      <th>min</th>\n",
       "      <td>-1.408605</td>\n",
       "      <td>-0.848218</td>\n",
       "      <td>-12.088328</td>\n",
       "      <td>0.000000</td>\n",
       "    </tr>\n",
       "    <tr>\n",
       "      <th>25%</th>\n",
       "      <td>-0.072580</td>\n",
       "      <td>-0.200881</td>\n",
       "      <td>0.287748</td>\n",
       "      <td>56.497507</td>\n",
       "    </tr>\n",
       "    <tr>\n",
       "      <th>50%</th>\n",
       "      <td>0.502360</td>\n",
       "      <td>0.250252</td>\n",
       "      <td>2.515969</td>\n",
       "      <td>91.849972</td>\n",
       "    </tr>\n",
       "    <tr>\n",
       "      <th>75%</th>\n",
       "      <td>1.073581</td>\n",
       "      <td>0.700646</td>\n",
       "      <td>4.715088</td>\n",
       "      <td>128.564089</td>\n",
       "    </tr>\n",
       "    <tr>\n",
       "      <th>max</th>\n",
       "      <td>2.362331</td>\n",
       "      <td>1.343769</td>\n",
       "      <td>16.003790</td>\n",
       "      <td>185.364347</td>\n",
       "    </tr>\n",
       "  </tbody>\n",
       "</table>\n",
       "</div>"
      ],
      "text/plain": [
       "                  f0             f1             f2        product\n",
       "count  100000.000000  100000.000000  100000.000000  100000.000000\n",
       "mean        0.500419       0.250143       2.502647      92.500000\n",
       "std         0.871832       0.504433       3.248248      44.288691\n",
       "min        -1.408605      -0.848218     -12.088328       0.000000\n",
       "25%        -0.072580      -0.200881       0.287748      56.497507\n",
       "50%         0.502360       0.250252       2.515969      91.849972\n",
       "75%         1.073581       0.700646       4.715088     128.564089\n",
       "max         2.362331       1.343769      16.003790     185.364347"
      ]
     },
     "metadata": {},
     "output_type": "display_data"
    },
    {
     "name": "stdout",
     "output_type": "stream",
     "text": [
      "Region\n"
     ]
    },
    {
     "data": {
      "image/png": "[encoded data removed]",
      "text/plain": [
       "<Figure size 1440x360 with 2 Axes>"
      ]
     },
     "metadata": {
      "needs_background": "light"
     },
     "output_type": "display_data"
    },
    {
     "data": {
      "image/png": "[encoded data removed]",
      "text/plain": [
       "<Figure size 1440x360 with 2 Axes>"
      ]
     },
     "metadata": {
      "needs_background": "light"
     },
     "output_type": "display_data"
    },
    {
     "data": {
      "image/png": "[encoded data removed]",
      "text/plain": [
       "<Figure size 1440x360 with 2 Axes>"
      ]
     },
     "metadata": {
      "needs_background": "light"
     },
     "output_type": "display_data"
    },
    {
     "data": {
      "image/png": "[encoded data removed]",
      "text/plain": [
       "<Figure size 1440x360 with 2 Axes>"
      ]
     },
     "metadata": {
      "needs_background": "light"
     },
     "output_type": "display_data"
    },
    {
     "data": {
      "text/html": [
       "<div>\n",
       "<style scoped>\n",
       "    .dataframe tbody tr th:only-of-type {\n",
       "        vertical-align: middle;\n",
       "    }\n",
       "\n",
       "    .dataframe tbody tr th {\n",
       "        vertical-align: top;\n",
       "    }\n",
       "\n",
       "    .dataframe thead th {\n",
       "        text-align: right;\n",
       "    }\n",
       "</style>\n",
       "<table border=\"1\" class=\"dataframe\">\n",
       "  <thead>\n",
       "    <tr style=\"text-align: right;\">\n",
       "      <th></th>\n",
       "      <th>f0</th>\n",
       "      <th>f1</th>\n",
       "      <th>f2</th>\n",
       "      <th>product</th>\n",
       "    </tr>\n",
       "  </thead>\n",
       "  <tbody>\n",
       "    <tr>\n",
       "      <th>count</th>\n",
       "      <td>100000.000000</td>\n",
       "      <td>100000.000000</td>\n",
       "      <td>100000.000000</td>\n",
       "      <td>100000.000000</td>\n",
       "    </tr>\n",
       "    <tr>\n",
       "      <th>mean</th>\n",
       "      <td>1.141296</td>\n",
       "      <td>-4.796579</td>\n",
       "      <td>2.494541</td>\n",
       "      <td>68.825000</td>\n",
       "    </tr>\n",
       "    <tr>\n",
       "      <th>std</th>\n",
       "      <td>8.965932</td>\n",
       "      <td>5.119872</td>\n",
       "      <td>1.703572</td>\n",
       "      <td>45.944423</td>\n",
       "    </tr>\n",
       "    <tr>\n",
       "      <th>min</th>\n",
       "      <td>-31.609576</td>\n",
       "      <td>-26.358598</td>\n",
       "      <td>-0.018144</td>\n",
       "      <td>0.000000</td>\n",
       "    </tr>\n",
       "    <tr>\n",
       "      <th>25%</th>\n",
       "      <td>-6.298551</td>\n",
       "      <td>-8.267985</td>\n",
       "      <td>1.000021</td>\n",
       "      <td>26.953261</td>\n",
       "    </tr>\n",
       "    <tr>\n",
       "      <th>50%</th>\n",
       "      <td>1.153055</td>\n",
       "      <td>-4.813172</td>\n",
       "      <td>2.011479</td>\n",
       "      <td>57.085625</td>\n",
       "    </tr>\n",
       "    <tr>\n",
       "      <th>75%</th>\n",
       "      <td>8.621015</td>\n",
       "      <td>-1.332816</td>\n",
       "      <td>3.999904</td>\n",
       "      <td>107.813044</td>\n",
       "    </tr>\n",
       "    <tr>\n",
       "      <th>max</th>\n",
       "      <td>29.421755</td>\n",
       "      <td>18.734063</td>\n",
       "      <td>5.019721</td>\n",
       "      <td>137.945408</td>\n",
       "    </tr>\n",
       "  </tbody>\n",
       "</table>\n",
       "</div>"
      ],
      "text/plain": [
       "                  f0             f1             f2        product\n",
       "count  100000.000000  100000.000000  100000.000000  100000.000000\n",
       "mean        1.141296      -4.796579       2.494541      68.825000\n",
       "std         8.965932       5.119872       1.703572      45.944423\n",
       "min       -31.609576     -26.358598      -0.018144       0.000000\n",
       "25%        -6.298551      -8.267985       1.000021      26.953261\n",
       "50%         1.153055      -4.813172       2.011479      57.085625\n",
       "75%         8.621015      -1.332816       3.999904     107.813044\n",
       "max        29.421755      18.734063       5.019721     137.945408"
      ]
     },
     "metadata": {},
     "output_type": "display_data"
    },
    {
     "name": "stdout",
     "output_type": "stream",
     "text": [
      "Region\n"
     ]
    },
    {
     "data": {
      "image/png": "[encoded data removed]",
      "text/plain": [
       "<Figure size 1440x360 with 2 Axes>"
      ]
     },
     "metadata": {
      "needs_background": "light"
     },
     "output_type": "display_data"
    },
    {
     "data": {
      "image/png": "[encoded data removed]",
      "text/plain": [
       "<Figure size 1440x360 with 2 Axes>"
      ]
     },
     "metadata": {
      "needs_background": "light"
     },
     "output_type": "display_data"
    },
    {
     "data": {
      "image/png": "[encoded data removed]",
      "text/plain": [
       "<Figure size 1440x360 with 2 Axes>"
      ]
     },
     "metadata": {
      "needs_background": "light"
     },
     "output_type": "display_data"
    },
    {
     "data": {
      "image/png": "[encoded data removed]",
      "text/plain": [
       "<Figure size 1440x360 with 2 Axes>"
      ]
     },
     "metadata": {
      "needs_background": "light"
     },
     "output_type": "display_data"
    },
    {
     "data": {
      "text/html": [
       "<div>\n",
       "<style scoped>\n",
       "    .dataframe tbody tr th:only-of-type {\n",
       "        vertical-align: middle;\n",
       "    }\n",
       "\n",
       "    .dataframe tbody tr th {\n",
       "        vertical-align: top;\n",
       "    }\n",
       "\n",
       "    .dataframe thead th {\n",
       "        text-align: right;\n",
       "    }\n",
       "</style>\n",
       "<table border=\"1\" class=\"dataframe\">\n",
       "  <thead>\n",
       "    <tr style=\"text-align: right;\">\n",
       "      <th></th>\n",
       "      <th>f0</th>\n",
       "      <th>f1</th>\n",
       "      <th>f2</th>\n",
       "      <th>product</th>\n",
       "    </tr>\n",
       "  </thead>\n",
       "  <tbody>\n",
       "    <tr>\n",
       "      <th>count</th>\n",
       "      <td>100000.000000</td>\n",
       "      <td>100000.000000</td>\n",
       "      <td>100000.000000</td>\n",
       "      <td>100000.000000</td>\n",
       "    </tr>\n",
       "    <tr>\n",
       "      <th>mean</th>\n",
       "      <td>0.002023</td>\n",
       "      <td>-0.002081</td>\n",
       "      <td>2.495128</td>\n",
       "      <td>95.000000</td>\n",
       "    </tr>\n",
       "    <tr>\n",
       "      <th>std</th>\n",
       "      <td>1.732045</td>\n",
       "      <td>1.730417</td>\n",
       "      <td>3.473445</td>\n",
       "      <td>44.749921</td>\n",
       "    </tr>\n",
       "    <tr>\n",
       "      <th>min</th>\n",
       "      <td>-8.760004</td>\n",
       "      <td>-7.084020</td>\n",
       "      <td>-11.970335</td>\n",
       "      <td>0.000000</td>\n",
       "    </tr>\n",
       "    <tr>\n",
       "      <th>25%</th>\n",
       "      <td>-1.162288</td>\n",
       "      <td>-1.174820</td>\n",
       "      <td>0.130359</td>\n",
       "      <td>59.450441</td>\n",
       "    </tr>\n",
       "    <tr>\n",
       "      <th>50%</th>\n",
       "      <td>0.009424</td>\n",
       "      <td>-0.009482</td>\n",
       "      <td>2.484236</td>\n",
       "      <td>94.925613</td>\n",
       "    </tr>\n",
       "    <tr>\n",
       "      <th>75%</th>\n",
       "      <td>1.158535</td>\n",
       "      <td>1.163678</td>\n",
       "      <td>4.858794</td>\n",
       "      <td>130.595027</td>\n",
       "    </tr>\n",
       "    <tr>\n",
       "      <th>max</th>\n",
       "      <td>7.238262</td>\n",
       "      <td>7.844801</td>\n",
       "      <td>16.739402</td>\n",
       "      <td>190.029838</td>\n",
       "    </tr>\n",
       "  </tbody>\n",
       "</table>\n",
       "</div>"
      ],
      "text/plain": [
       "                  f0             f1             f2        product\n",
       "count  100000.000000  100000.000000  100000.000000  100000.000000\n",
       "mean        0.002023      -0.002081       2.495128      95.000000\n",
       "std         1.732045       1.730417       3.473445      44.749921\n",
       "min        -8.760004      -7.084020     -11.970335       0.000000\n",
       "25%        -1.162288      -1.174820       0.130359      59.450441\n",
       "50%         0.009424      -0.009482       2.484236      94.925613\n",
       "75%         1.158535       1.163678       4.858794     130.595027\n",
       "max         7.238262       7.844801      16.739402     190.029838"
      ]
     },
     "metadata": {},
     "output_type": "display_data"
    }
   ],
   "source": [
    "for table in table_list:\n",
    "    print('Region')\n",
    "    plots(table,legend=True);"
   ]
  },
  {
   "cell_type": "markdown",
   "metadata": {},
   "source": [
    "### Вывод\n",
    "- выполнили предобработку данных: \n",
    "    - удалил дубликаты в столбце с ID\n",
    "    - Пропусков в данных не обнаружено\n",
    "    - построил графики распределения признаков , аномалий не обнаружил\n",
    "    \n",
    "- подготовили данные к дальнешему анализу"
   ]
  },
  {
   "cell_type": "markdown",
   "metadata": {},
   "source": [
    "## Обучение и проверка модели"
   ]
  },
  {
   "cell_type": "markdown",
   "metadata": {},
   "source": [
    "### Регион №1"
   ]
  },
  {
   "cell_type": "code",
   "execution_count": 7,
   "metadata": {},
   "outputs": [
    {
     "name": "stdout",
     "output_type": "stream",
     "text": [
      "(75000, 3)\n",
      "(25000, 3)\n"
     ]
    }
   ],
   "source": [
    "# Необходимо разбить данные на тестовую и обучающую в соотношении 75 на 25\n",
    "# Регион №1\n",
    "train_1, valid_1 = train_test_split(region_1, test_size=0.25, random_state=12345)\n",
    "features_train_1 = train_1.drop(['product', 'id'], axis=1)\n",
    "target_train_1 = train_1['product']\n",
    "\n",
    "features_valid_1 = valid_1.drop(['product', 'id'], axis=1)\n",
    "target_valid_1 = valid_1['product'] \n",
    "\n",
    "print(features_train_1.shape)\n",
    "print(features_valid_1.shape)"
   ]
  },
  {
   "cell_type": "code",
   "execution_count": 8,
   "metadata": {},
   "outputs": [
    {
     "name": "stdout",
     "output_type": "stream",
     "text": [
      "RMSE = 37.5794217150813\n",
      "Mean = 92.59256778438035\n"
     ]
    }
   ],
   "source": [
    "model = LinearRegression()\n",
    "model.fit(features_train_1, target_train_1)\n",
    "predicted_valid_1 = model.predict(features_valid_1)\n",
    "mse = mean_squared_error(target_valid_1, predicted_valid_1)\n",
    "\n",
    "\n",
    "print(\"RMSE =\", mse ** 0.5)\n",
    "print(\"Mean =\", predicted_valid_1.mean())"
   ]
  },
  {
   "cell_type": "markdown",
   "metadata": {},
   "source": [
    "### Регион №2"
   ]
  },
  {
   "cell_type": "code",
   "execution_count": 9,
   "metadata": {},
   "outputs": [
    {
     "name": "stdout",
     "output_type": "stream",
     "text": [
      "(75000, 3)\n",
      "(25000, 3)\n"
     ]
    }
   ],
   "source": [
    "# Необходимо разбить данные на тестовую и обучающую в соотношении 75 на 25\n",
    "# Регион №2\n",
    "train_2, valid_2 = train_test_split(region_2, test_size=0.25, random_state=12345)\n",
    "features_train_2 = train_2.drop(['product', 'id'], axis=1)\n",
    "target_train_2 = train_2['product']\n",
    "\n",
    "features_valid_2 = valid_2.drop(['product', 'id'], axis=1)\n",
    "target_valid_2 = valid_2['product'] \n",
    "\n",
    "print(features_train_2.shape)\n",
    "print(features_valid_2.shape)"
   ]
  },
  {
   "cell_type": "code",
   "execution_count": 10,
   "metadata": {},
   "outputs": [
    {
     "name": "stdout",
     "output_type": "stream",
     "text": [
      "RMSE = 0.893099286775617\n",
      "Mean = 68.728546895446\n"
     ]
    }
   ],
   "source": [
    "model = LinearRegression()\n",
    "model.fit(features_train_2, target_train_2)\n",
    "predicted_valid_2 = model.predict(features_valid_2)\n",
    "mse = mean_squared_error(target_valid_2, predicted_valid_2)\n",
    "\n",
    "print(\"RMSE =\", mse ** 0.5)\n",
    "print(\"Mean =\", predicted_valid_2.mean())"
   ]
  },
  {
   "cell_type": "markdown",
   "metadata": {},
   "source": [
    "### Регион №3"
   ]
  },
  {
   "cell_type": "code",
   "execution_count": 11,
   "metadata": {},
   "outputs": [
    {
     "name": "stdout",
     "output_type": "stream",
     "text": [
      "(75000, 3)\n",
      "(25000, 3)\n"
     ]
    }
   ],
   "source": [
    "# Необходимо разбить данные на тестовую и обучающую в соотношении 75 на 25\n",
    "# Регион №3\n",
    "train_3, valid_3 = train_test_split(region_3, test_size=0.25, random_state=12345)\n",
    "features_train_3 = train_3.drop(['product', 'id'], axis=1)\n",
    "target_train_3 = train_3['product']\n",
    "\n",
    "features_valid_3 = valid_3.drop(['product', 'id'], axis=1)\n",
    "target_valid_3 = valid_3['product'] \n",
    "\n",
    "print(features_train_2.shape)\n",
    "print(features_valid_2.shape)"
   ]
  },
  {
   "cell_type": "code",
   "execution_count": 12,
   "metadata": {},
   "outputs": [
    {
     "name": "stdout",
     "output_type": "stream",
     "text": [
      "RMSE = 40.02970873393434\n",
      "Mean = 94.96504596800489\n"
     ]
    }
   ],
   "source": [
    "model = LinearRegression()\n",
    "model.fit(features_train_3, target_train_3)\n",
    "predicted_valid_3 = model.predict(features_valid_3)\n",
    "mse = mean_squared_error(target_valid_3, predicted_valid_3)\n",
    "\n",
    "print(\"RMSE =\", mse ** 0.5)\n",
    "print(\"Mean =\", predicted_valid_3.mean())"
   ]
  },
  {
   "cell_type": "markdown",
   "metadata": {},
   "source": [
    "- Обучили модели для каждого региона и получили предсказания\n",
    "- Наибольшее значение среднего значения объема запасов получили в 3-ем регионе\n",
    "- при этом наименьшее среднее отклонение в 2-ом регионе"
   ]
  },
  {
   "cell_type": "markdown",
   "metadata": {},
   "source": [
    "## Подготовка к расчёту прибыли"
   ]
  },
  {
   "cell_type": "markdown",
   "metadata": {},
   "source": [
    "### Условия задачи"
   ]
  },
  {
   "cell_type": "code",
   "execution_count": 13,
   "metadata": {},
   "outputs": [],
   "source": [
    "# Подготовка к расчету прибыли\n",
    "# Условия задачи\n",
    "BUDGET = 10000000000                  # Бюджет на разработку скважин в одном регионе\n",
    "THOUSAND_BARREL_PROFIT = 450000       # Доход с 1000 барелей\n",
    "MAX_RISK = 0.025                      # Максимальный риск\n",
    "ONE_WELL_BUDGET = BUDGET / 200        # Стоимость разработки одной скважины"
   ]
  },
  {
   "cell_type": "code",
   "execution_count": 14,
   "metadata": {},
   "outputs": [
    {
     "data": {
      "text/plain": [
       "111.11111111111111"
      ]
     },
     "metadata": {},
     "output_type": "display_data"
    }
   ],
   "source": [
    "# Расчитаем объем добычи для окупаемости одной скважины, получим минимально необходимый объем\n",
    "BAREL_FOR_PROFIT = ONE_WELL_BUDGET/(THOUSAND_BARREL_PROFIT)\n",
    "display(BAREL_FOR_PROFIT);"
   ]
  },
  {
   "cell_type": "code",
   "execution_count": 15,
   "metadata": {},
   "outputs": [
    {
     "name": "stdout",
     "output_type": "stream",
     "text": [
      "Средний объём добычи в скважинах region_1: (92.59256778438035, -49958333.34449703)\n",
      "Средний объём добычи в скважинах region_2: (68.728546895446, -49969072.15389705)\n",
      "Средний объём добычи в скважинах region_3: (94.96504596800489, -49957265.729314394)\n"
     ]
    }
   ],
   "source": [
    "print(f'Средний объём добычи в скважинах region_1: {predicted_valid_1.mean(), predicted_valid_1.mean()* THOUSAND_BARREL_PROFIT/1000- ONE_WELL_BUDGET}')\n",
    "print(f'Средний объём добычи в скважинах region_2: {predicted_valid_2.mean(), predicted_valid_2.mean()* THOUSAND_BARREL_PROFIT/1000- ONE_WELL_BUDGET}')\n",
    "print(f'Средний объём добычи в скважинах region_3: {predicted_valid_3.mean(), predicted_valid_3.mean()* THOUSAND_BARREL_PROFIT/1000- ONE_WELL_BUDGET}')"
   ]
  },
  {
   "cell_type": "markdown",
   "metadata": {},
   "source": [
    "Вывод:\n",
    "\n",
    "    - для окупаемости необходимо добыть минимум 111,1тыс барель с одной скважины,\n",
    "    - видим, что средние показатели по регионам ниже минимума окупаемости\n",
    "    - вторая цифра это убыток \n",
    "    - самое высокое значение средней добычи в регионе №3, скорее всего в нем мы получим наибольшую прибыль"
   ]
  },
  {
   "cell_type": "markdown",
   "metadata": {},
   "source": [
    "## Расчёт прибыли и рисков "
   ]
  },
  {
   "cell_type": "code",
   "execution_count": 16,
   "metadata": {},
   "outputs": [],
   "source": [
    "# Функция расчета прибыли\n",
    "def profit(target,probas,quantity):\n",
    "    target_sorted = probas.sort_values(ascending=False)\n",
    "    target_sum = (target.loc[target_sorted.index][:quantity]).sum()\n",
    "    total_profit = target_sum*THOUSAND_BARREL_PROFIT\n",
    "    quantity_profit = total_profit - ONE_WELL_BUDGET * quantity\n",
    "    return  quantity_profit\n",
    "   "
   ]
  },
  {
   "cell_type": "markdown",
   "metadata": {},
   "source": [
    "- Сортируем скважины по прибыльности\n",
    "- суммируем прибыль 200 лучших скважин\n",
    "- рассчитаем доход с 200 скважин\n",
    "- прибыль = доход - расходы на строительство скважины\n"
   ]
  },
  {
   "cell_type": "markdown",
   "metadata": {},
   "source": [
    "## Bootstrap"
   ]
  },
  {
   "cell_type": "markdown",
   "metadata": {},
   "source": [
    "### Bootstrap region 1"
   ]
  },
  {
   "cell_type": "code",
   "execution_count": 17,
   "metadata": {},
   "outputs": [
    {
     "name": "stdout",
     "output_type": "stream",
     "text": [
      "Регион_1\n",
      "Средняя прибыль: 425938526.91059244\n",
      "95%-ый доверительный интервал: -102090094.83793654 : 947976353.3583689\n",
      "Риск убытков: (6.0, '%')\n"
     ]
    }
   ],
   "source": [
    "\n",
    "state = np.random.RandomState(12345) \n",
    "\n",
    "values_1 = []\n",
    "target_valid_1= target_valid_1.reset_index(drop=True)\n",
    "for i in range(1000):\n",
    "    target_subsample_1 = target_valid_1.sample(n=500, replace=True, random_state=state)\n",
    "    valid_subsample_1 = pd.Series(predicted_valid_1)[target_subsample_1.index]\n",
    "    values_1.append(profit(target_subsample_1, valid_subsample_1, 200))\n",
    "\n",
    "values_1 = pd.Series(values_1)\n",
    "lower_1 = values_1.quantile(0.025)\n",
    "\n",
    "upper_1 = values_1.quantile(0.975)\n",
    "mean_1 = values_1.mean()\n",
    "\n",
    "risk_1 = ((values_1 < 0).mean()* 100, \"%\")\n",
    "\n",
    "print(\"Регион_1\")\n",
    "print(\"Средняя прибыль:\", mean_1)\n",
    "print(\"95%-ый доверительный интервал:\", lower_1, ':', upper_1)\n",
    "print(\"Риск убытков:\", risk_1)"
   ]
  },
  {
   "cell_type": "markdown",
   "metadata": {},
   "source": [
    "### Bootstrap region 2"
   ]
  },
  {
   "cell_type": "code",
   "execution_count": 18,
   "metadata": {},
   "outputs": [
    {
     "name": "stdout",
     "output_type": "stream",
     "text": [
      "Регион_2\n",
      "Средняя прибыль: 518259493.6973249\n",
      "95%-ый доверительный интервал: 128123231.43308444 : 953612982.0669085\n",
      "Риск убытков: (0.3, '%')\n"
     ]
    }
   ],
   "source": [
    "values_2 = []\n",
    "target_valid_2 = target_valid_2.reset_index(drop=True)\n",
    "for i in range(1000):\n",
    "    target_subsample_2 = target_valid_2.sample(n=500, replace=True, random_state=state)\n",
    "    valid_subsample_2 = pd.Series(predicted_valid_2)[target_subsample_2.index]\n",
    "    values_2.append(profit(target_subsample_2, valid_subsample_2, 200))\n",
    "\n",
    "values_2 = pd.Series(values_2)\n",
    "mean_2 = values_2.mean()\n",
    "\n",
    "lower_2 = values_2.quantile(0.025)\n",
    "upper_2 = values_2.quantile(0.975)\n",
    "mean_2 = values_2.mean()\n",
    "risk_2 = ((values_2 < 0).mean()* 100, \"%\")\n",
    "\n",
    "print(\"Регион_2\")\n",
    "print(\"Средняя прибыль:\", mean_2)\n",
    "print(\"95%-ый доверительный интервал:\", lower_2, ':', upper_2)\n",
    "\n",
    "print(\"Риск убытков:\", risk_2)"
   ]
  },
  {
   "cell_type": "markdown",
   "metadata": {},
   "source": [
    "### Bootstrap region 3"
   ]
  },
  {
   "cell_type": "code",
   "execution_count": 19,
   "metadata": {},
   "outputs": [
    {
     "name": "stdout",
     "output_type": "stream",
     "text": [
      "Регион_3\n",
      "Средняя прибыль: 420194005.3440501\n",
      "95%-ый доверительный интервал: -115852609.16001143 : 989629939.8445739\n",
      "Риск убытков: (6.2, '%')\n"
     ]
    }
   ],
   "source": [
    "values_3 = []\n",
    "target_valid_3 = target_valid_3.reset_index(drop=True)\n",
    "for i in range(1000):\n",
    "    target_subsample_3 = target_valid_3.sample(n=500, replace=True, random_state=state)\n",
    "    valid_subsample_3 = pd.Series(predicted_valid_3)[target_subsample_3.index]\n",
    "    values_3.append(profit(target_subsample_3, valid_subsample_3, 200))\n",
    "\n",
    "values_3 = pd.Series(values_3)\n",
    "mean_3 = values_3.mean()\n",
    "\n",
    "lower_3 = values_3.quantile(0.025)\n",
    "upper_3 = values_3.quantile(0.975)\n",
    "mean_3 = values_3.mean()\n",
    "risk_3 = ((values_3 < 0).mean()* 100, \"%\")\n",
    "\n",
    "print(\"Регион_3\")\n",
    "print(\"Средняя прибыль:\", mean_3)\n",
    "print(\"95%-ый доверительный интервал:\", lower_3, ':', upper_3)\n",
    "print(\"Риск убытков:\", risk_3)"
   ]
  },
  {
   "cell_type": "markdown",
   "metadata": {},
   "source": [
    "## Общий вывод\n"
   ]
  },
  {
   "cell_type": "markdown",
   "metadata": {},
   "source": [
    "- Загрузили и предобработали данные по 3 регионам:\n",
    "        - Удалили дубликаты по id\n",
    "        - Пропусков не обнаружили\n",
    "- Обучили модель линейно регрессии для каждого региона\n",
    "        - самую большую среднюю добычу по прогнозу получили в 3ем регионе , при этом большой разброс,\n",
    "        - наиболее оптимальное значение разброса предсказаний получили во 2ом регионе\n",
    "- написали функцию для расчета прибыли по определенному количеству скважин\n",
    "\n",
    "Посчитали bootstrap для каждого региона, по результатам которого выявили регион для разработки с наименьшими рисками\n",
    "\n",
    "    - Самая высокая средняя прибыль и наименьшие риски в регионе под номером 2, который мы и рекомендуем заказчику для разработки с минимальными рисками\n",
    "    - также в этом регионе мы получили модель с минимальной средней ошибкой"
   ]
  }
 ],
 "metadata": {
  "ExecuteTimeLog": [
   {
    "duration": 357,
    "start_time": "2024-05-30T16:44:04.423Z"
   },
   {
    "duration": 7878,
    "start_time": "2024-05-30T16:44:21.190Z"
   },
   {
    "duration": 1388,
    "start_time": "2024-05-30T16:44:29.070Z"
   },
   {
    "duration": 5,
    "start_time": "2024-05-30T16:44:32.583Z"
   },
   {
    "duration": 1987,
    "start_time": "2024-05-30T16:46:20.572Z"
   },
   {
    "duration": 355,
    "start_time": "2024-05-30T16:47:42.268Z"
   },
   {
    "duration": 13,
    "start_time": "2024-05-30T16:50:43.253Z"
   },
   {
    "duration": 17,
    "start_time": "2024-05-30T16:52:09.782Z"
   },
   {
    "duration": 213,
    "start_time": "2024-05-30T16:52:25.014Z"
   },
   {
    "duration": 3,
    "start_time": "2024-05-30T16:57:33.725Z"
   },
   {
    "duration": 13,
    "start_time": "2024-05-30T16:57:34.442Z"
   },
   {
    "duration": 43,
    "start_time": "2024-05-30T17:00:03.212Z"
   },
   {
    "duration": 8748,
    "start_time": "2024-05-30T17:01:01.276Z"
   },
   {
    "duration": 4,
    "start_time": "2024-05-30T17:02:29.856Z"
   },
   {
    "duration": 4,
    "start_time": "2024-05-30T17:02:32.449Z"
   },
   {
    "duration": 8666,
    "start_time": "2024-05-30T17:02:36.366Z"
   },
   {
    "duration": 4,
    "start_time": "2024-05-30T17:02:51.378Z"
   },
   {
    "duration": 8825,
    "start_time": "2024-05-30T17:02:54.649Z"
   },
   {
    "duration": 40,
    "start_time": "2024-05-30T17:05:52.228Z"
   },
   {
    "duration": 208,
    "start_time": "2024-05-30T17:06:11.307Z"
   },
   {
    "duration": 71,
    "start_time": "2024-05-30T17:08:00.228Z"
   },
   {
    "duration": 55,
    "start_time": "2024-05-30T17:08:18.011Z"
   },
   {
    "duration": 40,
    "start_time": "2024-05-30T17:09:21.828Z"
   },
   {
    "duration": 41,
    "start_time": "2024-05-30T17:11:27.796Z"
   },
   {
    "duration": 4,
    "start_time": "2024-05-30T17:11:39.950Z"
   },
   {
    "duration": 74,
    "start_time": "2024-05-30T17:12:40.356Z"
   },
   {
    "duration": 378,
    "start_time": "2024-05-30T17:13:06.294Z"
   },
   {
    "duration": 18,
    "start_time": "2024-05-30T17:13:07.098Z"
   },
   {
    "duration": 219,
    "start_time": "2024-05-30T17:13:07.913Z"
   },
   {
    "duration": 78,
    "start_time": "2024-05-30T17:13:08.500Z"
   },
   {
    "duration": 6,
    "start_time": "2024-05-30T17:14:01.110Z"
   },
   {
    "duration": 352,
    "start_time": "2024-05-30T17:14:01.599Z"
   },
   {
    "duration": 12,
    "start_time": "2024-05-30T17:14:02.184Z"
   },
   {
    "duration": 190,
    "start_time": "2024-05-30T17:14:03.764Z"
   },
   {
    "duration": 77,
    "start_time": "2024-05-30T17:14:04.285Z"
   },
   {
    "duration": 8891,
    "start_time": "2024-05-30T17:14:06.919Z"
   },
   {
    "duration": 103,
    "start_time": "2024-05-30T17:14:50.621Z"
   },
   {
    "duration": 25,
    "start_time": "2024-05-30T17:20:57.490Z"
   },
   {
    "duration": 4842,
    "start_time": "2024-05-30T17:21:11.205Z"
   },
   {
    "duration": 1180,
    "start_time": "2024-05-30T17:21:16.049Z"
   },
   {
    "duration": 5,
    "start_time": "2024-05-30T17:21:17.230Z"
   },
   {
    "duration": 366,
    "start_time": "2024-05-30T17:21:17.237Z"
   },
   {
    "duration": 222,
    "start_time": "2024-05-30T17:21:17.604Z"
   },
   {
    "duration": 113,
    "start_time": "2024-05-30T17:21:17.828Z"
   },
   {
    "duration": 8681,
    "start_time": "2024-05-30T17:21:17.942Z"
   },
   {
    "duration": 12,
    "start_time": "2024-05-30T17:21:26.624Z"
   },
   {
    "duration": 12,
    "start_time": "2024-05-30T17:23:18.212Z"
   },
   {
    "duration": 95,
    "start_time": "2024-05-30T17:25:51.317Z"
   },
   {
    "duration": 14,
    "start_time": "2024-05-30T17:25:59.552Z"
   },
   {
    "duration": 15,
    "start_time": "2024-05-30T17:26:00.580Z"
   },
   {
    "duration": 16,
    "start_time": "2024-05-30T17:27:02.921Z"
   },
   {
    "duration": 10,
    "start_time": "2024-05-30T17:27:03.659Z"
   },
   {
    "duration": 11,
    "start_time": "2024-05-30T17:27:41.901Z"
   },
   {
    "duration": 15,
    "start_time": "2024-05-30T17:27:43.920Z"
   },
   {
    "duration": 14,
    "start_time": "2024-05-30T17:27:44.361Z"
   },
   {
    "duration": 11,
    "start_time": "2024-05-30T17:28:22.290Z"
   },
   {
    "duration": 14,
    "start_time": "2024-05-30T17:28:59.875Z"
   },
   {
    "duration": 13,
    "start_time": "2024-05-30T17:29:25.380Z"
   },
   {
    "duration": 2,
    "start_time": "2024-05-30T17:36:38.437Z"
   },
   {
    "duration": 2,
    "start_time": "2024-05-30T17:46:11.011Z"
   },
   {
    "duration": 2,
    "start_time": "2024-05-30T17:47:38.765Z"
   },
   {
    "duration": 1,
    "start_time": "2024-05-30T17:49:15.602Z"
   },
   {
    "duration": 2,
    "start_time": "2024-05-30T17:54:22.940Z"
   },
   {
    "duration": 4,
    "start_time": "2024-05-30T17:54:42.232Z"
   },
   {
    "duration": 9,
    "start_time": "2024-05-30T17:55:04.819Z"
   },
   {
    "duration": 2,
    "start_time": "2024-05-30T17:55:13.323Z"
   },
   {
    "duration": 4,
    "start_time": "2024-05-30T17:55:14.266Z"
   },
   {
    "duration": 3,
    "start_time": "2024-05-30T17:56:41.689Z"
   },
   {
    "duration": 3,
    "start_time": "2024-05-30T17:58:46.197Z"
   },
   {
    "duration": 4,
    "start_time": "2024-05-30T17:58:59.805Z"
   },
   {
    "duration": 4,
    "start_time": "2024-05-30T17:59:54.484Z"
   },
   {
    "duration": 4,
    "start_time": "2024-05-30T18:00:29.139Z"
   },
   {
    "duration": 3,
    "start_time": "2024-05-30T18:00:37.246Z"
   },
   {
    "duration": 4,
    "start_time": "2024-05-30T18:01:52.233Z"
   },
   {
    "duration": 3,
    "start_time": "2024-05-30T18:03:01.008Z"
   },
   {
    "duration": 4,
    "start_time": "2024-05-30T18:10:14.943Z"
   },
   {
    "duration": 3,
    "start_time": "2024-05-30T18:10:15.514Z"
   },
   {
    "duration": 3,
    "start_time": "2024-05-30T18:13:08.772Z"
   },
   {
    "duration": 4,
    "start_time": "2024-05-30T18:13:51.208Z"
   },
   {
    "duration": 48,
    "start_time": "2024-05-30T18:17:21.301Z"
   },
   {
    "duration": 3,
    "start_time": "2024-05-30T18:18:23.731Z"
   },
   {
    "duration": 2,
    "start_time": "2024-05-30T18:18:37.671Z"
   },
   {
    "duration": 2,
    "start_time": "2024-05-30T18:23:41.126Z"
   },
   {
    "duration": 3,
    "start_time": "2024-05-30T18:28:26.822Z"
   },
   {
    "duration": 2,
    "start_time": "2024-05-30T18:28:29.240Z"
   },
   {
    "duration": 19,
    "start_time": "2024-05-30T18:33:22.780Z"
   },
   {
    "duration": 3,
    "start_time": "2024-05-30T18:34:12.972Z"
   },
   {
    "duration": 4290,
    "start_time": "2024-05-30T18:34:14.137Z"
   },
   {
    "duration": 4202,
    "start_time": "2024-05-30T18:34:50.173Z"
   },
   {
    "duration": 3,
    "start_time": "2024-05-30T18:35:41.273Z"
   },
   {
    "duration": 2,
    "start_time": "2024-05-30T18:35:42.107Z"
   },
   {
    "duration": 1155,
    "start_time": "2024-05-30T18:35:42.959Z"
   },
   {
    "duration": 4,
    "start_time": "2024-05-30T18:38:14.016Z"
   },
   {
    "duration": 2,
    "start_time": "2024-05-30T18:38:14.471Z"
   },
   {
    "duration": 13,
    "start_time": "2024-05-30T18:38:15.194Z"
   },
   {
    "duration": 2,
    "start_time": "2024-05-30T18:38:30.169Z"
   },
   {
    "duration": 3,
    "start_time": "2024-05-30T18:38:30.677Z"
   },
   {
    "duration": 1179,
    "start_time": "2024-05-30T18:38:31.507Z"
   },
   {
    "duration": 4,
    "start_time": "2024-05-30T18:39:06.661Z"
   },
   {
    "duration": 2,
    "start_time": "2024-05-30T18:39:06.830Z"
   },
   {
    "duration": 1170,
    "start_time": "2024-05-30T18:39:07.827Z"
   },
   {
    "duration": 3,
    "start_time": "2024-05-30T18:40:10.029Z"
   },
   {
    "duration": 2,
    "start_time": "2024-05-30T18:40:10.178Z"
   },
   {
    "duration": 1178,
    "start_time": "2024-05-30T18:40:11.285Z"
   },
   {
    "duration": 1152,
    "start_time": "2024-05-30T18:40:30.155Z"
   },
   {
    "duration": 4724,
    "start_time": "2024-05-30T18:40:37.245Z"
   },
   {
    "duration": 1251,
    "start_time": "2024-05-30T18:40:41.971Z"
   },
   {
    "duration": 5,
    "start_time": "2024-05-30T18:40:43.223Z"
   },
   {
    "duration": 352,
    "start_time": "2024-05-30T18:40:43.229Z"
   },
   {
    "duration": 230,
    "start_time": "2024-05-30T18:40:43.582Z"
   },
   {
    "duration": 112,
    "start_time": "2024-05-30T18:40:43.813Z"
   },
   {
    "duration": 8867,
    "start_time": "2024-05-30T18:40:43.926Z"
   },
   {
    "duration": 14,
    "start_time": "2024-05-30T18:40:52.794Z"
   },
   {
    "duration": 26,
    "start_time": "2024-05-30T18:40:52.809Z"
   },
   {
    "duration": 135,
    "start_time": "2024-05-30T18:40:52.837Z"
   },
   {
    "duration": 13,
    "start_time": "2024-05-30T18:40:52.973Z"
   },
   {
    "duration": 198,
    "start_time": "2024-05-30T18:40:52.987Z"
   },
   {
    "duration": 14,
    "start_time": "2024-05-30T18:40:53.186Z"
   },
   {
    "duration": 172,
    "start_time": "2024-05-30T18:40:53.201Z"
   },
   {
    "duration": 0,
    "start_time": "2024-05-30T18:40:53.374Z"
   },
   {
    "duration": 0,
    "start_time": "2024-05-30T18:40:53.375Z"
   },
   {
    "duration": 0,
    "start_time": "2024-05-30T18:40:53.376Z"
   },
   {
    "duration": 0,
    "start_time": "2024-05-30T18:40:53.377Z"
   },
   {
    "duration": 0,
    "start_time": "2024-05-30T18:40:53.378Z"
   },
   {
    "duration": 2,
    "start_time": "2024-05-30T18:41:02.185Z"
   },
   {
    "duration": 3,
    "start_time": "2024-05-30T18:41:03.074Z"
   },
   {
    "duration": 4,
    "start_time": "2024-05-30T18:41:03.722Z"
   },
   {
    "duration": 3,
    "start_time": "2024-05-30T18:41:05.626Z"
   },
   {
    "duration": 2,
    "start_time": "2024-05-30T18:41:06.345Z"
   },
   {
    "duration": 1174,
    "start_time": "2024-05-30T18:41:07.430Z"
   },
   {
    "duration": 3,
    "start_time": "2024-05-30T18:44:12.774Z"
   },
   {
    "duration": 2,
    "start_time": "2024-05-30T18:44:13.581Z"
   },
   {
    "duration": 661,
    "start_time": "2024-05-30T18:44:14.537Z"
   },
   {
    "duration": 3,
    "start_time": "2024-05-30T18:44:40.764Z"
   },
   {
    "duration": 2,
    "start_time": "2024-05-30T18:44:42.938Z"
   },
   {
    "duration": 732,
    "start_time": "2024-05-30T18:44:43.890Z"
   },
   {
    "duration": 3,
    "start_time": "2024-05-30T18:45:08.598Z"
   },
   {
    "duration": 3,
    "start_time": "2024-05-30T18:45:09.113Z"
   },
   {
    "duration": 707,
    "start_time": "2024-05-30T18:45:09.834Z"
   },
   {
    "duration": 3,
    "start_time": "2024-05-30T18:49:13.794Z"
   },
   {
    "duration": 2,
    "start_time": "2024-05-30T18:49:14.282Z"
   },
   {
    "duration": 712,
    "start_time": "2024-05-30T18:49:15.299Z"
   },
   {
    "duration": 3,
    "start_time": "2024-05-30T18:49:23.174Z"
   },
   {
    "duration": 2,
    "start_time": "2024-05-30T18:51:55.425Z"
   },
   {
    "duration": 2,
    "start_time": "2024-05-30T18:51:56.542Z"
   },
   {
    "duration": 98,
    "start_time": "2024-05-30T18:51:57.530Z"
   },
   {
    "duration": 3,
    "start_time": "2024-05-30T18:52:10.185Z"
   },
   {
    "duration": 2,
    "start_time": "2024-05-30T18:52:11.857Z"
   },
   {
    "duration": 12,
    "start_time": "2024-05-30T18:52:12.441Z"
   },
   {
    "duration": 2,
    "start_time": "2024-05-30T18:52:19.295Z"
   },
   {
    "duration": 3,
    "start_time": "2024-05-30T18:52:21.088Z"
   },
   {
    "duration": 4,
    "start_time": "2024-05-30T18:52:21.361Z"
   },
   {
    "duration": 3,
    "start_time": "2024-05-30T18:52:30.561Z"
   },
   {
    "duration": 5,
    "start_time": "2024-05-30T18:52:30.941Z"
   },
   {
    "duration": 4,
    "start_time": "2024-05-30T18:52:31.276Z"
   },
   {
    "duration": 3,
    "start_time": "2024-05-30T18:52:34.322Z"
   },
   {
    "duration": 2,
    "start_time": "2024-05-30T18:52:34.724Z"
   },
   {
    "duration": 725,
    "start_time": "2024-05-30T18:52:35.310Z"
   },
   {
    "duration": 7,
    "start_time": "2024-05-30T18:53:45.028Z"
   },
   {
    "duration": 7,
    "start_time": "2024-05-30T18:54:27.904Z"
   },
   {
    "duration": 3,
    "start_time": "2024-05-30T18:56:25.669Z"
   },
   {
    "duration": 3,
    "start_time": "2024-05-30T18:56:31.010Z"
   },
   {
    "duration": 12,
    "start_time": "2024-05-30T18:56:32.682Z"
   },
   {
    "duration": 3,
    "start_time": "2024-05-30T18:56:42.031Z"
   },
   {
    "duration": 2,
    "start_time": "2024-05-30T18:56:42.600Z"
   },
   {
    "duration": 13,
    "start_time": "2024-05-30T18:56:43.451Z"
   },
   {
    "duration": 2,
    "start_time": "2024-05-30T18:57:03.565Z"
   },
   {
    "duration": 2,
    "start_time": "2024-05-30T18:57:04.371Z"
   },
   {
    "duration": 15,
    "start_time": "2024-05-30T18:57:04.934Z"
   },
   {
    "duration": 2,
    "start_time": "2024-05-30T18:57:26.249Z"
   },
   {
    "duration": 2,
    "start_time": "2024-05-30T18:57:26.932Z"
   },
   {
    "duration": 1220,
    "start_time": "2024-05-30T18:57:27.732Z"
   },
   {
    "duration": 9,
    "start_time": "2024-05-30T18:59:06.772Z"
   },
   {
    "duration": 1209,
    "start_time": "2024-05-30T18:59:17.264Z"
   },
   {
    "duration": 1232,
    "start_time": "2024-05-30T18:59:24.588Z"
   },
   {
    "duration": 1232,
    "start_time": "2024-05-30T19:00:27.437Z"
   },
   {
    "duration": 5310,
    "start_time": "2024-05-30T19:01:24.586Z"
   },
   {
    "duration": 1117,
    "start_time": "2024-05-30T19:01:29.898Z"
   },
   {
    "duration": 6,
    "start_time": "2024-05-30T19:01:31.016Z"
   },
   {
    "duration": 390,
    "start_time": "2024-05-30T19:01:31.023Z"
   },
   {
    "duration": 214,
    "start_time": "2024-05-30T19:01:31.414Z"
   },
   {
    "duration": 110,
    "start_time": "2024-05-30T19:01:31.629Z"
   },
   {
    "duration": 8774,
    "start_time": "2024-05-30T19:01:31.740Z"
   },
   {
    "duration": 12,
    "start_time": "2024-05-30T19:01:40.515Z"
   },
   {
    "duration": 43,
    "start_time": "2024-05-30T19:01:40.529Z"
   },
   {
    "duration": 100,
    "start_time": "2024-05-30T19:01:40.574Z"
   },
   {
    "duration": 13,
    "start_time": "2024-05-30T19:01:40.675Z"
   },
   {
    "duration": 189,
    "start_time": "2024-05-30T19:01:40.689Z"
   },
   {
    "duration": 12,
    "start_time": "2024-05-30T19:01:40.879Z"
   },
   {
    "duration": 79,
    "start_time": "2024-05-30T19:01:40.893Z"
   },
   {
    "duration": 185,
    "start_time": "2024-05-30T19:01:40.974Z"
   },
   {
    "duration": 0,
    "start_time": "2024-05-30T19:01:41.160Z"
   },
   {
    "duration": 0,
    "start_time": "2024-05-30T19:01:41.162Z"
   },
   {
    "duration": 0,
    "start_time": "2024-05-30T19:01:41.170Z"
   },
   {
    "duration": 0,
    "start_time": "2024-05-30T19:01:41.172Z"
   },
   {
    "duration": 0,
    "start_time": "2024-05-30T19:01:41.172Z"
   },
   {
    "duration": 0,
    "start_time": "2024-05-30T19:01:41.173Z"
   },
   {
    "duration": 4,
    "start_time": "2024-05-30T19:02:15.460Z"
   },
   {
    "duration": 3,
    "start_time": "2024-05-30T19:02:21.023Z"
   },
   {
    "duration": 4,
    "start_time": "2024-05-30T19:02:57.106Z"
   },
   {
    "duration": 3,
    "start_time": "2024-05-30T19:02:59.648Z"
   },
   {
    "duration": 2,
    "start_time": "2024-05-30T19:03:00.082Z"
   },
   {
    "duration": 1198,
    "start_time": "2024-05-30T19:03:00.684Z"
   },
   {
    "duration": 1160,
    "start_time": "2024-05-30T19:03:01.883Z"
   },
   {
    "duration": 1200,
    "start_time": "2024-05-30T19:03:03.044Z"
   },
   {
    "duration": 1208,
    "start_time": "2024-05-30T19:06:05.915Z"
   },
   {
    "duration": 1199,
    "start_time": "2024-05-30T19:06:35.716Z"
   },
   {
    "duration": 9644,
    "start_time": "2024-05-31T13:50:53.136Z"
   },
   {
    "duration": 1837,
    "start_time": "2024-05-31T13:51:02.783Z"
   },
   {
    "duration": 9,
    "start_time": "2024-05-31T13:51:04.622Z"
   },
   {
    "duration": 1849,
    "start_time": "2024-05-31T13:51:04.633Z"
   },
   {
    "duration": 384,
    "start_time": "2024-05-31T13:51:06.495Z"
   },
   {
    "duration": 202,
    "start_time": "2024-05-31T13:51:06.881Z"
   },
   {
    "duration": 13984,
    "start_time": "2024-05-31T13:51:07.084Z"
   },
   {
    "duration": 31,
    "start_time": "2024-05-31T13:51:21.093Z"
   },
   {
    "duration": 70,
    "start_time": "2024-05-31T13:51:21.126Z"
   },
   {
    "duration": 198,
    "start_time": "2024-05-31T13:51:21.199Z"
   },
   {
    "duration": 99,
    "start_time": "2024-05-31T13:51:21.400Z"
   },
   {
    "duration": 114,
    "start_time": "2024-05-31T13:51:21.503Z"
   },
   {
    "duration": 101,
    "start_time": "2024-05-31T13:51:21.620Z"
   },
   {
    "duration": 4,
    "start_time": "2024-05-31T13:51:21.791Z"
   },
   {
    "duration": 11,
    "start_time": "2024-05-31T13:51:21.798Z"
   },
   {
    "duration": 81,
    "start_time": "2024-05-31T13:51:21.812Z"
   },
   {
    "duration": 9,
    "start_time": "2024-05-31T13:51:21.895Z"
   },
   {
    "duration": 10,
    "start_time": "2024-05-31T13:51:21.907Z"
   },
   {
    "duration": 3397,
    "start_time": "2024-05-31T13:51:21.920Z"
   },
   {
    "duration": 2234,
    "start_time": "2024-05-31T13:51:25.319Z"
   },
   {
    "duration": 2189,
    "start_time": "2024-05-31T13:51:27.555Z"
   },
   {
    "duration": 4,
    "start_time": "2024-05-31T14:03:48.756Z"
   },
   {
    "duration": 2151,
    "start_time": "2024-05-31T14:03:49.923Z"
   },
   {
    "duration": 18,
    "start_time": "2024-05-31T14:13:57.913Z"
   },
   {
    "duration": 24,
    "start_time": "2024-05-31T14:13:58.300Z"
   },
   {
    "duration": 16,
    "start_time": "2024-05-31T14:13:58.478Z"
   },
   {
    "duration": 24,
    "start_time": "2024-05-31T14:13:58.822Z"
   },
   {
    "duration": 26,
    "start_time": "2024-05-31T14:13:58.965Z"
   },
   {
    "duration": 124,
    "start_time": "2024-05-31T14:23:40.876Z"
   },
   {
    "duration": 3,
    "start_time": "2024-05-31T14:23:49.498Z"
   },
   {
    "duration": 5,
    "start_time": "2024-05-31T14:23:49.867Z"
   },
   {
    "duration": 6,
    "start_time": "2024-05-31T14:26:27.291Z"
   },
   {
    "duration": 5,
    "start_time": "2024-05-31T14:31:19.633Z"
   },
   {
    "duration": 3,
    "start_time": "2024-05-31T14:31:30.756Z"
   },
   {
    "duration": 1857,
    "start_time": "2024-05-31T14:31:31.659Z"
   },
   {
    "duration": 1905,
    "start_time": "2024-05-31T14:31:41.700Z"
   },
   {
    "duration": 2033,
    "start_time": "2024-05-31T14:32:08.666Z"
   },
   {
    "duration": 3,
    "start_time": "2024-05-31T14:39:14.259Z"
   },
   {
    "duration": 4,
    "start_time": "2024-05-31T14:39:14.762Z"
   },
   {
    "duration": 6,
    "start_time": "2024-05-31T14:39:15.036Z"
   },
   {
    "duration": 4,
    "start_time": "2024-05-31T14:39:17.563Z"
   },
   {
    "duration": 1746,
    "start_time": "2024-05-31T14:39:22.035Z"
   },
   {
    "duration": 5,
    "start_time": "2024-05-31T14:39:37.984Z"
   },
   {
    "duration": 1727,
    "start_time": "2024-05-31T14:39:38.781Z"
   },
   {
    "duration": 1799,
    "start_time": "2024-05-31T14:40:10.967Z"
   },
   {
    "duration": 1636,
    "start_time": "2024-05-31T14:40:15.999Z"
   },
   {
    "duration": 1759,
    "start_time": "2024-05-31T14:41:39.065Z"
   },
   {
    "duration": 1707,
    "start_time": "2024-05-31T14:41:53.552Z"
   },
   {
    "duration": 1708,
    "start_time": "2024-05-31T14:41:55.261Z"
   },
   {
    "duration": 4,
    "start_time": "2024-05-31T14:44:01.317Z"
   },
   {
    "duration": 1708,
    "start_time": "2024-05-31T14:44:02.262Z"
   },
   {
    "duration": 4,
    "start_time": "2024-05-31T14:44:55.150Z"
   },
   {
    "duration": 1695,
    "start_time": "2024-05-31T14:44:57.948Z"
   },
   {
    "duration": 5865,
    "start_time": "2024-05-31T14:46:59.569Z"
   },
   {
    "duration": 1559,
    "start_time": "2024-05-31T14:47:05.436Z"
   },
   {
    "duration": 8,
    "start_time": "2024-05-31T14:47:06.997Z"
   },
   {
    "duration": 613,
    "start_time": "2024-05-31T14:47:07.008Z"
   },
   {
    "duration": 371,
    "start_time": "2024-05-31T14:47:07.623Z"
   },
   {
    "duration": 215,
    "start_time": "2024-05-31T14:47:07.996Z"
   },
   {
    "duration": 12356,
    "start_time": "2024-05-31T14:47:08.213Z"
   },
   {
    "duration": 30,
    "start_time": "2024-05-31T14:47:20.570Z"
   },
   {
    "duration": 18,
    "start_time": "2024-05-31T14:47:20.603Z"
   },
   {
    "duration": 181,
    "start_time": "2024-05-31T14:47:20.625Z"
   },
   {
    "duration": 24,
    "start_time": "2024-05-31T14:47:20.807Z"
   },
   {
    "duration": 216,
    "start_time": "2024-05-31T14:47:20.834Z"
   },
   {
    "duration": 22,
    "start_time": "2024-05-31T14:47:21.052Z"
   },
   {
    "duration": 280,
    "start_time": "2024-05-31T14:47:21.076Z"
   },
   {
    "duration": 0,
    "start_time": "2024-05-31T14:47:21.358Z"
   },
   {
    "duration": 0,
    "start_time": "2024-05-31T14:47:21.359Z"
   },
   {
    "duration": 0,
    "start_time": "2024-05-31T14:47:21.360Z"
   },
   {
    "duration": 0,
    "start_time": "2024-05-31T14:47:21.362Z"
   },
   {
    "duration": 0,
    "start_time": "2024-05-31T14:47:21.363Z"
   },
   {
    "duration": 0,
    "start_time": "2024-05-31T14:47:21.364Z"
   },
   {
    "duration": 4,
    "start_time": "2024-05-31T14:47:56.977Z"
   },
   {
    "duration": 5,
    "start_time": "2024-05-31T14:47:58.211Z"
   },
   {
    "duration": 14,
    "start_time": "2024-05-31T14:47:59.796Z"
   },
   {
    "duration": 5,
    "start_time": "2024-05-31T14:48:41.357Z"
   },
   {
    "duration": 3,
    "start_time": "2024-05-31T14:48:44.179Z"
   },
   {
    "duration": 1680,
    "start_time": "2024-05-31T14:48:46.645Z"
   },
   {
    "duration": 1710,
    "start_time": "2024-05-31T14:49:52.505Z"
   },
   {
    "duration": 1720,
    "start_time": "2024-05-31T14:51:35.659Z"
   },
   {
    "duration": 1849,
    "start_time": "2024-05-31T14:52:13.437Z"
   },
   {
    "duration": 1666,
    "start_time": "2024-05-31T14:54:22.987Z"
   },
   {
    "duration": 1657,
    "start_time": "2024-05-31T14:54:26.893Z"
   },
   {
    "duration": 1672,
    "start_time": "2024-05-31T14:54:28.553Z"
   },
   {
    "duration": 1755,
    "start_time": "2024-05-31T14:54:39.975Z"
   },
   {
    "duration": 1716,
    "start_time": "2024-05-31T14:54:45.878Z"
   },
   {
    "duration": 51,
    "start_time": "2024-05-31T15:16:07.948Z"
   },
   {
    "duration": 43,
    "start_time": "2024-05-31T15:16:28.260Z"
   },
   {
    "duration": 42,
    "start_time": "2024-05-31T15:16:41.968Z"
   },
   {
    "duration": 46,
    "start_time": "2024-05-31T15:16:51.900Z"
   },
   {
    "duration": 7604,
    "start_time": "2024-05-31T15:16:55.989Z"
   },
   {
    "duration": 3875,
    "start_time": "2024-05-31T15:17:16.258Z"
   },
   {
    "duration": 11591,
    "start_time": "2024-05-31T15:17:50.446Z"
   },
   {
    "duration": 6850,
    "start_time": "2024-05-31T15:18:12.585Z"
   },
   {
    "duration": 1572,
    "start_time": "2024-05-31T15:18:19.438Z"
   },
   {
    "duration": 11,
    "start_time": "2024-05-31T15:18:21.012Z"
   },
   {
    "duration": 555,
    "start_time": "2024-05-31T15:18:21.025Z"
   },
   {
    "duration": 334,
    "start_time": "2024-05-31T15:18:21.590Z"
   },
   {
    "duration": 206,
    "start_time": "2024-05-31T15:18:21.926Z"
   },
   {
    "duration": 12648,
    "start_time": "2024-05-31T15:18:22.135Z"
   },
   {
    "duration": 28,
    "start_time": "2024-05-31T15:18:34.785Z"
   },
   {
    "duration": 77,
    "start_time": "2024-05-31T15:18:34.815Z"
   },
   {
    "duration": 113,
    "start_time": "2024-05-31T15:18:34.896Z"
   },
   {
    "duration": 21,
    "start_time": "2024-05-31T15:18:35.012Z"
   },
   {
    "duration": 169,
    "start_time": "2024-05-31T15:18:35.036Z"
   },
   {
    "duration": 31,
    "start_time": "2024-05-31T15:18:35.207Z"
   },
   {
    "duration": 5,
    "start_time": "2024-05-31T15:18:35.299Z"
   },
   {
    "duration": 107,
    "start_time": "2024-05-31T15:18:35.306Z"
   },
   {
    "duration": 19,
    "start_time": "2024-05-31T15:18:35.415Z"
   },
   {
    "duration": 22,
    "start_time": "2024-05-31T15:18:35.436Z"
   },
   {
    "duration": 1707,
    "start_time": "2024-05-31T15:18:35.460Z"
   },
   {
    "duration": 1663,
    "start_time": "2024-05-31T15:18:37.168Z"
   },
   {
    "duration": 1655,
    "start_time": "2024-05-31T15:18:38.833Z"
   },
   {
    "duration": 4,
    "start_time": "2024-05-31T15:19:01.180Z"
   },
   {
    "duration": 5,
    "start_time": "2024-05-31T15:19:02.165Z"
   },
   {
    "duration": 517,
    "start_time": "2024-05-31T15:19:02.301Z"
   },
   {
    "duration": 333,
    "start_time": "2024-05-31T15:19:02.821Z"
   },
   {
    "duration": 201,
    "start_time": "2024-05-31T15:19:03.156Z"
   },
   {
    "duration": 11445,
    "start_time": "2024-05-31T15:19:03.359Z"
   },
   {
    "duration": 33,
    "start_time": "2024-05-31T15:19:14.807Z"
   },
   {
    "duration": 56,
    "start_time": "2024-05-31T15:19:14.842Z"
   },
   {
    "duration": 121,
    "start_time": "2024-05-31T15:19:14.903Z"
   },
   {
    "duration": 71,
    "start_time": "2024-05-31T15:19:15.027Z"
   },
   {
    "duration": 207,
    "start_time": "2024-05-31T15:19:15.100Z"
   },
   {
    "duration": 19,
    "start_time": "2024-05-31T15:19:15.310Z"
   },
   {
    "duration": 12,
    "start_time": "2024-05-31T15:19:15.393Z"
   },
   {
    "duration": 7,
    "start_time": "2024-05-31T15:19:15.492Z"
   },
   {
    "duration": 7,
    "start_time": "2024-05-31T15:19:15.503Z"
   },
   {
    "duration": 5,
    "start_time": "2024-05-31T15:19:15.512Z"
   },
   {
    "duration": 1689,
    "start_time": "2024-05-31T15:19:15.519Z"
   },
   {
    "duration": 1624,
    "start_time": "2024-05-31T15:19:17.210Z"
   },
   {
    "duration": 1643,
    "start_time": "2024-05-31T15:19:18.835Z"
   },
   {
    "duration": 11,
    "start_time": "2024-05-31T19:19:12.852Z"
   },
   {
    "duration": 43,
    "start_time": "2024-05-31T19:19:13.352Z"
   },
   {
    "duration": 8,
    "start_time": "2024-05-31T19:19:44.683Z"
   },
   {
    "duration": 4,
    "start_time": "2024-05-31T19:20:42.283Z"
   },
   {
    "duration": 7,
    "start_time": "2024-05-31T19:20:43.936Z"
   },
   {
    "duration": 3,
    "start_time": "2024-05-31T19:21:43.380Z"
   },
   {
    "duration": 1489,
    "start_time": "2024-05-31T19:22:16.421Z"
   },
   {
    "duration": 6,
    "start_time": "2024-05-31T19:22:17.912Z"
   },
   {
    "duration": 664,
    "start_time": "2024-05-31T19:22:17.920Z"
   },
   {
    "duration": 253,
    "start_time": "2024-05-31T19:22:18.585Z"
   },
   {
    "duration": 190,
    "start_time": "2024-05-31T19:22:18.840Z"
   },
   {
    "duration": 10334,
    "start_time": "2024-05-31T19:22:19.032Z"
   },
   {
    "duration": 19,
    "start_time": "2024-05-31T19:22:29.367Z"
   },
   {
    "duration": 79,
    "start_time": "2024-05-31T19:22:29.387Z"
   },
   {
    "duration": 116,
    "start_time": "2024-05-31T19:22:29.468Z"
   },
   {
    "duration": 176,
    "start_time": "2024-05-31T19:22:29.588Z"
   },
   {
    "duration": 21,
    "start_time": "2024-05-31T19:22:29.766Z"
   },
   {
    "duration": 16,
    "start_time": "2024-05-31T19:22:29.788Z"
   },
   {
    "duration": 3,
    "start_time": "2024-05-31T19:22:29.866Z"
   },
   {
    "duration": 94,
    "start_time": "2024-05-31T19:22:29.871Z"
   },
   {
    "duration": 19,
    "start_time": "2024-05-31T19:22:29.967Z"
   },
   {
    "duration": 3,
    "start_time": "2024-05-31T19:22:29.988Z"
   },
   {
    "duration": 1410,
    "start_time": "2024-05-31T19:22:29.992Z"
   },
   {
    "duration": 1400,
    "start_time": "2024-05-31T19:22:31.404Z"
   },
   {
    "duration": 1420,
    "start_time": "2024-05-31T19:22:32.805Z"
   },
   {
    "duration": 3,
    "start_time": "2024-05-31T19:26:15.317Z"
   },
   {
    "duration": 1374,
    "start_time": "2024-05-31T19:28:01.088Z"
   },
   {
    "duration": 1354,
    "start_time": "2024-05-31T19:28:03.731Z"
   },
   {
    "duration": 1440,
    "start_time": "2024-05-31T19:28:05.087Z"
   },
   {
    "duration": 114,
    "start_time": "2024-05-31T19:30:06.437Z"
   },
   {
    "duration": 61,
    "start_time": "2024-05-31T19:30:40.603Z"
   },
   {
    "duration": 59,
    "start_time": "2024-05-31T19:30:55.691Z"
   },
   {
    "duration": 1327,
    "start_time": "2024-05-31T19:31:34.517Z"
   },
   {
    "duration": 7,
    "start_time": "2024-05-31T19:31:35.847Z"
   },
   {
    "duration": 465,
    "start_time": "2024-05-31T19:31:35.856Z"
   },
   {
    "duration": 270,
    "start_time": "2024-05-31T19:31:36.323Z"
   },
   {
    "duration": 138,
    "start_time": "2024-05-31T19:31:36.594Z"
   },
   {
    "duration": 9739,
    "start_time": "2024-05-31T19:31:36.734Z"
   },
   {
    "duration": 17,
    "start_time": "2024-05-31T19:31:46.475Z"
   },
   {
    "duration": 15,
    "start_time": "2024-05-31T19:31:46.493Z"
   },
   {
    "duration": 109,
    "start_time": "2024-05-31T19:31:46.566Z"
   },
   {
    "duration": 90,
    "start_time": "2024-05-31T19:31:46.677Z"
   },
   {
    "duration": 108,
    "start_time": "2024-05-31T19:31:46.769Z"
   },
   {
    "duration": 15,
    "start_time": "2024-05-31T19:31:46.879Z"
   },
   {
    "duration": 73,
    "start_time": "2024-05-31T19:31:46.896Z"
   },
   {
    "duration": 5,
    "start_time": "2024-05-31T19:31:46.972Z"
   },
   {
    "duration": 4,
    "start_time": "2024-05-31T19:31:47.066Z"
   },
   {
    "duration": 3,
    "start_time": "2024-05-31T19:31:47.072Z"
   },
   {
    "duration": 1336,
    "start_time": "2024-05-31T19:31:47.077Z"
   },
   {
    "duration": 1386,
    "start_time": "2024-05-31T19:31:48.415Z"
   },
   {
    "duration": 1395,
    "start_time": "2024-05-31T19:31:49.802Z"
   }
  ],
  "kernelspec": {
   "display_name": "Python 3 (ipykernel)",
   "language": "python",
   "name": "python3"
  },
  "language_info": {
   "codemirror_mode": {
    "name": "ipython",
    "version": 3
   },
   "file_extension": ".py",
   "mimetype": "text/x-python",
   "name": "python",
   "nbconvert_exporter": "python",
   "pygments_lexer": "ipython3",
   "version": "3.9.5"
  },
  "toc": {
   "base_numbering": 1,
   "nav_menu": {},
   "number_sections": true,
   "sideBar": true,
   "skip_h1_title": true,
   "title_cell": "Table of Contents",
   "title_sidebar": "Contents",
   "toc_cell": false,
   "toc_position": {
    "height": "calc(100% - 180px)",
    "left": "10px",
    "top": "150px",
    "width": "371.796875px"
   },
   "toc_section_display": true,
   "toc_window_display": false
  }
 },
 "nbformat": 4,
 "nbformat_minor": 2
}
