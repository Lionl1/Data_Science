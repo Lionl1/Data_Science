{
 "cells": [
  {
   "cell_type": "markdown",
   "metadata": {},
   "source": [
    "# <center> Определение стоимости автомобилей"
   ]
  },
  {
   "cell_type": "markdown",
   "metadata": {},
   "source": [
    "Сервис по продаже автомобилей с пробегом «Не бит, не крашен» разрабатывает приложение для привлечения новых клиентов. В нём можно быстро узнать рыночную стоимость своего автомобиля. В вашем распоряжении исторические данные: технические характеристики, комплектации и цены автомобилей. Вам нужно построить модель для определения стоимости. \n",
    "\n",
    "Заказчику важны:\n",
    "\n",
    "- качество предсказания;\n",
    "- скорость предсказания;\n",
    "- время обучения."
   ]
  },
  {
   "cell_type": "code",
   "execution_count": 1,
   "metadata": {
    "scrolled": false
   },
   "outputs": [
    {
     "name": "stdout",
     "output_type": "stream",
     "text": [
      "Requirement already satisfied: phik in /opt/conda/lib/python3.9/site-packages (0.12.4)\n",
      "Requirement already satisfied: pandas>=0.25.1 in /opt/conda/lib/python3.9/site-packages (from phik) (1.2.4)\n",
      "Requirement already satisfied: joblib>=0.14.1 in /opt/conda/lib/python3.9/site-packages (from phik) (1.4.2)\n",
      "Requirement already satisfied: matplotlib>=2.2.3 in /opt/conda/lib/python3.9/site-packages (from phik) (3.3.4)\n",
      "Requirement already satisfied: scipy>=1.5.2 in /opt/conda/lib/python3.9/site-packages (from phik) (1.9.1)\n",
      "Requirement already satisfied: numpy>=1.18.0 in /opt/conda/lib/python3.9/site-packages (from phik) (1.21.1)\n",
      "Requirement already satisfied: pillow>=6.2.0 in /opt/conda/lib/python3.9/site-packages (from matplotlib>=2.2.3->phik) (8.4.0)\n",
      "Requirement already satisfied: kiwisolver>=1.0.1 in /opt/conda/lib/python3.9/site-packages (from matplotlib>=2.2.3->phik) (1.4.4)\n",
      "Requirement already satisfied: python-dateutil>=2.1 in /opt/conda/lib/python3.9/site-packages (from matplotlib>=2.2.3->phik) (2.8.1)\n",
      "Requirement already satisfied: cycler>=0.10 in /opt/conda/lib/python3.9/site-packages (from matplotlib>=2.2.3->phik) (0.11.0)\n",
      "Requirement already satisfied: pyparsing!=2.0.4,!=2.1.2,!=2.1.6,>=2.0.3 in /opt/conda/lib/python3.9/site-packages (from matplotlib>=2.2.3->phik) (2.4.7)\n",
      "Requirement already satisfied: pytz>=2017.3 in /opt/conda/lib/python3.9/site-packages (from pandas>=0.25.1->phik) (2021.1)\n",
      "Requirement already satisfied: six>=1.5 in /opt/conda/lib/python3.9/site-packages (from python-dateutil>=2.1->matplotlib>=2.2.3->phik) (1.16.0)\n",
      "Requirement already satisfied: scikit-learn in /opt/conda/lib/python3.9/site-packages (1.5.1)\n",
      "Requirement already satisfied: scipy>=1.6.0 in /opt/conda/lib/python3.9/site-packages (from scikit-learn) (1.9.1)\n",
      "Requirement already satisfied: joblib>=1.2.0 in /opt/conda/lib/python3.9/site-packages (from scikit-learn) (1.4.2)\n",
      "Requirement already satisfied: numpy>=1.19.5 in /opt/conda/lib/python3.9/site-packages (from scikit-learn) (1.21.1)\n",
      "Requirement already satisfied: threadpoolctl>=3.1.0 in /opt/conda/lib/python3.9/site-packages (from scikit-learn) (3.1.0)\n"
     ]
    }
   ],
   "source": [
    "!pip install phik\n",
    "!pip install -U scikit-learn"
   ]
  },
  {
   "cell_type": "code",
   "execution_count": 30,
   "metadata": {},
   "outputs": [],
   "source": [
    "# Загружаем библиотеки\n",
    "import time\n",
    "import pandas as pd\n",
    "import numpy as np\n",
    "import seaborn as sns\n",
    "from matplotlib import pyplot as plt\n",
    "import lightgbm as lgb\n",
    "import phik\n",
    "from lightgbm import LGBMRegressor\n",
    "from catboost import CatBoostRegressor\n",
    "from sklearn.compose import ColumnTransformer, make_column_transformer\n",
    "from sklearn.model_selection import train_test_split, cross_val_score, GridSearchCV, RandomizedSearchCV, KFold\n",
    "from sklearn.linear_model import LogisticRegression, Ridge, LinearRegression\n",
    "from sklearn.pipeline import Pipeline\n",
    "from sklearn.preprocessing import OneHotEncoder, StandardScaler, MinMaxScaler, LabelEncoder, OrdinalEncoder\n",
    "from sklearn.impute import SimpleImputer\n",
    "from sklearn.metrics import mean_squared_error"
   ]
  },
  {
   "cell_type": "code",
   "execution_count": 3,
   "metadata": {},
   "outputs": [],
   "source": [
    "# Функция для графиков распределения по столбцам\n",
    "def plots(table,legend=True):\n",
    "    for column in table.columns:\n",
    "        if table[column].dtypes != 'object' :\n",
    "            fig = plt.figure(figsize=(20,5))\n",
    "            plt.subplot(1,2, 1)\n",
    "            sns.histplot(data=table, x=column,legend=legend,stat='density', common_norm=False,kde=True)\n",
    "            plt.title(f'Распределение, {column}')\n",
    "            plt.ylabel('Частота')\n",
    "            plt.xlabel(column)\n",
    "            plt.subplot(1,2, 2)\n",
    "            sns.boxplot(data=table, y=column)\n",
    "            plt.title(f'Боксплот, {column}')\n",
    "            plt.show()\n",
    "    display(table.describe())\n",
    "\n",
    "# Функция для графиков распределения по столбцам категориальных признаков\n",
    "def plots_cat(table,filters):\n",
    "    for column in table.columns:\n",
    "        if table[column].dtypes == 'object':\n",
    "            fig = plt.figure(figsize=(10,5))\n",
    "            sns.histplot(data=table, y=column, hue=filters,kde=True)\n",
    "            display(table.pivot_table(index=column, aggfunc='mean'))\n",
    "            plt.ylabel(column)\n",
    "            plt.xlabel('Частота')\n",
    "            plt.show()\n",
    "            \n",
    "def plots_hist(table,filters,filters1,filters2,legend=True):\n",
    "    for column in table.columns:\n",
    "        if table[column].dtypes != 'object' :\n",
    "            \n",
    "            fig = plt.figure(figsize=(21,5))\n",
    "            plt.subplot(1,3, 1)\n",
    "            sns.histplot(data=table, x=column, hue=filters,legend=legend,stat='density', common_norm=False,kde=True)\n",
    "            plt.title(f'Распределение, {column}')\n",
    "            plt.ylabel('Плотность распределения')\n",
    "            plt.xlabel(column)\n",
    "            plt.subplot(1,3, 2)\n",
    "            sns.histplot(data=table, x=column, hue=filters1,stat='density', common_norm=False,legend=legend,kde=True)\n",
    "            plt.title(f'Распределение, {column}')\n",
    "            plt.ylabel('Плотность распределения')\n",
    "            plt.xlabel(column)\n",
    "            plt.subplot(1,3, 3)\n",
    "            sns.histplot(data=table, x=column, hue=filters2,stat='density', common_norm=False,legend=legend,kde=True)\n",
    "            plt.title(f'Распределение, {column}')\n",
    "            plt.ylabel('Плотность распределения')\n",
    "            plt.xlabel(column)\n",
    "            plt.show()\n",
    "    display(table.describe())\n",
    "                \n",
    "def pie_plots(table):\n",
    "    tables = table[table.columns]\n",
    "    tables = tables.dropna()\n",
    "    for column in tables.columns:\n",
    "        \n",
    "        if table[column].dtypes == 'object' :\n",
    "            data = tables[column].value_counts()\n",
    "            fig = plt.figure(figsize=(5,5))\n",
    "            plt.pie(data,colors = sns.color_palette('pastel'),autopct='%1.0f%%')\n",
    "            plt.title(f'Распределение, {column}')\n",
    "            plt.axis('equal')\n",
    "            plt.show()\n",
    "            display(data.T)"
   ]
  },
  {
   "cell_type": "markdown",
   "metadata": {},
   "source": [
    "## Подготовка данных"
   ]
  },
  {
   "cell_type": "markdown",
   "metadata": {},
   "source": [
    "### Загружаем данные"
   ]
  },
  {
   "cell_type": "code",
   "execution_count": 4,
   "metadata": {},
   "outputs": [
    {
     "data": {
      "text/html": [
       "<div>\n",
       "<style scoped>\n",
       "    .dataframe tbody tr th:only-of-type {\n",
       "        vertical-align: middle;\n",
       "    }\n",
       "\n",
       "    .dataframe tbody tr th {\n",
       "        vertical-align: top;\n",
       "    }\n",
       "\n",
       "    .dataframe thead th {\n",
       "        text-align: right;\n",
       "    }\n",
       "</style>\n",
       "<table border=\"1\" class=\"dataframe\">\n",
       "  <thead>\n",
       "    <tr style=\"text-align: right;\">\n",
       "      <th></th>\n",
       "      <th>DateCrawled</th>\n",
       "      <th>Price</th>\n",
       "      <th>VehicleType</th>\n",
       "      <th>RegistrationYear</th>\n",
       "      <th>Gearbox</th>\n",
       "      <th>Power</th>\n",
       "      <th>Model</th>\n",
       "      <th>Kilometer</th>\n",
       "      <th>RegistrationMonth</th>\n",
       "      <th>FuelType</th>\n",
       "      <th>Brand</th>\n",
       "      <th>Repaired</th>\n",
       "      <th>DateCreated</th>\n",
       "      <th>NumberOfPictures</th>\n",
       "      <th>PostalCode</th>\n",
       "      <th>LastSeen</th>\n",
       "    </tr>\n",
       "  </thead>\n",
       "  <tbody>\n",
       "    <tr>\n",
       "      <th>0</th>\n",
       "      <td>2016-03-24 11:52:17</td>\n",
       "      <td>480</td>\n",
       "      <td>NaN</td>\n",
       "      <td>1993</td>\n",
       "      <td>manual</td>\n",
       "      <td>0</td>\n",
       "      <td>golf</td>\n",
       "      <td>150000</td>\n",
       "      <td>0</td>\n",
       "      <td>petrol</td>\n",
       "      <td>volkswagen</td>\n",
       "      <td>NaN</td>\n",
       "      <td>2016-03-24</td>\n",
       "      <td>0</td>\n",
       "      <td>70435</td>\n",
       "      <td>2016-04-07 03:16:57</td>\n",
       "    </tr>\n",
       "    <tr>\n",
       "      <th>1</th>\n",
       "      <td>2016-03-24 10:58:45</td>\n",
       "      <td>18300</td>\n",
       "      <td>coupe</td>\n",
       "      <td>2011</td>\n",
       "      <td>manual</td>\n",
       "      <td>190</td>\n",
       "      <td>NaN</td>\n",
       "      <td>125000</td>\n",
       "      <td>5</td>\n",
       "      <td>gasoline</td>\n",
       "      <td>audi</td>\n",
       "      <td>yes</td>\n",
       "      <td>2016-03-24</td>\n",
       "      <td>0</td>\n",
       "      <td>66954</td>\n",
       "      <td>2016-04-07 01:46:50</td>\n",
       "    </tr>\n",
       "    <tr>\n",
       "      <th>2</th>\n",
       "      <td>2016-03-14 12:52:21</td>\n",
       "      <td>9800</td>\n",
       "      <td>suv</td>\n",
       "      <td>2004</td>\n",
       "      <td>auto</td>\n",
       "      <td>163</td>\n",
       "      <td>grand</td>\n",
       "      <td>125000</td>\n",
       "      <td>8</td>\n",
       "      <td>gasoline</td>\n",
       "      <td>jeep</td>\n",
       "      <td>NaN</td>\n",
       "      <td>2016-03-14</td>\n",
       "      <td>0</td>\n",
       "      <td>90480</td>\n",
       "      <td>2016-04-05 12:47:46</td>\n",
       "    </tr>\n",
       "  </tbody>\n",
       "</table>\n",
       "</div>"
      ],
      "text/plain": [
       "          DateCrawled  Price VehicleType  RegistrationYear Gearbox  Power  \\\n",
       "0 2016-03-24 11:52:17    480         NaN              1993  manual      0   \n",
       "1 2016-03-24 10:58:45  18300       coupe              2011  manual    190   \n",
       "2 2016-03-14 12:52:21   9800         suv              2004    auto    163   \n",
       "\n",
       "   Model  Kilometer  RegistrationMonth  FuelType       Brand Repaired  \\\n",
       "0   golf     150000                  0    petrol  volkswagen      NaN   \n",
       "1    NaN     125000                  5  gasoline        audi      yes   \n",
       "2  grand     125000                  8  gasoline        jeep      NaN   \n",
       "\n",
       "  DateCreated  NumberOfPictures  PostalCode            LastSeen  \n",
       "0  2016-03-24                 0       70435 2016-04-07 03:16:57  \n",
       "1  2016-03-24                 0       66954 2016-04-07 01:46:50  \n",
       "2  2016-03-14                 0       90480 2016-04-05 12:47:46  "
      ]
     },
     "metadata": {},
     "output_type": "display_data"
    },
    {
     "name": "stdout",
     "output_type": "stream",
     "text": [
      "<class 'pandas.core.frame.DataFrame'>\n",
      "RangeIndex: 354369 entries, 0 to 354368\n",
      "Data columns (total 16 columns):\n",
      " #   Column             Non-Null Count   Dtype         \n",
      "---  ------             --------------   -----         \n",
      " 0   DateCrawled        354369 non-null  datetime64[ns]\n",
      " 1   Price              354369 non-null  int64         \n",
      " 2   VehicleType        316879 non-null  object        \n",
      " 3   RegistrationYear   354369 non-null  int64         \n",
      " 4   Gearbox            334536 non-null  object        \n",
      " 5   Power              354369 non-null  int64         \n",
      " 6   Model              334664 non-null  object        \n",
      " 7   Kilometer          354369 non-null  int64         \n",
      " 8   RegistrationMonth  354369 non-null  int64         \n",
      " 9   FuelType           321474 non-null  object        \n",
      " 10  Brand              354369 non-null  object        \n",
      " 11  Repaired           283215 non-null  object        \n",
      " 12  DateCreated        354369 non-null  datetime64[ns]\n",
      " 13  NumberOfPictures   354369 non-null  int64         \n",
      " 14  PostalCode         354369 non-null  int64         \n",
      " 15  LastSeen           354369 non-null  datetime64[ns]\n",
      "dtypes: datetime64[ns](3), int64(7), object(6)\n",
      "memory usage: 43.3+ MB\n"
     ]
    },
    {
     "data": {
      "text/plain": [
       "None"
      ]
     },
     "metadata": {},
     "output_type": "display_data"
    }
   ],
   "source": [
    "\n",
    "try:\n",
    "    autos = pd.read_csv('/datasets/autos.csv',parse_dates=['DateCrawled','DateCreated','LastSeen'])\n",
    "except:\n",
    "    autos = pd.read_csv('https://code.s3.yandex.net/datasets/autos.csv',parse_dates=['DateCrawled','DateCreated','LastSeen'])\n",
    "\n",
    "display(autos.head(3))\n",
    "display(autos.info())\n",
    "RANDOM_STATE = 42\n",
    "TEST_SIZE = 0.2"
   ]
  },
  {
   "cell_type": "markdown",
   "metadata": {},
   "source": [
    "#### Вывод\n",
    "\n",
    "- Размер исследуемого набора данных: 16 столбцов, 354369 строк\n",
    "- В данных есть пропуски в столбцах: VehicleType, Gearbox, Model, FuelType, Repaired\n",
    "- При загрузке изменен тип данных в столбцах: DateCrawled, DateCreated, LastSeen\n",
    "- Категориальные признаки: VehicleType,\tGearbox, Model,\tFuelType, Brand, Repaired\n",
    "\n",
    "Дальше необходимо проверить данные на наличие дубликатов, обработать пропуски, проверить на аномалии и удалить признаки которые не влияют на целевой "
   ]
  },
  {
   "cell_type": "markdown",
   "metadata": {},
   "source": [
    "### Обработка аномалий"
   ]
  },
  {
   "cell_type": "code",
   "execution_count": 5,
   "metadata": {},
   "outputs": [],
   "source": [
    "# Дублируем данные из исходного датасета, чтобы была возможность вернуться к исходнику\n",
    "cars = autos.copy(deep=True)"
   ]
  },
  {
   "cell_type": "code",
   "execution_count": 6,
   "metadata": {},
   "outputs": [],
   "source": [
    "# удалим признаки, которые не влияют на целевой признаки\n",
    "drop_columns = ['DateCrawled','RegistrationMonth', 'DateCreated', 'NumberOfPictures', 'PostalCode', 'LastSeen']\n",
    "cars = cars.drop(drop_columns, axis=1)"
   ]
  },
  {
   "cell_type": "code",
   "execution_count": 7,
   "metadata": {
    "scrolled": false
   },
   "outputs": [
    {
     "name": "stdout",
     "output_type": "stream",
     "text": [
      "[nan 'coupe' 'suv' 'small' 'sedan' 'convertible' 'bus' 'wagon' 'other'] - Уникальные значения в столбце (VehicleType)\n",
      "\n",
      "['manual' 'auto' nan] - Уникальные значения в столбце (Gearbox)\n",
      "\n",
      "['golf' nan 'grand' 'fabia' '3er' '2_reihe' 'other' 'c_max' '3_reihe'\n",
      " 'passat' 'navara' 'ka' 'polo' 'twingo' 'a_klasse' 'scirocco' '5er'\n",
      " 'meriva' 'arosa' 'c4' 'civic' 'transporter' 'punto' 'e_klasse' 'clio'\n",
      " 'kadett' 'kangoo' 'corsa' 'one' 'fortwo' '1er' 'b_klasse' 'signum'\n",
      " 'astra' 'a8' 'jetta' 'fiesta' 'c_klasse' 'micra' 'vito' 'sprinter' '156'\n",
      " 'escort' 'forester' 'xc_reihe' 'scenic' 'a4' 'a1' 'insignia' 'combo'\n",
      " 'focus' 'tt' 'a6' 'jazz' 'omega' 'slk' '7er' '80' '147' '100' 'z_reihe'\n",
      " 'sportage' 'sorento' 'v40' 'ibiza' 'mustang' 'eos' 'touran' 'getz' 'a3'\n",
      " 'almera' 'megane' 'lupo' 'r19' 'zafira' 'caddy' 'mondeo' 'cordoba' 'colt'\n",
      " 'impreza' 'vectra' 'berlingo' 'tiguan' 'i_reihe' 'espace' 'sharan'\n",
      " '6_reihe' 'panda' 'up' 'seicento' 'ceed' '5_reihe' 'yeti' 'octavia' 'mii'\n",
      " 'rx_reihe' '6er' 'modus' 'fox' 'matiz' 'beetle' 'c1' 'rio' 'touareg'\n",
      " 'logan' 'spider' 'cuore' 's_max' 'a2' 'galaxy' 'c3' 'viano' 's_klasse'\n",
      " '1_reihe' 'avensis' 'roomster' 'sl' 'kaefer' 'santa' 'cooper' 'leon'\n",
      " '4_reihe' 'a5' '500' 'laguna' 'ptcruiser' 'clk' 'primera' 'x_reihe'\n",
      " 'exeo' '159' 'transit' 'juke' 'qashqai' 'carisma' 'accord' 'corolla'\n",
      " 'lanos' 'phaeton' 'verso' 'swift' 'rav' 'picanto' 'boxster' 'kalos'\n",
      " 'superb' 'stilo' 'alhambra' 'mx_reihe' 'roadster' 'ypsilon' 'cayenne'\n",
      " 'galant' 'justy' '90' 'sirion' 'crossfire' 'agila' 'duster' 'cr_reihe'\n",
      " 'v50' 'c_reihe' 'v_klasse' 'm_klasse' 'yaris' 'c5' 'aygo' 'cc' 'carnival'\n",
      " 'fusion' '911' 'bora' 'forfour' 'm_reihe' 'cl' 'tigra' '300c' 'spark'\n",
      " 'v70' 'kuga' 'x_type' 'ducato' 's_type' 'x_trail' 'toledo' 'altea'\n",
      " 'voyager' 'calibra' 'bravo' 'antara' 'tucson' 'citigo' 'jimny' 'wrangler'\n",
      " 'lybra' 'q7' 'lancer' 'captiva' 'c2' 'discovery' 'freelander' 'sandero'\n",
      " 'note' '900' 'cherokee' 'clubman' 'samara' 'defender' '601' 'cx_reihe'\n",
      " 'legacy' 'pajero' 'auris' 'niva' 's60' 'nubira' 'vivaro' 'g_klasse'\n",
      " 'lodgy' '850' 'range_rover' 'q3' 'serie_2' 'glk' 'charade' 'croma'\n",
      " 'outlander' 'doblo' 'musa' 'move' '9000' 'v60' '145' 'aveo' '200' 'b_max'\n",
      " 'range_rover_sport' 'terios' 'rangerover' 'q5' 'range_rover_evoque'\n",
      " 'materia' 'delta' 'gl' 'kalina' 'amarok' 'elefantino' 'i3' 'kappa'\n",
      " 'serie_3' 'serie_1'] - Уникальные значения в столбце (Model)\n",
      "\n",
      "['petrol' 'gasoline' nan 'lpg' 'other' 'hybrid' 'cng' 'electric'] - Уникальные значения в столбце (FuelType)\n",
      "\n",
      "['volkswagen' 'audi' 'jeep' 'skoda' 'bmw' 'peugeot' 'ford' 'mazda'\n",
      " 'nissan' 'renault' 'mercedes_benz' 'opel' 'seat' 'citroen' 'honda' 'fiat'\n",
      " 'mini' 'smart' 'hyundai' 'sonstige_autos' 'alfa_romeo' 'subaru' 'volvo'\n",
      " 'mitsubishi' 'kia' 'suzuki' 'lancia' 'toyota' 'chevrolet' 'dacia'\n",
      " 'daihatsu' 'trabant' 'saab' 'chrysler' 'jaguar' 'daewoo' 'porsche'\n",
      " 'rover' 'land_rover' 'lada'] - Уникальные значения в столбце (Brand)\n",
      "\n",
      "[nan 'yes' 'no'] - Уникальные значения в столбце (Repaired)\n",
      "\n"
     ]
    }
   ],
   "source": [
    "# Рассмотрим наличие неявных дубликатов\n",
    "for column in autos.columns:\n",
    "    if autos[column].dtypes=='object':\n",
    "        print(f'{autos[column].unique()} - Уникальные значения в столбце ({column})')\n",
    "        print();"
   ]
  },
  {
   "cell_type": "code",
   "execution_count": 8,
   "metadata": {
    "scrolled": false
   },
   "outputs": [
    {
     "data": {
      "image/png": "[encoded data removed]",
      "text/plain": [
       "<Figure size 1440x360 with 2 Axes>"
      ]
     },
     "metadata": {
      "needs_background": "light"
     },
     "output_type": "display_data"
    },
    {
     "data": {
      "image/png": "[encoded data removed]",
      "text/plain": [
       "<Figure size 1440x360 with 2 Axes>"
      ]
     },
     "metadata": {
      "needs_background": "light"
     },
     "output_type": "display_data"
    },
    {
     "data": {
      "image/png": "[encoded data removed]",
      "text/plain": [
       "<Figure size 1440x360 with 2 Axes>"
      ]
     },
     "metadata": {
      "needs_background": "light"
     },
     "output_type": "display_data"
    },
    {
     "data": {
      "image/png": "[encoded data removed]",
      "text/plain": [
       "<Figure size 1440x360 with 2 Axes>"
      ]
     },
     "metadata": {
      "needs_background": "light"
     },
     "output_type": "display_data"
    },
    {
     "data": {
      "text/html": [
       "<div>\n",
       "<style scoped>\n",
       "    .dataframe tbody tr th:only-of-type {\n",
       "        vertical-align: middle;\n",
       "    }\n",
       "\n",
       "    .dataframe tbody tr th {\n",
       "        vertical-align: top;\n",
       "    }\n",
       "\n",
       "    .dataframe thead th {\n",
       "        text-align: right;\n",
       "    }\n",
       "</style>\n",
       "<table border=\"1\" class=\"dataframe\">\n",
       "  <thead>\n",
       "    <tr style=\"text-align: right;\">\n",
       "      <th></th>\n",
       "      <th>Price</th>\n",
       "      <th>RegistrationYear</th>\n",
       "      <th>Power</th>\n",
       "      <th>Kilometer</th>\n",
       "    </tr>\n",
       "  </thead>\n",
       "  <tbody>\n",
       "    <tr>\n",
       "      <th>count</th>\n",
       "      <td>354369.000000</td>\n",
       "      <td>354369.000000</td>\n",
       "      <td>354369.000000</td>\n",
       "      <td>354369.000000</td>\n",
       "    </tr>\n",
       "    <tr>\n",
       "      <th>mean</th>\n",
       "      <td>4416.656776</td>\n",
       "      <td>2004.234448</td>\n",
       "      <td>110.094337</td>\n",
       "      <td>128211.172535</td>\n",
       "    </tr>\n",
       "    <tr>\n",
       "      <th>std</th>\n",
       "      <td>4514.158514</td>\n",
       "      <td>90.227958</td>\n",
       "      <td>189.850405</td>\n",
       "      <td>37905.341530</td>\n",
       "    </tr>\n",
       "    <tr>\n",
       "      <th>min</th>\n",
       "      <td>0.000000</td>\n",
       "      <td>1000.000000</td>\n",
       "      <td>0.000000</td>\n",
       "      <td>5000.000000</td>\n",
       "    </tr>\n",
       "    <tr>\n",
       "      <th>25%</th>\n",
       "      <td>1050.000000</td>\n",
       "      <td>1999.000000</td>\n",
       "      <td>69.000000</td>\n",
       "      <td>125000.000000</td>\n",
       "    </tr>\n",
       "    <tr>\n",
       "      <th>50%</th>\n",
       "      <td>2700.000000</td>\n",
       "      <td>2003.000000</td>\n",
       "      <td>105.000000</td>\n",
       "      <td>150000.000000</td>\n",
       "    </tr>\n",
       "    <tr>\n",
       "      <th>75%</th>\n",
       "      <td>6400.000000</td>\n",
       "      <td>2008.000000</td>\n",
       "      <td>143.000000</td>\n",
       "      <td>150000.000000</td>\n",
       "    </tr>\n",
       "    <tr>\n",
       "      <th>max</th>\n",
       "      <td>20000.000000</td>\n",
       "      <td>9999.000000</td>\n",
       "      <td>20000.000000</td>\n",
       "      <td>150000.000000</td>\n",
       "    </tr>\n",
       "  </tbody>\n",
       "</table>\n",
       "</div>"
      ],
      "text/plain": [
       "               Price  RegistrationYear          Power      Kilometer\n",
       "count  354369.000000     354369.000000  354369.000000  354369.000000\n",
       "mean     4416.656776       2004.234448     110.094337  128211.172535\n",
       "std      4514.158514         90.227958     189.850405   37905.341530\n",
       "min         0.000000       1000.000000       0.000000    5000.000000\n",
       "25%      1050.000000       1999.000000      69.000000  125000.000000\n",
       "50%      2700.000000       2003.000000     105.000000  150000.000000\n",
       "75%      6400.000000       2008.000000     143.000000  150000.000000\n",
       "max     20000.000000       9999.000000   20000.000000  150000.000000"
      ]
     },
     "metadata": {},
     "output_type": "display_data"
    }
   ],
   "source": [
    "plots(table = cars,legend=True)"
   ]
  },
  {
   "cell_type": "markdown",
   "metadata": {},
   "source": [
    "- по описанию данных видим, что: \n",
    "    - в столбце с годом регистрации есть значения 1000 и 9999,\n",
    "    - в столбце с мощностью двигателя есть значения 20000 и 0,\n",
    "    - в столбце с стоимостью авто, минимальное значение 0\n"
   ]
  },
  {
   "cell_type": "code",
   "execution_count": 9,
   "metadata": {},
   "outputs": [],
   "source": [
    "cars = cars[(cars['Price']>=10)]\n",
    "cars = cars.query('1930 < RegistrationYear <= 2016')\n",
    "cars = cars.query('10<Power <= 400')"
   ]
  },
  {
   "cell_type": "code",
   "execution_count": 10,
   "metadata": {},
   "outputs": [
    {
     "data": {
      "image/png": "[encoded data removed]",
      "text/plain": [
       "<Figure size 1440x360 with 2 Axes>"
      ]
     },
     "metadata": {
      "needs_background": "light"
     },
     "output_type": "display_data"
    },
    {
     "data": {
      "image/png": "[encoded data removed]",
      "text/plain": [
       "<Figure size 1440x360 with 2 Axes>"
      ]
     },
     "metadata": {
      "needs_background": "light"
     },
     "output_type": "display_data"
    },
    {
     "data": {
      "image/png": "[encoded data removed]",
      "text/plain": [
       "<Figure size 1440x360 with 2 Axes>"
      ]
     },
     "metadata": {
      "needs_background": "light"
     },
     "output_type": "display_data"
    },
    {
     "data": {
      "image/png": "[encoded data removed]",
      "text/plain": [
       "<Figure size 1440x360 with 2 Axes>"
      ]
     },
     "metadata": {
      "needs_background": "light"
     },
     "output_type": "display_data"
    },
    {
     "data": {
      "text/html": [
       "<div>\n",
       "<style scoped>\n",
       "    .dataframe tbody tr th:only-of-type {\n",
       "        vertical-align: middle;\n",
       "    }\n",
       "\n",
       "    .dataframe tbody tr th {\n",
       "        vertical-align: top;\n",
       "    }\n",
       "\n",
       "    .dataframe thead th {\n",
       "        text-align: right;\n",
       "    }\n",
       "</style>\n",
       "<table border=\"1\" class=\"dataframe\">\n",
       "  <thead>\n",
       "    <tr style=\"text-align: right;\">\n",
       "      <th></th>\n",
       "      <th>Price</th>\n",
       "      <th>RegistrationYear</th>\n",
       "      <th>Power</th>\n",
       "      <th>Kilometer</th>\n",
       "    </tr>\n",
       "  </thead>\n",
       "  <tbody>\n",
       "    <tr>\n",
       "      <th>count</th>\n",
       "      <td>295335.000000</td>\n",
       "      <td>295335.000000</td>\n",
       "      <td>295335.000000</td>\n",
       "      <td>295335.000000</td>\n",
       "    </tr>\n",
       "    <tr>\n",
       "      <th>mean</th>\n",
       "      <td>4857.049926</td>\n",
       "      <td>2002.825788</td>\n",
       "      <td>120.269589</td>\n",
       "      <td>128310.562581</td>\n",
       "    </tr>\n",
       "    <tr>\n",
       "      <th>std</th>\n",
       "      <td>4602.140880</td>\n",
       "      <td>6.519987</td>\n",
       "      <td>52.569796</td>\n",
       "      <td>36715.212795</td>\n",
       "    </tr>\n",
       "    <tr>\n",
       "      <th>min</th>\n",
       "      <td>10.000000</td>\n",
       "      <td>1931.000000</td>\n",
       "      <td>11.000000</td>\n",
       "      <td>5000.000000</td>\n",
       "    </tr>\n",
       "    <tr>\n",
       "      <th>25%</th>\n",
       "      <td>1350.000000</td>\n",
       "      <td>1999.000000</td>\n",
       "      <td>75.000000</td>\n",
       "      <td>125000.000000</td>\n",
       "    </tr>\n",
       "    <tr>\n",
       "      <th>50%</th>\n",
       "      <td>3200.000000</td>\n",
       "      <td>2003.000000</td>\n",
       "      <td>110.000000</td>\n",
       "      <td>150000.000000</td>\n",
       "    </tr>\n",
       "    <tr>\n",
       "      <th>75%</th>\n",
       "      <td>6999.000000</td>\n",
       "      <td>2007.000000</td>\n",
       "      <td>150.000000</td>\n",
       "      <td>150000.000000</td>\n",
       "    </tr>\n",
       "    <tr>\n",
       "      <th>max</th>\n",
       "      <td>20000.000000</td>\n",
       "      <td>2016.000000</td>\n",
       "      <td>400.000000</td>\n",
       "      <td>150000.000000</td>\n",
       "    </tr>\n",
       "  </tbody>\n",
       "</table>\n",
       "</div>"
      ],
      "text/plain": [
       "               Price  RegistrationYear          Power      Kilometer\n",
       "count  295335.000000     295335.000000  295335.000000  295335.000000\n",
       "mean     4857.049926       2002.825788     120.269589  128310.562581\n",
       "std      4602.140880          6.519987      52.569796   36715.212795\n",
       "min        10.000000       1931.000000      11.000000    5000.000000\n",
       "25%      1350.000000       1999.000000      75.000000  125000.000000\n",
       "50%      3200.000000       2003.000000     110.000000  150000.000000\n",
       "75%      6999.000000       2007.000000     150.000000  150000.000000\n",
       "max     20000.000000       2016.000000     400.000000  150000.000000"
      ]
     },
     "metadata": {},
     "output_type": "display_data"
    }
   ],
   "source": [
    "plots(table = cars,legend=True)"
   ]
  },
  {
   "cell_type": "markdown",
   "metadata": {},
   "source": [
    "#### Вывод\n",
    "- обработали аномалии в столбцах с числовыми признакми,\n",
    "- получили более корреткный вид распределения и естественные значения,\n",
    "- строки с аномалиями удалены"
   ]
  },
  {
   "cell_type": "markdown",
   "metadata": {},
   "source": [
    "### Обработка пропусков"
   ]
  },
  {
   "cell_type": "code",
   "execution_count": 11,
   "metadata": {},
   "outputs": [
    {
     "data": {
      "text/html": [
       "<div>\n",
       "<style scoped>\n",
       "    .dataframe tbody tr th:only-of-type {\n",
       "        vertical-align: middle;\n",
       "    }\n",
       "\n",
       "    .dataframe tbody tr th {\n",
       "        vertical-align: top;\n",
       "    }\n",
       "\n",
       "    .dataframe thead th {\n",
       "        text-align: right;\n",
       "    }\n",
       "</style>\n",
       "<table border=\"1\" class=\"dataframe\">\n",
       "  <thead>\n",
       "    <tr style=\"text-align: right;\">\n",
       "      <th></th>\n",
       "      <th>empty_value</th>\n",
       "    </tr>\n",
       "  </thead>\n",
       "  <tbody>\n",
       "    <tr>\n",
       "      <th>Price</th>\n",
       "      <td>0</td>\n",
       "    </tr>\n",
       "    <tr>\n",
       "      <th>VehicleType</th>\n",
       "      <td>10886</td>\n",
       "    </tr>\n",
       "    <tr>\n",
       "      <th>RegistrationYear</th>\n",
       "      <td>0</td>\n",
       "    </tr>\n",
       "    <tr>\n",
       "      <th>Gearbox</th>\n",
       "      <td>5317</td>\n",
       "    </tr>\n",
       "    <tr>\n",
       "      <th>Power</th>\n",
       "      <td>0</td>\n",
       "    </tr>\n",
       "    <tr>\n",
       "      <th>Model</th>\n",
       "      <td>10948</td>\n",
       "    </tr>\n",
       "    <tr>\n",
       "      <th>Kilometer</th>\n",
       "      <td>0</td>\n",
       "    </tr>\n",
       "    <tr>\n",
       "      <th>FuelType</th>\n",
       "      <td>15387</td>\n",
       "    </tr>\n",
       "    <tr>\n",
       "      <th>Brand</th>\n",
       "      <td>0</td>\n",
       "    </tr>\n",
       "    <tr>\n",
       "      <th>Repaired</th>\n",
       "      <td>42603</td>\n",
       "    </tr>\n",
       "  </tbody>\n",
       "</table>\n",
       "</div>"
      ],
      "text/plain": [
       "                  empty_value\n",
       "Price                       0\n",
       "VehicleType             10886\n",
       "RegistrationYear            0\n",
       "Gearbox                  5317\n",
       "Power                       0\n",
       "Model                   10948\n",
       "Kilometer                   0\n",
       "FuelType                15387\n",
       "Brand                       0\n",
       "Repaired                42603"
      ]
     },
     "metadata": {},
     "output_type": "display_data"
    },
    {
     "data": {
      "text/html": [
       "<style  type=\"text/css\" >\n",
       "#T_146ae_row0_col0,#T_146ae_row2_col0,#T_146ae_row4_col0,#T_146ae_row6_col0,#T_146ae_row8_col0{\n",
       "            background-color:  #3b4cc0;\n",
       "            color:  #f1f1f1;\n",
       "        }#T_146ae_row1_col0,#T_146ae_row5_col0{\n",
       "            background-color:  #8fb1fe;\n",
       "            color:  #000000;\n",
       "        }#T_146ae_row3_col0{\n",
       "            background-color:  #6282ea;\n",
       "            color:  #000000;\n",
       "        }#T_146ae_row7_col0{\n",
       "            background-color:  #b3cdfb;\n",
       "            color:  #000000;\n",
       "        }#T_146ae_row9_col0{\n",
       "            background-color:  #b40426;\n",
       "            color:  #f1f1f1;\n",
       "        }</style><table id=\"T_146ae_\" ><thead>    <tr>        <th class=\"blank level0\" ></th>        <th class=\"col_heading level0 col0\" >0</th>    </tr></thead><tbody>\n",
       "                <tr>\n",
       "                        <th id=\"T_146ae_level0_row0\" class=\"row_heading level0 row0\" >Price</th>\n",
       "                        <td id=\"T_146ae_row0_col0\" class=\"data row0 col0\" >0.000000</td>\n",
       "            </tr>\n",
       "            <tr>\n",
       "                        <th id=\"T_146ae_level0_row1\" class=\"row_heading level0 row1\" >VehicleType</th>\n",
       "                        <td id=\"T_146ae_row1_col0\" class=\"data row1 col0\" >3.700000</td>\n",
       "            </tr>\n",
       "            <tr>\n",
       "                        <th id=\"T_146ae_level0_row2\" class=\"row_heading level0 row2\" >RegistrationYear</th>\n",
       "                        <td id=\"T_146ae_row2_col0\" class=\"data row2 col0\" >0.000000</td>\n",
       "            </tr>\n",
       "            <tr>\n",
       "                        <th id=\"T_146ae_level0_row3\" class=\"row_heading level0 row3\" >Gearbox</th>\n",
       "                        <td id=\"T_146ae_row3_col0\" class=\"data row3 col0\" >1.800000</td>\n",
       "            </tr>\n",
       "            <tr>\n",
       "                        <th id=\"T_146ae_level0_row4\" class=\"row_heading level0 row4\" >Power</th>\n",
       "                        <td id=\"T_146ae_row4_col0\" class=\"data row4 col0\" >0.000000</td>\n",
       "            </tr>\n",
       "            <tr>\n",
       "                        <th id=\"T_146ae_level0_row5\" class=\"row_heading level0 row5\" >Model</th>\n",
       "                        <td id=\"T_146ae_row5_col0\" class=\"data row5 col0\" >3.700000</td>\n",
       "            </tr>\n",
       "            <tr>\n",
       "                        <th id=\"T_146ae_level0_row6\" class=\"row_heading level0 row6\" >Kilometer</th>\n",
       "                        <td id=\"T_146ae_row6_col0\" class=\"data row6 col0\" >0.000000</td>\n",
       "            </tr>\n",
       "            <tr>\n",
       "                        <th id=\"T_146ae_level0_row7\" class=\"row_heading level0 row7\" >FuelType</th>\n",
       "                        <td id=\"T_146ae_row7_col0\" class=\"data row7 col0\" >5.200000</td>\n",
       "            </tr>\n",
       "            <tr>\n",
       "                        <th id=\"T_146ae_level0_row8\" class=\"row_heading level0 row8\" >Brand</th>\n",
       "                        <td id=\"T_146ae_row8_col0\" class=\"data row8 col0\" >0.000000</td>\n",
       "            </tr>\n",
       "            <tr>\n",
       "                        <th id=\"T_146ae_level0_row9\" class=\"row_heading level0 row9\" >Repaired</th>\n",
       "                        <td id=\"T_146ae_row9_col0\" class=\"data row9 col0\" >14.400000</td>\n",
       "            </tr>\n",
       "    </tbody></table>"
      ],
      "text/plain": [
       "<pandas.io.formats.style.Styler at 0x7f0534fc84c0>"
      ]
     },
     "metadata": {},
     "output_type": "display_data"
    }
   ],
   "source": [
    "# расчитаем число пропусков по стобцам и отфильтруем столбцы \n",
    "display(cars.isna().sum().to_frame(name=\"empty_value\"))\n",
    "# процентное содержание пропусков\n",
    "display(pd.DataFrame(round(cars.isna().mean()*100,1)).style.background_gradient('coolwarm'));"
   ]
  },
  {
   "cell_type": "markdown",
   "metadata": {},
   "source": [
    "- Так как процент пропусков слишком большой, выделим пропуски отдельной категорией\n",
    "- petrol и gasoline означают одно и тоже"
   ]
  },
  {
   "cell_type": "code",
   "execution_count": 12,
   "metadata": {},
   "outputs": [],
   "source": [
    "cars['Model'] = cars['Model'].fillna('other')\n",
    "cars['Gearbox'] = cars['Gearbox'].fillna('unknown')\n",
    "cars['FuelType'] = cars['FuelType'].fillna('other')\n",
    "cars['Repaired'] = cars['Repaired'].fillna('no')\n",
    "cars['VehicleType'] = cars['VehicleType'].fillna('other')\n",
    "cars['FuelType'] = cars['FuelType'].replace('petrol', 'gasoline')\n"
   ]
  },
  {
   "cell_type": "markdown",
   "metadata": {},
   "source": [
    "\n",
    "- предположим что пропуски в столбце Repaired означают отсутствие ремнотных работ, тоесть \"no\""
   ]
  },
  {
   "cell_type": "code",
   "execution_count": 13,
   "metadata": {},
   "outputs": [
    {
     "data": {
      "text/html": [
       "<div>\n",
       "<style scoped>\n",
       "    .dataframe tbody tr th:only-of-type {\n",
       "        vertical-align: middle;\n",
       "    }\n",
       "\n",
       "    .dataframe tbody tr th {\n",
       "        vertical-align: top;\n",
       "    }\n",
       "\n",
       "    .dataframe thead th {\n",
       "        text-align: right;\n",
       "    }\n",
       "</style>\n",
       "<table border=\"1\" class=\"dataframe\">\n",
       "  <thead>\n",
       "    <tr style=\"text-align: right;\">\n",
       "      <th></th>\n",
       "      <th>empty_value</th>\n",
       "    </tr>\n",
       "  </thead>\n",
       "  <tbody>\n",
       "    <tr>\n",
       "      <th>Price</th>\n",
       "      <td>0</td>\n",
       "    </tr>\n",
       "    <tr>\n",
       "      <th>VehicleType</th>\n",
       "      <td>0</td>\n",
       "    </tr>\n",
       "    <tr>\n",
       "      <th>RegistrationYear</th>\n",
       "      <td>0</td>\n",
       "    </tr>\n",
       "    <tr>\n",
       "      <th>Gearbox</th>\n",
       "      <td>0</td>\n",
       "    </tr>\n",
       "    <tr>\n",
       "      <th>Power</th>\n",
       "      <td>0</td>\n",
       "    </tr>\n",
       "    <tr>\n",
       "      <th>Model</th>\n",
       "      <td>0</td>\n",
       "    </tr>\n",
       "    <tr>\n",
       "      <th>Kilometer</th>\n",
       "      <td>0</td>\n",
       "    </tr>\n",
       "    <tr>\n",
       "      <th>FuelType</th>\n",
       "      <td>0</td>\n",
       "    </tr>\n",
       "    <tr>\n",
       "      <th>Brand</th>\n",
       "      <td>0</td>\n",
       "    </tr>\n",
       "    <tr>\n",
       "      <th>Repaired</th>\n",
       "      <td>0</td>\n",
       "    </tr>\n",
       "  </tbody>\n",
       "</table>\n",
       "</div>"
      ],
      "text/plain": [
       "                  empty_value\n",
       "Price                       0\n",
       "VehicleType                 0\n",
       "RegistrationYear            0\n",
       "Gearbox                     0\n",
       "Power                       0\n",
       "Model                       0\n",
       "Kilometer                   0\n",
       "FuelType                    0\n",
       "Brand                       0\n",
       "Repaired                    0"
      ]
     },
     "metadata": {},
     "output_type": "display_data"
    }
   ],
   "source": [
    "# расчитаем число пропусков по стобцам и отфильтруем столбцы \n",
    "display(cars.isna().sum().to_frame(name=\"empty_value\"));"
   ]
  },
  {
   "cell_type": "code",
   "execution_count": 14,
   "metadata": {},
   "outputs": [
    {
     "name": "stdout",
     "output_type": "stream",
     "text": [
      "<class 'pandas.core.frame.DataFrame'>\n",
      "RangeIndex: 295335 entries, 0 to 295334\n",
      "Data columns (total 10 columns):\n",
      " #   Column            Non-Null Count   Dtype \n",
      "---  ------            --------------   ----- \n",
      " 0   Price             295335 non-null  int64 \n",
      " 1   VehicleType       295335 non-null  object\n",
      " 2   RegistrationYear  295335 non-null  int64 \n",
      " 3   Gearbox           295335 non-null  object\n",
      " 4   Power             295335 non-null  int64 \n",
      " 5   Model             295335 non-null  object\n",
      " 6   Kilometer         295335 non-null  int64 \n",
      " 7   FuelType          295335 non-null  object\n",
      " 8   Brand             295335 non-null  object\n",
      " 9   Repaired          295335 non-null  object\n",
      "dtypes: int64(4), object(6)\n",
      "memory usage: 22.5+ MB\n"
     ]
    }
   ],
   "source": [
    "cars.reset_index(drop= True , inplace= True )\n",
    "cars.info()"
   ]
  },
  {
   "cell_type": "markdown",
   "metadata": {},
   "source": [
    "#### Вывод\n",
    "- после обработки данных, осталось 295335 строки и 10 столбцов\n",
    "- виды распределений стали болеекорректными и читаемыми"
   ]
  },
  {
   "cell_type": "code",
   "execution_count": 15,
   "metadata": {
    "scrolled": true
   },
   "outputs": [
    {
     "data": {
      "image/png": "[encoded data removed]",
      "text/plain": [
       "<Figure size 360x360 with 1 Axes>"
      ]
     },
     "metadata": {},
     "output_type": "display_data"
    },
    {
     "data": {
      "text/plain": [
       "sedan          82776\n",
       "small          69850\n",
       "wagon          59074\n",
       "bus            26163\n",
       "convertible    18726\n",
       "coupe          14534\n",
       "other          13318\n",
       "suv            10894\n",
       "Name: VehicleType, dtype: int64"
      ]
     },
     "metadata": {},
     "output_type": "display_data"
    },
    {
     "data": {
      "image/png": "[encoded data removed]",
      "text/plain": [
       "<Figure size 360x360 with 1 Axes>"
      ]
     },
     "metadata": {},
     "output_type": "display_data"
    },
    {
     "data": {
      "text/plain": [
       "manual     231597\n",
       "auto        58421\n",
       "unknown      5317\n",
       "Name: Gearbox, dtype: int64"
      ]
     },
     "metadata": {},
     "output_type": "display_data"
    },
    {
     "data": {
      "image/png": "[encoded data removed]",
      "text/plain": [
       "<Figure size 360x360 with 1 Axes>"
      ]
     },
     "metadata": {},
     "output_type": "display_data"
    },
    {
     "data": {
      "text/plain": [
       "other                 31250\n",
       "golf                  24657\n",
       "3er                   17330\n",
       "polo                  10663\n",
       "corsa                 10092\n",
       "                      ...  \n",
       "samara                    5\n",
       "serie_2                   5\n",
       "serie_3                   3\n",
       "rangerover                2\n",
       "range_rover_evoque        2\n",
       "Name: Model, Length: 249, dtype: int64"
      ]
     },
     "metadata": {},
     "output_type": "display_data"
    },
    {
     "data": {
      "image/png": "[encoded data removed]",
      "text/plain": [
       "<Figure size 360x360 with 1 Axes>"
      ]
     },
     "metadata": {},
     "output_type": "display_data"
    },
    {
     "data": {
      "text/plain": [
       "gasoline    274451\n",
       "other        15473\n",
       "lpg           4667\n",
       "cng            481\n",
       "hybrid         201\n",
       "electric        62\n",
       "Name: FuelType, dtype: int64"
      ]
     },
     "metadata": {},
     "output_type": "display_data"
    },
    {
     "data": {
      "image/png": "[encoded data removed]",
      "text/plain": [
       "<Figure size 360x360 with 1 Axes>"
      ]
     },
     "metadata": {},
     "output_type": "display_data"
    },
    {
     "data": {
      "text/plain": [
       "volkswagen        63928\n",
       "opel              32425\n",
       "bmw               32135\n",
       "mercedes_benz     27216\n",
       "audi              25466\n",
       "ford              20672\n",
       "renault           13910\n",
       "peugeot            9401\n",
       "fiat               7663\n",
       "seat               5838\n",
       "skoda              4946\n",
       "mazda              4716\n",
       "smart              4479\n",
       "citroen            4241\n",
       "nissan             4040\n",
       "toyota             4009\n",
       "hyundai            3104\n",
       "mini               2963\n",
       "volvo              2821\n",
       "mitsubishi         2491\n",
       "honda              2358\n",
       "kia                2086\n",
       "alfa_romeo         1971\n",
       "suzuki             1963\n",
       "sonstige_autos     1692\n",
       "chevrolet          1453\n",
       "chrysler           1159\n",
       "dacia               800\n",
       "subaru              643\n",
       "daihatsu            616\n",
       "porsche             581\n",
       "jeep                577\n",
       "saab                472\n",
       "land_rover          465\n",
       "jaguar              434\n",
       "daewoo              409\n",
       "lancia              380\n",
       "rover               364\n",
       "trabant             291\n",
       "lada                157\n",
       "Name: Brand, dtype: int64"
      ]
     },
     "metadata": {},
     "output_type": "display_data"
    },
    {
     "data": {
      "image/png": "[encoded data removed]",
      "text/plain": [
       "<Figure size 360x360 with 1 Axes>"
      ]
     },
     "metadata": {},
     "output_type": "display_data"
    },
    {
     "data": {
      "text/plain": [
       "no     266644\n",
       "yes     28691\n",
       "Name: Repaired, dtype: int64"
      ]
     },
     "metadata": {},
     "output_type": "display_data"
    }
   ],
   "source": [
    "pie_plots(cars)"
   ]
  },
  {
   "cell_type": "markdown",
   "metadata": {},
   "source": [
    "#### Категориальные признаки\n",
    "- самый популярный кузов - седан\n",
    "- больше всего авто на механической коробке\n",
    "- самая популярная модель - golf\n",
    "- наиболее популярный вид топлива - бензин\n",
    "- самый популярный брэнд - volkswagen\n",
    "- большинство автомобилей не ремонтировались"
   ]
  },
  {
   "cell_type": "code",
   "execution_count": 16,
   "metadata": {},
   "outputs": [
    {
     "data": {
      "text/html": [
       "<div>\n",
       "<style scoped>\n",
       "    .dataframe tbody tr th:only-of-type {\n",
       "        vertical-align: middle;\n",
       "    }\n",
       "\n",
       "    .dataframe tbody tr th {\n",
       "        vertical-align: top;\n",
       "    }\n",
       "\n",
       "    .dataframe thead th {\n",
       "        text-align: right;\n",
       "    }\n",
       "</style>\n",
       "<table border=\"1\" class=\"dataframe\">\n",
       "  <thead>\n",
       "    <tr style=\"text-align: right;\">\n",
       "      <th></th>\n",
       "      <th>Price</th>\n",
       "      <th>VehicleType</th>\n",
       "      <th>RegistrationYear</th>\n",
       "      <th>Gearbox</th>\n",
       "      <th>Power</th>\n",
       "      <th>Model</th>\n",
       "      <th>Kilometer</th>\n",
       "      <th>FuelType</th>\n",
       "      <th>Brand</th>\n",
       "      <th>Repaired</th>\n",
       "    </tr>\n",
       "  </thead>\n",
       "  <tbody>\n",
       "    <tr>\n",
       "      <th>0</th>\n",
       "      <td>18300</td>\n",
       "      <td>coupe</td>\n",
       "      <td>2011</td>\n",
       "      <td>manual</td>\n",
       "      <td>190</td>\n",
       "      <td>other</td>\n",
       "      <td>125000</td>\n",
       "      <td>gasoline</td>\n",
       "      <td>audi</td>\n",
       "      <td>yes</td>\n",
       "    </tr>\n",
       "    <tr>\n",
       "      <th>1</th>\n",
       "      <td>9800</td>\n",
       "      <td>suv</td>\n",
       "      <td>2004</td>\n",
       "      <td>auto</td>\n",
       "      <td>163</td>\n",
       "      <td>grand</td>\n",
       "      <td>125000</td>\n",
       "      <td>gasoline</td>\n",
       "      <td>jeep</td>\n",
       "      <td>no</td>\n",
       "    </tr>\n",
       "    <tr>\n",
       "      <th>2</th>\n",
       "      <td>1500</td>\n",
       "      <td>small</td>\n",
       "      <td>2001</td>\n",
       "      <td>manual</td>\n",
       "      <td>75</td>\n",
       "      <td>golf</td>\n",
       "      <td>150000</td>\n",
       "      <td>gasoline</td>\n",
       "      <td>volkswagen</td>\n",
       "      <td>no</td>\n",
       "    </tr>\n",
       "    <tr>\n",
       "      <th>3</th>\n",
       "      <td>3600</td>\n",
       "      <td>small</td>\n",
       "      <td>2008</td>\n",
       "      <td>manual</td>\n",
       "      <td>69</td>\n",
       "      <td>fabia</td>\n",
       "      <td>90000</td>\n",
       "      <td>gasoline</td>\n",
       "      <td>skoda</td>\n",
       "      <td>no</td>\n",
       "    </tr>\n",
       "    <tr>\n",
       "      <th>4</th>\n",
       "      <td>650</td>\n",
       "      <td>sedan</td>\n",
       "      <td>1995</td>\n",
       "      <td>manual</td>\n",
       "      <td>102</td>\n",
       "      <td>3er</td>\n",
       "      <td>150000</td>\n",
       "      <td>gasoline</td>\n",
       "      <td>bmw</td>\n",
       "      <td>yes</td>\n",
       "    </tr>\n",
       "  </tbody>\n",
       "</table>\n",
       "</div>"
      ],
      "text/plain": [
       "   Price VehicleType  RegistrationYear Gearbox  Power  Model  Kilometer  \\\n",
       "0  18300       coupe              2011  manual    190  other     125000   \n",
       "1   9800         suv              2004    auto    163  grand     125000   \n",
       "2   1500       small              2001  manual     75   golf     150000   \n",
       "3   3600       small              2008  manual     69  fabia      90000   \n",
       "4    650       sedan              1995  manual    102    3er     150000   \n",
       "\n",
       "   FuelType       Brand Repaired  \n",
       "0  gasoline        audi      yes  \n",
       "1  gasoline        jeep       no  \n",
       "2  gasoline  volkswagen       no  \n",
       "3  gasoline       skoda       no  \n",
       "4  gasoline         bmw      yes  "
      ]
     },
     "execution_count": 16,
     "metadata": {},
     "output_type": "execute_result"
    }
   ],
   "source": [
    "cars.head(5)"
   ]
  },
  {
   "cell_type": "code",
   "execution_count": 17,
   "metadata": {},
   "outputs": [
    {
     "data": {
      "image/png": "[encoded data removed]",
      "text/plain": [
       "<Figure size 1512x360 with 3 Axes>"
      ]
     },
     "metadata": {
      "needs_background": "light"
     },
     "output_type": "display_data"
    },
    {
     "data": {
      "image/png": "[encoded data removed]",
      "text/plain": [
       "<Figure size 1512x360 with 3 Axes>"
      ]
     },
     "metadata": {
      "needs_background": "light"
     },
     "output_type": "display_data"
    },
    {
     "data": {
      "image/png": "[encoded data removed]",
      "text/plain": [
       "<Figure size 1512x360 with 3 Axes>"
      ]
     },
     "metadata": {
      "needs_background": "light"
     },
     "output_type": "display_data"
    },
    {
     "data": {
      "image/png": "[encoded data removed]",
      "text/plain": [
       "<Figure size 1512x360 with 3 Axes>"
      ]
     },
     "metadata": {
      "needs_background": "light"
     },
     "output_type": "display_data"
    },
    {
     "data": {
      "text/html": [
       "<div>\n",
       "<style scoped>\n",
       "    .dataframe tbody tr th:only-of-type {\n",
       "        vertical-align: middle;\n",
       "    }\n",
       "\n",
       "    .dataframe tbody tr th {\n",
       "        vertical-align: top;\n",
       "    }\n",
       "\n",
       "    .dataframe thead th {\n",
       "        text-align: right;\n",
       "    }\n",
       "</style>\n",
       "<table border=\"1\" class=\"dataframe\">\n",
       "  <thead>\n",
       "    <tr style=\"text-align: right;\">\n",
       "      <th></th>\n",
       "      <th>Price</th>\n",
       "      <th>RegistrationYear</th>\n",
       "      <th>Power</th>\n",
       "      <th>Kilometer</th>\n",
       "    </tr>\n",
       "  </thead>\n",
       "  <tbody>\n",
       "    <tr>\n",
       "      <th>count</th>\n",
       "      <td>295335.000000</td>\n",
       "      <td>295335.000000</td>\n",
       "      <td>295335.000000</td>\n",
       "      <td>295335.000000</td>\n",
       "    </tr>\n",
       "    <tr>\n",
       "      <th>mean</th>\n",
       "      <td>4857.049926</td>\n",
       "      <td>2002.825788</td>\n",
       "      <td>120.269589</td>\n",
       "      <td>128310.562581</td>\n",
       "    </tr>\n",
       "    <tr>\n",
       "      <th>std</th>\n",
       "      <td>4602.140880</td>\n",
       "      <td>6.519987</td>\n",
       "      <td>52.569796</td>\n",
       "      <td>36715.212795</td>\n",
       "    </tr>\n",
       "    <tr>\n",
       "      <th>min</th>\n",
       "      <td>10.000000</td>\n",
       "      <td>1931.000000</td>\n",
       "      <td>11.000000</td>\n",
       "      <td>5000.000000</td>\n",
       "    </tr>\n",
       "    <tr>\n",
       "      <th>25%</th>\n",
       "      <td>1350.000000</td>\n",
       "      <td>1999.000000</td>\n",
       "      <td>75.000000</td>\n",
       "      <td>125000.000000</td>\n",
       "    </tr>\n",
       "    <tr>\n",
       "      <th>50%</th>\n",
       "      <td>3200.000000</td>\n",
       "      <td>2003.000000</td>\n",
       "      <td>110.000000</td>\n",
       "      <td>150000.000000</td>\n",
       "    </tr>\n",
       "    <tr>\n",
       "      <th>75%</th>\n",
       "      <td>6999.000000</td>\n",
       "      <td>2007.000000</td>\n",
       "      <td>150.000000</td>\n",
       "      <td>150000.000000</td>\n",
       "    </tr>\n",
       "    <tr>\n",
       "      <th>max</th>\n",
       "      <td>20000.000000</td>\n",
       "      <td>2016.000000</td>\n",
       "      <td>400.000000</td>\n",
       "      <td>150000.000000</td>\n",
       "    </tr>\n",
       "  </tbody>\n",
       "</table>\n",
       "</div>"
      ],
      "text/plain": [
       "               Price  RegistrationYear          Power      Kilometer\n",
       "count  295335.000000     295335.000000  295335.000000  295335.000000\n",
       "mean     4857.049926       2002.825788     120.269589  128310.562581\n",
       "std      4602.140880          6.519987      52.569796   36715.212795\n",
       "min        10.000000       1931.000000      11.000000    5000.000000\n",
       "25%      1350.000000       1999.000000      75.000000  125000.000000\n",
       "50%      3200.000000       2003.000000     110.000000  150000.000000\n",
       "75%      6999.000000       2007.000000     150.000000  150000.000000\n",
       "max     20000.000000       2016.000000     400.000000  150000.000000"
      ]
     },
     "metadata": {},
     "output_type": "display_data"
    }
   ],
   "source": [
    "plots_hist(cars,filters = 'Gearbox', filters1='Repaired',filters2= 'VehicleType', legend = True )"
   ]
  },
  {
   "cell_type": "markdown",
   "metadata": {},
   "source": [
    "### Вывод \n",
    "    посмотрели на данные по группам:\n",
    "        - на данных видно, что автомобили с автоматической коробкой стоят дороже, \n",
    "        - ремонтированные авто значительно дешевле\n",
    "        - больше всего дешевых авто в кузове small\n",
    "        - преобразовал неявные дубликаты столбце с типом топлива"
   ]
  },
  {
   "cell_type": "markdown",
   "metadata": {},
   "source": [
    "### Корреляционный анализ"
   ]
  },
  {
   "cell_type": "code",
   "execution_count": 18,
   "metadata": {},
   "outputs": [
    {
     "name": "stdout",
     "output_type": "stream",
     "text": [
      "interval columns not set, guessing: ['Price', 'RegistrationYear', 'Power', 'Kilometer']\n"
     ]
    },
    {
     "data": {
      "text/html": [
       "<style  type=\"text/css\" >\n",
       "#T_37695_row0_col0,#T_37695_row1_col1,#T_37695_row2_col2,#T_37695_row3_col3,#T_37695_row4_col4,#T_37695_row5_col5,#T_37695_row5_col8,#T_37695_row6_col6,#T_37695_row7_col7,#T_37695_row8_col5,#T_37695_row8_col8,#T_37695_row9_col9{\n",
       "            background-color:  #b40426;\n",
       "            color:  #f1f1f1;\n",
       "        }#T_37695_row0_col1{\n",
       "            background-color:  #82a6fb;\n",
       "            color:  #000000;\n",
       "        }#T_37695_row0_col2{\n",
       "            background-color:  #efcebd;\n",
       "            color:  #000000;\n",
       "        }#T_37695_row0_col3{\n",
       "            background-color:  #98b9ff;\n",
       "            color:  #000000;\n",
       "        }#T_37695_row0_col4{\n",
       "            background-color:  #d6dce4;\n",
       "            color:  #000000;\n",
       "        }#T_37695_row0_col5,#T_37695_row8_col3{\n",
       "            background-color:  #e0dbd8;\n",
       "            color:  #000000;\n",
       "        }#T_37695_row0_col6{\n",
       "            background-color:  #96b7ff;\n",
       "            color:  #000000;\n",
       "        }#T_37695_row0_col7,#T_37695_row1_col9{\n",
       "            background-color:  #4c66d6;\n",
       "            color:  #000000;\n",
       "        }#T_37695_row0_col8{\n",
       "            background-color:  #a1c0ff;\n",
       "            color:  #000000;\n",
       "        }#T_37695_row0_col9{\n",
       "            background-color:  #9bbcff;\n",
       "            color:  #000000;\n",
       "        }#T_37695_row1_col0{\n",
       "            background-color:  #7699f6;\n",
       "            color:  #000000;\n",
       "        }#T_37695_row1_col2{\n",
       "            background-color:  #6687ed;\n",
       "            color:  #000000;\n",
       "        }#T_37695_row1_col3{\n",
       "            background-color:  #92b4fe;\n",
       "            color:  #000000;\n",
       "        }#T_37695_row1_col4{\n",
       "            background-color:  #d4dbe6;\n",
       "            color:  #000000;\n",
       "        }#T_37695_row1_col5{\n",
       "            background-color:  #d75445;\n",
       "            color:  #000000;\n",
       "        }#T_37695_row1_col6,#T_37695_row2_col1,#T_37695_row7_col8{\n",
       "            background-color:  #6384eb;\n",
       "            color:  #000000;\n",
       "        }#T_37695_row1_col7,#T_37695_row3_col0{\n",
       "            background-color:  #7b9ff9;\n",
       "            color:  #000000;\n",
       "        }#T_37695_row1_col8{\n",
       "            background-color:  #f1ccb8;\n",
       "            color:  #000000;\n",
       "        }#T_37695_row2_col0{\n",
       "            background-color:  #ebd3c6;\n",
       "            color:  #000000;\n",
       "        }#T_37695_row2_col3,#T_37695_row9_col2{\n",
       "            background-color:  #516ddb;\n",
       "            color:  #000000;\n",
       "        }#T_37695_row2_col4,#T_37695_row3_col1,#T_37695_row4_col2,#T_37695_row7_col3{\n",
       "            background-color:  #81a4fb;\n",
       "            color:  #000000;\n",
       "        }#T_37695_row2_col5,#T_37695_row5_col0{\n",
       "            background-color:  #e1dad6;\n",
       "            color:  #000000;\n",
       "        }#T_37695_row2_col6,#T_37695_row2_col8{\n",
       "            background-color:  #a7c5fe;\n",
       "            color:  #000000;\n",
       "        }#T_37695_row2_col7{\n",
       "            background-color:  #3c4ec2;\n",
       "            color:  #f1f1f1;\n",
       "        }#T_37695_row2_col9{\n",
       "            background-color:  #6282ea;\n",
       "            color:  #000000;\n",
       "        }#T_37695_row3_col2{\n",
       "            background-color:  #4055c8;\n",
       "            color:  #f1f1f1;\n",
       "        }#T_37695_row3_col4{\n",
       "            background-color:  #ccd9ed;\n",
       "            color:  #000000;\n",
       "        }#T_37695_row3_col5,#T_37695_row8_col4{\n",
       "            background-color:  #eed0c0;\n",
       "            color:  #000000;\n",
       "        }#T_37695_row3_col6,#T_37695_row3_col9,#T_37695_row7_col0,#T_37695_row7_col2,#T_37695_row9_col1,#T_37695_row9_col3,#T_37695_row9_col4,#T_37695_row9_col5,#T_37695_row9_col7,#T_37695_row9_col8{\n",
       "            background-color:  #3b4cc0;\n",
       "            color:  #f1f1f1;\n",
       "        }#T_37695_row3_col7{\n",
       "            background-color:  #7396f5;\n",
       "            color:  #000000;\n",
       "        }#T_37695_row3_col8{\n",
       "            background-color:  #d7dce3;\n",
       "            color:  #000000;\n",
       "        }#T_37695_row4_col0{\n",
       "            background-color:  #cedaeb;\n",
       "            color:  #000000;\n",
       "        }#T_37695_row4_col1{\n",
       "            background-color:  #d3dbe7;\n",
       "            color:  #000000;\n",
       "        }#T_37695_row4_col3{\n",
       "            background-color:  #d5dbe5;\n",
       "            color:  #000000;\n",
       "        }#T_37695_row4_col5{\n",
       "            background-color:  #f29274;\n",
       "            color:  #000000;\n",
       "        }#T_37695_row4_col6{\n",
       "            background-color:  #4e68d8;\n",
       "            color:  #000000;\n",
       "        }#T_37695_row4_col7,#T_37695_row4_col9{\n",
       "            background-color:  #4a63d3;\n",
       "            color:  #f1f1f1;\n",
       "        }#T_37695_row4_col8{\n",
       "            background-color:  #edd2c3;\n",
       "            color:  #000000;\n",
       "        }#T_37695_row5_col1{\n",
       "            background-color:  #d55042;\n",
       "            color:  #000000;\n",
       "        }#T_37695_row5_col2{\n",
       "            background-color:  #e9d5cb;\n",
       "            color:  #000000;\n",
       "        }#T_37695_row5_col3{\n",
       "            background-color:  #f4c5ad;\n",
       "            color:  #000000;\n",
       "        }#T_37695_row5_col4{\n",
       "            background-color:  #f08b6e;\n",
       "            color:  #000000;\n",
       "        }#T_37695_row5_col6{\n",
       "            background-color:  #c3d5f4;\n",
       "            color:  #000000;\n",
       "        }#T_37695_row5_col7{\n",
       "            background-color:  #9ebeff;\n",
       "            color:  #000000;\n",
       "        }#T_37695_row5_col9,#T_37695_row6_col1{\n",
       "            background-color:  #5e7de7;\n",
       "            color:  #000000;\n",
       "        }#T_37695_row6_col0,#T_37695_row8_col6{\n",
       "            background-color:  #85a8fc;\n",
       "            color:  #000000;\n",
       "        }#T_37695_row6_col2{\n",
       "            background-color:  #a6c4fe;\n",
       "            color:  #000000;\n",
       "        }#T_37695_row6_col3,#T_37695_row7_col9{\n",
       "            background-color:  #485fd1;\n",
       "            color:  #f1f1f1;\n",
       "        }#T_37695_row6_col4{\n",
       "            background-color:  #4b64d5;\n",
       "            color:  #f1f1f1;\n",
       "        }#T_37695_row6_col5{\n",
       "            background-color:  #b3cdfb;\n",
       "            color:  #000000;\n",
       "        }#T_37695_row6_col7,#T_37695_row7_col6,#T_37695_row9_col6{\n",
       "            background-color:  #445acc;\n",
       "            color:  #f1f1f1;\n",
       "        }#T_37695_row6_col8,#T_37695_row9_col0{\n",
       "            background-color:  #7ea1fa;\n",
       "            color:  #000000;\n",
       "        }#T_37695_row6_col9{\n",
       "            background-color:  #536edd;\n",
       "            color:  #000000;\n",
       "        }#T_37695_row7_col1{\n",
       "            background-color:  #779af7;\n",
       "            color:  #000000;\n",
       "        }#T_37695_row7_col4{\n",
       "            background-color:  #4961d2;\n",
       "            color:  #f1f1f1;\n",
       "        }#T_37695_row7_col5{\n",
       "            background-color:  #8badfd;\n",
       "            color:  #000000;\n",
       "        }#T_37695_row8_col0{\n",
       "            background-color:  #97b8ff;\n",
       "            color:  #000000;\n",
       "        }#T_37695_row8_col1{\n",
       "            background-color:  #f2cbb7;\n",
       "            color:  #000000;\n",
       "        }#T_37695_row8_col2{\n",
       "            background-color:  #abc8fd;\n",
       "            color:  #000000;\n",
       "        }#T_37695_row8_col7{\n",
       "            background-color:  #6a8bef;\n",
       "            color:  #000000;\n",
       "        }#T_37695_row8_col9{\n",
       "            background-color:  #4f69d9;\n",
       "            color:  #000000;\n",
       "        }</style><table id=\"T_37695_\" ><thead>    <tr>        <th class=\"blank level0\" ></th>        <th class=\"col_heading level0 col0\" >Price</th>        <th class=\"col_heading level0 col1\" >VehicleType</th>        <th class=\"col_heading level0 col2\" >RegistrationYear</th>        <th class=\"col_heading level0 col3\" >Gearbox</th>        <th class=\"col_heading level0 col4\" >Power</th>        <th class=\"col_heading level0 col5\" >Model</th>        <th class=\"col_heading level0 col6\" >Kilometer</th>        <th class=\"col_heading level0 col7\" >FuelType</th>        <th class=\"col_heading level0 col8\" >Brand</th>        <th class=\"col_heading level0 col9\" >Repaired</th>    </tr></thead><tbody>\n",
       "                <tr>\n",
       "                        <th id=\"T_37695_level0_row0\" class=\"row_heading level0 row0\" >Price</th>\n",
       "                        <td id=\"T_37695_row0_col0\" class=\"data row0 col0\" >1.000000</td>\n",
       "                        <td id=\"T_37695_row0_col1\" class=\"data row0 col1\" >0.277822</td>\n",
       "                        <td id=\"T_37695_row0_col2\" class=\"data row0 col2\" >0.609253</td>\n",
       "                        <td id=\"T_37695_row0_col3\" class=\"data row0 col3\" >0.290906</td>\n",
       "                        <td id=\"T_37695_row0_col4\" class=\"data row0 col4\" >0.508556</td>\n",
       "                        <td id=\"T_37695_row0_col5\" class=\"data row0 col5\" >0.573618</td>\n",
       "                        <td id=\"T_37695_row0_col6\" class=\"data row0 col6\" >0.315611</td>\n",
       "                        <td id=\"T_37695_row0_col7\" class=\"data row0 col7\" >0.113420</td>\n",
       "                        <td id=\"T_37695_row0_col8\" class=\"data row0 col8\" >0.362348</td>\n",
       "                        <td id=\"T_37695_row0_col9\" class=\"data row0 col9\" >0.298739</td>\n",
       "            </tr>\n",
       "            <tr>\n",
       "                        <th id=\"T_37695_level0_row1\" class=\"row_heading level0 row1\" >VehicleType</th>\n",
       "                        <td id=\"T_37695_row1_col0\" class=\"data row1 col0\" >0.277822</td>\n",
       "                        <td id=\"T_37695_row1_col1\" class=\"data row1 col1\" >1.000000</td>\n",
       "                        <td id=\"T_37695_row1_col2\" class=\"data row1 col2\" >0.193827</td>\n",
       "                        <td id=\"T_37695_row1_col3\" class=\"data row1 col3\" >0.271583</td>\n",
       "                        <td id=\"T_37695_row1_col4\" class=\"data row1 col4\" >0.499797</td>\n",
       "                        <td id=\"T_37695_row1_col5\" class=\"data row1 col5\" >0.909892</td>\n",
       "                        <td id=\"T_37695_row1_col6\" class=\"data row1 col6\" >0.178425</td>\n",
       "                        <td id=\"T_37695_row1_col7\" class=\"data row1 col7\" >0.247860</td>\n",
       "                        <td id=\"T_37695_row1_col8\" class=\"data row1 col8\" >0.628899</td>\n",
       "                        <td id=\"T_37695_row1_col9\" class=\"data row1 col9\" >0.071846</td>\n",
       "            </tr>\n",
       "            <tr>\n",
       "                        <th id=\"T_37695_level0_row2\" class=\"row_heading level0 row2\" >RegistrationYear</th>\n",
       "                        <td id=\"T_37695_row2_col0\" class=\"data row2 col0\" >0.609253</td>\n",
       "                        <td id=\"T_37695_row2_col1\" class=\"data row2 col1\" >0.193827</td>\n",
       "                        <td id=\"T_37695_row2_col2\" class=\"data row2 col2\" >1.000000</td>\n",
       "                        <td id=\"T_37695_row2_col3\" class=\"data row2 col3\" >0.085402</td>\n",
       "                        <td id=\"T_37695_row2_col4\" class=\"data row2 col4\" >0.267719</td>\n",
       "                        <td id=\"T_37695_row2_col5\" class=\"data row2 col5\" >0.576969</td>\n",
       "                        <td id=\"T_37695_row2_col6\" class=\"data row2 col6\" >0.365557</td>\n",
       "                        <td id=\"T_37695_row2_col7\" class=\"data row2 col7\" >0.063495</td>\n",
       "                        <td id=\"T_37695_row2_col8\" class=\"data row2 col8\" >0.380743</td>\n",
       "                        <td id=\"T_37695_row2_col9\" class=\"data row2 col9\" >0.135247</td>\n",
       "            </tr>\n",
       "            <tr>\n",
       "                        <th id=\"T_37695_level0_row3\" class=\"row_heading level0 row3\" >Gearbox</th>\n",
       "                        <td id=\"T_37695_row3_col0\" class=\"data row3 col0\" >0.290906</td>\n",
       "                        <td id=\"T_37695_row3_col1\" class=\"data row3 col1\" >0.271583</td>\n",
       "                        <td id=\"T_37695_row3_col2\" class=\"data row3 col2\" >0.085402</td>\n",
       "                        <td id=\"T_37695_row3_col3\" class=\"data row3 col3\" >1.000000</td>\n",
       "                        <td id=\"T_37695_row3_col4\" class=\"data row3 col4\" >0.476536</td>\n",
       "                        <td id=\"T_37695_row3_col5\" class=\"data row3 col5\" >0.628616</td>\n",
       "                        <td id=\"T_37695_row3_col6\" class=\"data row3 col6\" >0.056796</td>\n",
       "                        <td id=\"T_37695_row3_col7\" class=\"data row3 col7\" >0.223845</td>\n",
       "                        <td id=\"T_37695_row3_col8\" class=\"data row3 col8\" >0.520803</td>\n",
       "                        <td id=\"T_37695_row3_col9\" class=\"data row3 col9\" >0.011252</td>\n",
       "            </tr>\n",
       "            <tr>\n",
       "                        <th id=\"T_37695_level0_row4\" class=\"row_heading level0 row4\" >Power</th>\n",
       "                        <td id=\"T_37695_row4_col0\" class=\"data row4 col0\" >0.508556</td>\n",
       "                        <td id=\"T_37695_row4_col1\" class=\"data row4 col1\" >0.499797</td>\n",
       "                        <td id=\"T_37695_row4_col2\" class=\"data row4 col2\" >0.267719</td>\n",
       "                        <td id=\"T_37695_row4_col3\" class=\"data row4 col3\" >0.476536</td>\n",
       "                        <td id=\"T_37695_row4_col4\" class=\"data row4 col4\" >1.000000</td>\n",
       "                        <td id=\"T_37695_row4_col5\" class=\"data row4 col5\" >0.797248</td>\n",
       "                        <td id=\"T_37695_row4_col6\" class=\"data row4 col6\" >0.116637</td>\n",
       "                        <td id=\"T_37695_row4_col7\" class=\"data row4 col7\" >0.107324</td>\n",
       "                        <td id=\"T_37695_row4_col8\" class=\"data row4 col8\" >0.601576</td>\n",
       "                        <td id=\"T_37695_row4_col9\" class=\"data row4 col9\" >0.063203</td>\n",
       "            </tr>\n",
       "            <tr>\n",
       "                        <th id=\"T_37695_level0_row5\" class=\"row_heading level0 row5\" >Model</th>\n",
       "                        <td id=\"T_37695_row5_col0\" class=\"data row5 col0\" >0.573618</td>\n",
       "                        <td id=\"T_37695_row5_col1\" class=\"data row5 col1\" >0.909892</td>\n",
       "                        <td id=\"T_37695_row5_col2\" class=\"data row5 col2\" >0.576969</td>\n",
       "                        <td id=\"T_37695_row5_col3\" class=\"data row5 col3\" >0.628616</td>\n",
       "                        <td id=\"T_37695_row5_col4\" class=\"data row5 col4\" >0.797248</td>\n",
       "                        <td id=\"T_37695_row5_col5\" class=\"data row5 col5\" >1.000000</td>\n",
       "                        <td id=\"T_37695_row5_col6\" class=\"data row5 col6\" >0.441470</td>\n",
       "                        <td id=\"T_37695_row5_col7\" class=\"data row5 col7\" >0.337525</td>\n",
       "                        <td id=\"T_37695_row5_col8\" class=\"data row5 col8\" >0.997901</td>\n",
       "                        <td id=\"T_37695_row5_col9\" class=\"data row5 col9\" >0.124251</td>\n",
       "            </tr>\n",
       "            <tr>\n",
       "                        <th id=\"T_37695_level0_row6\" class=\"row_heading level0 row6\" >Kilometer</th>\n",
       "                        <td id=\"T_37695_row6_col0\" class=\"data row6 col0\" >0.315611</td>\n",
       "                        <td id=\"T_37695_row6_col1\" class=\"data row6 col1\" >0.178425</td>\n",
       "                        <td id=\"T_37695_row6_col2\" class=\"data row6 col2\" >0.365557</td>\n",
       "                        <td id=\"T_37695_row6_col3\" class=\"data row6 col3\" >0.056796</td>\n",
       "                        <td id=\"T_37695_row6_col4\" class=\"data row6 col4\" >0.116637</td>\n",
       "                        <td id=\"T_37695_row6_col5\" class=\"data row6 col5\" >0.441470</td>\n",
       "                        <td id=\"T_37695_row6_col6\" class=\"data row6 col6\" >1.000000</td>\n",
       "                        <td id=\"T_37695_row6_col7\" class=\"data row6 col7\" >0.089387</td>\n",
       "                        <td id=\"T_37695_row6_col8\" class=\"data row6 col8\" >0.273331</td>\n",
       "                        <td id=\"T_37695_row6_col9\" class=\"data row6 col9\" >0.088685</td>\n",
       "            </tr>\n",
       "            <tr>\n",
       "                        <th id=\"T_37695_level0_row7\" class=\"row_heading level0 row7\" >FuelType</th>\n",
       "                        <td id=\"T_37695_row7_col0\" class=\"data row7 col0\" >0.113420</td>\n",
       "                        <td id=\"T_37695_row7_col1\" class=\"data row7 col1\" >0.247860</td>\n",
       "                        <td id=\"T_37695_row7_col2\" class=\"data row7 col2\" >0.063495</td>\n",
       "                        <td id=\"T_37695_row7_col3\" class=\"data row7 col3\" >0.223845</td>\n",
       "                        <td id=\"T_37695_row7_col4\" class=\"data row7 col4\" >0.107324</td>\n",
       "                        <td id=\"T_37695_row7_col5\" class=\"data row7 col5\" >0.337525</td>\n",
       "                        <td id=\"T_37695_row7_col6\" class=\"data row7 col6\" >0.089387</td>\n",
       "                        <td id=\"T_37695_row7_col7\" class=\"data row7 col7\" >1.000000</td>\n",
       "                        <td id=\"T_37695_row7_col8\" class=\"data row7 col8\" >0.199413</td>\n",
       "                        <td id=\"T_37695_row7_col9\" class=\"data row7 col9\" >0.056605</td>\n",
       "            </tr>\n",
       "            <tr>\n",
       "                        <th id=\"T_37695_level0_row8\" class=\"row_heading level0 row8\" >Brand</th>\n",
       "                        <td id=\"T_37695_row8_col0\" class=\"data row8 col0\" >0.362348</td>\n",
       "                        <td id=\"T_37695_row8_col1\" class=\"data row8 col1\" >0.628899</td>\n",
       "                        <td id=\"T_37695_row8_col2\" class=\"data row8 col2\" >0.380743</td>\n",
       "                        <td id=\"T_37695_row8_col3\" class=\"data row8 col3\" >0.520803</td>\n",
       "                        <td id=\"T_37695_row8_col4\" class=\"data row8 col4\" >0.601576</td>\n",
       "                        <td id=\"T_37695_row8_col5\" class=\"data row8 col5\" >0.997901</td>\n",
       "                        <td id=\"T_37695_row8_col6\" class=\"data row8 col6\" >0.273331</td>\n",
       "                        <td id=\"T_37695_row8_col7\" class=\"data row8 col7\" >0.199413</td>\n",
       "                        <td id=\"T_37695_row8_col8\" class=\"data row8 col8\" >1.000000</td>\n",
       "                        <td id=\"T_37695_row8_col9\" class=\"data row8 col9\" >0.080365</td>\n",
       "            </tr>\n",
       "            <tr>\n",
       "                        <th id=\"T_37695_level0_row9\" class=\"row_heading level0 row9\" >Repaired</th>\n",
       "                        <td id=\"T_37695_row9_col0\" class=\"data row9 col0\" >0.298739</td>\n",
       "                        <td id=\"T_37695_row9_col1\" class=\"data row9 col1\" >0.071846</td>\n",
       "                        <td id=\"T_37695_row9_col2\" class=\"data row9 col2\" >0.135247</td>\n",
       "                        <td id=\"T_37695_row9_col3\" class=\"data row9 col3\" >0.011252</td>\n",
       "                        <td id=\"T_37695_row9_col4\" class=\"data row9 col4\" >0.063203</td>\n",
       "                        <td id=\"T_37695_row9_col5\" class=\"data row9 col5\" >0.124251</td>\n",
       "                        <td id=\"T_37695_row9_col6\" class=\"data row9 col6\" >0.088685</td>\n",
       "                        <td id=\"T_37695_row9_col7\" class=\"data row9 col7\" >0.056605</td>\n",
       "                        <td id=\"T_37695_row9_col8\" class=\"data row9 col8\" >0.080365</td>\n",
       "                        <td id=\"T_37695_row9_col9\" class=\"data row9 col9\" >1.000000</td>\n",
       "            </tr>\n",
       "    </tbody></table>"
      ],
      "text/plain": [
       "<pandas.io.formats.style.Styler at 0x7f054a16f070>"
      ]
     },
     "metadata": {},
     "output_type": "display_data"
    }
   ],
   "source": [
    "display(cars.phik_matrix().style.background_gradient(cmap ='coolwarm'));"
   ]
  },
  {
   "cell_type": "markdown",
   "metadata": {},
   "source": [
    "#### Вывод ####\n",
    "- мультиколлениарности c целевым признаком Price не обнаружено\n",
    "- связь между данными прослеживается, можно приступать к обучению моделей"
   ]
  },
  {
   "cell_type": "markdown",
   "metadata": {},
   "source": [
    "## Обучение моделей"
   ]
  },
  {
   "cell_type": "code",
   "execution_count": 19,
   "metadata": {},
   "outputs": [],
   "source": [
    "def model_stats(pipeline, parameters, features_train, target_train, cv):\n",
    "    # Инициализация RandomizedSearchCV\n",
    "    random_search = RandomizedSearchCV(\n",
    "        pipeline,\n",
    "        param_distributions=parameters,\n",
    "        n_iter=10, \n",
    "        cv=cv,  \n",
    "        scoring='neg_root_mean_squared_error',  \n",
    "        n_jobs=-1,  \n",
    "        verbose=1, \n",
    "        random_state=42  \n",
    "    )\n",
    "    random_search.fit(features_train, target_train)\n",
    "  \n",
    "\n",
    "    # Время обучения лучшей модели\n",
    "    best_model = random_search.best_estimator_\n",
    "    start_time = time.time()\n",
    "    best_model.fit(features_train, target_train)\n",
    "    best_training_time = time.time() - start_time\n",
    "\n",
    "    # Время предсказания лучшей модели\n",
    "    start_time = time.time()\n",
    "    predictions = best_model.predict(features_train)\n",
    "    prediction_time = time.time() - start_time\n",
    "\n",
    "    # RMSE из кросс-валидации\n",
    "    rmse = round(-random_search.best_score_, 2)\n",
    "\n",
    "    # Сбор статистики\n",
    "    stat_data = [best_training_time, prediction_time, rmse]\n",
    "\n",
    "    return stat_data, random_search"
   ]
  },
  {
   "cell_type": "code",
   "execution_count": 20,
   "metadata": {},
   "outputs": [
    {
     "name": "stdout",
     "output_type": "stream",
     "text": [
      "Размер обучающей выборки:236268\n",
      "Размер тестовой выборки:59067\n",
      "['RegistrationYear', 'VehicleType', 'Gearbox', 'Model', 'FuelType', 'Brand', 'Repaired']\n"
     ]
    }
   ],
   "source": [
    "price_features = cars.drop(columns='Price')\n",
    "price = cars['Price']\n",
    "cat_features = ['RegistrationYear','VehicleType', 'Gearbox', 'Model', 'FuelType', 'Brand', 'Repaired']\n",
    "num_features =  ['Power', 'Kilometer']\n",
    "# Разделение на тренировочный, тестовый и валидационный наборы данных\n",
    "X_train, X_test, y_train, y_test = train_test_split(price_features, price, \n",
    "                                                    test_size=TEST_SIZE, \n",
    "                                                    random_state=RANDOM_STATE)\n",
    "\n",
    "print(f'Размер обучающей выборки:{y_train.shape[0]}')\n",
    "print(f'Размер тестовой выборки:{y_test.shape[0]}')\n",
    "print(cat_features)"
   ]
  },
  {
   "cell_type": "code",
   "execution_count": 21,
   "metadata": {},
   "outputs": [],
   "source": [
    "ohe_pipe = Pipeline(\n",
    "    [\n",
    "        (\n",
    "            'simpleImputer_ohe', \n",
    "            SimpleImputer(missing_values=np.nan, strategy='most_frequent')\n",
    "        ),\n",
    "        (\n",
    "            'ohe', \n",
    "            OneHotEncoder(drop='first',handle_unknown='ignore')\n",
    "        )\n",
    "    ]\n",
    ")  ;"
   ]
  },
  {
   "cell_type": "code",
   "execution_count": 22,
   "metadata": {},
   "outputs": [],
   "source": [
    "col_transformer_lr = ColumnTransformer(\n",
    "    transformers=[\n",
    "        ('ohe', ohe_pipe, cat_features),\n",
    "        ('scaler', StandardScaler(), num_features)\n",
    "    ],\n",
    "    remainder='passthrough',\n",
    "    verbose_feature_names_out=False\n",
    ")\n",
    "\n",
    "col_transformer_gb = ColumnTransformer(\n",
    "    transformers=[\n",
    "        ('ordinal', OrdinalEncoder(handle_unknown='use_encoded_value', unknown_value=-1), cat_features),\n",
    "        ('scaler', StandardScaler(), num_features)\n",
    "    ],\n",
    "    remainder='passthrough',\n",
    "    verbose_feature_names_out=False\n",
    ")"
   ]
  },
  {
   "cell_type": "markdown",
   "metadata": {},
   "source": [
    "### Linear"
   ]
  },
  {
   "cell_type": "code",
   "execution_count": 24,
   "metadata": {},
   "outputs": [
    {
     "name": "stderr",
     "output_type": "stream",
     "text": [
      "/opt/conda/lib/python3.9/site-packages/sklearn/model_selection/_search.py:320: UserWarning: The total space of parameters 2 is smaller than n_iter=10. Running 2 iterations. For exhaustive searches, use GridSearchCV.\n",
      "  warnings.warn(\n"
     ]
    },
    {
     "name": "stdout",
     "output_type": "stream",
     "text": [
      "Fitting 3 folds for each of 2 candidates, totalling 6 fits\n"
     ]
    },
    {
     "name": "stderr",
     "output_type": "stream",
     "text": [
      "/opt/conda/lib/python3.9/site-packages/sklearn/preprocessing/_encoders.py:242: UserWarning: Found unknown categories in columns [0] during transform. These unknown categories will be encoded as all zeros\n",
      "  warnings.warn(\n",
      "/opt/conda/lib/python3.9/site-packages/sklearn/preprocessing/_encoders.py:242: UserWarning: Found unknown categories in columns [0] during transform. These unknown categories will be encoded as all zeros\n",
      "  warnings.warn(\n",
      "/opt/conda/lib/python3.9/site-packages/sklearn/preprocessing/_encoders.py:242: UserWarning: Found unknown categories in columns [0, 3] during transform. These unknown categories will be encoded as all zeros\n",
      "  warnings.warn(\n",
      "/opt/conda/lib/python3.9/site-packages/sklearn/preprocessing/_encoders.py:242: UserWarning: Found unknown categories in columns [0] during transform. These unknown categories will be encoded as all zeros\n",
      "  warnings.warn(\n",
      "/opt/conda/lib/python3.9/site-packages/sklearn/preprocessing/_encoders.py:242: UserWarning: Found unknown categories in columns [0] during transform. These unknown categories will be encoded as all zeros\n",
      "  warnings.warn(\n",
      "/opt/conda/lib/python3.9/site-packages/sklearn/preprocessing/_encoders.py:242: UserWarning: Found unknown categories in columns [0, 3] during transform. These unknown categories will be encoded as all zeros\n",
      "  warnings.warn(\n"
     ]
    },
    {
     "name": "stdout",
     "output_type": "stream",
     "text": [
      "Linear Regression - лучшие параметры: {'linear__fit_intercept': True}\n",
      "Linear Regression - лучшая модель: Pipeline(steps=[('preprocessor',\n",
      "                 ColumnTransformer(remainder='passthrough',\n",
      "                                   transformers=[('ohe',\n",
      "                                                  Pipeline(steps=[('simpleImputer_ohe',\n",
      "                                                                   SimpleImputer(strategy='most_frequent')),\n",
      "                                                                  ('ohe',\n",
      "                                                                   OneHotEncoder(drop='first',\n",
      "                                                                                 handle_unknown='ignore'))]),\n",
      "                                                  ['RegistrationYear',\n",
      "                                                   'VehicleType', 'Gearbox',\n",
      "                                                   'Model', 'FuelType', 'Brand',\n",
      "                                                   'Repaired']),\n",
      "                                                 ('scaler', StandardScaler(),\n",
      "                                                  ['Power', 'Kilometer'])],\n",
      "                                   verbose_feature_names_out=False)),\n",
      "                ('linear', LinearRegression())])\n",
      "Linear Regression - статистика: [29.977707386016846, 0.6344108581542969, 2067.2]\n"
     ]
    }
   ],
   "source": [
    "linear= LinearRegression()\n",
    "# Сетка гиперпараметров для подбора\n",
    "\n",
    "pipeline_linear = Pipeline(steps=[\n",
    "    ('preprocessor', col_transformer_lr),\n",
    "    ('linear', linear)\n",
    "])\n",
    "params_linear = {\n",
    "    'linear__fit_intercept': [True, False]\n",
    "}\n",
    "\n",
    "\n",
    "linear_stat, linear_grid = model_stats(pipeline_linear, \n",
    "                                       params_linear,\n",
    "                                      X_train, y_train, \n",
    "                                      cv=3)\n",
    "\n",
    "\n",
    "print(\"Linear Regression - лучшие параметры:\", linear_grid.best_params_)\n",
    "print(\"Linear Regression - лучшая модель:\", linear_grid.best_estimator_)\n",
    "print(\"Linear Regression - статистика:\", linear_stat)"
   ]
  },
  {
   "cell_type": "markdown",
   "metadata": {},
   "source": [
    "### CatBoost\n"
   ]
  },
  {
   "cell_type": "code",
   "execution_count": 25,
   "metadata": {},
   "outputs": [
    {
     "name": "stdout",
     "output_type": "stream",
     "text": [
      "Fitting 5 folds for each of 6 candidates, totalling 30 fits\n"
     ]
    },
    {
     "name": "stderr",
     "output_type": "stream",
     "text": [
      "/opt/conda/lib/python3.9/site-packages/sklearn/model_selection/_search.py:320: UserWarning: The total space of parameters 6 is smaller than n_iter=10. Running 6 iterations. For exhaustive searches, use GridSearchCV.\n",
      "  warnings.warn(\n",
      "/opt/conda/lib/python3.9/site-packages/sklearn/model_selection/_validation.py:540: FitFailedWarning: \n",
      "15 fits failed out of a total of 30.\n",
      "The score on these train-test partitions for these parameters will be set to nan.\n",
      "If these failures are not expected, you can try to debug them by setting error_score='raise'.\n",
      "\n",
      "Below are more details about the failures:\n",
      "--------------------------------------------------------------------------------\n",
      "15 fits failed with the following error:\n",
      "Traceback (most recent call last):\n",
      "  File \"/opt/conda/lib/python3.9/site-packages/sklearn/model_selection/_validation.py\", line 888, in _fit_and_score\n",
      "    estimator.fit(X_train, y_train, **fit_params)\n",
      "  File \"/opt/conda/lib/python3.9/site-packages/sklearn/base.py\", line 1473, in wrapper\n",
      "    return fit_method(estimator, *args, **kwargs)\n",
      "  File \"/opt/conda/lib/python3.9/site-packages/sklearn/pipeline.py\", line 473, in fit\n",
      "    self._final_estimator.fit(Xt, y, **last_step_params[\"fit\"])\n",
      "  File \"/opt/conda/lib/python3.9/site-packages/catboost/core.py\", line 5299, in fit\n",
      "    return self._fit(X, y, cat_features, None, None, None, sample_weight, None, None, None, None, baseline,\n",
      "  File \"/opt/conda/lib/python3.9/site-packages/catboost/core.py\", line 2021, in _fit\n",
      "    train_params = self._prepare_train_params(\n",
      "  File \"/opt/conda/lib/python3.9/site-packages/catboost/core.py\", line 1953, in _prepare_train_params\n",
      "    _check_train_params(params)\n",
      "  File \"_catboost.pyx\", line 5839, in _catboost._check_train_params\n",
      "  File \"_catboost.pyx\", line 5858, in _catboost._check_train_params\n",
      "_catboost.CatBoostError: catboost/private/libs/options/oblivious_tree_options.cpp:122: Maximum tree depth is 16\n",
      "\n",
      "  warnings.warn(some_fits_failed_message, FitFailedWarning)\n",
      "/opt/conda/lib/python3.9/site-packages/sklearn/model_selection/_search.py:1102: UserWarning: One or more of the test scores are non-finite: [-2825.14593606            nan -1855.46711516            nan\n",
      " -1695.81308965            nan]\n",
      "  warnings.warn(\n"
     ]
    },
    {
     "name": "stdout",
     "output_type": "stream",
     "text": [
      "CatBoost - лучшие параметры: {'catboost__max_depth': 10, 'catboost__learning_rate': 0.1, 'catboost__iterations': 96}\n",
      "CatBoost - лучшая модель: Pipeline(steps=[('preprocessor',\n",
      "                 ColumnTransformer(remainder='passthrough',\n",
      "                                   transformers=[('ordinal',\n",
      "                                                  OrdinalEncoder(handle_unknown='use_encoded_value',\n",
      "                                                                 unknown_value=-1),\n",
      "                                                  ['RegistrationYear',\n",
      "                                                   'VehicleType', 'Gearbox',\n",
      "                                                   'Model', 'FuelType', 'Brand',\n",
      "                                                   'Repaired']),\n",
      "                                                 ('scaler', StandardScaler(),\n",
      "                                                  ['Power', 'Kilometer'])],\n",
      "                                   verbose_feature_names_out=False)),\n",
      "                ('catboost',\n",
      "                 <catboost.core.CatBoostRegressor object at 0x7f05cc25c0d0>)])\n",
      "CatBoost - статистика: [6.574759006500244, 0.7578177452087402, 1695.81]\n"
     ]
    }
   ],
   "source": [
    "catboost_model = CatBoostRegressor(random_state=RANDOM_STATE, silent=True)\n",
    "params_catboost = {\n",
    "    'catboost__learning_rate': [0.1],\n",
    "    'catboost__iterations': [8, 34, 96],\n",
    "    'catboost__max_depth': [10, 23]\n",
    "}\n",
    "pipeline_catboost = Pipeline(steps=[\n",
    "    ('preprocessor', col_transformer_gb),\n",
    "    ('catboost', catboost_model)\n",
    "])\n",
    "catboost_stat, catboost_grid = model_stats(pipeline_catboost, \n",
    "                                           params_catboost,\n",
    "                                           X_train, y_train, \n",
    "                                           cv=3)\n",
    "print(\"CatBoost - лучшие параметры:\", catboost_grid.best_params_)\n",
    "print(\"CatBoost - лучшая модель:\", catboost_grid.best_estimator_)\n",
    "print(\"CatBoost - статистика:\", catboost_stat)"
   ]
  },
  {
   "cell_type": "markdown",
   "metadata": {},
   "source": [
    "### LightGBM"
   ]
  },
  {
   "cell_type": "code",
   "execution_count": 26,
   "metadata": {},
   "outputs": [
    {
     "name": "stdout",
     "output_type": "stream",
     "text": [
      "Fitting 5 folds for each of 9 candidates, totalling 45 fits\n"
     ]
    },
    {
     "name": "stderr",
     "output_type": "stream",
     "text": [
      "/opt/conda/lib/python3.9/site-packages/sklearn/model_selection/_search.py:320: UserWarning: The total space of parameters 9 is smaller than n_iter=10. Running 9 iterations. For exhaustive searches, use GridSearchCV.\n",
      "  warnings.warn(\n"
     ]
    },
    {
     "name": "stdout",
     "output_type": "stream",
     "text": [
      "LightGBM - лучшие параметры: {'lgbm__n_estimators': 200, 'lgbm__max_depth': 20, 'lgbm__learning_rate': 0.1}\n",
      "LightGBM - лучшая модель: Pipeline(steps=[('preprocessor',\n",
      "                 ColumnTransformer(remainder='passthrough',\n",
      "                                   transformers=[('ordinal',\n",
      "                                                  OrdinalEncoder(handle_unknown='use_encoded_value',\n",
      "                                                                 unknown_value=-1),\n",
      "                                                  ['RegistrationYear',\n",
      "                                                   'VehicleType', 'Gearbox',\n",
      "                                                   'Model', 'FuelType', 'Brand',\n",
      "                                                   'Repaired']),\n",
      "                                                 ('scaler', StandardScaler(),\n",
      "                                                  ['Power', 'Kilometer'])],\n",
      "                                   verbose_feature_names_out=False)),\n",
      "                ('lgbm',\n",
      "                 LGBMRegressor(max_depth=20, n_estimators=200,\n",
      "                               random_state=42))])\n",
      "LightGBM - статистика: [11.40258002281189, 3.391382932662964, 1628.66]\n"
     ]
    }
   ],
   "source": [
    "# Параметры модели\n",
    "lgbm_model = LGBMRegressor(random_state=RANDOM_STATE)\n",
    "params_lgbm = {\n",
    "    'lgbm__learning_rate': [0.1],\n",
    "    'lgbm__n_estimators': [50, 100, 200],\n",
    "    'lgbm__max_depth': [10, 20, 30]\n",
    "}\n",
    "pipeline_lgbm = Pipeline(steps=[\n",
    "    ('preprocessor', col_transformer_gb),\n",
    "    ('lgbm', lgbm_model)\n",
    "])\n",
    "lgbm_stat, lgbm_grid = model_stats(pipeline_lgbm, \n",
    "                                   params_lgbm,\n",
    "                                   X_train, y_train, \n",
    "                                   cv=3)\n",
    "print(\"LightGBM - лучшие параметры:\", lgbm_grid.best_params_)\n",
    "print(\"LightGBM - лучшая модель:\", lgbm_grid.best_estimator_)\n",
    "print(\"LightGBM - статистика:\", lgbm_stat)\n"
   ]
  },
  {
   "cell_type": "markdown",
   "metadata": {},
   "source": [
    "## Анализ моделей"
   ]
  },
  {
   "cell_type": "code",
   "execution_count": 27,
   "metadata": {},
   "outputs": [
    {
     "data": {
      "text/html": [
       "<div>\n",
       "<style scoped>\n",
       "    .dataframe tbody tr th:only-of-type {\n",
       "        vertical-align: middle;\n",
       "    }\n",
       "\n",
       "    .dataframe tbody tr th {\n",
       "        vertical-align: top;\n",
       "    }\n",
       "\n",
       "    .dataframe thead th {\n",
       "        text-align: right;\n",
       "    }\n",
       "</style>\n",
       "<table border=\"1\" class=\"dataframe\">\n",
       "  <thead>\n",
       "    <tr style=\"text-align: right;\">\n",
       "      <th></th>\n",
       "      <th>Время обучения</th>\n",
       "      <th>Время предсказания</th>\n",
       "      <th>RMSE</th>\n",
       "    </tr>\n",
       "  </thead>\n",
       "  <tbody>\n",
       "    <tr>\n",
       "      <th>Linear</th>\n",
       "      <td>29.977707</td>\n",
       "      <td>0.634411</td>\n",
       "      <td>2067.20</td>\n",
       "    </tr>\n",
       "    <tr>\n",
       "      <th>CatBoost</th>\n",
       "      <td>6.574759</td>\n",
       "      <td>0.757818</td>\n",
       "      <td>1695.81</td>\n",
       "    </tr>\n",
       "    <tr>\n",
       "      <th>LightGBM</th>\n",
       "      <td>11.402580</td>\n",
       "      <td>3.391383</td>\n",
       "      <td>1628.66</td>\n",
       "    </tr>\n",
       "  </tbody>\n",
       "</table>\n",
       "</div>"
      ],
      "text/plain": [
       "          Время обучения  Время предсказания     RMSE\n",
       "Linear         29.977707            0.634411  2067.20\n",
       "CatBoost        6.574759            0.757818  1695.81\n",
       "LightGBM       11.402580            3.391383  1628.66"
      ]
     },
     "execution_count": 27,
     "metadata": {},
     "output_type": "execute_result"
    }
   ],
   "source": [
    "stats_data= pd.DataFrame([linear_stat, catboost_stat, lgbm_stat], \n",
    "             columns=['Время обучения', 'Время предсказания', 'RMSE'], \n",
    "                      index=['Linear','CatBoost','LightGBM'])\n",
    "stats_data"
   ]
  },
  {
   "cell_type": "markdown",
   "metadata": {},
   "source": [
    "### ВЫВОД\n",
    "- как можем наблюдвать из таблицы, модель LightGBM дает наибольшую точность предсказаний, но обучение занимает сильно больше времени\n",
    "- учитывая , что результат CatBoost не значительно хуже , но при этом времени на обучение затрачивается сильно меньше\n",
    " "
   ]
  },
  {
   "cell_type": "markdown",
   "metadata": {},
   "source": [
    "### Проверим лучшую модель на тестовых данных"
   ]
  },
  {
   "cell_type": "code",
   "execution_count": 31,
   "metadata": {},
   "outputs": [
    {
     "name": "stdout",
     "output_type": "stream",
     "text": [
      "1700.7267015740965\n"
     ]
    }
   ],
   "source": [
    "test_predict = catboost_grid.predict(X_test)\n",
    "test_rmse = np.sqrt(mean_squared_error(y_test, test_predict))\n",
    "print(test_rmse)"
   ]
  },
  {
   "cell_type": "markdown",
   "metadata": {},
   "source": [
    "- Как видим RMSE на тестовых данных равен 1700 , что удовлетворяет условию заказчика"
   ]
  },
  {
   "cell_type": "markdown",
   "metadata": {},
   "source": [
    "## ВЫВОД\n",
    "- Загрузили данные: \n",
    "    - Размер исследуемого набора данных: 16 столбцов, 354369 строк\n",
    "    - В данных есть пропуски в столбцах: VehicleType, Gearbox, Model, FuelType, Repaired\n",
    "    - При загрузке изменен тип данных в столбцах: DateCrawled, DateCreated, LastSeen\n",
    "    - Категориальные признаки: VehicleType,\tGearbox, Model,\tFuelType, Brand, Repaired\n",
    "- Обработали данные:\n",
    "    - обработали аномалии в столбцах с числовыми признакми,\n",
    "    - получили более корреткный вид распределения и естественные значения,\n",
    "    - строки с аномалиями удалены\n",
    "    - заменили пропуски на заглушки\n",
    "- Посмотрели на данные по группам:\n",
    "    - на данных видно, что автомобили с автоматической коробкой стоят дороже, \n",
    "    - ремонтированные авто значительно дешевле\n",
    "    - больше всего дешевых авто в кузове small\n",
    "- мультиколлениарности c целевым признаком Price не обнаружено\n",
    "- связь между данными прослеживается, можно приступать к обучению моделей\n",
    "\n",
    "\n",
    "- **По результатам работы, лучше всего для этой задачи подходит Catboost,\n",
    "так как он дает хороший результат с адекватным временем обучения на большом обьеме данных**"
   ]
  }
 ],
 "metadata": {
  "ExecuteTimeLog": [
   {
    "duration": 47,
    "start_time": "2024-07-04T15:47:52.884Z"
   },
   {
    "duration": 408,
    "start_time": "2024-07-04T15:48:15.432Z"
   },
   {
    "duration": 1123,
    "start_time": "2024-07-04T15:48:18.005Z"
   },
   {
    "duration": 34,
    "start_time": "2024-07-04T15:49:33.170Z"
   },
   {
    "duration": 231,
    "start_time": "2024-07-04T15:49:43.218Z"
   },
   {
    "duration": 626,
    "start_time": "2024-07-04T15:50:01.401Z"
   },
   {
    "duration": 961,
    "start_time": "2024-07-04T15:53:37.671Z"
   },
   {
    "duration": 395,
    "start_time": "2024-07-04T15:53:46.280Z"
   },
   {
    "duration": 837,
    "start_time": "2024-07-04T15:53:58.473Z"
   },
   {
    "duration": 366,
    "start_time": "2024-07-04T15:56:52.091Z"
   },
   {
    "duration": 862,
    "start_time": "2024-07-04T15:58:13.296Z"
   },
   {
    "duration": 864,
    "start_time": "2024-07-04T15:58:14.310Z"
   },
   {
    "duration": 381,
    "start_time": "2024-07-04T15:58:15.175Z"
   },
   {
    "duration": 52,
    "start_time": "2024-07-04T15:58:15.558Z"
   },
   {
    "duration": 4,
    "start_time": "2024-07-04T15:58:38.185Z"
   },
   {
    "duration": 14,
    "start_time": "2024-07-04T15:59:22.631Z"
   },
   {
    "duration": 99,
    "start_time": "2024-07-04T16:00:58.011Z"
   },
   {
    "duration": 251,
    "start_time": "2024-07-04T16:05:51.609Z"
   },
   {
    "duration": 166,
    "start_time": "2024-07-04T16:06:56.660Z"
   },
   {
    "duration": 177,
    "start_time": "2024-07-04T16:07:07.595Z"
   },
   {
    "duration": 171,
    "start_time": "2024-07-04T16:07:49.798Z"
   },
   {
    "duration": 11,
    "start_time": "2024-07-04T16:09:06.815Z"
   },
   {
    "duration": 2,
    "start_time": "2024-07-04T16:09:39.078Z"
   },
   {
    "duration": 19,
    "start_time": "2024-07-04T16:09:39.587Z"
   },
   {
    "duration": 823,
    "start_time": "2024-07-04T16:09:40.075Z"
   },
   {
    "duration": 383,
    "start_time": "2024-07-04T16:09:40.900Z"
   },
   {
    "duration": 172,
    "start_time": "2024-07-04T16:09:41.285Z"
   },
   {
    "duration": 1612,
    "start_time": "2024-07-04T16:09:41.459Z"
   },
   {
    "duration": 8,
    "start_time": "2024-07-04T16:13:41.526Z"
   },
   {
    "duration": 114,
    "start_time": "2024-07-04T16:13:48.642Z"
   },
   {
    "duration": 109,
    "start_time": "2024-07-04T16:13:53.450Z"
   },
   {
    "duration": 105,
    "start_time": "2024-07-04T16:13:55.800Z"
   },
   {
    "duration": 2321,
    "start_time": "2024-07-04T16:14:28.273Z"
   },
   {
    "duration": 7,
    "start_time": "2024-07-04T16:15:41.245Z"
   },
   {
    "duration": 7,
    "start_time": "2024-07-04T16:15:48.777Z"
   },
   {
    "duration": 7,
    "start_time": "2024-07-04T16:16:31.044Z"
   },
   {
    "duration": 15,
    "start_time": "2024-07-04T16:16:38.268Z"
   },
   {
    "duration": 454,
    "start_time": "2024-07-04T16:16:42.490Z"
   },
   {
    "duration": 9,
    "start_time": "2024-07-04T16:21:04.696Z"
   },
   {
    "duration": 450,
    "start_time": "2024-07-04T16:21:26.759Z"
   },
   {
    "duration": 162,
    "start_time": "2024-07-04T16:21:40.783Z"
   },
   {
    "duration": 105,
    "start_time": "2024-07-04T16:23:21.320Z"
   },
   {
    "duration": 6,
    "start_time": "2024-07-04T16:23:37.056Z"
   },
   {
    "duration": 70,
    "start_time": "2024-07-04T16:23:44.139Z"
   },
   {
    "duration": 69,
    "start_time": "2024-07-04T16:24:00.449Z"
   },
   {
    "duration": 83,
    "start_time": "2024-07-04T16:24:06.770Z"
   },
   {
    "duration": 7,
    "start_time": "2024-07-04T16:25:12.791Z"
   },
   {
    "duration": 109,
    "start_time": "2024-07-04T16:25:22.459Z"
   },
   {
    "duration": 3,
    "start_time": "2024-07-04T16:25:38.097Z"
   },
   {
    "duration": 76,
    "start_time": "2024-07-04T16:25:44.457Z"
   },
   {
    "duration": 74,
    "start_time": "2024-07-04T16:26:02.515Z"
   },
   {
    "duration": 139,
    "start_time": "2024-07-04T16:27:59.826Z"
   },
   {
    "duration": 75,
    "start_time": "2024-07-04T16:28:09.171Z"
   },
   {
    "duration": 141,
    "start_time": "2024-07-04T16:31:32.504Z"
   },
   {
    "duration": 59,
    "start_time": "2024-07-04T16:34:13.043Z"
   },
   {
    "duration": 65,
    "start_time": "2024-07-04T16:36:57.416Z"
   },
   {
    "duration": 40,
    "start_time": "2024-07-04T16:37:03.827Z"
   },
   {
    "duration": 48,
    "start_time": "2024-07-04T16:37:47.427Z"
   },
   {
    "duration": 38,
    "start_time": "2024-07-04T16:37:52.227Z"
   },
   {
    "duration": 0,
    "start_time": "2024-07-04T16:38:39.908Z"
   },
   {
    "duration": 1051,
    "start_time": "2024-07-04T16:38:42.474Z"
   },
   {
    "duration": 15,
    "start_time": "2024-07-04T16:38:43.528Z"
   },
   {
    "duration": 1014,
    "start_time": "2024-07-04T16:38:43.545Z"
   },
   {
    "duration": 0,
    "start_time": "2024-07-04T16:38:44.560Z"
   },
   {
    "duration": 0,
    "start_time": "2024-07-04T16:38:44.561Z"
   },
   {
    "duration": 0,
    "start_time": "2024-07-04T16:38:44.562Z"
   },
   {
    "duration": 0,
    "start_time": "2024-07-04T16:38:44.563Z"
   },
   {
    "duration": 0,
    "start_time": "2024-07-04T16:38:44.564Z"
   },
   {
    "duration": 0,
    "start_time": "2024-07-04T16:38:44.564Z"
   },
   {
    "duration": 0,
    "start_time": "2024-07-04T16:38:44.565Z"
   },
   {
    "duration": 0,
    "start_time": "2024-07-04T16:38:44.566Z"
   },
   {
    "duration": 0,
    "start_time": "2024-07-04T16:38:44.567Z"
   },
   {
    "duration": 3,
    "start_time": "2024-07-04T16:39:26.750Z"
   },
   {
    "duration": 924,
    "start_time": "2024-07-04T16:39:39.437Z"
   },
   {
    "duration": 3,
    "start_time": "2024-07-04T16:39:43.729Z"
   },
   {
    "duration": 11,
    "start_time": "2024-07-04T16:39:44.057Z"
   },
   {
    "duration": 434,
    "start_time": "2024-07-04T16:39:44.764Z"
   },
   {
    "duration": 8,
    "start_time": "2024-07-04T16:40:13.713Z"
   },
   {
    "duration": 11,
    "start_time": "2024-07-04T16:40:16.167Z"
   },
   {
    "duration": 258,
    "start_time": "2024-07-04T16:40:35.444Z"
   },
   {
    "duration": 415,
    "start_time": "2024-07-04T16:40:40.642Z"
   },
   {
    "duration": 534,
    "start_time": "2024-07-04T16:40:41.213Z"
   },
   {
    "duration": 103,
    "start_time": "2024-07-04T16:40:41.749Z"
   },
   {
    "duration": 71,
    "start_time": "2024-07-04T16:40:46.181Z"
   },
   {
    "duration": 189,
    "start_time": "2024-07-04T16:40:49.201Z"
   },
   {
    "duration": 78,
    "start_time": "2024-07-04T16:41:01.670Z"
   },
   {
    "duration": 1556,
    "start_time": "2024-07-04T16:41:23.762Z"
   },
   {
    "duration": 391,
    "start_time": "2024-07-04T16:41:56.103Z"
   },
   {
    "duration": 55,
    "start_time": "2024-07-04T16:44:17.187Z"
   },
   {
    "duration": 408,
    "start_time": "2024-07-04T16:44:27.720Z"
   },
   {
    "duration": 7,
    "start_time": "2024-07-04T16:45:04.335Z"
   },
   {
    "duration": 1521,
    "start_time": "2024-07-04T16:45:08.388Z"
   },
   {
    "duration": 1748,
    "start_time": "2024-07-06T04:31:11.271Z"
   },
   {
    "duration": 16,
    "start_time": "2024-07-06T04:31:13.021Z"
   },
   {
    "duration": 5,
    "start_time": "2024-07-06T04:32:10.097Z"
   },
   {
    "duration": 106,
    "start_time": "2024-07-06T04:36:04.224Z"
   },
   {
    "duration": 3025,
    "start_time": "2024-07-06T04:36:09.519Z"
   },
   {
    "duration": 315,
    "start_time": "2024-07-06T04:36:12.547Z"
   },
   {
    "duration": 4,
    "start_time": "2024-07-06T04:41:08.033Z"
   },
   {
    "duration": 3,
    "start_time": "2024-07-06T04:41:16.985Z"
   },
   {
    "duration": 427,
    "start_time": "2024-07-06T04:42:46.997Z"
   },
   {
    "duration": 1101,
    "start_time": "2024-07-06T04:43:47.480Z"
   },
   {
    "duration": 450,
    "start_time": "2024-07-06T04:53:11.793Z"
   },
   {
    "duration": 123,
    "start_time": "2024-07-06T04:53:50.058Z"
   },
   {
    "duration": 11,
    "start_time": "2024-07-06T04:54:16.654Z"
   },
   {
    "duration": 140,
    "start_time": "2024-07-06T04:54:23.514Z"
   },
   {
    "duration": 116,
    "start_time": "2024-07-06T04:55:03.255Z"
   },
   {
    "duration": 106,
    "start_time": "2024-07-06T04:55:11.171Z"
   },
   {
    "duration": 91,
    "start_time": "2024-07-06T04:55:19.184Z"
   },
   {
    "duration": 94,
    "start_time": "2024-07-06T04:55:29.284Z"
   },
   {
    "duration": 114,
    "start_time": "2024-07-06T04:55:35.616Z"
   },
   {
    "duration": 91,
    "start_time": "2024-07-06T04:55:46.249Z"
   },
   {
    "duration": 2,
    "start_time": "2024-07-06T04:57:27.941Z"
   },
   {
    "duration": 17,
    "start_time": "2024-07-06T04:59:15.577Z"
   },
   {
    "duration": 29,
    "start_time": "2024-07-06T05:00:28.244Z"
   },
   {
    "duration": 354,
    "start_time": "2024-07-06T05:00:31.316Z"
   },
   {
    "duration": 256,
    "start_time": "2024-07-06T05:00:58.977Z"
   },
   {
    "duration": 5,
    "start_time": "2024-07-06T05:01:12.520Z"
   },
   {
    "duration": 26,
    "start_time": "2024-07-06T05:01:12.966Z"
   },
   {
    "duration": 1095,
    "start_time": "2024-07-06T05:01:14.250Z"
   },
   {
    "duration": 18,
    "start_time": "2024-07-06T05:01:16.679Z"
   },
   {
    "duration": 18,
    "start_time": "2024-07-06T05:01:17.219Z"
   },
   {
    "duration": 272,
    "start_time": "2024-07-06T05:01:18.522Z"
   },
   {
    "duration": 598,
    "start_time": "2024-07-06T05:02:45.395Z"
   },
   {
    "duration": 191,
    "start_time": "2024-07-06T05:02:46.384Z"
   },
   {
    "duration": 563,
    "start_time": "2024-07-06T05:03:03.766Z"
   },
   {
    "duration": 1563,
    "start_time": "2024-07-06T05:03:09.852Z"
   },
   {
    "duration": 28,
    "start_time": "2024-07-06T05:03:11.418Z"
   },
   {
    "duration": 1309,
    "start_time": "2024-07-06T05:03:11.448Z"
   },
   {
    "duration": 39,
    "start_time": "2024-07-06T05:03:12.760Z"
   },
   {
    "duration": 30,
    "start_time": "2024-07-06T05:03:12.801Z"
   },
   {
    "duration": 351,
    "start_time": "2024-07-06T05:03:12.832Z"
   },
   {
    "duration": 600,
    "start_time": "2024-07-06T05:03:13.185Z"
   },
   {
    "duration": 119,
    "start_time": "2024-07-06T05:03:13.788Z"
   },
   {
    "duration": 121,
    "start_time": "2024-07-06T05:03:13.909Z"
   },
   {
    "duration": 143,
    "start_time": "2024-07-06T05:03:14.032Z"
   },
   {
    "duration": 1845,
    "start_time": "2024-07-06T05:03:14.177Z"
   },
   {
    "duration": 0,
    "start_time": "2024-07-06T05:03:16.024Z"
   },
   {
    "duration": 0,
    "start_time": "2024-07-06T05:03:16.026Z"
   },
   {
    "duration": 113,
    "start_time": "2024-07-06T05:04:08.550Z"
   },
   {
    "duration": 90,
    "start_time": "2024-07-06T05:05:12.286Z"
   },
   {
    "duration": 93,
    "start_time": "2024-07-06T05:05:27.318Z"
   },
   {
    "duration": 107,
    "start_time": "2024-07-06T05:06:00.803Z"
   },
   {
    "duration": 89,
    "start_time": "2024-07-06T05:06:34.525Z"
   },
   {
    "duration": 91,
    "start_time": "2024-07-06T05:07:34.892Z"
   },
   {
    "duration": 124,
    "start_time": "2024-07-06T05:08:02.502Z"
   },
   {
    "duration": 242,
    "start_time": "2024-07-06T05:08:29.391Z"
   },
   {
    "duration": 563,
    "start_time": "2024-07-06T05:08:30.375Z"
   },
   {
    "duration": 461,
    "start_time": "2024-07-06T05:09:05.394Z"
   },
   {
    "duration": 214,
    "start_time": "2024-07-06T05:09:08.780Z"
   },
   {
    "duration": 475,
    "start_time": "2024-07-06T05:09:10.471Z"
   },
   {
    "duration": 114,
    "start_time": "2024-07-06T05:09:17.307Z"
   },
   {
    "duration": 61,
    "start_time": "2024-07-06T05:10:02.121Z"
   },
   {
    "duration": 49,
    "start_time": "2024-07-06T05:10:13.200Z"
   },
   {
    "duration": 54,
    "start_time": "2024-07-06T05:10:46.234Z"
   },
   {
    "duration": 1580,
    "start_time": "2024-07-06T05:16:41.775Z"
   },
   {
    "duration": 73,
    "start_time": "2024-07-06T05:19:08.220Z"
   },
   {
    "duration": 10,
    "start_time": "2024-07-06T05:19:12.342Z"
   },
   {
    "duration": 113,
    "start_time": "2024-07-06T05:19:27.874Z"
   },
   {
    "duration": 1471,
    "start_time": "2024-07-06T05:21:27.879Z"
   },
   {
    "duration": 31,
    "start_time": "2024-07-06T05:21:29.352Z"
   },
   {
    "duration": 1289,
    "start_time": "2024-07-06T05:21:29.385Z"
   },
   {
    "duration": 40,
    "start_time": "2024-07-06T05:21:30.675Z"
   },
   {
    "duration": 76,
    "start_time": "2024-07-06T05:21:30.717Z"
   },
   {
    "duration": 338,
    "start_time": "2024-07-06T05:21:30.795Z"
   },
   {
    "duration": 505,
    "start_time": "2024-07-06T05:21:31.134Z"
   },
   {
    "duration": 133,
    "start_time": "2024-07-06T05:21:31.641Z"
   },
   {
    "duration": 101,
    "start_time": "2024-07-06T05:21:31.777Z"
   },
   {
    "duration": 163,
    "start_time": "2024-07-06T05:21:31.880Z"
   },
   {
    "duration": 66,
    "start_time": "2024-07-06T05:21:32.044Z"
   },
   {
    "duration": 1436,
    "start_time": "2024-07-06T05:24:02.352Z"
   },
   {
    "duration": 16,
    "start_time": "2024-07-06T05:24:03.790Z"
   },
   {
    "duration": 1272,
    "start_time": "2024-07-06T05:24:03.808Z"
   },
   {
    "duration": 35,
    "start_time": "2024-07-06T05:24:05.082Z"
   },
   {
    "duration": 45,
    "start_time": "2024-07-06T05:24:05.119Z"
   },
   {
    "duration": 243,
    "start_time": "2024-07-06T05:24:05.166Z"
   },
   {
    "duration": 532,
    "start_time": "2024-07-06T05:24:05.411Z"
   },
   {
    "duration": 142,
    "start_time": "2024-07-06T05:24:05.944Z"
   },
   {
    "duration": 119,
    "start_time": "2024-07-06T05:24:06.087Z"
   },
   {
    "duration": 159,
    "start_time": "2024-07-06T05:24:06.207Z"
   },
   {
    "duration": 56,
    "start_time": "2024-07-06T05:24:06.373Z"
   },
   {
    "duration": 1471,
    "start_time": "2024-07-06T05:27:51.933Z"
   },
   {
    "duration": 15,
    "start_time": "2024-07-06T05:27:53.406Z"
   },
   {
    "duration": 3291,
    "start_time": "2024-07-06T05:27:53.423Z"
   },
   {
    "duration": 51,
    "start_time": "2024-07-06T05:27:56.716Z"
   },
   {
    "duration": 32,
    "start_time": "2024-07-06T05:27:56.769Z"
   },
   {
    "duration": 314,
    "start_time": "2024-07-06T05:27:56.803Z"
   },
   {
    "duration": 523,
    "start_time": "2024-07-06T05:27:57.119Z"
   },
   {
    "duration": 132,
    "start_time": "2024-07-06T05:27:57.644Z"
   },
   {
    "duration": 99,
    "start_time": "2024-07-06T05:28:00.225Z"
   },
   {
    "duration": 141,
    "start_time": "2024-07-06T05:28:01.351Z"
   },
   {
    "duration": 57,
    "start_time": "2024-07-06T05:28:02.954Z"
   },
   {
    "duration": 19,
    "start_time": "2024-07-06T05:32:38.720Z"
   },
   {
    "duration": 15,
    "start_time": "2024-07-06T05:33:39.046Z"
   },
   {
    "duration": 50,
    "start_time": "2024-07-06T05:33:56.830Z"
   },
   {
    "duration": 1489,
    "start_time": "2024-07-06T05:34:05.043Z"
   },
   {
    "duration": 17,
    "start_time": "2024-07-06T05:34:06.534Z"
   },
   {
    "duration": 1277,
    "start_time": "2024-07-06T05:34:06.552Z"
   },
   {
    "duration": 51,
    "start_time": "2024-07-06T05:34:07.831Z"
   },
   {
    "duration": 31,
    "start_time": "2024-07-06T05:34:07.885Z"
   },
   {
    "duration": 280,
    "start_time": "2024-07-06T05:34:07.918Z"
   },
   {
    "duration": 551,
    "start_time": "2024-07-06T05:34:08.200Z"
   },
   {
    "duration": 145,
    "start_time": "2024-07-06T05:34:08.754Z"
   },
   {
    "duration": 103,
    "start_time": "2024-07-06T05:34:08.901Z"
   },
   {
    "duration": 135,
    "start_time": "2024-07-06T05:34:09.006Z"
   },
   {
    "duration": 74,
    "start_time": "2024-07-06T05:34:09.142Z"
   },
   {
    "duration": 8619,
    "start_time": "2024-07-06T05:34:09.217Z"
   },
   {
    "duration": 15,
    "start_time": "2024-07-06T05:36:20.074Z"
   },
   {
    "duration": 80202,
    "start_time": "2024-07-06T05:36:26.130Z"
   },
   {
    "duration": 70,
    "start_time": "2024-07-06T05:40:43.695Z"
   },
   {
    "duration": 196,
    "start_time": "2024-07-06T05:46:25.711Z"
   },
   {
    "duration": 1399,
    "start_time": "2024-07-06T05:46:40.786Z"
   },
   {
    "duration": 16,
    "start_time": "2024-07-06T05:46:42.188Z"
   },
   {
    "duration": 1221,
    "start_time": "2024-07-06T05:46:42.206Z"
   },
   {
    "duration": 55,
    "start_time": "2024-07-06T05:46:43.428Z"
   },
   {
    "duration": 29,
    "start_time": "2024-07-06T05:46:43.485Z"
   },
   {
    "duration": 214,
    "start_time": "2024-07-06T05:46:43.516Z"
   },
   {
    "duration": 422,
    "start_time": "2024-07-06T05:46:43.732Z"
   },
   {
    "duration": 118,
    "start_time": "2024-07-06T05:46:44.156Z"
   },
   {
    "duration": 94,
    "start_time": "2024-07-06T05:46:44.275Z"
   },
   {
    "duration": 145,
    "start_time": "2024-07-06T05:46:44.371Z"
   },
   {
    "duration": 62,
    "start_time": "2024-07-06T05:46:44.517Z"
   },
   {
    "duration": 71714,
    "start_time": "2024-07-06T05:46:44.580Z"
   },
   {
    "duration": 66,
    "start_time": "2024-07-06T05:47:56.296Z"
   },
   {
    "duration": 16,
    "start_time": "2024-07-06T05:50:42.077Z"
   },
   {
    "duration": 8965,
    "start_time": "2024-07-06T05:50:46.856Z"
   },
   {
    "duration": 1417,
    "start_time": "2024-07-06T05:52:18.198Z"
   },
   {
    "duration": 16,
    "start_time": "2024-07-06T05:52:19.617Z"
   },
   {
    "duration": 1234,
    "start_time": "2024-07-06T05:52:19.634Z"
   },
   {
    "duration": 39,
    "start_time": "2024-07-06T05:52:20.870Z"
   },
   {
    "duration": 37,
    "start_time": "2024-07-06T05:52:20.910Z"
   },
   {
    "duration": 135,
    "start_time": "2024-07-06T05:52:20.949Z"
   },
   {
    "duration": 94,
    "start_time": "2024-07-06T05:52:21.086Z"
   },
   {
    "duration": 139,
    "start_time": "2024-07-06T05:52:21.182Z"
   },
   {
    "duration": 83,
    "start_time": "2024-07-06T05:52:21.323Z"
   },
   {
    "duration": 75991,
    "start_time": "2024-07-06T05:52:21.408Z"
   },
   {
    "duration": 73,
    "start_time": "2024-07-06T05:53:37.400Z"
   },
   {
    "duration": 1393,
    "start_time": "2024-07-06T06:39:36.881Z"
   },
   {
    "duration": 16,
    "start_time": "2024-07-06T06:39:38.276Z"
   },
   {
    "duration": 1178,
    "start_time": "2024-07-06T06:39:38.293Z"
   },
   {
    "duration": 39,
    "start_time": "2024-07-06T06:39:39.473Z"
   },
   {
    "duration": 48,
    "start_time": "2024-07-06T06:39:39.514Z"
   },
   {
    "duration": 140,
    "start_time": "2024-07-06T06:39:39.563Z"
   },
   {
    "duration": 109,
    "start_time": "2024-07-06T06:39:39.705Z"
   },
   {
    "duration": 147,
    "start_time": "2024-07-06T06:39:39.815Z"
   },
   {
    "duration": 58,
    "start_time": "2024-07-06T06:39:39.963Z"
   },
   {
    "duration": 73321,
    "start_time": "2024-07-06T06:39:40.023Z"
   },
   {
    "duration": 75,
    "start_time": "2024-07-06T06:40:53.346Z"
   },
   {
    "duration": 8612,
    "start_time": "2024-07-06T06:40:53.423Z"
   },
   {
    "duration": 76,
    "start_time": "2024-07-06T06:43:41.935Z"
   },
   {
    "duration": 7394,
    "start_time": "2024-07-06T06:43:43.703Z"
   },
   {
    "duration": 10,
    "start_time": "2024-07-06T06:44:49.179Z"
   },
   {
    "duration": 38,
    "start_time": "2024-07-06T06:45:02.030Z"
   },
   {
    "duration": 39,
    "start_time": "2024-07-06T06:45:25.949Z"
   },
   {
    "duration": 34,
    "start_time": "2024-07-06T06:46:45.568Z"
   },
   {
    "duration": 50,
    "start_time": "2024-07-06T06:47:04.249Z"
   },
   {
    "duration": 25,
    "start_time": "2024-07-06T06:47:18.422Z"
   },
   {
    "duration": 90,
    "start_time": "2024-07-06T06:49:19.896Z"
   },
   {
    "duration": 7703,
    "start_time": "2024-07-06T06:49:21.742Z"
   },
   {
    "duration": 60,
    "start_time": "2024-07-06T06:49:43.241Z"
   },
   {
    "duration": 6929,
    "start_time": "2024-07-06T06:49:44.259Z"
   },
   {
    "duration": 68,
    "start_time": "2024-07-06T06:50:08.031Z"
   },
   {
    "duration": 6577,
    "start_time": "2024-07-06T06:50:08.550Z"
   },
   {
    "duration": 60,
    "start_time": "2024-07-06T06:50:29.431Z"
   },
   {
    "duration": 7084,
    "start_time": "2024-07-06T06:50:30.212Z"
   },
   {
    "duration": 181,
    "start_time": "2024-07-06T06:56:51.980Z"
   },
   {
    "duration": 167,
    "start_time": "2024-07-06T06:57:00.307Z"
   },
   {
    "duration": 208,
    "start_time": "2024-07-06T07:01:37.765Z"
   },
   {
    "duration": 210,
    "start_time": "2024-07-06T07:06:19.667Z"
   },
   {
    "duration": 222,
    "start_time": "2024-07-06T07:07:44.122Z"
   },
   {
    "duration": 204,
    "start_time": "2024-07-06T07:08:58.728Z"
   },
   {
    "duration": 138,
    "start_time": "2024-07-06T07:09:07.288Z"
   },
   {
    "duration": 90,
    "start_time": "2024-07-06T07:11:37.566Z"
   },
   {
    "duration": 147,
    "start_time": "2024-07-06T07:13:45.893Z"
   },
   {
    "duration": 70,
    "start_time": "2024-07-06T07:17:52.309Z"
   },
   {
    "duration": 98,
    "start_time": "2024-07-06T07:21:55.342Z"
   },
   {
    "duration": 89,
    "start_time": "2024-07-06T07:21:59.616Z"
   },
   {
    "duration": 3226,
    "start_time": "2024-07-06T07:23:01.637Z"
   },
   {
    "duration": 14,
    "start_time": "2024-07-06T07:25:25.640Z"
   },
   {
    "duration": 2875,
    "start_time": "2024-07-06T07:25:29.221Z"
   },
   {
    "duration": 112,
    "start_time": "2024-07-06T07:37:47.460Z"
   },
   {
    "duration": 11,
    "start_time": "2024-07-06T07:38:25.695Z"
   },
   {
    "duration": 15,
    "start_time": "2024-07-06T07:38:28.407Z"
   },
   {
    "duration": 7633,
    "start_time": "2024-07-06T07:38:47.914Z"
   },
   {
    "duration": 48,
    "start_time": "2024-07-06T07:39:22.380Z"
   },
   {
    "duration": 246,
    "start_time": "2024-07-06T07:39:27.187Z"
   },
   {
    "duration": 244,
    "start_time": "2024-07-06T07:41:06.375Z"
   },
   {
    "duration": 14,
    "start_time": "2024-07-06T07:41:49.366Z"
   },
   {
    "duration": 4082,
    "start_time": "2024-07-06T07:42:17.175Z"
   },
   {
    "duration": 2387,
    "start_time": "2024-07-06T07:46:56.758Z"
   },
   {
    "duration": 4895,
    "start_time": "2024-07-06T07:47:32.683Z"
   },
   {
    "duration": 1451,
    "start_time": "2024-07-06T07:47:37.580Z"
   },
   {
    "duration": 12,
    "start_time": "2024-07-06T07:47:39.033Z"
   },
   {
    "duration": 1266,
    "start_time": "2024-07-06T07:47:39.047Z"
   },
   {
    "duration": 37,
    "start_time": "2024-07-06T07:47:40.315Z"
   },
   {
    "duration": 36,
    "start_time": "2024-07-06T07:47:40.353Z"
   },
   {
    "duration": 124,
    "start_time": "2024-07-06T07:47:40.390Z"
   },
   {
    "duration": 75726,
    "start_time": "2024-07-06T07:47:40.515Z"
   },
   {
    "duration": 74,
    "start_time": "2024-07-06T07:48:56.243Z"
   },
   {
    "duration": 8008,
    "start_time": "2024-07-06T07:48:56.320Z"
   },
   {
    "duration": 343,
    "start_time": "2024-07-06T07:49:04.330Z"
   },
   {
    "duration": 165,
    "start_time": "2024-07-06T07:49:04.675Z"
   },
   {
    "duration": 72,
    "start_time": "2024-07-06T07:49:04.842Z"
   },
   {
    "duration": 3034,
    "start_time": "2024-07-06T07:49:04.916Z"
   },
   {
    "duration": 11,
    "start_time": "2024-07-06T07:49:07.960Z"
   },
   {
    "duration": 72415,
    "start_time": "2024-07-06T07:49:07.973Z"
   },
   {
    "duration": 4535,
    "start_time": "2024-07-06T07:50:20.391Z"
   },
   {
    "duration": 2279,
    "start_time": "2024-07-06T07:52:10.768Z"
   },
   {
    "duration": 32277,
    "start_time": "2024-07-06T07:52:16.007Z"
   },
   {
    "duration": 13,
    "start_time": "2024-07-06T07:53:34.090Z"
   },
   {
    "duration": 40840,
    "start_time": "2024-07-06T07:53:38.807Z"
   },
   {
    "duration": 10,
    "start_time": "2024-07-06T08:03:10.306Z"
   },
   {
    "duration": 73,
    "start_time": "2024-07-06T08:06:32.288Z"
   },
   {
    "duration": 4786,
    "start_time": "2024-07-06T08:06:38.885Z"
   },
   {
    "duration": 1464,
    "start_time": "2024-07-06T08:06:43.673Z"
   },
   {
    "duration": 13,
    "start_time": "2024-07-06T08:06:45.139Z"
   },
   {
    "duration": 3193,
    "start_time": "2024-07-06T08:06:45.153Z"
   },
   {
    "duration": 46,
    "start_time": "2024-07-06T08:06:48.349Z"
   },
   {
    "duration": 45,
    "start_time": "2024-07-06T08:06:48.397Z"
   },
   {
    "duration": 112,
    "start_time": "2024-07-06T08:06:48.444Z"
   },
   {
    "duration": 77371,
    "start_time": "2024-07-06T08:06:48.560Z"
   },
   {
    "duration": 82,
    "start_time": "2024-07-06T08:08:05.932Z"
   },
   {
    "duration": 8157,
    "start_time": "2024-07-06T08:08:06.015Z"
   },
   {
    "duration": 323,
    "start_time": "2024-07-06T08:08:14.173Z"
   },
   {
    "duration": 171,
    "start_time": "2024-07-06T08:08:14.498Z"
   },
   {
    "duration": 72,
    "start_time": "2024-07-06T08:08:14.671Z"
   },
   {
    "duration": 3009,
    "start_time": "2024-07-06T08:08:14.760Z"
   },
   {
    "duration": 9,
    "start_time": "2024-07-06T08:08:17.771Z"
   },
   {
    "duration": 41328,
    "start_time": "2024-07-06T08:08:17.782Z"
   },
   {
    "duration": 4267,
    "start_time": "2024-07-06T08:08:59.111Z"
   },
   {
    "duration": 62,
    "start_time": "2024-07-06T08:09:03.379Z"
   },
   {
    "duration": 115,
    "start_time": "2024-07-06T08:11:31.948Z"
   },
   {
    "duration": 15,
    "start_time": "2024-07-06T08:11:50.196Z"
   },
   {
    "duration": 26,
    "start_time": "2024-07-06T08:12:00.676Z"
   },
   {
    "duration": 1156,
    "start_time": "2024-07-06T08:12:53.248Z"
   },
   {
    "duration": 59,
    "start_time": "2024-07-06T08:13:01.457Z"
   },
   {
    "duration": 59,
    "start_time": "2024-07-06T08:13:14.656Z"
   },
   {
    "duration": 1077,
    "start_time": "2024-07-06T08:14:24.925Z"
   },
   {
    "duration": 64,
    "start_time": "2024-07-06T08:14:29.524Z"
   },
   {
    "duration": 10,
    "start_time": "2024-07-06T08:20:16.571Z"
   },
   {
    "duration": 59,
    "start_time": "2024-07-06T08:23:37.255Z"
   },
   {
    "duration": 3,
    "start_time": "2024-07-06T08:26:35.607Z"
   },
   {
    "duration": 69,
    "start_time": "2024-07-06T08:27:19.954Z"
   },
   {
    "duration": 12,
    "start_time": "2024-07-06T08:27:22.626Z"
   },
   {
    "duration": 3,
    "start_time": "2024-07-06T08:27:23.401Z"
   },
   {
    "duration": 69,
    "start_time": "2024-07-06T08:27:32.934Z"
   },
   {
    "duration": 3,
    "start_time": "2024-07-06T08:27:34.614Z"
   },
   {
    "duration": 3,
    "start_time": "2024-07-06T08:30:36.663Z"
   },
   {
    "duration": 70,
    "start_time": "2024-07-06T08:30:37.837Z"
   },
   {
    "duration": 83,
    "start_time": "2024-07-06T08:31:07.207Z"
   },
   {
    "duration": 2,
    "start_time": "2024-07-06T08:37:45.412Z"
   },
   {
    "duration": 2,
    "start_time": "2024-07-06T08:40:24.044Z"
   },
   {
    "duration": 9,
    "start_time": "2024-07-06T08:40:27.578Z"
   },
   {
    "duration": 11,
    "start_time": "2024-07-06T08:41:47.517Z"
   },
   {
    "duration": 10,
    "start_time": "2024-07-06T08:43:40.015Z"
   },
   {
    "duration": 10,
    "start_time": "2024-07-06T08:44:21.514Z"
   },
   {
    "duration": 19,
    "start_time": "2024-07-06T08:44:53.193Z"
   },
   {
    "duration": 3,
    "start_time": "2024-07-06T08:45:00.603Z"
   },
   {
    "duration": 12,
    "start_time": "2024-07-06T08:45:30.944Z"
   },
   {
    "duration": 5,
    "start_time": "2024-07-06T08:45:54.673Z"
   },
   {
    "duration": 9,
    "start_time": "2024-07-06T08:46:15.728Z"
   },
   {
    "duration": 3,
    "start_time": "2024-07-06T08:46:54.893Z"
   },
   {
    "duration": 11,
    "start_time": "2024-07-06T08:46:55.670Z"
   },
   {
    "duration": 5,
    "start_time": "2024-07-06T08:47:18.139Z"
   },
   {
    "duration": 3,
    "start_time": "2024-07-06T08:47:25.605Z"
   },
   {
    "duration": 3,
    "start_time": "2024-07-06T08:47:26.425Z"
   },
   {
    "duration": 9,
    "start_time": "2024-07-06T08:47:27.816Z"
   },
   {
    "duration": 4,
    "start_time": "2024-07-06T08:48:11.756Z"
   },
   {
    "duration": 2,
    "start_time": "2024-07-06T08:48:19.581Z"
   },
   {
    "duration": 3,
    "start_time": "2024-07-06T08:51:03.770Z"
   },
   {
    "duration": 11,
    "start_time": "2024-07-06T08:51:22.725Z"
   },
   {
    "duration": 8957,
    "start_time": "2024-07-06T08:52:41.850Z"
   },
   {
    "duration": 3,
    "start_time": "2024-07-06T08:53:11.597Z"
   },
   {
    "duration": 3,
    "start_time": "2024-07-06T08:53:12.604Z"
   },
   {
    "duration": 3,
    "start_time": "2024-07-06T08:53:12.984Z"
   },
   {
    "duration": 3,
    "start_time": "2024-07-06T08:53:13.909Z"
   },
   {
    "duration": 23097,
    "start_time": "2024-07-06T08:53:15.705Z"
   },
   {
    "duration": 4,
    "start_time": "2024-07-06T08:54:22.861Z"
   },
   {
    "duration": 3,
    "start_time": "2024-07-06T08:54:26.856Z"
   },
   {
    "duration": 22789,
    "start_time": "2024-07-06T08:54:27.454Z"
   },
   {
    "duration": 4,
    "start_time": "2024-07-06T09:00:18.308Z"
   },
   {
    "duration": 3,
    "start_time": "2024-07-06T09:00:18.712Z"
   },
   {
    "duration": 3,
    "start_time": "2024-07-06T09:00:19.193Z"
   },
   {
    "duration": 3,
    "start_time": "2024-07-06T09:00:20.545Z"
   },
   {
    "duration": 9050,
    "start_time": "2024-07-06T09:00:29.832Z"
   },
   {
    "duration": 11113,
    "start_time": "2024-07-06T09:01:02.971Z"
   },
   {
    "duration": 4,
    "start_time": "2024-07-06T09:01:36.956Z"
   },
   {
    "duration": 3,
    "start_time": "2024-07-06T09:01:37.595Z"
   },
   {
    "duration": 3,
    "start_time": "2024-07-06T09:01:38.623Z"
   },
   {
    "duration": 3,
    "start_time": "2024-07-06T09:01:40.119Z"
   },
   {
    "duration": 8890,
    "start_time": "2024-07-06T09:01:41.500Z"
   },
   {
    "duration": 3,
    "start_time": "2024-07-06T09:02:34.206Z"
   },
   {
    "duration": 3,
    "start_time": "2024-07-06T09:02:34.646Z"
   },
   {
    "duration": 2,
    "start_time": "2024-07-06T09:02:35.015Z"
   },
   {
    "duration": 3,
    "start_time": "2024-07-06T09:02:35.486Z"
   },
   {
    "duration": 23103,
    "start_time": "2024-07-06T09:02:36.344Z"
   },
   {
    "duration": 10,
    "start_time": "2024-07-06T09:03:51.541Z"
   },
   {
    "duration": 2,
    "start_time": "2024-07-06T09:03:52.043Z"
   },
   {
    "duration": 3,
    "start_time": "2024-07-06T09:04:59.493Z"
   },
   {
    "duration": 3,
    "start_time": "2024-07-06T09:05:00.293Z"
   },
   {
    "duration": 3,
    "start_time": "2024-07-06T09:05:00.652Z"
   },
   {
    "duration": 3,
    "start_time": "2024-07-06T09:05:01.957Z"
   },
   {
    "duration": 198382,
    "start_time": "2024-07-06T09:05:04.144Z"
   },
   {
    "duration": 18,
    "start_time": "2024-07-06T09:11:47.275Z"
   },
   {
    "duration": 13,
    "start_time": "2024-07-06T09:12:24.515Z"
   },
   {
    "duration": 4,
    "start_time": "2024-07-06T09:13:03.379Z"
   },
   {
    "duration": 5,
    "start_time": "2024-07-06T09:13:06.564Z"
   },
   {
    "duration": 85510,
    "start_time": "2024-07-06T09:13:11.134Z"
   },
   {
    "duration": 4,
    "start_time": "2024-07-06T09:14:36.647Z"
   },
   {
    "duration": 933,
    "start_time": "2024-07-06T09:17:17.159Z"
   },
   {
    "duration": 7,
    "start_time": "2024-07-06T09:17:23.675Z"
   },
   {
    "duration": 7,
    "start_time": "2024-07-06T09:17:39.280Z"
   },
   {
    "duration": 68,
    "start_time": "2024-07-06T09:26:12.986Z"
   },
   {
    "duration": 5,
    "start_time": "2024-07-06T09:29:05.634Z"
   },
   {
    "duration": 81941,
    "start_time": "2024-07-06T09:29:14.047Z"
   },
   {
    "duration": 4,
    "start_time": "2024-07-06T09:30:35.991Z"
   },
   {
    "duration": 68,
    "start_time": "2024-07-06T09:34:19.796Z"
   },
   {
    "duration": 14,
    "start_time": "2024-07-06T09:36:40.470Z"
   },
   {
    "duration": 13,
    "start_time": "2024-07-06T09:38:18.439Z"
   },
   {
    "duration": 5,
    "start_time": "2024-07-06T09:38:46.052Z"
   },
   {
    "duration": 18,
    "start_time": "2024-07-06T09:38:52.476Z"
   },
   {
    "duration": 63,
    "start_time": "2024-07-06T09:39:02.874Z"
   },
   {
    "duration": 3,
    "start_time": "2024-07-06T09:39:03.497Z"
   },
   {
    "duration": 10,
    "start_time": "2024-07-06T09:39:04.020Z"
   },
   {
    "duration": 302,
    "start_time": "2024-07-06T09:39:05.187Z"
   },
   {
    "duration": 283,
    "start_time": "2024-07-06T09:39:34.077Z"
   },
   {
    "duration": 4,
    "start_time": "2024-07-06T09:40:08.243Z"
   },
   {
    "duration": 74,
    "start_time": "2024-07-06T09:40:48.171Z"
   },
   {
    "duration": 1721,
    "start_time": "2024-07-06T09:40:48.820Z"
   },
   {
    "duration": 5,
    "start_time": "2024-07-06T09:41:44.866Z"
   },
   {
    "duration": 8,
    "start_time": "2024-07-06T09:41:45.351Z"
   },
   {
    "duration": 1064,
    "start_time": "2024-07-06T09:41:46.414Z"
   },
   {
    "duration": 0,
    "start_time": "2024-07-06T09:41:47.480Z"
   },
   {
    "duration": 3,
    "start_time": "2024-07-06T09:41:54.933Z"
   },
   {
    "duration": 8,
    "start_time": "2024-07-06T09:41:55.509Z"
   },
   {
    "duration": 73,
    "start_time": "2024-07-06T09:41:56.659Z"
   },
   {
    "duration": 1725,
    "start_time": "2024-07-06T09:41:57.888Z"
   },
   {
    "duration": 5,
    "start_time": "2024-07-06T09:42:40.940Z"
   },
   {
    "duration": 78,
    "start_time": "2024-07-06T09:43:35.879Z"
   },
   {
    "duration": 1731,
    "start_time": "2024-07-06T09:43:36.556Z"
   },
   {
    "duration": 27,
    "start_time": "2024-07-06T09:44:34.125Z"
   },
   {
    "duration": 71,
    "start_time": "2024-07-06T09:44:56.103Z"
   },
   {
    "duration": 4,
    "start_time": "2024-07-06T09:46:04.563Z"
   },
   {
    "duration": 3,
    "start_time": "2024-07-06T09:46:17.027Z"
   },
   {
    "duration": 30836,
    "start_time": "2024-07-06T09:46:27.699Z"
   },
   {
    "duration": 4,
    "start_time": "2024-07-06T09:46:58.537Z"
   },
   {
    "duration": 3,
    "start_time": "2024-07-06T09:47:06.717Z"
   },
   {
    "duration": 5,
    "start_time": "2024-07-06T09:47:11.912Z"
   },
   {
    "duration": 4,
    "start_time": "2024-07-06T09:47:31.914Z"
   },
   {
    "duration": 74,
    "start_time": "2024-07-06T09:47:48.035Z"
   },
   {
    "duration": 1718,
    "start_time": "2024-07-06T09:48:34.196Z"
   },
   {
    "duration": 602,
    "start_time": "2024-07-06T09:50:46.299Z"
   },
   {
    "duration": 7,
    "start_time": "2024-07-06T09:50:48.253Z"
   },
   {
    "duration": 4,
    "start_time": "2024-07-06T09:50:48.805Z"
   },
   {
    "duration": 4,
    "start_time": "2024-07-06T09:50:49.888Z"
   },
   {
    "duration": 3,
    "start_time": "2024-07-06T09:50:51.182Z"
   },
   {
    "duration": 31722,
    "start_time": "2024-07-06T09:50:52.058Z"
   },
   {
    "duration": 5,
    "start_time": "2024-07-06T09:51:23.782Z"
   },
   {
    "duration": 5,
    "start_time": "2024-07-06T09:51:23.789Z"
   },
   {
    "duration": 128,
    "start_time": "2024-07-06T09:51:23.796Z"
   },
   {
    "duration": 1941,
    "start_time": "2024-07-06T09:51:23.926Z"
   },
   {
    "duration": 4,
    "start_time": "2024-07-06T09:54:06.177Z"
   },
   {
    "duration": 7660,
    "start_time": "2024-07-06T09:57:42.995Z"
   },
   {
    "duration": 1354,
    "start_time": "2024-07-06T09:57:50.657Z"
   },
   {
    "duration": 13,
    "start_time": "2024-07-06T09:57:52.013Z"
   },
   {
    "duration": 1190,
    "start_time": "2024-07-06T09:57:52.028Z"
   },
   {
    "duration": 43,
    "start_time": "2024-07-06T09:57:53.219Z"
   },
   {
    "duration": 29,
    "start_time": "2024-07-06T09:57:53.264Z"
   },
   {
    "duration": 120,
    "start_time": "2024-07-06T09:57:53.295Z"
   },
   {
    "duration": 74506,
    "start_time": "2024-07-06T09:57:53.416Z"
   },
   {
    "duration": 89,
    "start_time": "2024-07-06T09:59:07.924Z"
   },
   {
    "duration": 8023,
    "start_time": "2024-07-06T09:59:08.016Z"
   },
   {
    "duration": 321,
    "start_time": "2024-07-06T09:59:16.041Z"
   },
   {
    "duration": 207,
    "start_time": "2024-07-06T09:59:16.364Z"
   },
   {
    "duration": 76,
    "start_time": "2024-07-06T09:59:16.572Z"
   },
   {
    "duration": 2860,
    "start_time": "2024-07-06T09:59:16.649Z"
   },
   {
    "duration": 9,
    "start_time": "2024-07-06T09:59:19.511Z"
   },
   {
    "duration": 40460,
    "start_time": "2024-07-06T09:59:19.522Z"
   },
   {
    "duration": 4250,
    "start_time": "2024-07-06T09:59:59.984Z"
   },
   {
    "duration": 66,
    "start_time": "2024-07-06T10:00:04.236Z"
   },
   {
    "duration": 2,
    "start_time": "2024-07-06T10:00:04.304Z"
   },
   {
    "duration": 574,
    "start_time": "2024-07-06T10:00:04.308Z"
   },
   {
    "duration": 7,
    "start_time": "2024-07-06T10:00:04.883Z"
   },
   {
    "duration": 34,
    "start_time": "2024-07-06T10:00:04.891Z"
   },
   {
    "duration": 140,
    "start_time": "2024-07-06T10:00:04.926Z"
   },
   {
    "duration": 0,
    "start_time": "2024-07-06T10:00:05.068Z"
   },
   {
    "duration": 0,
    "start_time": "2024-07-06T10:00:05.069Z"
   },
   {
    "duration": 0,
    "start_time": "2024-07-06T10:00:05.070Z"
   },
   {
    "duration": 0,
    "start_time": "2024-07-06T10:00:05.071Z"
   },
   {
    "duration": 0,
    "start_time": "2024-07-06T10:00:05.072Z"
   },
   {
    "duration": 0,
    "start_time": "2024-07-06T10:00:05.073Z"
   },
   {
    "duration": 0,
    "start_time": "2024-07-06T10:00:05.074Z"
   },
   {
    "duration": 0,
    "start_time": "2024-07-06T10:00:05.075Z"
   },
   {
    "duration": 4,
    "start_time": "2024-07-06T10:01:59.218Z"
   },
   {
    "duration": 4,
    "start_time": "2024-07-06T10:02:19.640Z"
   },
   {
    "duration": 10,
    "start_time": "2024-07-06T10:02:21.140Z"
   },
   {
    "duration": 67,
    "start_time": "2024-07-06T10:02:45.289Z"
   },
   {
    "duration": 3,
    "start_time": "2024-07-06T10:02:45.899Z"
   },
   {
    "duration": 521,
    "start_time": "2024-07-06T10:02:46.358Z"
   },
   {
    "duration": 7,
    "start_time": "2024-07-06T10:02:46.881Z"
   },
   {
    "duration": 5,
    "start_time": "2024-07-06T10:02:47.259Z"
   },
   {
    "duration": 4,
    "start_time": "2024-07-06T10:02:48.203Z"
   },
   {
    "duration": 3,
    "start_time": "2024-07-06T10:02:49.084Z"
   },
   {
    "duration": 7570,
    "start_time": "2024-07-06T10:05:58.014Z"
   },
   {
    "duration": 1310,
    "start_time": "2024-07-06T10:06:05.586Z"
   },
   {
    "duration": 30,
    "start_time": "2024-07-06T10:06:06.898Z"
   },
   {
    "duration": 1188,
    "start_time": "2024-07-06T10:06:06.931Z"
   },
   {
    "duration": 47,
    "start_time": "2024-07-06T10:06:08.120Z"
   },
   {
    "duration": 30,
    "start_time": "2024-07-06T10:06:08.169Z"
   },
   {
    "duration": 122,
    "start_time": "2024-07-06T10:06:08.201Z"
   },
   {
    "duration": 75713,
    "start_time": "2024-07-06T10:06:08.325Z"
   },
   {
    "duration": 75,
    "start_time": "2024-07-06T10:07:24.040Z"
   },
   {
    "duration": 8087,
    "start_time": "2024-07-06T10:07:24.118Z"
   },
   {
    "duration": 362,
    "start_time": "2024-07-06T10:07:32.207Z"
   },
   {
    "duration": 167,
    "start_time": "2024-07-06T10:07:32.571Z"
   },
   {
    "duration": 76,
    "start_time": "2024-07-06T10:07:32.740Z"
   },
   {
    "duration": 2950,
    "start_time": "2024-07-06T10:07:32.817Z"
   },
   {
    "duration": 10,
    "start_time": "2024-07-06T10:07:35.769Z"
   },
   {
    "duration": 41516,
    "start_time": "2024-07-06T10:07:35.780Z"
   },
   {
    "duration": 4076,
    "start_time": "2024-07-06T10:08:17.297Z"
   },
   {
    "duration": 58,
    "start_time": "2024-07-06T10:08:21.375Z"
   },
   {
    "duration": 3,
    "start_time": "2024-07-06T10:08:21.435Z"
   },
   {
    "duration": 540,
    "start_time": "2024-07-06T10:08:21.439Z"
   },
   {
    "duration": 6,
    "start_time": "2024-07-06T10:08:21.981Z"
   },
   {
    "duration": 4,
    "start_time": "2024-07-06T10:08:21.988Z"
   },
   {
    "duration": 3,
    "start_time": "2024-07-06T10:08:21.993Z"
   },
   {
    "duration": 0,
    "start_time": "2024-07-06T10:11:43.689Z"
   },
   {
    "duration": 0,
    "start_time": "2024-07-06T10:11:43.690Z"
   },
   {
    "duration": 0,
    "start_time": "2024-07-06T10:11:43.691Z"
   },
   {
    "duration": 0,
    "start_time": "2024-07-06T10:11:43.692Z"
   },
   {
    "duration": 0,
    "start_time": "2024-07-06T10:11:43.693Z"
   },
   {
    "duration": 0,
    "start_time": "2024-07-06T10:11:43.694Z"
   },
   {
    "duration": 0,
    "start_time": "2024-07-06T10:11:43.695Z"
   },
   {
    "duration": 11,
    "start_time": "2024-07-06T10:14:05.440Z"
   },
   {
    "duration": 7,
    "start_time": "2024-07-06T10:14:43.190Z"
   },
   {
    "duration": 10,
    "start_time": "2024-07-06T10:14:46.691Z"
   },
   {
    "duration": 12,
    "start_time": "2024-07-06T10:16:02.589Z"
   },
   {
    "duration": 12,
    "start_time": "2024-07-06T10:16:43.410Z"
   },
   {
    "duration": 26,
    "start_time": "2024-07-06T10:17:46.907Z"
   },
   {
    "duration": 23,
    "start_time": "2024-07-06T10:18:11.916Z"
   },
   {
    "duration": 12,
    "start_time": "2024-07-06T10:18:14.635Z"
   },
   {
    "duration": 12,
    "start_time": "2024-07-06T10:19:42.728Z"
   },
   {
    "duration": 12,
    "start_time": "2024-07-06T10:21:51.399Z"
   },
   {
    "duration": 19,
    "start_time": "2024-07-06T10:23:03.885Z"
   },
   {
    "duration": 7,
    "start_time": "2024-07-06T10:23:14.239Z"
   },
   {
    "duration": 13,
    "start_time": "2024-07-06T10:23:21.915Z"
   },
   {
    "duration": 11,
    "start_time": "2024-07-06T10:24:40.905Z"
   },
   {
    "duration": 71,
    "start_time": "2024-07-06T10:27:00.316Z"
   },
   {
    "duration": 105,
    "start_time": "2024-07-06T10:27:04.355Z"
   },
   {
    "duration": 25,
    "start_time": "2024-07-06T10:27:17.692Z"
   },
   {
    "duration": 2371,
    "start_time": "2024-07-06T10:28:02.116Z"
   },
   {
    "duration": 1112,
    "start_time": "2024-07-06T10:31:40.479Z"
   },
   {
    "duration": 129,
    "start_time": "2024-07-06T10:32:40.927Z"
   },
   {
    "duration": 53,
    "start_time": "2024-07-06T10:32:49.161Z"
   },
   {
    "duration": 21,
    "start_time": "2024-07-06T10:32:55.598Z"
   },
   {
    "duration": 22,
    "start_time": "2024-07-06T10:33:15.497Z"
   },
   {
    "duration": 2440,
    "start_time": "2024-07-06T10:33:23.417Z"
   },
   {
    "duration": 42,
    "start_time": "2024-07-06T10:33:48.750Z"
   },
   {
    "duration": 39,
    "start_time": "2024-07-06T10:33:56.925Z"
   },
   {
    "duration": 361976,
    "start_time": "2024-07-06T10:33:58.288Z"
   },
   {
    "duration": 94,
    "start_time": "2024-07-06T10:40:00.266Z"
   },
   {
    "duration": 25660,
    "start_time": "2024-07-06T10:40:00.362Z"
   },
   {
    "duration": 72,
    "start_time": "2024-07-06T10:40:26.024Z"
   },
   {
    "duration": 25868,
    "start_time": "2024-07-06T10:40:34.396Z"
   },
   {
    "duration": 26,
    "start_time": "2024-07-06T10:42:01.737Z"
   },
   {
    "duration": 4917,
    "start_time": "2024-07-06T10:43:36.860Z"
   },
   {
    "duration": 23,
    "start_time": "2024-07-06T10:44:21.251Z"
   },
   {
    "duration": 4915,
    "start_time": "2024-07-06T10:44:53.451Z"
   },
   {
    "duration": 4921,
    "start_time": "2024-07-06T10:47:05.260Z"
   },
   {
    "duration": 5053,
    "start_time": "2024-07-06T10:47:28.409Z"
   },
   {
    "duration": 5039,
    "start_time": "2024-07-06T10:48:05.722Z"
   },
   {
    "duration": 5014,
    "start_time": "2024-07-06T10:49:29.749Z"
   },
   {
    "duration": 5106,
    "start_time": "2024-07-06T10:49:59.054Z"
   },
   {
    "duration": 5050,
    "start_time": "2024-07-06T10:50:32.411Z"
   },
   {
    "duration": 5030,
    "start_time": "2024-07-06T10:51:27.638Z"
   },
   {
    "duration": 68,
    "start_time": "2024-07-06T10:52:30.816Z"
   },
   {
    "duration": 82408,
    "start_time": "2024-07-06T10:52:35.864Z"
   },
   {
    "duration": 0,
    "start_time": "2024-07-06T10:53:58.274Z"
   },
   {
    "duration": 91971,
    "start_time": "2024-07-06T10:54:02.222Z"
   },
   {
    "duration": 25260,
    "start_time": "2024-07-06T10:55:34.195Z"
   },
   {
    "duration": 16,
    "start_time": "2024-07-06T10:56:30.475Z"
   },
   {
    "duration": 9,
    "start_time": "2024-07-06T10:56:46.347Z"
   },
   {
    "duration": 72,
    "start_time": "2024-07-06T10:58:42.934Z"
   },
   {
    "duration": 9,
    "start_time": "2024-07-06T10:59:04.931Z"
   },
   {
    "duration": 6714,
    "start_time": "2024-07-06T10:59:09.747Z"
   },
   {
    "duration": 14,
    "start_time": "2024-07-06T10:59:39.967Z"
   },
   {
    "duration": 55,
    "start_time": "2024-07-06T11:00:13.405Z"
   },
   {
    "duration": 84,
    "start_time": "2024-07-06T11:01:29.390Z"
   },
   {
    "duration": 7216,
    "start_time": "2024-07-06T11:01:29.991Z"
   },
   {
    "duration": 54,
    "start_time": "2024-07-06T11:01:37.210Z"
   },
   {
    "duration": 4974,
    "start_time": "2024-07-06T11:02:29.514Z"
   },
   {
    "duration": 25742,
    "start_time": "2024-07-06T11:03:45.795Z"
   },
   {
    "duration": 10,
    "start_time": "2024-07-06T11:04:11.538Z"
   },
   {
    "duration": 28018,
    "start_time": "2024-07-06T11:07:53.677Z"
   },
   {
    "duration": 7770,
    "start_time": "2024-07-06T11:09:20.510Z"
   },
   {
    "duration": 1317,
    "start_time": "2024-07-06T11:09:28.282Z"
   },
   {
    "duration": 13,
    "start_time": "2024-07-06T11:09:29.601Z"
   },
   {
    "duration": 1166,
    "start_time": "2024-07-06T11:09:29.617Z"
   },
   {
    "duration": 39,
    "start_time": "2024-07-06T11:09:30.784Z"
   },
   {
    "duration": 76,
    "start_time": "2024-07-06T11:09:30.824Z"
   },
   {
    "duration": 206,
    "start_time": "2024-07-06T11:09:30.902Z"
   },
   {
    "duration": 76643,
    "start_time": "2024-07-06T11:09:31.110Z"
   },
   {
    "duration": 66,
    "start_time": "2024-07-06T11:10:47.761Z"
   },
   {
    "duration": 8011,
    "start_time": "2024-07-06T11:10:47.830Z"
   },
   {
    "duration": 352,
    "start_time": "2024-07-06T11:10:55.843Z"
   },
   {
    "duration": 167,
    "start_time": "2024-07-06T11:10:56.197Z"
   },
   {
    "duration": 74,
    "start_time": "2024-07-06T11:10:56.365Z"
   },
   {
    "duration": 2951,
    "start_time": "2024-07-06T11:10:56.441Z"
   },
   {
    "duration": 10,
    "start_time": "2024-07-06T11:10:59.393Z"
   },
   {
    "duration": 41868,
    "start_time": "2024-07-06T11:10:59.405Z"
   },
   {
    "duration": 4389,
    "start_time": "2024-07-06T11:11:41.275Z"
   },
   {
    "duration": 2,
    "start_time": "2024-07-06T11:11:45.666Z"
   },
   {
    "duration": 146,
    "start_time": "2024-07-06T11:11:45.670Z"
   },
   {
    "duration": 50,
    "start_time": "2024-07-06T11:11:45.817Z"
   },
   {
    "duration": 4996,
    "start_time": "2024-07-06T11:11:45.868Z"
   },
   {
    "duration": 8314,
    "start_time": "2024-07-06T11:23:35.806Z"
   },
   {
    "duration": 1360,
    "start_time": "2024-07-06T11:23:44.123Z"
   },
   {
    "duration": 13,
    "start_time": "2024-07-06T11:23:45.485Z"
   },
   {
    "duration": 1272,
    "start_time": "2024-07-06T11:23:45.501Z"
   },
   {
    "duration": 42,
    "start_time": "2024-07-06T11:23:46.775Z"
   },
   {
    "duration": 56,
    "start_time": "2024-07-06T11:23:46.818Z"
   },
   {
    "duration": 302,
    "start_time": "2024-07-06T11:23:46.876Z"
   },
   {
    "duration": 200,
    "start_time": "2024-07-06T11:23:47.180Z"
   },
   {
    "duration": 79180,
    "start_time": "2024-07-06T11:23:47.382Z"
   },
   {
    "duration": 66,
    "start_time": "2024-07-06T11:25:06.565Z"
   },
   {
    "duration": 8463,
    "start_time": "2024-07-06T11:25:06.633Z"
   },
   {
    "duration": 322,
    "start_time": "2024-07-06T11:25:15.097Z"
   },
   {
    "duration": 176,
    "start_time": "2024-07-06T11:25:15.421Z"
   },
   {
    "duration": 91,
    "start_time": "2024-07-06T11:25:15.599Z"
   },
   {
    "duration": 2991,
    "start_time": "2024-07-06T11:25:15.692Z"
   },
   {
    "duration": 10,
    "start_time": "2024-07-06T11:25:18.685Z"
   },
   {
    "duration": 46993,
    "start_time": "2024-07-06T11:25:18.697Z"
   },
   {
    "duration": 4652,
    "start_time": "2024-07-06T11:26:05.692Z"
   },
   {
    "duration": 4,
    "start_time": "2024-07-06T11:26:10.345Z"
   },
   {
    "duration": 175,
    "start_time": "2024-07-06T11:26:10.351Z"
   },
   {
    "duration": 52,
    "start_time": "2024-07-06T11:26:10.528Z"
   },
   {
    "duration": 4979,
    "start_time": "2024-07-06T11:26:10.582Z"
   },
   {
    "duration": 7768,
    "start_time": "2024-07-06T11:31:48.873Z"
   },
   {
    "duration": 1466,
    "start_time": "2024-07-06T11:31:56.644Z"
   },
   {
    "duration": 15,
    "start_time": "2024-07-06T11:31:58.112Z"
   },
   {
    "duration": 1217,
    "start_time": "2024-07-06T11:31:58.129Z"
   },
   {
    "duration": 51,
    "start_time": "2024-07-06T11:31:59.347Z"
   },
   {
    "duration": 38,
    "start_time": "2024-07-06T11:31:59.400Z"
   },
   {
    "duration": 172,
    "start_time": "2024-07-06T11:31:59.441Z"
   },
   {
    "duration": 89,
    "start_time": "2024-07-06T11:31:59.615Z"
   },
   {
    "duration": 77803,
    "start_time": "2024-07-06T11:31:59.706Z"
   },
   {
    "duration": 98,
    "start_time": "2024-07-06T11:33:17.512Z"
   },
   {
    "duration": 8188,
    "start_time": "2024-07-06T11:33:17.612Z"
   },
   {
    "duration": 346,
    "start_time": "2024-07-06T11:33:25.802Z"
   },
   {
    "duration": 215,
    "start_time": "2024-07-06T11:33:26.150Z"
   },
   {
    "duration": 77,
    "start_time": "2024-07-06T11:33:26.366Z"
   },
   {
    "duration": 2999,
    "start_time": "2024-07-06T11:33:26.445Z"
   },
   {
    "duration": 21,
    "start_time": "2024-07-06T11:33:29.446Z"
   },
   {
    "duration": 48102,
    "start_time": "2024-07-06T11:33:29.469Z"
   },
   {
    "duration": 4861,
    "start_time": "2024-07-06T11:34:17.573Z"
   },
   {
    "duration": 3,
    "start_time": "2024-07-06T11:34:22.436Z"
   },
   {
    "duration": 153,
    "start_time": "2024-07-06T11:34:22.441Z"
   },
   {
    "duration": 43,
    "start_time": "2024-07-06T11:34:22.596Z"
   },
   {
    "duration": 4944,
    "start_time": "2024-07-06T11:34:22.641Z"
   },
   {
    "duration": 0,
    "start_time": "2024-07-06T11:37:36.465Z"
   },
   {
    "duration": 0,
    "start_time": "2024-07-06T11:37:36.467Z"
   },
   {
    "duration": 0,
    "start_time": "2024-07-06T11:37:36.468Z"
   },
   {
    "duration": 0,
    "start_time": "2024-07-06T11:37:36.470Z"
   },
   {
    "duration": 0,
    "start_time": "2024-07-06T11:37:36.472Z"
   },
   {
    "duration": 0,
    "start_time": "2024-07-06T11:37:36.474Z"
   },
   {
    "duration": 7948,
    "start_time": "2024-07-06T11:37:40.477Z"
   },
   {
    "duration": 1334,
    "start_time": "2024-07-06T11:37:48.427Z"
   },
   {
    "duration": 16,
    "start_time": "2024-07-06T11:37:49.763Z"
   },
   {
    "duration": 1193,
    "start_time": "2024-07-06T11:37:49.782Z"
   },
   {
    "duration": 42,
    "start_time": "2024-07-06T11:37:50.977Z"
   },
   {
    "duration": 44,
    "start_time": "2024-07-06T11:37:51.021Z"
   },
   {
    "duration": 159,
    "start_time": "2024-07-06T11:37:51.067Z"
   },
   {
    "duration": 70,
    "start_time": "2024-07-06T11:37:51.228Z"
   },
   {
    "duration": 76697,
    "start_time": "2024-07-06T11:37:51.299Z"
   },
   {
    "duration": 73,
    "start_time": "2024-07-06T11:39:08.000Z"
   },
   {
    "duration": 8129,
    "start_time": "2024-07-06T11:39:08.075Z"
   },
   {
    "duration": 347,
    "start_time": "2024-07-06T11:39:16.206Z"
   },
   {
    "duration": 172,
    "start_time": "2024-07-06T11:39:16.555Z"
   },
   {
    "duration": 84,
    "start_time": "2024-07-06T11:39:16.728Z"
   },
   {
    "duration": 2938,
    "start_time": "2024-07-06T11:39:16.814Z"
   },
   {
    "duration": 17,
    "start_time": "2024-07-06T11:39:19.754Z"
   },
   {
    "duration": 45864,
    "start_time": "2024-07-06T11:39:19.773Z"
   },
   {
    "duration": 4623,
    "start_time": "2024-07-06T11:40:05.638Z"
   },
   {
    "duration": 3,
    "start_time": "2024-07-06T11:40:10.263Z"
   },
   {
    "duration": 159,
    "start_time": "2024-07-06T11:40:10.268Z"
   },
   {
    "duration": 52,
    "start_time": "2024-07-06T11:40:10.428Z"
   },
   {
    "duration": 4886,
    "start_time": "2024-07-06T11:40:10.482Z"
   },
   {
    "duration": 9975,
    "start_time": "2024-07-06T12:08:07.749Z"
   },
   {
    "duration": 2079,
    "start_time": "2024-07-06T12:08:17.727Z"
   },
   {
    "duration": 79,
    "start_time": "2024-07-06T12:08:19.807Z"
   },
   {
    "duration": 1907,
    "start_time": "2024-07-06T12:08:19.888Z"
   },
   {
    "duration": 41,
    "start_time": "2024-07-06T12:08:21.797Z"
   },
   {
    "duration": 44,
    "start_time": "2024-07-06T12:08:21.840Z"
   },
   {
    "duration": 214,
    "start_time": "2024-07-06T12:08:21.886Z"
   },
   {
    "duration": 101,
    "start_time": "2024-07-06T12:08:22.102Z"
   },
   {
    "duration": 79448,
    "start_time": "2024-07-06T12:08:22.206Z"
   },
   {
    "duration": 70,
    "start_time": "2024-07-06T12:09:41.655Z"
   },
   {
    "duration": 8188,
    "start_time": "2024-07-06T12:09:41.726Z"
   },
   {
    "duration": 326,
    "start_time": "2024-07-06T12:09:49.916Z"
   },
   {
    "duration": 188,
    "start_time": "2024-07-06T12:09:50.244Z"
   },
   {
    "duration": 85,
    "start_time": "2024-07-06T12:09:50.435Z"
   },
   {
    "duration": 3053,
    "start_time": "2024-07-06T12:09:50.522Z"
   },
   {
    "duration": 11,
    "start_time": "2024-07-06T12:09:53.576Z"
   },
   {
    "duration": 45692,
    "start_time": "2024-07-06T12:09:53.589Z"
   },
   {
    "duration": 4642,
    "start_time": "2024-07-06T12:10:39.283Z"
   },
   {
    "duration": 3,
    "start_time": "2024-07-06T12:10:43.926Z"
   },
   {
    "duration": 169,
    "start_time": "2024-07-06T12:10:43.930Z"
   },
   {
    "duration": 40,
    "start_time": "2024-07-06T12:10:44.100Z"
   },
   {
    "duration": 5022,
    "start_time": "2024-07-06T12:10:44.142Z"
   },
   {
    "duration": 7878,
    "start_time": "2024-07-06T12:13:29.671Z"
   },
   {
    "duration": 1310,
    "start_time": "2024-07-06T12:13:37.552Z"
   },
   {
    "duration": 13,
    "start_time": "2024-07-06T12:13:38.864Z"
   },
   {
    "duration": 1223,
    "start_time": "2024-07-06T12:13:38.880Z"
   },
   {
    "duration": 40,
    "start_time": "2024-07-06T12:13:40.105Z"
   },
   {
    "duration": 58,
    "start_time": "2024-07-06T12:13:40.146Z"
   },
   {
    "duration": 116,
    "start_time": "2024-07-06T12:13:40.205Z"
   },
   {
    "duration": 2,
    "start_time": "2024-07-06T12:13:40.323Z"
   },
   {
    "duration": 77852,
    "start_time": "2024-07-06T12:13:40.327Z"
   },
   {
    "duration": 67,
    "start_time": "2024-07-06T12:14:58.181Z"
   },
   {
    "duration": 8033,
    "start_time": "2024-07-06T12:14:58.260Z"
   },
   {
    "duration": 326,
    "start_time": "2024-07-06T12:15:06.295Z"
   },
   {
    "duration": 166,
    "start_time": "2024-07-06T12:15:06.623Z"
   },
   {
    "duration": 80,
    "start_time": "2024-07-06T12:15:06.791Z"
   },
   {
    "duration": 2995,
    "start_time": "2024-07-06T12:15:06.873Z"
   },
   {
    "duration": 15,
    "start_time": "2024-07-06T12:15:09.870Z"
   },
   {
    "duration": 41484,
    "start_time": "2024-07-06T12:15:09.887Z"
   },
   {
    "duration": 4244,
    "start_time": "2024-07-06T12:15:51.373Z"
   },
   {
    "duration": 3,
    "start_time": "2024-07-06T12:15:55.619Z"
   },
   {
    "duration": 144,
    "start_time": "2024-07-06T12:15:55.624Z"
   },
   {
    "duration": 35,
    "start_time": "2024-07-06T12:15:55.770Z"
   },
   {
    "duration": 5057,
    "start_time": "2024-07-06T12:15:55.807Z"
   },
   {
    "duration": 8527,
    "start_time": "2024-07-06T12:49:20.327Z"
   },
   {
    "duration": 2219,
    "start_time": "2024-07-06T12:49:28.857Z"
   },
   {
    "duration": 14,
    "start_time": "2024-07-06T12:49:31.078Z"
   },
   {
    "duration": 1475,
    "start_time": "2024-07-06T12:49:31.094Z"
   },
   {
    "duration": 41,
    "start_time": "2024-07-06T12:49:32.571Z"
   },
   {
    "duration": 30,
    "start_time": "2024-07-06T12:49:32.614Z"
   },
   {
    "duration": 117,
    "start_time": "2024-07-06T12:49:32.660Z"
   },
   {
    "duration": 2,
    "start_time": "2024-07-06T12:49:32.779Z"
   },
   {
    "duration": 78521,
    "start_time": "2024-07-06T12:49:32.782Z"
   },
   {
    "duration": 72,
    "start_time": "2024-07-06T12:50:51.305Z"
   },
   {
    "duration": 8119,
    "start_time": "2024-07-06T12:50:51.378Z"
   },
   {
    "duration": 329,
    "start_time": "2024-07-06T12:50:59.499Z"
   },
   {
    "duration": 218,
    "start_time": "2024-07-06T12:50:59.830Z"
   },
   {
    "duration": 92,
    "start_time": "2024-07-06T12:51:00.049Z"
   },
   {
    "duration": 2988,
    "start_time": "2024-07-06T12:51:00.142Z"
   },
   {
    "duration": 11,
    "start_time": "2024-07-06T12:51:03.132Z"
   },
   {
    "duration": 41316,
    "start_time": "2024-07-06T12:51:03.160Z"
   },
   {
    "duration": 4371,
    "start_time": "2024-07-06T12:51:44.478Z"
   },
   {
    "duration": 10,
    "start_time": "2024-07-06T12:51:48.851Z"
   },
   {
    "duration": 157,
    "start_time": "2024-07-06T12:51:48.862Z"
   },
   {
    "duration": 67,
    "start_time": "2024-07-06T12:51:49.021Z"
   },
   {
    "duration": 4975,
    "start_time": "2024-07-06T12:51:49.090Z"
   },
   {
    "duration": 0,
    "start_time": "2024-07-06T12:55:13.489Z"
   },
   {
    "duration": 0,
    "start_time": "2024-07-06T12:55:13.491Z"
   },
   {
    "duration": 0,
    "start_time": "2024-07-06T12:55:13.492Z"
   },
   {
    "duration": 0,
    "start_time": "2024-07-06T12:55:13.494Z"
   },
   {
    "duration": 0,
    "start_time": "2024-07-06T12:55:13.495Z"
   },
   {
    "duration": 0,
    "start_time": "2024-07-06T12:55:13.497Z"
   },
   {
    "duration": 80764,
    "start_time": "2024-07-06T12:55:16.443Z"
   },
   {
    "duration": 0,
    "start_time": "2024-07-06T12:56:37.209Z"
   },
   {
    "duration": 63,
    "start_time": "2024-07-06T12:56:38.288Z"
   },
   {
    "duration": 28297,
    "start_time": "2024-07-06T12:57:50.292Z"
   },
   {
    "duration": 88271,
    "start_time": "2024-07-06T12:59:05.907Z"
   },
   {
    "duration": 0,
    "start_time": "2024-07-06T13:00:34.180Z"
   },
   {
    "duration": 0,
    "start_time": "2024-07-06T13:00:34.182Z"
   },
   {
    "duration": 47,
    "start_time": "2024-07-06T13:01:13.904Z"
   },
   {
    "duration": 24,
    "start_time": "2024-07-06T13:01:39.125Z"
   },
   {
    "duration": 190,
    "start_time": "2024-07-06T13:01:43.217Z"
   },
   {
    "duration": 163,
    "start_time": "2024-07-06T13:01:46.742Z"
   },
   {
    "duration": 1082,
    "start_time": "2024-07-06T13:02:32.784Z"
   },
   {
    "duration": 15,
    "start_time": "2024-07-06T13:02:33.868Z"
   },
   {
    "duration": 28,
    "start_time": "2024-07-06T13:02:34.541Z"
   },
   {
    "duration": 117,
    "start_time": "2024-07-06T13:02:35.609Z"
   },
   {
    "duration": 4,
    "start_time": "2024-07-06T13:02:52.376Z"
   },
   {
    "duration": 16,
    "start_time": "2024-07-06T13:02:53.277Z"
   },
   {
    "duration": 203,
    "start_time": "2024-07-06T13:02:56.470Z"
   },
   {
    "duration": 69,
    "start_time": "2024-07-06T13:03:01.996Z"
   },
   {
    "duration": 5401,
    "start_time": "2024-07-06T13:03:09.261Z"
   },
   {
    "duration": 39158,
    "start_time": "2024-07-06T13:03:22.053Z"
   },
   {
    "duration": 8367,
    "start_time": "2024-07-06T13:06:46.736Z"
   },
   {
    "duration": 1266,
    "start_time": "2024-07-06T13:06:55.106Z"
   },
   {
    "duration": 21,
    "start_time": "2024-07-06T13:06:56.374Z"
   },
   {
    "duration": 1185,
    "start_time": "2024-07-06T13:06:56.397Z"
   },
   {
    "duration": 39,
    "start_time": "2024-07-06T13:06:57.584Z"
   },
   {
    "duration": 43,
    "start_time": "2024-07-06T13:06:57.625Z"
   },
   {
    "duration": 117,
    "start_time": "2024-07-06T13:06:57.670Z"
   },
   {
    "duration": 73,
    "start_time": "2024-07-06T13:06:57.789Z"
   },
   {
    "duration": 78701,
    "start_time": "2024-07-06T13:06:57.864Z"
   },
   {
    "duration": 67,
    "start_time": "2024-07-06T13:08:16.567Z"
   },
   {
    "duration": 8025,
    "start_time": "2024-07-06T13:08:16.636Z"
   },
   {
    "duration": 332,
    "start_time": "2024-07-06T13:08:24.663Z"
   },
   {
    "duration": 172,
    "start_time": "2024-07-06T13:08:24.996Z"
   },
   {
    "duration": 77,
    "start_time": "2024-07-06T13:08:25.171Z"
   },
   {
    "duration": 3102,
    "start_time": "2024-07-06T13:08:25.260Z"
   },
   {
    "duration": 10,
    "start_time": "2024-07-06T13:08:28.364Z"
   },
   {
    "duration": 45927,
    "start_time": "2024-07-06T13:08:28.376Z"
   },
   {
    "duration": 4700,
    "start_time": "2024-07-06T13:09:14.304Z"
   },
   {
    "duration": 2,
    "start_time": "2024-07-06T13:09:19.006Z"
   },
   {
    "duration": 136,
    "start_time": "2024-07-06T13:09:19.010Z"
   },
   {
    "duration": 72,
    "start_time": "2024-07-06T13:09:19.147Z"
   },
   {
    "duration": 4956,
    "start_time": "2024-07-06T13:09:19.221Z"
   },
   {
    "duration": 0,
    "start_time": "2024-07-06T13:11:48.175Z"
   },
   {
    "duration": 0,
    "start_time": "2024-07-06T13:11:48.176Z"
   },
   {
    "duration": 0,
    "start_time": "2024-07-06T13:11:48.177Z"
   },
   {
    "duration": 0,
    "start_time": "2024-07-06T13:11:48.178Z"
   },
   {
    "duration": 0,
    "start_time": "2024-07-06T13:11:48.180Z"
   },
   {
    "duration": 0,
    "start_time": "2024-07-06T13:11:48.181Z"
   },
   {
    "duration": 0,
    "start_time": "2024-07-06T13:11:48.184Z"
   },
   {
    "duration": 80,
    "start_time": "2024-07-06T13:11:54.643Z"
   },
   {
    "duration": 78,
    "start_time": "2024-07-06T13:12:25.646Z"
   },
   {
    "duration": 64,
    "start_time": "2024-07-06T13:12:35.565Z"
   },
   {
    "duration": 9199,
    "start_time": "2024-07-06T13:20:53.650Z"
   },
   {
    "duration": 1454,
    "start_time": "2024-07-06T13:21:02.851Z"
   },
   {
    "duration": 12,
    "start_time": "2024-07-06T13:21:04.307Z"
   },
   {
    "duration": 1377,
    "start_time": "2024-07-06T13:21:04.321Z"
   },
   {
    "duration": 41,
    "start_time": "2024-07-06T13:21:05.700Z"
   },
   {
    "duration": 44,
    "start_time": "2024-07-06T13:21:05.743Z"
   },
   {
    "duration": 156,
    "start_time": "2024-07-06T13:21:05.789Z"
   },
   {
    "duration": 78,
    "start_time": "2024-07-06T13:21:05.947Z"
   },
   {
    "duration": 81564,
    "start_time": "2024-07-06T13:21:06.027Z"
   },
   {
    "duration": 89,
    "start_time": "2024-07-06T13:22:27.593Z"
   },
   {
    "duration": 8649,
    "start_time": "2024-07-06T13:22:27.684Z"
   },
   {
    "duration": 367,
    "start_time": "2024-07-06T13:22:36.335Z"
   },
   {
    "duration": 185,
    "start_time": "2024-07-06T13:22:36.704Z"
   },
   {
    "duration": 87,
    "start_time": "2024-07-06T13:22:36.891Z"
   },
   {
    "duration": 3167,
    "start_time": "2024-07-06T13:22:36.980Z"
   },
   {
    "duration": 31,
    "start_time": "2024-07-06T13:22:40.149Z"
   },
   {
    "duration": 47856,
    "start_time": "2024-07-06T13:22:40.181Z"
   },
   {
    "duration": 8216,
    "start_time": "2024-07-06T13:25:02.693Z"
   },
   {
    "duration": 1342,
    "start_time": "2024-07-06T13:25:10.911Z"
   },
   {
    "duration": 18,
    "start_time": "2024-07-06T13:25:12.255Z"
   },
   {
    "duration": 1233,
    "start_time": "2024-07-06T13:25:12.275Z"
   },
   {
    "duration": 55,
    "start_time": "2024-07-06T13:25:13.510Z"
   },
   {
    "duration": 33,
    "start_time": "2024-07-06T13:25:13.567Z"
   },
   {
    "duration": 125,
    "start_time": "2024-07-06T13:25:13.601Z"
   },
   {
    "duration": 81,
    "start_time": "2024-07-06T13:25:13.728Z"
   },
   {
    "duration": 8056,
    "start_time": "2024-07-06T13:26:16.223Z"
   },
   {
    "duration": 1321,
    "start_time": "2024-07-06T13:26:24.282Z"
   },
   {
    "duration": 12,
    "start_time": "2024-07-06T13:26:25.605Z"
   },
   {
    "duration": 1264,
    "start_time": "2024-07-06T13:26:25.619Z"
   },
   {
    "duration": 35,
    "start_time": "2024-07-06T13:26:26.884Z"
   },
   {
    "duration": 41,
    "start_time": "2024-07-06T13:26:26.921Z"
   },
   {
    "duration": 166,
    "start_time": "2024-07-06T13:26:26.966Z"
   },
   {
    "duration": 73,
    "start_time": "2024-07-06T13:26:27.134Z"
   },
   {
    "duration": 3,
    "start_time": "2024-07-06T13:26:27.208Z"
   },
   {
    "duration": 102,
    "start_time": "2024-07-06T13:26:27.213Z"
   },
   {
    "duration": 2,
    "start_time": "2024-07-06T13:26:27.317Z"
   },
   {
    "duration": 258,
    "start_time": "2024-07-06T13:26:27.320Z"
   },
   {
    "duration": 172,
    "start_time": "2024-07-06T13:26:27.580Z"
   },
   {
    "duration": 96,
    "start_time": "2024-07-06T13:26:27.753Z"
   },
   {
    "duration": 3220,
    "start_time": "2024-07-06T13:26:27.850Z"
   },
   {
    "duration": 12,
    "start_time": "2024-07-06T13:26:31.075Z"
   },
   {
    "duration": 30802,
    "start_time": "2024-07-06T13:26:31.088Z"
   },
   {
    "duration": 0,
    "start_time": "2024-07-06T13:27:01.892Z"
   },
   {
    "duration": 0,
    "start_time": "2024-07-06T13:27:01.894Z"
   },
   {
    "duration": 0,
    "start_time": "2024-07-06T13:27:01.895Z"
   },
   {
    "duration": 0,
    "start_time": "2024-07-06T13:27:01.897Z"
   },
   {
    "duration": 0,
    "start_time": "2024-07-06T13:27:01.898Z"
   },
   {
    "duration": 0,
    "start_time": "2024-07-06T13:27:01.900Z"
   },
   {
    "duration": 0,
    "start_time": "2024-07-06T13:27:01.901Z"
   },
   {
    "duration": 0,
    "start_time": "2024-07-06T13:27:01.903Z"
   },
   {
    "duration": 0,
    "start_time": "2024-07-06T13:27:01.904Z"
   },
   {
    "duration": 0,
    "start_time": "2024-07-06T13:27:01.906Z"
   },
   {
    "duration": 0,
    "start_time": "2024-07-06T13:27:01.907Z"
   },
   {
    "duration": 7444,
    "start_time": "2024-07-06T13:27:18.252Z"
   },
   {
    "duration": 64,
    "start_time": "2024-07-06T13:27:25.698Z"
   },
   {
    "duration": 6759,
    "start_time": "2024-07-06T13:27:25.763Z"
   },
   {
    "duration": 161,
    "start_time": "2024-07-06T13:27:32.524Z"
   },
   {
    "duration": 170,
    "start_time": "2024-07-06T13:27:32.687Z"
   },
   {
    "duration": 77,
    "start_time": "2024-07-06T13:27:32.860Z"
   },
   {
    "duration": 8001,
    "start_time": "2024-07-06T13:27:37.603Z"
   },
   {
    "duration": 1258,
    "start_time": "2024-07-06T13:27:45.607Z"
   },
   {
    "duration": 11,
    "start_time": "2024-07-06T13:27:46.867Z"
   },
   {
    "duration": 1244,
    "start_time": "2024-07-06T13:27:46.880Z"
   },
   {
    "duration": 43,
    "start_time": "2024-07-06T13:27:48.126Z"
   },
   {
    "duration": 30,
    "start_time": "2024-07-06T13:27:48.170Z"
   },
   {
    "duration": 119,
    "start_time": "2024-07-06T13:27:48.202Z"
   },
   {
    "duration": 62,
    "start_time": "2024-07-06T13:27:48.323Z"
   },
   {
    "duration": 79506,
    "start_time": "2024-07-06T13:27:48.386Z"
   },
   {
    "duration": 74,
    "start_time": "2024-07-06T13:29:07.894Z"
   },
   {
    "duration": 8228,
    "start_time": "2024-07-06T13:29:07.969Z"
   },
   {
    "duration": 327,
    "start_time": "2024-07-06T13:29:16.198Z"
   },
   {
    "duration": 169,
    "start_time": "2024-07-06T13:29:16.526Z"
   },
   {
    "duration": 88,
    "start_time": "2024-07-06T13:29:16.699Z"
   },
   {
    "duration": 3157,
    "start_time": "2024-07-06T13:29:16.788Z"
   },
   {
    "duration": 22,
    "start_time": "2024-07-06T13:29:19.946Z"
   },
   {
    "duration": 46090,
    "start_time": "2024-07-06T13:29:19.970Z"
   },
   {
    "duration": 4653,
    "start_time": "2024-07-06T13:30:06.062Z"
   },
   {
    "duration": 3,
    "start_time": "2024-07-06T13:30:10.717Z"
   },
   {
    "duration": 150,
    "start_time": "2024-07-06T13:30:10.721Z"
   },
   {
    "duration": 70,
    "start_time": "2024-07-06T13:30:10.872Z"
   },
   {
    "duration": 4949,
    "start_time": "2024-07-06T13:30:10.944Z"
   },
   {
    "duration": 341698,
    "start_time": "2024-07-06T13:30:15.895Z"
   },
   {
    "duration": 0,
    "start_time": "2024-07-06T13:35:57.594Z"
   },
   {
    "duration": 0,
    "start_time": "2024-07-06T13:35:57.596Z"
   },
   {
    "duration": 0,
    "start_time": "2024-07-06T13:35:57.597Z"
   },
   {
    "duration": 0,
    "start_time": "2024-07-06T13:35:57.598Z"
   },
   {
    "duration": 0,
    "start_time": "2024-07-06T13:35:57.600Z"
   },
   {
    "duration": 67,
    "start_time": "2024-07-06T13:36:15.196Z"
   },
   {
    "duration": 0,
    "start_time": "2024-07-06T14:03:24.790Z"
   },
   {
    "duration": 0,
    "start_time": "2024-07-06T14:03:24.861Z"
   },
   {
    "duration": 0,
    "start_time": "2024-07-06T14:03:24.862Z"
   },
   {
    "duration": 0,
    "start_time": "2024-07-06T14:03:24.863Z"
   },
   {
    "duration": 0,
    "start_time": "2024-07-06T14:03:24.864Z"
   },
   {
    "duration": 0,
    "start_time": "2024-07-06T14:03:24.865Z"
   },
   {
    "duration": 3,
    "start_time": "2024-07-06T14:04:09.239Z"
   },
   {
    "duration": 11,
    "start_time": "2024-07-06T14:05:07.414Z"
   },
   {
    "duration": 10,
    "start_time": "2024-07-06T14:05:40.309Z"
   },
   {
    "duration": 11,
    "start_time": "2024-07-06T14:06:14.453Z"
   },
   {
    "duration": 23,
    "start_time": "2024-07-06T14:06:21.604Z"
   },
   {
    "duration": 182,
    "start_time": "2024-07-06T14:06:36.489Z"
   },
   {
    "duration": 1077,
    "start_time": "2024-07-06T14:07:14.078Z"
   },
   {
    "duration": 15,
    "start_time": "2024-07-06T14:07:15.856Z"
   },
   {
    "duration": 26,
    "start_time": "2024-07-06T14:07:16.215Z"
   },
   {
    "duration": 124,
    "start_time": "2024-07-06T14:07:16.712Z"
   },
   {
    "duration": 58,
    "start_time": "2024-07-06T14:07:17.408Z"
   },
   {
    "duration": 78127,
    "start_time": "2024-07-06T14:07:17.884Z"
   },
   {
    "duration": 74,
    "start_time": "2024-07-06T14:08:36.013Z"
   },
   {
    "duration": 8361,
    "start_time": "2024-07-06T14:08:36.089Z"
   },
   {
    "duration": 187,
    "start_time": "2024-07-06T14:08:44.452Z"
   },
   {
    "duration": 190,
    "start_time": "2024-07-06T14:08:44.640Z"
   },
   {
    "duration": 85,
    "start_time": "2024-07-06T14:08:44.832Z"
   },
   {
    "duration": 3217,
    "start_time": "2024-07-06T14:08:44.919Z"
   },
   {
    "duration": 11,
    "start_time": "2024-07-06T14:08:48.137Z"
   },
   {
    "duration": 4578,
    "start_time": "2024-07-06T14:09:35.560Z"
   },
   {
    "duration": 2,
    "start_time": "2024-07-06T14:09:40.141Z"
   },
   {
    "duration": 155,
    "start_time": "2024-07-06T14:09:40.145Z"
   },
   {
    "duration": 64,
    "start_time": "2024-07-06T14:09:40.303Z"
   },
   {
    "duration": 181,
    "start_time": "2024-07-06T14:09:40.369Z"
   },
   {
    "duration": 0,
    "start_time": "2024-07-06T14:09:40.552Z"
   },
   {
    "duration": 0,
    "start_time": "2024-07-06T14:09:40.553Z"
   },
   {
    "duration": 0,
    "start_time": "2024-07-06T14:09:40.561Z"
   },
   {
    "duration": 0,
    "start_time": "2024-07-06T14:09:40.563Z"
   },
   {
    "duration": 0,
    "start_time": "2024-07-06T14:09:40.564Z"
   },
   {
    "duration": 25,
    "start_time": "2024-07-06T14:09:49.274Z"
   },
   {
    "duration": 18,
    "start_time": "2024-07-06T14:09:50.157Z"
   },
   {
    "duration": 20,
    "start_time": "2024-07-06T14:09:51.574Z"
   },
   {
    "duration": 9,
    "start_time": "2024-07-06T14:09:53.396Z"
   },
   {
    "duration": 7829,
    "start_time": "2024-07-06T14:10:25.519Z"
   },
   {
    "duration": 1324,
    "start_time": "2024-07-06T14:10:33.350Z"
   },
   {
    "duration": 11,
    "start_time": "2024-07-06T14:10:34.676Z"
   },
   {
    "duration": 1166,
    "start_time": "2024-07-06T14:10:34.689Z"
   },
   {
    "duration": 45,
    "start_time": "2024-07-06T14:10:35.860Z"
   },
   {
    "duration": 29,
    "start_time": "2024-07-06T14:10:35.906Z"
   },
   {
    "duration": 140,
    "start_time": "2024-07-06T14:10:35.937Z"
   },
   {
    "duration": 61,
    "start_time": "2024-07-06T14:10:36.079Z"
   },
   {
    "duration": 76944,
    "start_time": "2024-07-06T14:10:36.141Z"
   },
   {
    "duration": 81,
    "start_time": "2024-07-06T14:11:53.087Z"
   },
   {
    "duration": 8200,
    "start_time": "2024-07-06T14:11:53.170Z"
   },
   {
    "duration": 322,
    "start_time": "2024-07-06T14:12:01.372Z"
   },
   {
    "duration": 176,
    "start_time": "2024-07-06T14:12:01.695Z"
   },
   {
    "duration": 113,
    "start_time": "2024-07-06T14:12:01.875Z"
   },
   {
    "duration": 3034,
    "start_time": "2024-07-06T14:12:01.990Z"
   },
   {
    "duration": 11,
    "start_time": "2024-07-06T14:12:05.025Z"
   },
   {
    "duration": 46165,
    "start_time": "2024-07-06T14:12:05.037Z"
   },
   {
    "duration": 4597,
    "start_time": "2024-07-06T14:12:51.204Z"
   },
   {
    "duration": 2,
    "start_time": "2024-07-06T14:12:55.803Z"
   },
   {
    "duration": 140,
    "start_time": "2024-07-06T14:12:55.807Z"
   },
   {
    "duration": 83,
    "start_time": "2024-07-06T14:12:55.949Z"
   },
   {
    "duration": 281,
    "start_time": "2024-07-06T14:12:56.034Z"
   },
   {
    "duration": 0,
    "start_time": "2024-07-06T14:12:56.317Z"
   },
   {
    "duration": 0,
    "start_time": "2024-07-06T14:12:56.318Z"
   },
   {
    "duration": 0,
    "start_time": "2024-07-06T14:12:56.320Z"
   },
   {
    "duration": 0,
    "start_time": "2024-07-06T14:12:56.321Z"
   },
   {
    "duration": 0,
    "start_time": "2024-07-06T14:12:56.322Z"
   },
   {
    "duration": 0,
    "start_time": "2024-07-06T14:12:56.324Z"
   },
   {
    "duration": 0,
    "start_time": "2024-07-06T14:12:56.325Z"
   },
   {
    "duration": 2,
    "start_time": "2024-07-06T14:13:05.830Z"
   },
   {
    "duration": 7906,
    "start_time": "2024-07-06T14:13:12.561Z"
   },
   {
    "duration": 1306,
    "start_time": "2024-07-06T14:13:20.469Z"
   },
   {
    "duration": 17,
    "start_time": "2024-07-06T14:13:21.776Z"
   },
   {
    "duration": 1143,
    "start_time": "2024-07-06T14:13:21.795Z"
   },
   {
    "duration": 45,
    "start_time": "2024-07-06T14:13:22.940Z"
   },
   {
    "duration": 29,
    "start_time": "2024-07-06T14:13:22.987Z"
   },
   {
    "duration": 162,
    "start_time": "2024-07-06T14:13:23.018Z"
   },
   {
    "duration": 3,
    "start_time": "2024-07-06T14:13:23.182Z"
   },
   {
    "duration": 7545,
    "start_time": "2024-07-06T14:14:37.373Z"
   },
   {
    "duration": 1314,
    "start_time": "2024-07-06T14:14:44.921Z"
   },
   {
    "duration": 13,
    "start_time": "2024-07-06T14:14:46.237Z"
   },
   {
    "duration": 1253,
    "start_time": "2024-07-06T14:14:46.253Z"
   },
   {
    "duration": 41,
    "start_time": "2024-07-06T14:14:47.508Z"
   },
   {
    "duration": 29,
    "start_time": "2024-07-06T14:14:47.561Z"
   },
   {
    "duration": 124,
    "start_time": "2024-07-06T14:14:47.592Z"
   },
   {
    "duration": 2,
    "start_time": "2024-07-06T14:14:47.717Z"
   },
   {
    "duration": 7840,
    "start_time": "2024-07-06T14:16:22.581Z"
   },
   {
    "duration": 1355,
    "start_time": "2024-07-06T14:16:30.423Z"
   },
   {
    "duration": 13,
    "start_time": "2024-07-06T14:16:31.779Z"
   },
   {
    "duration": 1248,
    "start_time": "2024-07-06T14:16:31.794Z"
   },
   {
    "duration": 49,
    "start_time": "2024-07-06T14:16:33.044Z"
   },
   {
    "duration": 30,
    "start_time": "2024-07-06T14:16:33.094Z"
   },
   {
    "duration": 121,
    "start_time": "2024-07-06T14:16:33.125Z"
   },
   {
    "duration": 13,
    "start_time": "2024-07-06T14:16:33.248Z"
   },
   {
    "duration": 76702,
    "start_time": "2024-07-06T14:16:33.262Z"
   },
   {
    "duration": 72,
    "start_time": "2024-07-06T14:17:49.965Z"
   },
   {
    "duration": 8047,
    "start_time": "2024-07-06T14:17:50.039Z"
   },
   {
    "duration": 330,
    "start_time": "2024-07-06T14:17:58.087Z"
   },
   {
    "duration": 180,
    "start_time": "2024-07-06T14:17:58.418Z"
   },
   {
    "duration": 84,
    "start_time": "2024-07-06T14:17:58.600Z"
   },
   {
    "duration": 2932,
    "start_time": "2024-07-06T14:17:58.686Z"
   },
   {
    "duration": 10,
    "start_time": "2024-07-06T14:18:01.620Z"
   },
   {
    "duration": 41245,
    "start_time": "2024-07-06T14:18:01.633Z"
   },
   {
    "duration": 4300,
    "start_time": "2024-07-06T14:18:42.880Z"
   },
   {
    "duration": 3,
    "start_time": "2024-07-06T14:18:47.181Z"
   },
   {
    "duration": 141,
    "start_time": "2024-07-06T14:18:47.186Z"
   },
   {
    "duration": 54,
    "start_time": "2024-07-06T14:18:47.329Z"
   },
   {
    "duration": 286,
    "start_time": "2024-07-06T14:18:47.385Z"
   },
   {
    "duration": 0,
    "start_time": "2024-07-06T14:18:47.672Z"
   },
   {
    "duration": 0,
    "start_time": "2024-07-06T14:18:47.673Z"
   },
   {
    "duration": 0,
    "start_time": "2024-07-06T14:18:47.675Z"
   },
   {
    "duration": 0,
    "start_time": "2024-07-06T14:18:47.676Z"
   },
   {
    "duration": 0,
    "start_time": "2024-07-06T14:18:47.677Z"
   },
   {
    "duration": 0,
    "start_time": "2024-07-06T14:18:47.678Z"
   },
   {
    "duration": 0,
    "start_time": "2024-07-06T14:18:47.679Z"
   },
   {
    "duration": 53,
    "start_time": "2024-07-06T14:21:00.001Z"
   },
   {
    "duration": 182,
    "start_time": "2024-07-06T14:21:05.355Z"
   },
   {
    "duration": 3,
    "start_time": "2024-07-06T14:22:42.014Z"
   },
   {
    "duration": 3,
    "start_time": "2024-07-06T14:22:44.151Z"
   },
   {
    "duration": 12,
    "start_time": "2024-07-06T14:22:44.701Z"
   },
   {
    "duration": 117,
    "start_time": "2024-07-06T14:22:45.717Z"
   },
   {
    "duration": 3,
    "start_time": "2024-07-06T14:22:59.829Z"
   },
   {
    "duration": 10,
    "start_time": "2024-07-06T14:23:00.275Z"
   },
   {
    "duration": 98,
    "start_time": "2024-07-06T14:23:00.908Z"
   },
   {
    "duration": 82,
    "start_time": "2024-07-06T14:23:17.166Z"
   },
   {
    "duration": 90,
    "start_time": "2024-07-06T14:23:44.468Z"
   },
   {
    "duration": 97,
    "start_time": "2024-07-06T14:24:11.432Z"
   },
   {
    "duration": 54,
    "start_time": "2024-07-06T14:24:19.749Z"
   },
   {
    "duration": 5125,
    "start_time": "2024-07-06T14:24:22.138Z"
   },
   {
    "duration": 30053,
    "start_time": "2024-07-06T14:24:32.343Z"
   },
   {
    "duration": 85864,
    "start_time": "2024-07-06T16:13:55.656Z"
   },
   {
    "duration": 84,
    "start_time": "2024-07-06T16:15:21.522Z"
   },
   {
    "duration": 60,
    "start_time": "2024-07-06T16:15:21.607Z"
   },
   {
    "duration": 0,
    "start_time": "2024-07-06T16:15:21.668Z"
   },
   {
    "duration": 0,
    "start_time": "2024-07-06T16:15:21.669Z"
   },
   {
    "duration": 47,
    "start_time": "2024-07-06T16:50:36.793Z"
   },
   {
    "duration": 6,
    "start_time": "2024-07-06T16:59:32.329Z"
   },
   {
    "duration": 8,
    "start_time": "2024-07-06T16:59:36.583Z"
   },
   {
    "duration": 12849,
    "start_time": "2024-07-06T16:59:42.714Z"
   },
   {
    "duration": 1476,
    "start_time": "2024-07-06T16:59:55.566Z"
   },
   {
    "duration": 11,
    "start_time": "2024-07-06T16:59:57.044Z"
   },
   {
    "duration": 3224,
    "start_time": "2024-07-06T16:59:57.057Z"
   },
   {
    "duration": 41,
    "start_time": "2024-07-06T17:00:00.282Z"
   },
   {
    "duration": 37,
    "start_time": "2024-07-06T17:00:00.325Z"
   },
   {
    "duration": 149,
    "start_time": "2024-07-06T17:00:00.363Z"
   },
   {
    "duration": 1,
    "start_time": "2024-07-06T17:00:00.514Z"
   },
   {
    "duration": 74185,
    "start_time": "2024-07-06T17:00:00.517Z"
   },
   {
    "duration": 72,
    "start_time": "2024-07-06T17:01:14.704Z"
   },
   {
    "duration": 61,
    "start_time": "2024-07-06T17:05:07.803Z"
   },
   {
    "duration": 8082,
    "start_time": "2024-07-06T17:05:08.748Z"
   },
   {
    "duration": 340,
    "start_time": "2024-07-06T17:05:16.837Z"
   },
   {
    "duration": 50,
    "start_time": "2024-07-06T17:06:42.192Z"
   },
   {
    "duration": 163,
    "start_time": "2024-07-06T17:06:45.194Z"
   },
   {
    "duration": 4,
    "start_time": "2024-07-06T17:06:59.764Z"
   },
   {
    "duration": 18,
    "start_time": "2024-07-06T17:07:00.166Z"
   },
   {
    "duration": 1098,
    "start_time": "2024-07-06T17:07:00.997Z"
   },
   {
    "duration": 22,
    "start_time": "2024-07-06T17:07:02.143Z"
   },
   {
    "duration": 18,
    "start_time": "2024-07-06T17:07:02.603Z"
   },
   {
    "duration": 113,
    "start_time": "2024-07-06T17:07:02.757Z"
   },
   {
    "duration": 74899,
    "start_time": "2024-07-06T17:07:02.873Z"
   },
   {
    "duration": 74,
    "start_time": "2024-07-06T17:08:17.774Z"
   },
   {
    "duration": 8162,
    "start_time": "2024-07-06T17:08:17.850Z"
   },
   {
    "duration": 172,
    "start_time": "2024-07-06T17:08:26.015Z"
   },
   {
    "duration": 55,
    "start_time": "2024-07-06T17:08:26.188Z"
   },
   {
    "duration": 193,
    "start_time": "2024-07-06T17:08:26.245Z"
   },
   {
    "duration": 17,
    "start_time": "2024-07-06T17:15:22.733Z"
   },
   {
    "duration": 21,
    "start_time": "2024-07-06T17:15:23.265Z"
   },
   {
    "duration": 113,
    "start_time": "2024-07-06T17:15:24.550Z"
   },
   {
    "duration": 62,
    "start_time": "2024-07-06T17:15:29.225Z"
   },
   {
    "duration": 151,
    "start_time": "2024-07-06T17:15:35.245Z"
   },
   {
    "duration": 47,
    "start_time": "2024-07-06T17:15:38.272Z"
   },
   {
    "duration": 168,
    "start_time": "2024-07-06T17:15:42.233Z"
   },
   {
    "duration": 76,
    "start_time": "2024-07-06T17:16:56.599Z"
   },
   {
    "duration": 162,
    "start_time": "2024-07-06T17:16:58.577Z"
   },
   {
    "duration": 76,
    "start_time": "2024-07-06T17:17:17.313Z"
   },
   {
    "duration": 77,
    "start_time": "2024-07-06T17:17:51.655Z"
   },
   {
    "duration": 272,
    "start_time": "2024-07-06T17:18:24.751Z"
   },
   {
    "duration": 88,
    "start_time": "2024-07-06T17:18:32.962Z"
   },
   {
    "duration": 75,
    "start_time": "2024-07-06T17:18:38.911Z"
   },
   {
    "duration": 157,
    "start_time": "2024-07-06T17:18:44.005Z"
   },
   {
    "duration": 89,
    "start_time": "2024-07-06T17:18:45.673Z"
   },
   {
    "duration": 79,
    "start_time": "2024-07-06T17:20:20.784Z"
   },
   {
    "duration": 74,
    "start_time": "2024-07-06T17:20:21.347Z"
   },
   {
    "duration": 75,
    "start_time": "2024-07-06T17:20:29.917Z"
   },
   {
    "duration": 78,
    "start_time": "2024-07-06T17:20:33.867Z"
   },
   {
    "duration": 77,
    "start_time": "2024-07-06T17:27:03.856Z"
   },
   {
    "duration": 81,
    "start_time": "2024-07-06T17:27:08.313Z"
   },
   {
    "duration": 2881,
    "start_time": "2024-07-06T17:27:18.544Z"
   },
   {
    "duration": 2863,
    "start_time": "2024-07-06T17:27:31.249Z"
   },
   {
    "duration": 67,
    "start_time": "2024-07-06T17:28:25.797Z"
   },
   {
    "duration": 78,
    "start_time": "2024-07-06T17:28:29.146Z"
   },
   {
    "duration": 7610,
    "start_time": "2024-07-06T17:28:48.025Z"
   },
   {
    "duration": 1303,
    "start_time": "2024-07-06T17:28:55.637Z"
   },
   {
    "duration": 12,
    "start_time": "2024-07-06T17:28:56.942Z"
   },
   {
    "duration": 1216,
    "start_time": "2024-07-06T17:28:56.955Z"
   },
   {
    "duration": 42,
    "start_time": "2024-07-06T17:28:58.173Z"
   },
   {
    "duration": 40,
    "start_time": "2024-07-06T17:28:58.217Z"
   },
   {
    "duration": 132,
    "start_time": "2024-07-06T17:28:58.259Z"
   },
   {
    "duration": 72267,
    "start_time": "2024-07-06T17:28:58.393Z"
   },
   {
    "duration": 63,
    "start_time": "2024-07-06T17:30:10.662Z"
   },
   {
    "duration": 7950,
    "start_time": "2024-07-06T17:30:10.726Z"
   },
   {
    "duration": 306,
    "start_time": "2024-07-06T17:30:18.678Z"
   },
   {
    "duration": 184,
    "start_time": "2024-07-06T17:30:18.985Z"
   },
   {
    "duration": 0,
    "start_time": "2024-07-06T17:30:19.170Z"
   },
   {
    "duration": 0,
    "start_time": "2024-07-06T17:30:19.171Z"
   },
   {
    "duration": 0,
    "start_time": "2024-07-06T17:30:19.172Z"
   },
   {
    "duration": 0,
    "start_time": "2024-07-06T17:30:19.173Z"
   },
   {
    "duration": 0,
    "start_time": "2024-07-06T17:30:19.174Z"
   },
   {
    "duration": 0,
    "start_time": "2024-07-06T17:30:19.175Z"
   },
   {
    "duration": 0,
    "start_time": "2024-07-06T17:30:19.176Z"
   },
   {
    "duration": 0,
    "start_time": "2024-07-06T17:30:19.177Z"
   },
   {
    "duration": 0,
    "start_time": "2024-07-06T17:30:19.178Z"
   },
   {
    "duration": 0,
    "start_time": "2024-07-06T17:30:19.179Z"
   },
   {
    "duration": 0,
    "start_time": "2024-07-06T17:30:19.180Z"
   },
   {
    "duration": 0,
    "start_time": "2024-07-06T17:30:19.181Z"
   },
   {
    "duration": 0,
    "start_time": "2024-07-06T17:30:19.182Z"
   },
   {
    "duration": 0,
    "start_time": "2024-07-06T17:30:19.183Z"
   },
   {
    "duration": 0,
    "start_time": "2024-07-06T17:30:19.184Z"
   },
   {
    "duration": 0,
    "start_time": "2024-07-06T17:30:19.185Z"
   },
   {
    "duration": 88,
    "start_time": "2024-07-06T17:31:04.648Z"
   },
   {
    "duration": 8,
    "start_time": "2024-07-06T17:31:08.661Z"
   },
   {
    "duration": 18,
    "start_time": "2024-07-06T17:31:13.786Z"
   },
   {
    "duration": 75,
    "start_time": "2024-07-06T17:31:20.966Z"
   },
   {
    "duration": 78,
    "start_time": "2024-07-06T17:31:22.581Z"
   },
   {
    "duration": 2822,
    "start_time": "2024-07-06T17:31:34.482Z"
   },
   {
    "duration": 68,
    "start_time": "2024-07-06T17:33:12.936Z"
   },
   {
    "duration": 87,
    "start_time": "2024-07-06T17:33:39.898Z"
   },
   {
    "duration": 63,
    "start_time": "2024-07-06T17:33:47.123Z"
   },
   {
    "duration": 2979,
    "start_time": "2024-07-06T17:34:18.158Z"
   },
   {
    "duration": 4378,
    "start_time": "2024-07-06T17:36:12.842Z"
   },
   {
    "duration": 2,
    "start_time": "2024-07-06T17:36:36.868Z"
   },
   {
    "duration": 16,
    "start_time": "2024-07-06T17:44:21.125Z"
   },
   {
    "duration": 9,
    "start_time": "2024-07-06T17:44:28.600Z"
   },
   {
    "duration": 3,
    "start_time": "2024-07-06T17:45:07.314Z"
   },
   {
    "duration": 57,
    "start_time": "2024-07-06T17:45:08.668Z"
   },
   {
    "duration": 95,
    "start_time": "2024-07-06T17:45:34.832Z"
   },
   {
    "duration": 1461,
    "start_time": "2024-07-06T17:47:01.638Z"
   },
   {
    "duration": 21,
    "start_time": "2024-07-06T17:48:33.815Z"
   },
   {
    "duration": 19,
    "start_time": "2024-07-06T17:48:40.891Z"
   },
   {
    "duration": 1517,
    "start_time": "2024-07-06T17:48:49.353Z"
   },
   {
    "duration": 295,
    "start_time": "2024-07-06T17:49:06.567Z"
   },
   {
    "duration": 587,
    "start_time": "2024-07-06T17:49:10.563Z"
   },
   {
    "duration": 0,
    "start_time": "2024-07-06T18:01:33.967Z"
   },
   {
    "duration": 8670,
    "start_time": "2024-07-06T18:05:26.190Z"
   },
   {
    "duration": 1342,
    "start_time": "2024-07-06T18:05:34.862Z"
   },
   {
    "duration": 11,
    "start_time": "2024-07-06T18:05:36.206Z"
   },
   {
    "duration": 1247,
    "start_time": "2024-07-06T18:05:36.218Z"
   },
   {
    "duration": 41,
    "start_time": "2024-07-06T18:05:37.467Z"
   },
   {
    "duration": 50,
    "start_time": "2024-07-06T18:05:37.510Z"
   },
   {
    "duration": 215,
    "start_time": "2024-07-06T18:05:37.562Z"
   },
   {
    "duration": 81309,
    "start_time": "2024-07-06T18:05:37.779Z"
   },
   {
    "duration": 77,
    "start_time": "2024-07-06T18:06:59.090Z"
   },
   {
    "duration": 8475,
    "start_time": "2024-07-06T18:06:59.169Z"
   },
   {
    "duration": 388,
    "start_time": "2024-07-06T18:07:07.646Z"
   },
   {
    "duration": 123,
    "start_time": "2024-07-06T18:07:08.036Z"
   },
   {
    "duration": 94,
    "start_time": "2024-07-06T18:07:08.161Z"
   },
   {
    "duration": 87,
    "start_time": "2024-07-06T18:07:08.258Z"
   },
   {
    "duration": 3264,
    "start_time": "2024-07-06T18:07:08.347Z"
   },
   {
    "duration": 25,
    "start_time": "2024-07-06T18:07:11.613Z"
   },
   {
    "duration": 49023,
    "start_time": "2024-07-06T18:07:11.647Z"
   },
   {
    "duration": 5354,
    "start_time": "2024-07-06T18:08:00.672Z"
   },
   {
    "duration": 25,
    "start_time": "2024-07-06T18:08:06.028Z"
   },
   {
    "duration": 9,
    "start_time": "2024-07-06T18:08:06.056Z"
   },
   {
    "duration": 79,
    "start_time": "2024-07-06T18:08:06.067Z"
   },
   {
    "duration": 27,
    "start_time": "2024-07-06T18:08:06.148Z"
   },
   {
    "duration": 1536,
    "start_time": "2024-07-06T18:08:06.177Z"
   },
   {
    "duration": 315,
    "start_time": "2024-07-06T18:08:07.715Z"
   },
   {
    "duration": 8592,
    "start_time": "2024-07-06T18:10:55.579Z"
   },
   {
    "duration": 1378,
    "start_time": "2024-07-06T18:11:04.174Z"
   },
   {
    "duration": 21,
    "start_time": "2024-07-06T18:11:05.554Z"
   },
   {
    "duration": 1325,
    "start_time": "2024-07-06T18:11:05.577Z"
   },
   {
    "duration": 56,
    "start_time": "2024-07-06T18:11:06.904Z"
   },
   {
    "duration": 29,
    "start_time": "2024-07-06T18:11:06.962Z"
   },
   {
    "duration": 164,
    "start_time": "2024-07-06T18:11:06.993Z"
   },
   {
    "duration": 81931,
    "start_time": "2024-07-06T18:11:07.159Z"
   },
   {
    "duration": 85,
    "start_time": "2024-07-06T18:12:29.092Z"
   },
   {
    "duration": 8694,
    "start_time": "2024-07-06T18:12:29.179Z"
   },
   {
    "duration": 336,
    "start_time": "2024-07-06T18:12:37.874Z"
   },
   {
    "duration": 115,
    "start_time": "2024-07-06T18:12:38.212Z"
   },
   {
    "duration": 92,
    "start_time": "2024-07-06T18:12:38.329Z"
   },
   {
    "duration": 92,
    "start_time": "2024-07-06T18:12:38.440Z"
   },
   {
    "duration": 3324,
    "start_time": "2024-07-06T18:12:38.537Z"
   },
   {
    "duration": 10,
    "start_time": "2024-07-06T18:12:41.862Z"
   },
   {
    "duration": 50082,
    "start_time": "2024-07-06T18:12:41.873Z"
   },
   {
    "duration": 5171,
    "start_time": "2024-07-06T18:13:31.958Z"
   },
   {
    "duration": 23,
    "start_time": "2024-07-06T18:13:37.131Z"
   },
   {
    "duration": 10,
    "start_time": "2024-07-06T18:13:37.157Z"
   },
   {
    "duration": 114,
    "start_time": "2024-07-06T18:13:37.169Z"
   },
   {
    "duration": 27,
    "start_time": "2024-07-06T18:13:37.287Z"
   },
   {
    "duration": 1587,
    "start_time": "2024-07-06T18:13:37.316Z"
   },
   {
    "duration": 323,
    "start_time": "2024-07-06T18:13:38.904Z"
   },
   {
    "duration": 21,
    "start_time": "2024-07-06T18:13:39.229Z"
   },
   {
    "duration": 174947,
    "start_time": "2024-07-06T18:13:39.252Z"
   },
   {
    "duration": 0,
    "start_time": "2024-07-06T18:16:34.201Z"
   },
   {
    "duration": 0,
    "start_time": "2024-07-06T18:16:34.202Z"
   },
   {
    "duration": 0,
    "start_time": "2024-07-06T18:16:34.203Z"
   },
   {
    "duration": 0,
    "start_time": "2024-07-06T18:16:34.204Z"
   },
   {
    "duration": 0,
    "start_time": "2024-07-06T18:16:34.205Z"
   },
   {
    "duration": 7,
    "start_time": "2024-07-06T19:07:20.453Z"
   },
   {
    "duration": 4,
    "start_time": "2024-07-06T19:07:30.410Z"
   },
   {
    "duration": 18,
    "start_time": "2024-07-06T19:08:10.806Z"
   },
   {
    "duration": 13,
    "start_time": "2024-07-06T19:08:30.468Z"
   },
   {
    "duration": 1404,
    "start_time": "2024-07-06T19:08:49.656Z"
   },
   {
    "duration": 3,
    "start_time": "2024-07-06T19:09:47.488Z"
   },
   {
    "duration": 11,
    "start_time": "2024-07-06T19:09:50.886Z"
   },
   {
    "duration": 65,
    "start_time": "2024-07-06T19:10:00.170Z"
   },
   {
    "duration": 18,
    "start_time": "2024-07-06T19:10:19.744Z"
   },
   {
    "duration": 11,
    "start_time": "2024-07-06T19:11:02.686Z"
   },
   {
    "duration": 67,
    "start_time": "2024-07-06T19:11:13.438Z"
   },
   {
    "duration": 13,
    "start_time": "2024-07-06T19:11:18.808Z"
   },
   {
    "duration": 10,
    "start_time": "2024-07-06T19:11:40.061Z"
   },
   {
    "duration": 8,
    "start_time": "2024-07-06T19:12:27.913Z"
   },
   {
    "duration": 8887,
    "start_time": "2024-07-06T19:13:00.971Z"
   },
   {
    "duration": 1466,
    "start_time": "2024-07-06T19:13:09.861Z"
   },
   {
    "duration": 25,
    "start_time": "2024-07-06T19:13:11.329Z"
   },
   {
    "duration": 1430,
    "start_time": "2024-07-06T19:13:11.357Z"
   },
   {
    "duration": 61,
    "start_time": "2024-07-06T19:13:12.790Z"
   },
   {
    "duration": 32,
    "start_time": "2024-07-06T19:13:12.855Z"
   },
   {
    "duration": 152,
    "start_time": "2024-07-06T19:13:12.889Z"
   },
   {
    "duration": 89778,
    "start_time": "2024-07-06T19:13:13.044Z"
   },
   {
    "duration": 81,
    "start_time": "2024-07-06T19:14:42.824Z"
   },
   {
    "duration": 8964,
    "start_time": "2024-07-06T19:14:42.907Z"
   },
   {
    "duration": 427,
    "start_time": "2024-07-06T19:14:51.874Z"
   },
   {
    "duration": 109,
    "start_time": "2024-07-06T19:14:52.304Z"
   },
   {
    "duration": 100,
    "start_time": "2024-07-06T19:14:52.415Z"
   },
   {
    "duration": 119,
    "start_time": "2024-07-06T19:14:52.517Z"
   },
   {
    "duration": 3399,
    "start_time": "2024-07-06T19:14:52.639Z"
   },
   {
    "duration": 28,
    "start_time": "2024-07-06T19:14:56.040Z"
   },
   {
    "duration": 52908,
    "start_time": "2024-07-06T19:14:56.069Z"
   },
   {
    "duration": 5420,
    "start_time": "2024-07-06T19:15:48.979Z"
   },
   {
    "duration": 6,
    "start_time": "2024-07-06T19:15:54.401Z"
   },
   {
    "duration": 31,
    "start_time": "2024-07-06T19:15:54.409Z"
   },
   {
    "duration": 124,
    "start_time": "2024-07-06T19:15:54.443Z"
   },
   {
    "duration": 32,
    "start_time": "2024-07-06T19:15:54.569Z"
   },
   {
    "duration": 179,
    "start_time": "2024-07-06T19:15:54.603Z"
   },
   {
    "duration": 0,
    "start_time": "2024-07-06T19:15:54.784Z"
   },
   {
    "duration": 0,
    "start_time": "2024-07-06T19:15:54.785Z"
   },
   {
    "duration": 0,
    "start_time": "2024-07-06T19:15:54.787Z"
   },
   {
    "duration": 0,
    "start_time": "2024-07-06T19:15:54.788Z"
   },
   {
    "duration": 0,
    "start_time": "2024-07-06T19:15:54.790Z"
   },
   {
    "duration": 765,
    "start_time": "2024-07-06T19:16:14.531Z"
   },
   {
    "duration": 360735,
    "start_time": "2024-07-06T19:16:16.037Z"
   },
   {
    "duration": 1,
    "start_time": "2024-07-06T19:22:16.773Z"
   },
   {
    "duration": 15,
    "start_time": "2024-07-06T19:22:20.838Z"
   },
   {
    "duration": 9837,
    "start_time": "2024-07-06T19:25:18.366Z"
   },
   {
    "duration": 1518,
    "start_time": "2024-07-06T19:25:28.206Z"
   },
   {
    "duration": 0,
    "start_time": "2024-07-06T19:25:29.728Z"
   },
   {
    "duration": 0,
    "start_time": "2024-07-06T19:25:29.729Z"
   },
   {
    "duration": 0,
    "start_time": "2024-07-06T19:25:29.730Z"
   },
   {
    "duration": 0,
    "start_time": "2024-07-06T19:25:29.742Z"
   },
   {
    "duration": 0,
    "start_time": "2024-07-06T19:25:29.743Z"
   },
   {
    "duration": 0,
    "start_time": "2024-07-06T19:25:29.745Z"
   },
   {
    "duration": 0,
    "start_time": "2024-07-06T19:25:29.746Z"
   },
   {
    "duration": 0,
    "start_time": "2024-07-06T19:25:29.748Z"
   },
   {
    "duration": 0,
    "start_time": "2024-07-06T19:25:29.751Z"
   },
   {
    "duration": 0,
    "start_time": "2024-07-06T19:25:29.759Z"
   },
   {
    "duration": 0,
    "start_time": "2024-07-06T19:25:29.761Z"
   },
   {
    "duration": 0,
    "start_time": "2024-07-06T19:25:29.762Z"
   },
   {
    "duration": 0,
    "start_time": "2024-07-06T19:25:29.763Z"
   },
   {
    "duration": 0,
    "start_time": "2024-07-06T19:25:29.764Z"
   },
   {
    "duration": 0,
    "start_time": "2024-07-06T19:25:29.765Z"
   },
   {
    "duration": 0,
    "start_time": "2024-07-06T19:25:29.766Z"
   },
   {
    "duration": 0,
    "start_time": "2024-07-06T19:25:29.767Z"
   },
   {
    "duration": 0,
    "start_time": "2024-07-06T19:25:29.768Z"
   },
   {
    "duration": 0,
    "start_time": "2024-07-06T19:25:29.769Z"
   },
   {
    "duration": 0,
    "start_time": "2024-07-06T19:25:29.770Z"
   },
   {
    "duration": 0,
    "start_time": "2024-07-06T19:25:29.771Z"
   },
   {
    "duration": 0,
    "start_time": "2024-07-06T19:25:29.772Z"
   },
   {
    "duration": 0,
    "start_time": "2024-07-06T19:25:29.773Z"
   },
   {
    "duration": 0,
    "start_time": "2024-07-06T19:25:29.774Z"
   },
   {
    "duration": 0,
    "start_time": "2024-07-06T19:25:29.775Z"
   },
   {
    "duration": 0,
    "start_time": "2024-07-06T19:25:29.777Z"
   },
   {
    "duration": 0,
    "start_time": "2024-07-06T19:25:29.778Z"
   },
   {
    "duration": 0,
    "start_time": "2024-07-06T19:25:29.779Z"
   },
   {
    "duration": 36067,
    "start_time": "2024-07-06T19:27:12.946Z"
   },
   {
    "duration": 12,
    "start_time": "2024-07-06T19:27:52.265Z"
   },
   {
    "duration": 1334,
    "start_time": "2024-07-06T19:27:52.279Z"
   },
   {
    "duration": 59,
    "start_time": "2024-07-06T19:27:53.617Z"
   },
   {
    "duration": 36,
    "start_time": "2024-07-06T19:27:53.678Z"
   },
   {
    "duration": 178,
    "start_time": "2024-07-06T19:27:53.716Z"
   },
   {
    "duration": 89802,
    "start_time": "2024-07-06T19:27:53.896Z"
   },
   {
    "duration": 93,
    "start_time": "2024-07-06T19:29:23.700Z"
   },
   {
    "duration": 9012,
    "start_time": "2024-07-06T19:29:23.795Z"
   },
   {
    "duration": 398,
    "start_time": "2024-07-06T19:29:32.809Z"
   },
   {
    "duration": 136,
    "start_time": "2024-07-06T19:29:33.209Z"
   },
   {
    "duration": 72,
    "start_time": "2024-07-06T19:29:33.357Z"
   },
   {
    "duration": 93,
    "start_time": "2024-07-06T19:29:33.432Z"
   },
   {
    "duration": 3452,
    "start_time": "2024-07-06T19:29:33.527Z"
   },
   {
    "duration": 10,
    "start_time": "2024-07-06T19:29:36.980Z"
   },
   {
    "duration": 51156,
    "start_time": "2024-07-06T19:29:36.991Z"
   },
   {
    "duration": 5049,
    "start_time": "2024-07-06T19:30:28.149Z"
   },
   {
    "duration": 380,
    "start_time": "2024-07-06T19:30:33.200Z"
   },
   {
    "duration": 41380,
    "start_time": "2024-07-06T19:30:33.582Z"
   },
   {
    "duration": 0,
    "start_time": "2024-07-06T19:31:14.964Z"
   },
   {
    "duration": 0,
    "start_time": "2024-07-06T19:31:14.965Z"
   },
   {
    "duration": 0,
    "start_time": "2024-07-06T19:31:14.966Z"
   },
   {
    "duration": 0,
    "start_time": "2024-07-06T19:31:14.967Z"
   },
   {
    "duration": 0,
    "start_time": "2024-07-06T19:31:14.968Z"
   },
   {
    "duration": 0,
    "start_time": "2024-07-06T19:31:14.969Z"
   },
   {
    "duration": 0,
    "start_time": "2024-07-06T19:31:14.970Z"
   },
   {
    "duration": 0,
    "start_time": "2024-07-06T19:31:14.971Z"
   },
   {
    "duration": 0,
    "start_time": "2024-07-06T19:31:14.972Z"
   },
   {
    "duration": 0,
    "start_time": "2024-07-06T19:31:14.973Z"
   },
   {
    "duration": 0,
    "start_time": "2024-07-06T19:31:14.975Z"
   },
   {
    "duration": 82,
    "start_time": "2024-07-06T19:32:02.776Z"
   },
   {
    "duration": 3180,
    "start_time": "2024-07-06T19:32:05.169Z"
   },
   {
    "duration": 82,
    "start_time": "2024-07-06T19:32:45.632Z"
   },
   {
    "duration": 218,
    "start_time": "2024-07-06T19:33:32.389Z"
   },
   {
    "duration": 20145,
    "start_time": "2024-07-06T19:33:33.448Z"
   },
   {
    "duration": 0,
    "start_time": "2024-07-06T19:33:53.596Z"
   },
   {
    "duration": 8054,
    "start_time": "2024-07-06T19:34:30.202Z"
   },
   {
    "duration": 353,
    "start_time": "2024-07-06T19:34:49.450Z"
   },
   {
    "duration": 19465,
    "start_time": "2024-07-06T19:34:50.152Z"
   },
   {
    "duration": 2216,
    "start_time": "2024-07-06T19:35:28.672Z"
   },
   {
    "duration": 2304,
    "start_time": "2024-07-06T19:36:41.368Z"
   },
   {
    "duration": 10199,
    "start_time": "2024-07-06T19:37:00.359Z"
   },
   {
    "duration": 2259,
    "start_time": "2024-07-06T19:37:22.557Z"
   },
   {
    "duration": 18804,
    "start_time": "2024-07-06T19:37:38.171Z"
   },
   {
    "duration": 4311,
    "start_time": "2024-07-06T19:37:56.978Z"
   },
   {
    "duration": 3193,
    "start_time": "2024-07-06T19:38:01.292Z"
   },
   {
    "duration": 12,
    "start_time": "2024-07-06T19:38:04.486Z"
   },
   {
    "duration": 1186,
    "start_time": "2024-07-06T19:38:04.500Z"
   },
   {
    "duration": 35,
    "start_time": "2024-07-06T19:38:05.688Z"
   },
   {
    "duration": 42,
    "start_time": "2024-07-06T19:38:05.724Z"
   },
   {
    "duration": 164,
    "start_time": "2024-07-06T19:38:05.768Z"
   },
   {
    "duration": 2032,
    "start_time": "2024-07-06T19:38:05.937Z"
   },
   {
    "duration": 0,
    "start_time": "2024-07-06T19:38:07.972Z"
   },
   {
    "duration": 0,
    "start_time": "2024-07-06T19:38:07.974Z"
   },
   {
    "duration": 0,
    "start_time": "2024-07-06T19:38:07.975Z"
   },
   {
    "duration": 0,
    "start_time": "2024-07-06T19:38:07.977Z"
   },
   {
    "duration": 0,
    "start_time": "2024-07-06T19:38:07.978Z"
   },
   {
    "duration": 0,
    "start_time": "2024-07-06T19:38:07.980Z"
   },
   {
    "duration": 0,
    "start_time": "2024-07-06T19:38:08.116Z"
   },
   {
    "duration": 0,
    "start_time": "2024-07-06T19:38:08.118Z"
   },
   {
    "duration": 0,
    "start_time": "2024-07-06T19:38:08.120Z"
   },
   {
    "duration": 0,
    "start_time": "2024-07-06T19:38:08.121Z"
   },
   {
    "duration": 0,
    "start_time": "2024-07-06T19:38:08.138Z"
   },
   {
    "duration": 0,
    "start_time": "2024-07-06T19:38:08.139Z"
   },
   {
    "duration": 0,
    "start_time": "2024-07-06T19:38:08.141Z"
   },
   {
    "duration": 0,
    "start_time": "2024-07-06T19:38:08.142Z"
   },
   {
    "duration": 0,
    "start_time": "2024-07-06T19:38:08.144Z"
   },
   {
    "duration": 0,
    "start_time": "2024-07-06T19:38:08.145Z"
   },
   {
    "duration": 0,
    "start_time": "2024-07-06T19:38:08.146Z"
   },
   {
    "duration": 0,
    "start_time": "2024-07-06T19:38:08.148Z"
   },
   {
    "duration": 0,
    "start_time": "2024-07-06T19:38:08.150Z"
   },
   {
    "duration": 0,
    "start_time": "2024-07-06T19:38:08.151Z"
   },
   {
    "duration": 0,
    "start_time": "2024-07-06T19:38:08.152Z"
   },
   {
    "duration": 0,
    "start_time": "2024-07-06T19:38:08.154Z"
   },
   {
    "duration": 0,
    "start_time": "2024-07-06T19:38:08.155Z"
   },
   {
    "duration": 102,
    "start_time": "2024-07-06T19:40:01.108Z"
   },
   {
    "duration": 1382,
    "start_time": "2024-07-06T19:40:02.304Z"
   },
   {
    "duration": 189,
    "start_time": "2024-07-06T19:40:04.420Z"
   },
   {
    "duration": 90,
    "start_time": "2024-07-06T19:40:05.388Z"
   },
   {
    "duration": 73,
    "start_time": "2024-07-06T19:40:06.130Z"
   },
   {
    "duration": 87,
    "start_time": "2024-07-06T19:40:06.431Z"
   },
   {
    "duration": 353,
    "start_time": "2024-07-06T19:40:08.537Z"
   },
   {
    "duration": 11,
    "start_time": "2024-07-06T19:40:10.291Z"
   },
   {
    "duration": 1975,
    "start_time": "2024-07-06T19:40:10.716Z"
   },
   {
    "duration": 4546,
    "start_time": "2024-07-06T19:40:15.263Z"
   },
   {
    "duration": 207,
    "start_time": "2024-07-06T19:40:19.810Z"
   },
   {
    "duration": 13541,
    "start_time": "2024-07-06T19:40:20.020Z"
   },
   {
    "duration": 0,
    "start_time": "2024-07-06T19:40:33.564Z"
   },
   {
    "duration": 6,
    "start_time": "2024-07-06T19:40:44.070Z"
   },
   {
    "duration": 3,
    "start_time": "2024-07-06T19:40:45.122Z"
   },
   {
    "duration": 92,
    "start_time": "2024-07-06T19:40:47.126Z"
   },
   {
    "duration": 23,
    "start_time": "2024-07-06T19:40:47.665Z"
   },
   {
    "duration": 747,
    "start_time": "2024-07-06T19:40:49.073Z"
   },
   {
    "duration": 10521,
    "start_time": "2024-07-06T19:42:16.802Z"
   },
   {
    "duration": 3380,
    "start_time": "2024-07-06T19:42:27.326Z"
   },
   {
    "duration": 12,
    "start_time": "2024-07-06T19:42:30.708Z"
   },
   {
    "duration": 1348,
    "start_time": "2024-07-06T19:42:30.722Z"
   },
   {
    "duration": 33,
    "start_time": "2024-07-06T19:42:32.073Z"
   },
   {
    "duration": 53,
    "start_time": "2024-07-06T19:42:32.108Z"
   },
   {
    "duration": 135,
    "start_time": "2024-07-06T19:42:32.163Z"
   },
   {
    "duration": 1993,
    "start_time": "2024-07-06T19:42:32.300Z"
   },
   {
    "duration": 0,
    "start_time": "2024-07-06T19:42:34.296Z"
   },
   {
    "duration": 0,
    "start_time": "2024-07-06T19:42:34.297Z"
   },
   {
    "duration": 0,
    "start_time": "2024-07-06T19:42:34.299Z"
   },
   {
    "duration": 0,
    "start_time": "2024-07-06T19:42:34.300Z"
   },
   {
    "duration": 0,
    "start_time": "2024-07-06T19:42:34.302Z"
   },
   {
    "duration": 0,
    "start_time": "2024-07-06T19:42:34.304Z"
   },
   {
    "duration": 0,
    "start_time": "2024-07-06T19:42:34.305Z"
   },
   {
    "duration": 0,
    "start_time": "2024-07-06T19:42:34.307Z"
   },
   {
    "duration": 0,
    "start_time": "2024-07-06T19:42:34.308Z"
   },
   {
    "duration": 0,
    "start_time": "2024-07-06T19:42:34.310Z"
   },
   {
    "duration": 0,
    "start_time": "2024-07-06T19:42:34.313Z"
   },
   {
    "duration": 0,
    "start_time": "2024-07-06T19:42:34.338Z"
   },
   {
    "duration": 0,
    "start_time": "2024-07-06T19:42:34.339Z"
   },
   {
    "duration": 0,
    "start_time": "2024-07-06T19:42:34.339Z"
   },
   {
    "duration": 0,
    "start_time": "2024-07-06T19:42:34.340Z"
   },
   {
    "duration": 0,
    "start_time": "2024-07-06T19:42:34.341Z"
   },
   {
    "duration": 0,
    "start_time": "2024-07-06T19:42:34.346Z"
   },
   {
    "duration": 0,
    "start_time": "2024-07-06T19:42:34.347Z"
   },
   {
    "duration": 0,
    "start_time": "2024-07-06T19:42:34.354Z"
   },
   {
    "duration": 0,
    "start_time": "2024-07-06T19:42:34.355Z"
   },
   {
    "duration": 6101,
    "start_time": "2024-07-06T19:44:24.691Z"
   },
   {
    "duration": 1999,
    "start_time": "2024-07-06T19:44:32.571Z"
   },
   {
    "duration": 9042,
    "start_time": "2024-07-06T19:44:40.068Z"
   },
   {
    "duration": 3194,
    "start_time": "2024-07-06T19:44:49.112Z"
   },
   {
    "duration": 131,
    "start_time": "2024-07-06T19:44:52.307Z"
   },
   {
    "duration": 1332,
    "start_time": "2024-07-06T19:44:52.444Z"
   },
   {
    "duration": 35,
    "start_time": "2024-07-06T19:44:53.778Z"
   },
   {
    "duration": 53,
    "start_time": "2024-07-06T19:44:53.815Z"
   },
   {
    "duration": 200,
    "start_time": "2024-07-06T19:44:53.869Z"
   },
   {
    "duration": 2044,
    "start_time": "2024-07-06T19:44:54.071Z"
   },
   {
    "duration": 90030,
    "start_time": "2024-07-06T19:44:56.117Z"
   },
   {
    "duration": 91,
    "start_time": "2024-07-06T19:46:26.153Z"
   },
   {
    "duration": 8759,
    "start_time": "2024-07-06T19:46:26.247Z"
   },
   {
    "duration": 205,
    "start_time": "2024-07-06T19:46:35.008Z"
   },
   {
    "duration": 117,
    "start_time": "2024-07-06T19:46:35.215Z"
   },
   {
    "duration": 77,
    "start_time": "2024-07-06T19:46:35.346Z"
   },
   {
    "duration": 118,
    "start_time": "2024-07-06T19:46:35.425Z"
   },
   {
    "duration": 3600,
    "start_time": "2024-07-06T19:46:35.553Z"
   },
   {
    "duration": 20,
    "start_time": "2024-07-06T19:46:39.155Z"
   },
   {
    "duration": 52813,
    "start_time": "2024-07-06T19:46:39.177Z"
   },
   {
    "duration": 5628,
    "start_time": "2024-07-06T19:47:31.992Z"
   },
   {
    "duration": 6,
    "start_time": "2024-07-06T19:47:37.622Z"
   },
   {
    "duration": 17,
    "start_time": "2024-07-06T19:47:37.629Z"
   },
   {
    "duration": 123,
    "start_time": "2024-07-06T19:47:37.649Z"
   },
   {
    "duration": 34,
    "start_time": "2024-07-06T19:47:37.776Z"
   },
   {
    "duration": 857,
    "start_time": "2024-07-06T19:47:37.812Z"
   },
   {
    "duration": 338809,
    "start_time": "2024-07-06T19:47:38.672Z"
   },
   {
    "duration": 0,
    "start_time": "2024-07-06T19:53:17.483Z"
   },
   {
    "duration": 0,
    "start_time": "2024-07-06T19:53:17.484Z"
   },
   {
    "duration": 0,
    "start_time": "2024-07-06T19:53:17.485Z"
   },
   {
    "duration": 0,
    "start_time": "2024-07-06T19:53:17.486Z"
   },
   {
    "duration": 0,
    "start_time": "2024-07-06T19:53:17.487Z"
   },
   {
    "duration": 6,
    "start_time": "2024-07-06T19:53:18.989Z"
   },
   {
    "duration": 3,
    "start_time": "2024-07-06T19:53:20.224Z"
   },
   {
    "duration": 18,
    "start_time": "2024-07-06T19:53:25.573Z"
   },
   {
    "duration": 4,
    "start_time": "2024-07-06T19:53:42.291Z"
   },
   {
    "duration": 17,
    "start_time": "2024-07-06T19:53:46.898Z"
   },
   {
    "duration": 25,
    "start_time": "2024-07-06T19:53:55.758Z"
   },
   {
    "duration": 5,
    "start_time": "2024-07-06T19:55:51.266Z"
   },
   {
    "duration": 27,
    "start_time": "2024-07-06T19:55:58.322Z"
   },
   {
    "duration": 68,
    "start_time": "2024-07-06T19:56:05.715Z"
   },
   {
    "duration": 5,
    "start_time": "2024-07-06T19:56:45.111Z"
   },
   {
    "duration": 19,
    "start_time": "2024-07-06T19:56:51.064Z"
   },
   {
    "duration": 5,
    "start_time": "2024-07-06T19:57:14.865Z"
   },
   {
    "duration": 30,
    "start_time": "2024-07-06T19:57:20.974Z"
   },
   {
    "duration": 11,
    "start_time": "2024-07-06T19:57:30.348Z"
   },
   {
    "duration": 12148,
    "start_time": "2024-07-06T20:00:48.544Z"
   },
   {
    "duration": 3391,
    "start_time": "2024-07-06T20:01:00.694Z"
   },
   {
    "duration": 135,
    "start_time": "2024-07-06T20:01:04.087Z"
   },
   {
    "duration": 1481,
    "start_time": "2024-07-06T20:01:04.224Z"
   },
   {
    "duration": 53,
    "start_time": "2024-07-06T20:01:05.707Z"
   },
   {
    "duration": 35,
    "start_time": "2024-07-06T20:01:05.762Z"
   },
   {
    "duration": 174,
    "start_time": "2024-07-06T20:01:05.799Z"
   },
   {
    "duration": 90721,
    "start_time": "2024-07-06T20:01:05.977Z"
   },
   {
    "duration": 104,
    "start_time": "2024-07-06T20:02:36.700Z"
   },
   {
    "duration": 9300,
    "start_time": "2024-07-06T20:02:36.806Z"
   },
   {
    "duration": 206,
    "start_time": "2024-07-06T20:02:46.108Z"
   },
   {
    "duration": 112,
    "start_time": "2024-07-06T20:02:46.315Z"
   },
   {
    "duration": 93,
    "start_time": "2024-07-06T20:02:46.429Z"
   },
   {
    "duration": 91,
    "start_time": "2024-07-06T20:02:46.524Z"
   },
   {
    "duration": 3626,
    "start_time": "2024-07-06T20:02:46.617Z"
   },
   {
    "duration": 14,
    "start_time": "2024-07-06T20:02:50.246Z"
   },
   {
    "duration": 51257,
    "start_time": "2024-07-06T20:02:50.263Z"
   },
   {
    "duration": 5077,
    "start_time": "2024-07-06T20:03:41.522Z"
   },
   {
    "duration": 5,
    "start_time": "2024-07-06T20:03:46.600Z"
   },
   {
    "duration": 7,
    "start_time": "2024-07-06T20:03:46.607Z"
   },
   {
    "duration": 98,
    "start_time": "2024-07-06T20:03:46.616Z"
   },
   {
    "duration": 31,
    "start_time": "2024-07-06T20:03:46.715Z"
   },
   {
    "duration": 718,
    "start_time": "2024-07-06T20:03:46.750Z"
   },
   {
    "duration": 106756,
    "start_time": "2024-07-06T20:03:47.470Z"
   },
   {
    "duration": 0,
    "start_time": "2024-07-06T20:05:34.228Z"
   },
   {
    "duration": 0,
    "start_time": "2024-07-06T20:05:34.229Z"
   },
   {
    "duration": 0,
    "start_time": "2024-07-06T20:05:34.239Z"
   },
   {
    "duration": 0,
    "start_time": "2024-07-06T20:05:34.251Z"
   },
   {
    "duration": 0,
    "start_time": "2024-07-06T20:05:34.253Z"
   },
   {
    "duration": 0,
    "start_time": "2024-07-06T20:05:34.255Z"
   },
   {
    "duration": 68,
    "start_time": "2024-07-06T20:05:38.045Z"
   },
   {
    "duration": 4,
    "start_time": "2024-07-06T20:06:03.392Z"
   },
   {
    "duration": 71,
    "start_time": "2024-07-06T20:06:11.721Z"
   },
   {
    "duration": 23,
    "start_time": "2024-07-06T20:06:27.790Z"
   },
   {
    "duration": 18,
    "start_time": "2024-07-06T20:06:45.519Z"
   },
   {
    "duration": 15,
    "start_time": "2024-07-06T20:06:51.972Z"
   },
   {
    "duration": 88,
    "start_time": "2024-07-06T20:06:55.689Z"
   },
   {
    "duration": 4,
    "start_time": "2024-07-06T20:07:26.568Z"
   },
   {
    "duration": 78189,
    "start_time": "2024-07-06T20:07:40.860Z"
   },
   {
    "duration": 6387,
    "start_time": "2024-07-06T20:27:23.352Z"
   },
   {
    "duration": 1818,
    "start_time": "2024-07-06T20:27:29.743Z"
   },
   {
    "duration": 18,
    "start_time": "2024-07-06T20:27:31.564Z"
   },
   {
    "duration": 1330,
    "start_time": "2024-07-06T20:27:31.584Z"
   },
   {
    "duration": 59,
    "start_time": "2024-07-06T20:27:32.917Z"
   },
   {
    "duration": 38,
    "start_time": "2024-07-06T20:27:32.979Z"
   },
   {
    "duration": 190,
    "start_time": "2024-07-06T20:27:33.019Z"
   },
   {
    "duration": 85969,
    "start_time": "2024-07-06T20:27:33.211Z"
   },
   {
    "duration": 89,
    "start_time": "2024-07-06T20:28:59.181Z"
   },
   {
    "duration": 9795,
    "start_time": "2024-07-06T20:28:59.271Z"
   },
   {
    "duration": 376,
    "start_time": "2024-07-06T20:29:09.068Z"
   },
   {
    "duration": 103,
    "start_time": "2024-07-06T20:29:09.455Z"
   },
   {
    "duration": 81,
    "start_time": "2024-07-06T20:29:09.560Z"
   },
   {
    "duration": 130,
    "start_time": "2024-07-06T20:29:09.646Z"
   },
   {
    "duration": 3261,
    "start_time": "2024-07-06T20:29:09.778Z"
   },
   {
    "duration": 16,
    "start_time": "2024-07-06T20:29:13.042Z"
   },
   {
    "duration": 50950,
    "start_time": "2024-07-06T20:29:13.060Z"
   },
   {
    "duration": 5316,
    "start_time": "2024-07-06T20:30:04.011Z"
   },
   {
    "duration": 11,
    "start_time": "2024-07-06T20:30:09.329Z"
   },
   {
    "duration": 92,
    "start_time": "2024-07-06T20:30:09.342Z"
   },
   {
    "duration": 760,
    "start_time": "2024-07-06T20:30:09.441Z"
   },
   {
    "duration": 378695,
    "start_time": "2024-07-06T20:30:10.203Z"
   },
   {
    "duration": 0,
    "start_time": "2024-07-06T20:36:28.899Z"
   },
   {
    "duration": 0,
    "start_time": "2024-07-06T20:36:28.901Z"
   },
   {
    "duration": 0,
    "start_time": "2024-07-06T20:36:28.902Z"
   },
   {
    "duration": 0,
    "start_time": "2024-07-06T20:36:28.903Z"
   },
   {
    "duration": 3280,
    "start_time": "2024-07-08T03:19:41.803Z"
   },
   {
    "duration": 1486,
    "start_time": "2024-07-08T03:19:55.782Z"
   },
   {
    "duration": 41,
    "start_time": "2024-07-08T03:25:42.465Z"
   },
   {
    "duration": 2382,
    "start_time": "2024-07-08T03:25:50.379Z"
   },
   {
    "duration": 1338,
    "start_time": "2024-07-08T03:25:52.763Z"
   },
   {
    "duration": 9,
    "start_time": "2024-07-08T03:25:54.102Z"
   },
   {
    "duration": 2875,
    "start_time": "2024-07-08T03:25:54.113Z"
   },
   {
    "duration": 28,
    "start_time": "2024-07-08T03:25:56.989Z"
   },
   {
    "duration": 26,
    "start_time": "2024-07-08T03:25:57.019Z"
   },
   {
    "duration": 95,
    "start_time": "2024-07-08T03:25:57.047Z"
   },
   {
    "duration": 60210,
    "start_time": "2024-07-08T03:25:57.144Z"
   },
   {
    "duration": 71,
    "start_time": "2024-07-08T03:26:57.355Z"
   },
   {
    "duration": 6766,
    "start_time": "2024-07-08T03:26:57.429Z"
   },
   {
    "duration": 228,
    "start_time": "2024-07-08T03:27:04.202Z"
   },
   {
    "duration": 77,
    "start_time": "2024-07-08T03:27:04.432Z"
   },
   {
    "duration": 53,
    "start_time": "2024-07-08T03:27:04.510Z"
   },
   {
    "duration": 66,
    "start_time": "2024-07-08T03:27:04.564Z"
   },
   {
    "duration": 2406,
    "start_time": "2024-07-08T03:27:04.631Z"
   },
   {
    "duration": 12,
    "start_time": "2024-07-08T03:27:07.039Z"
   },
   {
    "duration": 38040,
    "start_time": "2024-07-08T03:27:07.053Z"
   },
   {
    "duration": 3718,
    "start_time": "2024-07-08T03:27:45.094Z"
   },
   {
    "duration": 4,
    "start_time": "2024-07-08T03:27:48.814Z"
   },
   {
    "duration": 61,
    "start_time": "2024-07-08T03:27:48.819Z"
   },
   {
    "duration": 144,
    "start_time": "2024-07-08T03:27:48.881Z"
   },
   {
    "duration": 0,
    "start_time": "2024-07-08T03:27:49.026Z"
   },
   {
    "duration": 0,
    "start_time": "2024-07-08T03:27:49.027Z"
   },
   {
    "duration": 0,
    "start_time": "2024-07-08T03:27:49.029Z"
   },
   {
    "duration": 0,
    "start_time": "2024-07-08T03:27:49.030Z"
   },
   {
    "duration": 0,
    "start_time": "2024-07-08T03:27:49.031Z"
   },
   {
    "duration": 6104,
    "start_time": "2024-07-08T03:30:08.104Z"
   },
   {
    "duration": 43,
    "start_time": "2024-07-08T03:30:16.973Z"
   },
   {
    "duration": 2471,
    "start_time": "2024-07-08T03:53:23.723Z"
   },
   {
    "duration": 1246,
    "start_time": "2024-07-08T03:53:26.196Z"
   },
   {
    "duration": 11,
    "start_time": "2024-07-08T03:53:27.444Z"
   },
   {
    "duration": 917,
    "start_time": "2024-07-08T03:53:27.456Z"
   },
   {
    "duration": 40,
    "start_time": "2024-07-08T03:53:28.375Z"
   },
   {
    "duration": 28,
    "start_time": "2024-07-08T03:53:28.416Z"
   },
   {
    "duration": 126,
    "start_time": "2024-07-08T03:53:28.446Z"
   },
   {
    "duration": 60533,
    "start_time": "2024-07-08T03:53:28.574Z"
   },
   {
    "duration": 68,
    "start_time": "2024-07-08T03:54:29.108Z"
   },
   {
    "duration": 6931,
    "start_time": "2024-07-08T03:54:29.178Z"
   },
   {
    "duration": 255,
    "start_time": "2024-07-08T03:54:36.111Z"
   },
   {
    "duration": 77,
    "start_time": "2024-07-08T03:54:36.367Z"
   },
   {
    "duration": 58,
    "start_time": "2024-07-08T03:54:36.446Z"
   },
   {
    "duration": 75,
    "start_time": "2024-07-08T03:54:36.505Z"
   },
   {
    "duration": 2233,
    "start_time": "2024-07-08T03:54:36.581Z"
   },
   {
    "duration": 9,
    "start_time": "2024-07-08T03:54:38.816Z"
   },
   {
    "duration": 39241,
    "start_time": "2024-07-08T03:54:38.826Z"
   },
   {
    "duration": 4021,
    "start_time": "2024-07-08T03:55:18.069Z"
   },
   {
    "duration": 4,
    "start_time": "2024-07-08T03:55:22.091Z"
   },
   {
    "duration": 60,
    "start_time": "2024-07-08T03:55:22.102Z"
   },
   {
    "duration": 3000,
    "start_time": "2024-07-08T03:55:22.163Z"
   },
   {
    "duration": 602,
    "start_time": "2024-07-08T03:55:25.165Z"
   },
   {
    "duration": 42,
    "start_time": "2024-07-08T04:00:59.333Z"
   },
   {
    "duration": 5392,
    "start_time": "2024-07-08T04:02:06.469Z"
   },
   {
    "duration": 1169,
    "start_time": "2024-07-08T04:02:11.863Z"
   },
   {
    "duration": 11,
    "start_time": "2024-07-08T04:02:20.944Z"
   },
   {
    "duration": 977,
    "start_time": "2024-07-08T04:02:20.957Z"
   },
   {
    "duration": 33,
    "start_time": "2024-07-08T04:02:26.847Z"
   },
   {
    "duration": 29,
    "start_time": "2024-07-08T04:02:27.261Z"
   },
   {
    "duration": 90,
    "start_time": "2024-07-08T04:02:29.262Z"
   },
   {
    "duration": 60205,
    "start_time": "2024-07-08T04:02:32.180Z"
   },
   {
    "duration": 68,
    "start_time": "2024-07-08T04:03:32.386Z"
   },
   {
    "duration": 7120,
    "start_time": "2024-07-08T04:03:32.455Z"
   },
   {
    "duration": 234,
    "start_time": "2024-07-08T04:03:39.576Z"
   },
   {
    "duration": 70,
    "start_time": "2024-07-08T04:03:39.812Z"
   },
   {
    "duration": 62,
    "start_time": "2024-07-08T04:03:39.883Z"
   },
   {
    "duration": 68,
    "start_time": "2024-07-08T04:03:39.946Z"
   },
   {
    "duration": 2369,
    "start_time": "2024-07-08T04:03:40.016Z"
   },
   {
    "duration": 23,
    "start_time": "2024-07-08T04:03:42.386Z"
   },
   {
    "duration": 39260,
    "start_time": "2024-07-08T04:03:42.411Z"
   },
   {
    "duration": 3979,
    "start_time": "2024-07-08T04:04:21.672Z"
   },
   {
    "duration": 4,
    "start_time": "2024-07-08T04:04:25.652Z"
   },
   {
    "duration": 68,
    "start_time": "2024-07-08T04:04:25.657Z"
   },
   {
    "duration": 585,
    "start_time": "2024-07-08T04:04:25.727Z"
   },
   {
    "duration": 492112,
    "start_time": "2024-07-08T04:04:26.314Z"
   },
   {
    "duration": 62629,
    "start_time": "2024-07-08T04:12:38.427Z"
   },
   {
    "duration": 572592,
    "start_time": "2024-07-08T04:13:41.057Z"
   },
   {
    "duration": 0,
    "start_time": "2024-07-08T04:23:13.651Z"
   },
   {
    "duration": 0,
    "start_time": "2024-07-08T04:23:13.652Z"
   },
   {
    "duration": 0,
    "start_time": "2024-07-08T04:23:13.654Z"
   },
   {
    "duration": 0,
    "start_time": "2024-07-08T04:23:13.655Z"
   },
   {
    "duration": 44,
    "start_time": "2024-07-08T04:48:37.267Z"
   },
   {
    "duration": 3,
    "start_time": "2024-07-08T04:53:09.684Z"
   },
   {
    "duration": 6,
    "start_time": "2024-07-08T04:53:18.092Z"
   },
   {
    "duration": 5329,
    "start_time": "2024-07-08T04:57:13.370Z"
   },
   {
    "duration": 1181,
    "start_time": "2024-07-08T04:57:18.701Z"
   },
   {
    "duration": 11,
    "start_time": "2024-07-08T04:57:19.883Z"
   },
   {
    "duration": 973,
    "start_time": "2024-07-08T04:57:19.895Z"
   },
   {
    "duration": 43,
    "start_time": "2024-07-08T04:57:20.869Z"
   },
   {
    "duration": 41,
    "start_time": "2024-07-08T04:57:20.914Z"
   },
   {
    "duration": 165,
    "start_time": "2024-07-08T04:57:20.957Z"
   },
   {
    "duration": 58922,
    "start_time": "2024-07-08T04:57:21.123Z"
   },
   {
    "duration": 67,
    "start_time": "2024-07-08T04:58:20.046Z"
   },
   {
    "duration": 6973,
    "start_time": "2024-07-08T04:58:20.115Z"
   },
   {
    "duration": 262,
    "start_time": "2024-07-08T04:58:27.089Z"
   },
   {
    "duration": 76,
    "start_time": "2024-07-08T04:58:27.353Z"
   },
   {
    "duration": 53,
    "start_time": "2024-07-08T04:58:27.430Z"
   },
   {
    "duration": 73,
    "start_time": "2024-07-08T04:58:27.486Z"
   },
   {
    "duration": 2244,
    "start_time": "2024-07-08T04:58:27.561Z"
   },
   {
    "duration": 8,
    "start_time": "2024-07-08T04:58:29.807Z"
   },
   {
    "duration": 40452,
    "start_time": "2024-07-08T04:58:29.817Z"
   },
   {
    "duration": 3797,
    "start_time": "2024-07-08T04:59:10.270Z"
   },
   {
    "duration": 4,
    "start_time": "2024-07-08T04:59:14.068Z"
   },
   {
    "duration": 98,
    "start_time": "2024-07-08T04:59:14.073Z"
   },
   {
    "duration": 565,
    "start_time": "2024-07-08T04:59:14.172Z"
   },
   {
    "duration": 104,
    "start_time": "2024-07-08T04:59:14.739Z"
   },
   {
    "duration": 0,
    "start_time": "2024-07-08T04:59:14.844Z"
   },
   {
    "duration": 0,
    "start_time": "2024-07-08T04:59:14.845Z"
   },
   {
    "duration": 0,
    "start_time": "2024-07-08T04:59:14.846Z"
   },
   {
    "duration": 0,
    "start_time": "2024-07-08T04:59:14.848Z"
   },
   {
    "duration": 3,
    "start_time": "2024-07-08T05:00:22.784Z"
   },
   {
    "duration": 55,
    "start_time": "2024-07-08T05:00:24.860Z"
   },
   {
    "duration": 568,
    "start_time": "2024-07-08T05:00:25.947Z"
   },
   {
    "duration": 11,
    "start_time": "2024-07-08T05:00:27.387Z"
   },
   {
    "duration": 4,
    "start_time": "2024-07-08T05:04:53.825Z"
   },
   {
    "duration": 11,
    "start_time": "2024-07-08T05:05:00.951Z"
   },
   {
    "duration": 66,
    "start_time": "2024-07-08T05:05:06.789Z"
   },
   {
    "duration": 555,
    "start_time": "2024-07-08T05:05:07.551Z"
   },
   {
    "duration": 9,
    "start_time": "2024-07-08T05:05:09.004Z"
   },
   {
    "duration": 5,
    "start_time": "2024-07-08T05:05:33.063Z"
   },
   {
    "duration": 231569,
    "start_time": "2024-07-08T05:05:38.145Z"
   },
   {
    "duration": 21,
    "start_time": "2024-07-08T05:09:38.755Z"
   },
   {
    "duration": 78,
    "start_time": "2024-07-08T05:09:45.955Z"
   },
   {
    "duration": 10,
    "start_time": "2024-07-08T05:12:40.195Z"
   },
   {
    "duration": 8,
    "start_time": "2024-07-08T05:12:43.515Z"
   },
   {
    "duration": 10,
    "start_time": "2024-07-08T05:12:53.118Z"
   },
   {
    "duration": 67,
    "start_time": "2024-07-08T05:19:08.305Z"
   },
   {
    "duration": 25,
    "start_time": "2024-07-08T05:19:12.444Z"
   },
   {
    "duration": 4,
    "start_time": "2024-07-08T05:19:33.223Z"
   },
   {
    "duration": 26,
    "start_time": "2024-07-08T05:19:40.962Z"
   },
   {
    "duration": 1471,
    "start_time": "2024-07-08T05:19:57.787Z"
   },
   {
    "duration": 556,
    "start_time": "2024-07-08T05:21:40.577Z"
   },
   {
    "duration": 70,
    "start_time": "2024-07-08T05:22:47.434Z"
   },
   {
    "duration": 855,
    "start_time": "2024-07-08T05:23:04.485Z"
   },
   {
    "duration": 9,
    "start_time": "2024-07-08T05:27:09.964Z"
   },
   {
    "duration": 4,
    "start_time": "2024-07-08T05:27:31.958Z"
   },
   {
    "duration": 4,
    "start_time": "2024-07-08T05:29:34.833Z"
   },
   {
    "duration": 3,
    "start_time": "2024-07-08T05:29:39.929Z"
   },
   {
    "duration": 64,
    "start_time": "2024-07-08T05:33:47.748Z"
   },
   {
    "duration": 3,
    "start_time": "2024-07-08T05:33:49.346Z"
   },
   {
    "duration": 8,
    "start_time": "2024-07-08T05:33:52.295Z"
   },
   {
    "duration": 0,
    "start_time": "2024-07-08T05:34:18.105Z"
   },
   {
    "duration": 98221,
    "start_time": "2024-07-08T05:34:44.428Z"
   },
   {
    "duration": 3,
    "start_time": "2024-07-08T05:36:58.031Z"
   },
   {
    "duration": 65,
    "start_time": "2024-07-08T05:37:02.473Z"
   },
   {
    "duration": 3,
    "start_time": "2024-07-08T05:37:02.540Z"
   },
   {
    "duration": 204845,
    "start_time": "2024-07-08T05:37:07.177Z"
   },
   {
    "duration": 0,
    "start_time": "2024-07-08T05:40:32.024Z"
   },
   {
    "duration": 0,
    "start_time": "2024-07-08T05:40:32.025Z"
   },
   {
    "duration": 0,
    "start_time": "2024-07-08T05:40:32.025Z"
   },
   {
    "duration": 5341,
    "start_time": "2024-07-08T05:41:01.979Z"
   },
   {
    "duration": 1184,
    "start_time": "2024-07-08T05:41:07.322Z"
   },
   {
    "duration": 10,
    "start_time": "2024-07-08T05:41:08.508Z"
   },
   {
    "duration": 932,
    "start_time": "2024-07-08T05:41:08.520Z"
   },
   {
    "duration": 33,
    "start_time": "2024-07-08T05:41:09.454Z"
   },
   {
    "duration": 39,
    "start_time": "2024-07-08T05:41:09.488Z"
   },
   {
    "duration": 103,
    "start_time": "2024-07-08T05:41:09.529Z"
   },
   {
    "duration": 58964,
    "start_time": "2024-07-08T05:41:09.634Z"
   },
   {
    "duration": 61,
    "start_time": "2024-07-08T05:42:08.601Z"
   },
   {
    "duration": 7004,
    "start_time": "2024-07-08T05:42:08.664Z"
   },
   {
    "duration": 250,
    "start_time": "2024-07-08T05:42:15.670Z"
   },
   {
    "duration": 73,
    "start_time": "2024-07-08T05:42:15.921Z"
   },
   {
    "duration": 56,
    "start_time": "2024-07-08T05:42:15.996Z"
   },
   {
    "duration": 60,
    "start_time": "2024-07-08T05:42:16.053Z"
   },
   {
    "duration": 2283,
    "start_time": "2024-07-08T05:42:16.114Z"
   },
   {
    "duration": 11,
    "start_time": "2024-07-08T05:42:18.398Z"
   },
   {
    "duration": 38859,
    "start_time": "2024-07-08T05:42:18.410Z"
   },
   {
    "duration": 3771,
    "start_time": "2024-07-08T05:42:57.271Z"
   },
   {
    "duration": 4,
    "start_time": "2024-07-08T05:43:01.043Z"
   },
   {
    "duration": 131,
    "start_time": "2024-07-08T05:43:01.048Z"
   },
   {
    "duration": 67,
    "start_time": "2024-07-08T05:43:01.181Z"
   },
   {
    "duration": 222770,
    "start_time": "2024-07-08T05:43:01.249Z"
   },
   {
    "duration": 0,
    "start_time": "2024-07-08T05:46:44.020Z"
   },
   {
    "duration": 0,
    "start_time": "2024-07-08T05:46:44.022Z"
   },
   {
    "duration": 0,
    "start_time": "2024-07-08T05:46:44.022Z"
   },
   {
    "duration": 0,
    "start_time": "2024-07-08T05:46:44.023Z"
   },
   {
    "duration": 0,
    "start_time": "2024-07-08T05:46:44.024Z"
   },
   {
    "duration": 11,
    "start_time": "2024-07-08T05:47:27.063Z"
   },
   {
    "duration": 69454,
    "start_time": "2024-07-08T05:48:03.924Z"
   },
   {
    "duration": 21,
    "start_time": "2024-07-08T05:51:02.849Z"
   },
   {
    "duration": 27,
    "start_time": "2024-07-08T05:51:09.172Z"
   },
   {
    "duration": 22,
    "start_time": "2024-07-08T06:01:37.611Z"
   },
   {
    "duration": 17,
    "start_time": "2024-07-08T06:01:42.857Z"
   },
   {
    "duration": 16,
    "start_time": "2024-07-08T06:01:58.408Z"
   },
   {
    "duration": 19,
    "start_time": "2024-07-08T06:02:52.224Z"
   },
   {
    "duration": 49,
    "start_time": "2024-07-08T06:26:00.370Z"
   },
   {
    "duration": 5265,
    "start_time": "2024-07-08T06:26:08.809Z"
   },
   {
    "duration": 1139,
    "start_time": "2024-07-08T06:26:14.076Z"
   },
   {
    "duration": 16,
    "start_time": "2024-07-08T06:26:15.216Z"
   },
   {
    "duration": 1132,
    "start_time": "2024-07-08T06:26:15.234Z"
   },
   {
    "duration": 41,
    "start_time": "2024-07-08T06:26:16.367Z"
   },
   {
    "duration": 43,
    "start_time": "2024-07-08T06:26:16.410Z"
   },
   {
    "duration": 160,
    "start_time": "2024-07-08T06:26:16.454Z"
   },
   {
    "duration": 61358,
    "start_time": "2024-07-08T06:26:16.616Z"
   },
   {
    "duration": 65,
    "start_time": "2024-07-08T06:27:17.975Z"
   },
   {
    "duration": 7481,
    "start_time": "2024-07-08T06:27:18.042Z"
   },
   {
    "duration": 231,
    "start_time": "2024-07-08T06:27:25.524Z"
   },
   {
    "duration": 76,
    "start_time": "2024-07-08T06:27:25.756Z"
   },
   {
    "duration": 52,
    "start_time": "2024-07-08T06:27:25.833Z"
   },
   {
    "duration": 63,
    "start_time": "2024-07-08T06:27:25.886Z"
   },
   {
    "duration": 2295,
    "start_time": "2024-07-08T06:27:25.950Z"
   },
   {
    "duration": 9,
    "start_time": "2024-07-08T06:27:28.246Z"
   },
   {
    "duration": 38956,
    "start_time": "2024-07-08T06:27:28.256Z"
   },
   {
    "duration": 3859,
    "start_time": "2024-07-08T06:28:07.214Z"
   },
   {
    "duration": 4,
    "start_time": "2024-07-08T06:28:11.075Z"
   },
   {
    "duration": 22,
    "start_time": "2024-07-08T06:28:11.080Z"
   },
   {
    "duration": 114,
    "start_time": "2024-07-08T06:28:11.104Z"
   },
   {
    "duration": 0,
    "start_time": "2024-07-08T06:28:11.220Z"
   },
   {
    "duration": 0,
    "start_time": "2024-07-08T06:28:11.221Z"
   },
   {
    "duration": 0,
    "start_time": "2024-07-08T06:28:11.222Z"
   },
   {
    "duration": 0,
    "start_time": "2024-07-08T06:28:11.223Z"
   },
   {
    "duration": 0,
    "start_time": "2024-07-08T06:28:11.224Z"
   },
   {
    "duration": 0,
    "start_time": "2024-07-08T06:28:11.225Z"
   },
   {
    "duration": 0,
    "start_time": "2024-07-08T06:28:11.225Z"
   },
   {
    "duration": 0,
    "start_time": "2024-07-08T06:28:11.226Z"
   },
   {
    "duration": 94,
    "start_time": "2024-07-08T06:28:52.467Z"
   },
   {
    "duration": 83,
    "start_time": "2024-07-08T06:28:59.911Z"
   },
   {
    "duration": 3,
    "start_time": "2024-07-08T06:29:07.352Z"
   },
   {
    "duration": 219913,
    "start_time": "2024-07-08T06:29:10.121Z"
   },
   {
    "duration": 11,
    "start_time": "2024-07-08T06:35:15.925Z"
   },
   {
    "duration": 2,
    "start_time": "2024-07-08T06:44:05.088Z"
   },
   {
    "duration": 3,
    "start_time": "2024-07-08T06:44:24.936Z"
   },
   {
    "duration": 221285,
    "start_time": "2024-07-08T06:44:28.143Z"
   },
   {
    "duration": 104230,
    "start_time": "2024-07-08T06:53:49.051Z"
   },
   {
    "duration": 0,
    "start_time": "2024-07-08T06:55:33.282Z"
   },
   {
    "duration": 13,
    "start_time": "2024-07-08T06:55:39.040Z"
   },
   {
    "duration": 69,
    "start_time": "2024-07-08T06:56:20.386Z"
   },
   {
    "duration": 75,
    "start_time": "2024-07-08T06:56:32.891Z"
   },
   {
    "duration": 70,
    "start_time": "2024-07-08T06:57:08.919Z"
   },
   {
    "duration": 3,
    "start_time": "2024-07-08T06:57:13.291Z"
   },
   {
    "duration": 3,
    "start_time": "2024-07-08T06:57:13.786Z"
   },
   {
    "duration": 319312,
    "start_time": "2024-07-08T06:57:18.327Z"
   },
   {
    "duration": 0,
    "start_time": "2024-07-08T07:02:37.641Z"
   },
   {
    "duration": 0,
    "start_time": "2024-07-08T07:02:37.642Z"
   },
   {
    "duration": 8,
    "start_time": "2024-07-08T07:12:14.827Z"
   },
   {
    "duration": 331280,
    "start_time": "2024-07-08T07:12:22.141Z"
   },
   {
    "duration": 25,
    "start_time": "2024-07-08T07:18:36.320Z"
   },
   {
    "duration": 9,
    "start_time": "2024-07-08T07:19:24.868Z"
   },
   {
    "duration": 8,
    "start_time": "2024-07-08T07:19:34.246Z"
   },
   {
    "duration": 3,
    "start_time": "2024-07-08T07:19:41.446Z"
   },
   {
    "duration": 83,
    "start_time": "2024-07-08T07:19:59.721Z"
   },
   {
    "duration": 3,
    "start_time": "2024-07-08T07:22:58.243Z"
   },
   {
    "duration": 75717,
    "start_time": "2024-07-08T07:23:01.797Z"
   },
   {
    "duration": 4,
    "start_time": "2024-07-08T07:24:17.516Z"
   },
   {
    "duration": 120243,
    "start_time": "2024-07-08T07:24:44.133Z"
   },
   {
    "duration": 33,
    "start_time": "2024-07-08T07:26:47.155Z"
   },
   {
    "duration": 31,
    "start_time": "2024-07-08T07:27:15.722Z"
   },
   {
    "duration": 3,
    "start_time": "2024-07-08T07:28:28.719Z"
   },
   {
    "duration": 3,
    "start_time": "2024-07-08T07:28:30.651Z"
   },
   {
    "duration": 313790,
    "start_time": "2024-07-08T07:28:34.528Z"
   },
   {
    "duration": 26,
    "start_time": "2024-07-08T07:36:12.922Z"
   },
   {
    "duration": 27,
    "start_time": "2024-07-08T07:36:36.358Z"
   },
   {
    "duration": 28,
    "start_time": "2024-07-08T07:36:45.560Z"
   },
   {
    "duration": 3,
    "start_time": "2024-07-08T07:38:39.640Z"
   },
   {
    "duration": 35,
    "start_time": "2024-07-08T07:38:47.640Z"
   },
   {
    "duration": 1507,
    "start_time": "2024-07-08T07:38:59.716Z"
   },
   {
    "duration": 72,
    "start_time": "2024-07-08T07:39:21.139Z"
   },
   {
    "duration": 1503,
    "start_time": "2024-07-08T07:39:24.663Z"
   },
   {
    "duration": 69,
    "start_time": "2024-07-08T07:40:19.069Z"
   },
   {
    "duration": 1551,
    "start_time": "2024-07-08T07:40:24.950Z"
   },
   {
    "duration": 3,
    "start_time": "2024-07-08T07:41:22.219Z"
   },
   {
    "duration": 12,
    "start_time": "2024-07-08T07:43:08.586Z"
   },
   {
    "duration": 1450,
    "start_time": "2024-07-08T07:43:30.468Z"
   },
   {
    "duration": 72,
    "start_time": "2024-07-08T07:43:49.783Z"
   },
   {
    "duration": 2,
    "start_time": "2024-07-08T07:43:57.217Z"
   },
   {
    "duration": 3,
    "start_time": "2024-07-08T07:43:58.776Z"
   },
   {
    "duration": 113625,
    "start_time": "2024-07-08T07:44:01.856Z"
   },
   {
    "duration": 313570,
    "start_time": "2024-07-08T07:46:01.053Z"
   },
   {
    "duration": 13,
    "start_time": "2024-07-08T07:55:35.385Z"
   },
   {
    "duration": 43919,
    "start_time": "2024-07-08T07:55:42.630Z"
   },
   {
    "duration": 3,
    "start_time": "2024-07-08T07:57:31.378Z"
   },
   {
    "duration": 68,
    "start_time": "2024-07-08T07:57:40.995Z"
   },
   {
    "duration": 3,
    "start_time": "2024-07-08T07:57:42.412Z"
   },
   {
    "duration": 3,
    "start_time": "2024-07-08T07:57:45.253Z"
   },
   {
    "duration": 190179,
    "start_time": "2024-07-08T07:58:08.195Z"
   },
   {
    "duration": 70036,
    "start_time": "2024-07-08T08:01:58.948Z"
   },
   {
    "duration": 460150,
    "start_time": "2024-07-08T08:03:12.079Z"
   },
   {
    "duration": 35,
    "start_time": "2024-07-08T08:11:20.808Z"
   },
   {
    "duration": 10,
    "start_time": "2024-07-08T08:11:27.256Z"
   },
   {
    "duration": 5,
    "start_time": "2024-07-08T08:14:42.464Z"
   },
   {
    "duration": 5589,
    "start_time": "2024-07-08T08:15:35.910Z"
   },
   {
    "duration": 1252,
    "start_time": "2024-07-08T08:15:41.501Z"
   },
   {
    "duration": 11,
    "start_time": "2024-07-08T08:15:42.754Z"
   },
   {
    "duration": 979,
    "start_time": "2024-07-08T08:15:42.767Z"
   },
   {
    "duration": 34,
    "start_time": "2024-07-08T08:15:43.747Z"
   },
   {
    "duration": 48,
    "start_time": "2024-07-08T08:15:43.782Z"
   },
   {
    "duration": 109,
    "start_time": "2024-07-08T08:15:43.832Z"
   },
   {
    "duration": 62062,
    "start_time": "2024-07-08T08:15:43.943Z"
   },
   {
    "duration": 63,
    "start_time": "2024-07-08T08:16:46.007Z"
   },
   {
    "duration": 7097,
    "start_time": "2024-07-08T08:16:46.072Z"
   },
   {
    "duration": 232,
    "start_time": "2024-07-08T08:16:53.170Z"
   },
   {
    "duration": 68,
    "start_time": "2024-07-08T08:16:53.403Z"
   },
   {
    "duration": 59,
    "start_time": "2024-07-08T08:16:53.473Z"
   },
   {
    "duration": 69,
    "start_time": "2024-07-08T08:16:53.533Z"
   },
   {
    "duration": 2228,
    "start_time": "2024-07-08T08:16:53.603Z"
   },
   {
    "duration": 8,
    "start_time": "2024-07-08T08:16:55.833Z"
   },
   {
    "duration": 38777,
    "start_time": "2024-07-08T08:16:55.842Z"
   },
   {
    "duration": 3831,
    "start_time": "2024-07-08T08:17:34.620Z"
   },
   {
    "duration": 5,
    "start_time": "2024-07-08T08:17:38.452Z"
   },
   {
    "duration": 87,
    "start_time": "2024-07-08T08:17:38.458Z"
   },
   {
    "duration": 3,
    "start_time": "2024-07-08T08:17:38.546Z"
   },
   {
    "duration": 22,
    "start_time": "2024-07-08T08:17:38.550Z"
   },
   {
    "duration": 107,
    "start_time": "2024-07-08T08:17:38.573Z"
   },
   {
    "duration": 0,
    "start_time": "2024-07-08T08:17:38.681Z"
   },
   {
    "duration": 0,
    "start_time": "2024-07-08T08:17:38.683Z"
   },
   {
    "duration": 0,
    "start_time": "2024-07-08T08:17:38.684Z"
   },
   {
    "duration": 0,
    "start_time": "2024-07-08T08:17:38.685Z"
   },
   {
    "duration": 215438,
    "start_time": "2024-07-08T08:18:07.213Z"
   },
   {
    "duration": 80518,
    "start_time": "2024-07-08T08:21:42.653Z"
   },
   {
    "duration": 911540,
    "start_time": "2024-07-08T08:23:03.172Z"
   },
   {
    "duration": 7,
    "start_time": "2024-07-08T08:38:14.713Z"
   },
   {
    "duration": 17,
    "start_time": "2024-07-08T08:38:14.721Z"
   },
   {
    "duration": 200,
    "start_time": "2024-07-08T08:38:56.907Z"
   },
   {
    "duration": 3,
    "start_time": "2024-07-08T08:39:55.088Z"
   },
   {
    "duration": 197,
    "start_time": "2024-07-08T08:40:09.395Z"
   }
  ],
  "kernelspec": {
   "display_name": "Python 3 (ipykernel)",
   "language": "python",
   "name": "python3"
  },
  "language_info": {
   "codemirror_mode": {
    "name": "ipython",
    "version": 3
   },
   "file_extension": ".py",
   "mimetype": "text/x-python",
   "name": "python",
   "nbconvert_exporter": "python",
   "pygments_lexer": "ipython3",
   "version": "3.9.5"
  },
  "toc": {
   "base_numbering": 1,
   "nav_menu": {},
   "number_sections": true,
   "sideBar": true,
   "skip_h1_title": true,
   "title_cell": "Table of Contents",
   "title_sidebar": "Contents",
   "toc_cell": false,
   "toc_position": {
    "height": "calc(100% - 180px)",
    "left": "10px",
    "top": "150px",
    "width": "205.656px"
   },
   "toc_section_display": true,
   "toc_window_display": true
  }
 },
 "nbformat": 4,
 "nbformat_minor": 2
}
