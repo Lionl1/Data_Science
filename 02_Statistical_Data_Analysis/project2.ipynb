{
 "cells": [
  {
   "cell_type": "markdown",
   "id": "2330d45d",
   "metadata": {},
   "source": [
    "# <center> Статистический анализ данных"
   ]
  },
  {
   "cell_type": "markdown",
   "id": "0dc3cb54",
   "metadata": {},
   "source": [
    "Данные сервиса проката самокатов\n",
    "* Загрузить, обработать данные, выявить аномалии и установить связи если есть.\n",
    "* Необходимо проанализировать данные и проверьте некоторые гипотезы, которые могут помочь бизнесу вырасти.\n",
    "* Сделать выводы по по результатам"
   ]
  },
  {
   "cell_type": "code",
   "execution_count": 1,
   "id": "72576667",
   "metadata": {},
   "outputs": [],
   "source": [
    "import pandas as pd\n",
    "import matplotlib.pyplot as plt\n",
    "import numpy as np\n",
    "from scipy import stats as st\n",
    "from scipy.stats import binom"
   ]
  },
  {
   "cell_type": "markdown",
   "id": "c42cbe00",
   "metadata": {},
   "source": [
    "### Шаг 1. Загрузка данных"
   ]
  },
  {
   "cell_type": "code",
   "execution_count": 2,
   "id": "eff9f206",
   "metadata": {},
   "outputs": [
    {
     "name": "stdout",
     "output_type": "stream",
     "text": [
      "Данные о пользователях\n"
     ]
    },
    {
     "data": {
      "text/html": [
       "<div>\n",
       "<style scoped>\n",
       "    .dataframe tbody tr th:only-of-type {\n",
       "        vertical-align: middle;\n",
       "    }\n",
       "\n",
       "    .dataframe tbody tr th {\n",
       "        vertical-align: top;\n",
       "    }\n",
       "\n",
       "    .dataframe thead th {\n",
       "        text-align: right;\n",
       "    }\n",
       "</style>\n",
       "<table border=\"1\" class=\"dataframe\">\n",
       "  <thead>\n",
       "    <tr style=\"text-align: right;\">\n",
       "      <th></th>\n",
       "      <th>user_id</th>\n",
       "      <th>name</th>\n",
       "      <th>age</th>\n",
       "      <th>city</th>\n",
       "      <th>subscription_type</th>\n",
       "    </tr>\n",
       "  </thead>\n",
       "  <tbody>\n",
       "    <tr>\n",
       "      <th>0</th>\n",
       "      <td>1</td>\n",
       "      <td>Кира</td>\n",
       "      <td>22</td>\n",
       "      <td>Тюмень</td>\n",
       "      <td>ultra</td>\n",
       "    </tr>\n",
       "    <tr>\n",
       "      <th>1</th>\n",
       "      <td>2</td>\n",
       "      <td>Станислав</td>\n",
       "      <td>31</td>\n",
       "      <td>Омск</td>\n",
       "      <td>ultra</td>\n",
       "    </tr>\n",
       "    <tr>\n",
       "      <th>2</th>\n",
       "      <td>3</td>\n",
       "      <td>Алексей</td>\n",
       "      <td>20</td>\n",
       "      <td>Москва</td>\n",
       "      <td>ultra</td>\n",
       "    </tr>\n",
       "    <tr>\n",
       "      <th>3</th>\n",
       "      <td>4</td>\n",
       "      <td>Константин</td>\n",
       "      <td>26</td>\n",
       "      <td>Ростов-на-Дону</td>\n",
       "      <td>ultra</td>\n",
       "    </tr>\n",
       "    <tr>\n",
       "      <th>4</th>\n",
       "      <td>5</td>\n",
       "      <td>Адель</td>\n",
       "      <td>28</td>\n",
       "      <td>Омск</td>\n",
       "      <td>ultra</td>\n",
       "    </tr>\n",
       "    <tr>\n",
       "      <th>5</th>\n",
       "      <td>6</td>\n",
       "      <td>Регина</td>\n",
       "      <td>25</td>\n",
       "      <td>Краснодар</td>\n",
       "      <td>ultra</td>\n",
       "    </tr>\n",
       "    <tr>\n",
       "      <th>6</th>\n",
       "      <td>7</td>\n",
       "      <td>Игорь</td>\n",
       "      <td>23</td>\n",
       "      <td>Омск</td>\n",
       "      <td>ultra</td>\n",
       "    </tr>\n",
       "    <tr>\n",
       "      <th>7</th>\n",
       "      <td>8</td>\n",
       "      <td>Юрий</td>\n",
       "      <td>23</td>\n",
       "      <td>Краснодар</td>\n",
       "      <td>ultra</td>\n",
       "    </tr>\n",
       "    <tr>\n",
       "      <th>8</th>\n",
       "      <td>9</td>\n",
       "      <td>Ян</td>\n",
       "      <td>21</td>\n",
       "      <td>Пятигорск</td>\n",
       "      <td>ultra</td>\n",
       "    </tr>\n",
       "    <tr>\n",
       "      <th>9</th>\n",
       "      <td>10</td>\n",
       "      <td>Валерий</td>\n",
       "      <td>18</td>\n",
       "      <td>Екатеринбург</td>\n",
       "      <td>ultra</td>\n",
       "    </tr>\n",
       "  </tbody>\n",
       "</table>\n",
       "</div>"
      ],
      "text/plain": [
       "   user_id        name  age            city subscription_type\n",
       "0        1        Кира   22          Тюмень             ultra\n",
       "1        2   Станислав   31            Омск             ultra\n",
       "2        3     Алексей   20          Москва             ultra\n",
       "3        4  Константин   26  Ростов-на-Дону             ultra\n",
       "4        5       Адель   28            Омск             ultra\n",
       "5        6      Регина   25       Краснодар             ultra\n",
       "6        7       Игорь   23            Омск             ultra\n",
       "7        8        Юрий   23       Краснодар             ultra\n",
       "8        9          Ян   21       Пятигорск             ultra\n",
       "9       10     Валерий   18    Екатеринбург             ultra"
      ]
     },
     "metadata": {},
     "output_type": "display_data"
    },
    {
     "name": "stdout",
     "output_type": "stream",
     "text": [
      "<class 'pandas.core.frame.DataFrame'>\n",
      "RangeIndex: 1565 entries, 0 to 1564\n",
      "Data columns (total 5 columns):\n",
      " #   Column             Non-Null Count  Dtype \n",
      "---  ------             --------------  ----- \n",
      " 0   user_id            1565 non-null   int64 \n",
      " 1   name               1565 non-null   object\n",
      " 2   age                1565 non-null   int64 \n",
      " 3   city               1565 non-null   object\n",
      " 4   subscription_type  1565 non-null   object\n",
      "dtypes: int64(2), object(3)\n",
      "memory usage: 61.3+ KB\n",
      "\n",
      "Число дубликатов в таблице =  31\n"
     ]
    },
    {
     "data": {
      "text/plain": [
       "''"
      ]
     },
     "execution_count": 2,
     "metadata": {},
     "output_type": "execute_result"
    }
   ],
   "source": [
    "print(\"Данные о пользователях\")\n",
    "try:\n",
    "    data_users = pd.read_csv('/datasets/users_go.csv')\n",
    "except:\n",
    "    data_users = pd.read_csv('https://code.s3.yandex.net/datasets/users_go.csv')\n",
    "display(data_users.head(10))\n",
    "data_users.info()\n",
    "print()\n",
    "print('Число дубликатов в таблице = ',data_users.duplicated().sum())\n",
    ";"
   ]
  },
  {
   "cell_type": "code",
   "execution_count": 3,
   "id": "df7cb1da",
   "metadata": {},
   "outputs": [
    {
     "name": "stdout",
     "output_type": "stream",
     "text": [
      "Данные о поездках\n"
     ]
    },
    {
     "data": {
      "text/html": [
       "<div>\n",
       "<style scoped>\n",
       "    .dataframe tbody tr th:only-of-type {\n",
       "        vertical-align: middle;\n",
       "    }\n",
       "\n",
       "    .dataframe tbody tr th {\n",
       "        vertical-align: top;\n",
       "    }\n",
       "\n",
       "    .dataframe thead th {\n",
       "        text-align: right;\n",
       "    }\n",
       "</style>\n",
       "<table border=\"1\" class=\"dataframe\">\n",
       "  <thead>\n",
       "    <tr style=\"text-align: right;\">\n",
       "      <th></th>\n",
       "      <th>user_id</th>\n",
       "      <th>distance</th>\n",
       "      <th>duration</th>\n",
       "      <th>date</th>\n",
       "    </tr>\n",
       "  </thead>\n",
       "  <tbody>\n",
       "    <tr>\n",
       "      <th>0</th>\n",
       "      <td>1</td>\n",
       "      <td>4409.919140</td>\n",
       "      <td>25.599769</td>\n",
       "      <td>2021-01-01</td>\n",
       "    </tr>\n",
       "    <tr>\n",
       "      <th>1</th>\n",
       "      <td>1</td>\n",
       "      <td>2617.592153</td>\n",
       "      <td>15.816871</td>\n",
       "      <td>2021-01-18</td>\n",
       "    </tr>\n",
       "    <tr>\n",
       "      <th>2</th>\n",
       "      <td>1</td>\n",
       "      <td>754.159807</td>\n",
       "      <td>6.232113</td>\n",
       "      <td>2021-04-20</td>\n",
       "    </tr>\n",
       "    <tr>\n",
       "      <th>3</th>\n",
       "      <td>1</td>\n",
       "      <td>2694.783254</td>\n",
       "      <td>18.511000</td>\n",
       "      <td>2021-08-11</td>\n",
       "    </tr>\n",
       "    <tr>\n",
       "      <th>4</th>\n",
       "      <td>1</td>\n",
       "      <td>4028.687306</td>\n",
       "      <td>26.265803</td>\n",
       "      <td>2021-08-28</td>\n",
       "    </tr>\n",
       "    <tr>\n",
       "      <th>5</th>\n",
       "      <td>1</td>\n",
       "      <td>2770.890808</td>\n",
       "      <td>16.650138</td>\n",
       "      <td>2021-10-09</td>\n",
       "    </tr>\n",
       "    <tr>\n",
       "      <th>6</th>\n",
       "      <td>1</td>\n",
       "      <td>3039.020292</td>\n",
       "      <td>14.927879</td>\n",
       "      <td>2021-10-19</td>\n",
       "    </tr>\n",
       "    <tr>\n",
       "      <th>7</th>\n",
       "      <td>1</td>\n",
       "      <td>2842.118050</td>\n",
       "      <td>23.117468</td>\n",
       "      <td>2021-11-06</td>\n",
       "    </tr>\n",
       "    <tr>\n",
       "      <th>8</th>\n",
       "      <td>1</td>\n",
       "      <td>3412.690668</td>\n",
       "      <td>15.238072</td>\n",
       "      <td>2021-11-14</td>\n",
       "    </tr>\n",
       "    <tr>\n",
       "      <th>9</th>\n",
       "      <td>1</td>\n",
       "      <td>748.690645</td>\n",
       "      <td>15.041884</td>\n",
       "      <td>2021-11-22</td>\n",
       "    </tr>\n",
       "  </tbody>\n",
       "</table>\n",
       "</div>"
      ],
      "text/plain": [
       "   user_id     distance   duration       date\n",
       "0        1  4409.919140  25.599769 2021-01-01\n",
       "1        1  2617.592153  15.816871 2021-01-18\n",
       "2        1   754.159807   6.232113 2021-04-20\n",
       "3        1  2694.783254  18.511000 2021-08-11\n",
       "4        1  4028.687306  26.265803 2021-08-28\n",
       "5        1  2770.890808  16.650138 2021-10-09\n",
       "6        1  3039.020292  14.927879 2021-10-19\n",
       "7        1  2842.118050  23.117468 2021-11-06\n",
       "8        1  3412.690668  15.238072 2021-11-14\n",
       "9        1   748.690645  15.041884 2021-11-22"
      ]
     },
     "metadata": {},
     "output_type": "display_data"
    },
    {
     "name": "stdout",
     "output_type": "stream",
     "text": [
      "<class 'pandas.core.frame.DataFrame'>\n",
      "RangeIndex: 18068 entries, 0 to 18067\n",
      "Data columns (total 4 columns):\n",
      " #   Column    Non-Null Count  Dtype         \n",
      "---  ------    --------------  -----         \n",
      " 0   user_id   18068 non-null  int64         \n",
      " 1   distance  18068 non-null  float64       \n",
      " 2   duration  18068 non-null  float64       \n",
      " 3   date      18068 non-null  datetime64[ns]\n",
      "dtypes: datetime64[ns](1), float64(2), int64(1)\n",
      "memory usage: 564.8 KB\n",
      "\n",
      "Число дубликатов в таблице =  0\n"
     ]
    },
    {
     "data": {
      "text/plain": [
       "''"
      ]
     },
     "execution_count": 3,
     "metadata": {},
     "output_type": "execute_result"
    }
   ],
   "source": [
    "print(\"Данные о поездках\")\n",
    "try:\n",
    "    data_rides = pd.read_csv('/datasets/rides_go.csv',parse_dates=['date'])\n",
    "except:\n",
    "    data_rides = pd.read_csv('https://code.s3.yandex.net/datasets/rides_go.csv',parse_dates=['date'])\n",
    "display(data_rides.head(10))\n",
    "data_rides.info()\n",
    "print()\n",
    "print('Число дубликатов в таблице = ',data_rides.duplicated().sum())\n",
    ";"
   ]
  },
  {
   "cell_type": "code",
   "execution_count": 4,
   "id": "4f66cbca",
   "metadata": {},
   "outputs": [
    {
     "name": "stdout",
     "output_type": "stream",
     "text": [
      "Данные о подписках\n"
     ]
    },
    {
     "data": {
      "text/html": [
       "<div>\n",
       "<style scoped>\n",
       "    .dataframe tbody tr th:only-of-type {\n",
       "        vertical-align: middle;\n",
       "    }\n",
       "\n",
       "    .dataframe tbody tr th {\n",
       "        vertical-align: top;\n",
       "    }\n",
       "\n",
       "    .dataframe thead th {\n",
       "        text-align: right;\n",
       "    }\n",
       "</style>\n",
       "<table border=\"1\" class=\"dataframe\">\n",
       "  <thead>\n",
       "    <tr style=\"text-align: right;\">\n",
       "      <th></th>\n",
       "      <th>subscription_type</th>\n",
       "      <th>minute_price</th>\n",
       "      <th>start_ride_price</th>\n",
       "      <th>subscription_fee</th>\n",
       "    </tr>\n",
       "  </thead>\n",
       "  <tbody>\n",
       "    <tr>\n",
       "      <th>0</th>\n",
       "      <td>free</td>\n",
       "      <td>8</td>\n",
       "      <td>50</td>\n",
       "      <td>0</td>\n",
       "    </tr>\n",
       "    <tr>\n",
       "      <th>1</th>\n",
       "      <td>ultra</td>\n",
       "      <td>6</td>\n",
       "      <td>0</td>\n",
       "      <td>199</td>\n",
       "    </tr>\n",
       "  </tbody>\n",
       "</table>\n",
       "</div>"
      ],
      "text/plain": [
       "  subscription_type  minute_price  start_ride_price  subscription_fee\n",
       "0              free             8                50                 0\n",
       "1             ultra             6                 0               199"
      ]
     },
     "metadata": {},
     "output_type": "display_data"
    },
    {
     "name": "stdout",
     "output_type": "stream",
     "text": [
      "<class 'pandas.core.frame.DataFrame'>\n",
      "RangeIndex: 2 entries, 0 to 1\n",
      "Data columns (total 4 columns):\n",
      " #   Column             Non-Null Count  Dtype \n",
      "---  ------             --------------  ----- \n",
      " 0   subscription_type  2 non-null      object\n",
      " 1   minute_price       2 non-null      int64 \n",
      " 2   start_ride_price   2 non-null      int64 \n",
      " 3   subscription_fee   2 non-null      int64 \n",
      "dtypes: int64(3), object(1)\n",
      "memory usage: 192.0+ bytes\n",
      "\n",
      "Число дубликатов в таблице =  0\n"
     ]
    },
    {
     "data": {
      "text/plain": [
       "''"
      ]
     },
     "execution_count": 4,
     "metadata": {},
     "output_type": "execute_result"
    }
   ],
   "source": [
    "print(\"Данные о подписках\")\n",
    "try:\n",
    "    data_subs = pd.read_csv('/datasets/subscriptions_go.csv')\n",
    "except:\n",
    "    data_subs = pd.read_csv('https://code.s3.yandex.net/datasets/subscriptions_go.csv')\n",
    "display(data_subs.head(10))\n",
    "data_subs.info()\n",
    "print()\n",
    "print('Число дубликатов в таблице = ',data_subs.duplicated().sum())\n",
    ";"
   ]
  },
  {
   "cell_type": "markdown",
   "id": "46c14f1e",
   "metadata": {},
   "source": [
    "- Для анализа исходных данных построим некоторые графики"
   ]
  },
  {
   "cell_type": "code",
   "execution_count": 5,
   "id": "06bf48c2",
   "metadata": {},
   "outputs": [
    {
     "data": {
      "text/plain": [
       "count    1565.000000\n",
       "mean       24.922045\n",
       "std         4.553496\n",
       "min        12.000000\n",
       "25%        22.000000\n",
       "50%        25.000000\n",
       "75%        28.000000\n",
       "max        43.000000\n",
       "Name: age, dtype: float64"
      ]
     },
     "metadata": {},
     "output_type": "display_data"
    },
    {
     "data": {
      "image/png": "[encoded data removed]",
      "text/plain": [
       "<Figure size 432x288 with 1 Axes>"
      ]
     },
     "metadata": {
      "needs_background": "light"
     },
     "output_type": "display_data"
    },
    {
     "data": {
      "text/plain": [
       "''"
      ]
     },
     "execution_count": 5,
     "metadata": {},
     "output_type": "execute_result"
    }
   ],
   "source": [
    "# В первой таблице в виде графика можем изучить возраст пользователей\n",
    "display(data_users['age'].describe())\n",
    "plt.hist(data_users['age'], bins = 50)\n",
    "plt.title('Распределение возраста пользователей')\n",
    "plt.xlabel('Возраст')\n",
    "plt.ylabel('Частота')\n",
    "plt.show()\n",
    ";"
   ]
  },
  {
   "cell_type": "code",
   "execution_count": 6,
   "id": "58a5b6d3",
   "metadata": {},
   "outputs": [
    {
     "data": {
      "text/plain": [
       "count    18068.000000\n",
       "mean      3070.659976\n",
       "std       1116.831209\n",
       "min          0.855683\n",
       "25%       2543.226360\n",
       "50%       3133.609994\n",
       "75%       3776.222735\n",
       "max       7211.007745\n",
       "Name: distance, dtype: float64"
      ]
     },
     "metadata": {},
     "output_type": "display_data"
    },
    {
     "data": {
      "image/png": "[encoded data removed]",
      "text/plain": [
       "<Figure size 432x288 with 1 Axes>"
      ]
     },
     "metadata": {
      "needs_background": "light"
     },
     "output_type": "display_data"
    },
    {
     "data": {
      "text/plain": [
       "count    18068.000000\n",
       "mean        17.805011\n",
       "std          6.091051\n",
       "min          0.500000\n",
       "25%         13.597563\n",
       "50%         17.678395\n",
       "75%         21.724800\n",
       "max         40.823963\n",
       "Name: duration, dtype: float64"
      ]
     },
     "metadata": {},
     "output_type": "display_data"
    },
    {
     "data": {
      "image/png": "[encoded data removed]",
      "text/plain": [
       "<Figure size 432x288 with 1 Axes>"
      ]
     },
     "metadata": {
      "needs_background": "light"
     },
     "output_type": "display_data"
    },
    {
     "name": "stderr",
     "output_type": "stream",
     "text": [
      "/tmp/ipykernel_115/3907868911.py:15: FutureWarning: Treating datetime data as categorical rather than numeric in `.describe` is deprecated and will be removed in a future version of pandas. Specify `datetime_is_numeric=True` to silence this warning and adopt the future behavior now.\n",
      "  display(data_rides['date'].describe())\n"
     ]
    },
    {
     "data": {
      "text/plain": [
       "count                   18068\n",
       "unique                    364\n",
       "top       2021-12-22 00:00:00\n",
       "freq                       72\n",
       "first     2021-01-01 00:00:00\n",
       "last      2021-12-30 00:00:00\n",
       "Name: date, dtype: object"
      ]
     },
     "metadata": {},
     "output_type": "display_data"
    },
    {
     "data": {
      "image/png": "[encoded data removed]",
      "text/plain": [
       "<Figure size 432x288 with 1 Axes>"
      ]
     },
     "metadata": {
      "needs_background": "light"
     },
     "output_type": "display_data"
    },
    {
     "data": {
      "text/plain": [
       "''"
      ]
     },
     "execution_count": 6,
     "metadata": {},
     "output_type": "execute_result"
    }
   ],
   "source": [
    "\n",
    "display(data_rides['distance'].describe())\n",
    "plt.hist(data_rides['distance'], bins = 50)\n",
    "plt.title('Распределение пройденного расстояния')\n",
    "plt.xlabel('Расстояние, м')\n",
    "plt.ylabel('Частота')\n",
    "plt.show()\n",
    "\n",
    "display(data_rides['duration'].describe())\n",
    "plt.hist(data_rides['duration'], bins = 50)\n",
    "plt.title('Распределение длительности поездок')\n",
    "plt.xlabel('Длительность поздки, мин')\n",
    "plt.ylabel('Частота')\n",
    "plt.show()\n",
    "\n",
    "display(data_rides['date'].describe())\n",
    "plt.hist(data_rides['date'], bins = 12)\n",
    "plt.title('Распределение поездок по датам')\n",
    "plt.xlabel('Дата поездок')\n",
    "plt.ylabel('Частота')\n",
    "plt.xticks(rotation=90)\n",
    "plt.show()\n",
    ";"
   ]
  },
  {
   "cell_type": "markdown",
   "id": "e353da9f",
   "metadata": {},
   "source": [
    "Вывод:\n",
    "\n",
    "    Загрузили 3 таблицы с данными,\n",
    "- data_users 1565 записи, 5 столбцов, пропуски отсутствуют, количество явных дубликатов 31.\n",
    "- data_rides 18068 записи, 4 столбца, пропуски отсутствуют, явных дубликатов нет.\n",
    "- data_subs 2 записи, 4 столбца,  пропуски отсутствуют, явных дубликатов нет. \n",
    "\n",
    "Визуализировали некоторые данные из таблиц, по предварительной оценке сильных искажающих факторов и аномалий не обнаружили.\n",
    "Данных достаточно для исследования."
   ]
  },
  {
   "cell_type": "markdown",
   "id": "14d0df4d",
   "metadata": {},
   "source": [
    "### Шаг 2. Предобработка данных"
   ]
  },
  {
   "cell_type": "code",
   "execution_count": 7,
   "id": "e50e3291",
   "metadata": {},
   "outputs": [
    {
     "data": {
      "text/plain": [
       "0"
      ]
     },
     "execution_count": 7,
     "metadata": {},
     "output_type": "execute_result"
    }
   ],
   "source": [
    "# Удалим пустые строки так как их мало, на результат это не повлияет\n",
    "data_users = data_users.drop_duplicates().reset_index(drop=True)\n",
    "data_users.duplicated().sum()"
   ]
  },
  {
   "cell_type": "code",
   "execution_count": 8,
   "id": "1a6bdf89",
   "metadata": {},
   "outputs": [
    {
     "data": {
      "text/plain": [
       "''"
      ]
     },
     "execution_count": 8,
     "metadata": {},
     "output_type": "execute_result"
    }
   ],
   "source": [
    "data_rides['month'] = data_rides['date'].dt.month\n",
    "data_rides['month']\n",
    ";"
   ]
  },
  {
   "cell_type": "markdown",
   "id": "2e40ebf1",
   "metadata": {},
   "source": [
    "    Вывод:\n",
    "Выполнили предобработку данных\n",
    "\n",
    "В данных таблицах отсутствуют пропуски\n",
    "- В данных data_users - Удалили дубликаты\n",
    "- В данных data_rides -  Создали новый столбец с номером месяца из date\n",
    "- в данных date_subs - Изменений не проводили"
   ]
  },
  {
   "cell_type": "markdown",
   "id": "9e5159e2",
   "metadata": {},
   "source": [
    "### Шаг 3. Исследовательский анализ данных"
   ]
  },
  {
   "cell_type": "code",
   "execution_count": 9,
   "id": "0a51bcf4",
   "metadata": {},
   "outputs": [
    {
     "data": {
      "image/png": "[encoded data removed]",
      "text/plain": [
       "<Figure size 720x360 with 1 Axes>"
      ]
     },
     "metadata": {
      "needs_background": "light"
     },
     "output_type": "display_data"
    },
    {
     "name": "stdout",
     "output_type": "stream",
     "text": [
      "Количество пользователей по городам \n"
     ]
    },
    {
     "data": {
      "text/html": [
       "<div>\n",
       "<style scoped>\n",
       "    .dataframe tbody tr th:only-of-type {\n",
       "        vertical-align: middle;\n",
       "    }\n",
       "\n",
       "    .dataframe tbody tr th {\n",
       "        vertical-align: top;\n",
       "    }\n",
       "\n",
       "    .dataframe thead th {\n",
       "        text-align: right;\n",
       "    }\n",
       "</style>\n",
       "<table border=\"1\" class=\"dataframe\">\n",
       "  <thead>\n",
       "    <tr style=\"text-align: right;\">\n",
       "      <th></th>\n",
       "      <th>user_id</th>\n",
       "    </tr>\n",
       "    <tr>\n",
       "      <th>city</th>\n",
       "      <th></th>\n",
       "    </tr>\n",
       "  </thead>\n",
       "  <tbody>\n",
       "    <tr>\n",
       "      <th>Пятигорск</th>\n",
       "      <td>219</td>\n",
       "    </tr>\n",
       "    <tr>\n",
       "      <th>Екатеринбург</th>\n",
       "      <td>204</td>\n",
       "    </tr>\n",
       "    <tr>\n",
       "      <th>Ростов-на-Дону</th>\n",
       "      <td>198</td>\n",
       "    </tr>\n",
       "    <tr>\n",
       "      <th>Краснодар</th>\n",
       "      <td>193</td>\n",
       "    </tr>\n",
       "    <tr>\n",
       "      <th>Сочи</th>\n",
       "      <td>189</td>\n",
       "    </tr>\n",
       "    <tr>\n",
       "      <th>Омск</th>\n",
       "      <td>183</td>\n",
       "    </tr>\n",
       "    <tr>\n",
       "      <th>Тюмень</th>\n",
       "      <td>180</td>\n",
       "    </tr>\n",
       "    <tr>\n",
       "      <th>Москва</th>\n",
       "      <td>168</td>\n",
       "    </tr>\n",
       "  </tbody>\n",
       "</table>\n",
       "</div>"
      ],
      "text/plain": [
       "                user_id\n",
       "city                   \n",
       "Пятигорск           219\n",
       "Екатеринбург        204\n",
       "Ростов-на-Дону      198\n",
       "Краснодар           193\n",
       "Сочи                189\n",
       "Омск                183\n",
       "Тюмень              180\n",
       "Москва              168"
      ]
     },
     "metadata": {},
     "output_type": "display_data"
    },
    {
     "data": {
      "text/plain": [
       "''"
      ]
     },
     "execution_count": 9,
     "metadata": {},
     "output_type": "execute_result"
    }
   ],
   "source": [
    "(\n",
    "    data_users.pivot_table(index='city', values='user_id', aggfunc='count').sort_values(by='user_id', ascending=True)\n",
    "    .plot(kind='barh', grid=True, figsize=(10, 5))\n",
    ")\n",
    "plt.title('Количество пользователей по разным городам')\n",
    "plt.ylabel('Название города')\n",
    "plt.xlabel('Количество пользователей')\n",
    "plt.show()\n",
    "print('Количество пользователей по городам ') \n",
    "display(data_users.pivot_table(index='city', values='user_id', aggfunc='count').sort_values(by='user_id', ascending=False))\n",
    ";"
   ]
  },
  {
   "cell_type": "markdown",
   "id": "d0a4c04a",
   "metadata": {},
   "source": [
    "Вывод:\n",
    "\n",
    "    можем сделать некоторые выводы по распределению пользователей по городам,\n",
    "    \n",
    "- больше всего пользователей в Пятигорске на 2 месте Екатеринбург, дальше Ростов-на-Дону, Краснодар, Сочи, Омск, Тюмень и на последнем месте с большим отрывом от предпоследнего Москва,\n",
    "- наблюдаем тенденцию большого количества пользователей в южных городах, что связано с длительностью сезона проката, за исключением Екатеринбурга\n",
    "- в Москве ситуация может быть обусловлена большей конкуренцией разных прокатных организаций, также наличием более развитой пасажирской логистики"
   ]
  },
  {
   "cell_type": "code",
   "execution_count": 10,
   "id": "33633b36",
   "metadata": {},
   "outputs": [
    {
     "data": {
      "image/png": "[encoded data removed]",
      "text/plain": [
       "<Figure size 360x360 with 1 Axes>"
      ]
     },
     "metadata": {},
     "output_type": "display_data"
    },
    {
     "data": {
      "text/plain": [
       "''"
      ]
     },
     "execution_count": 10,
     "metadata": {},
     "output_type": "execute_result"
    }
   ],
   "source": [
    "(\n",
    "    data_users.pivot_table(index='subscription_type', values='user_id', aggfunc='count')\n",
    "    .plot.pie(y='user_id', figsize=(5,5), \n",
    "    autopct='%1.1f%%', startangle=150,\n",
    "    title='Соотношение количества пользователей с подпиской(ultra) и без(free)')\n",
    "\n",
    ")\n",
    "plt.axis('equal')\n",
    "plt.show()\n",
    ";"
   ]
  },
  {
   "cell_type": "markdown",
   "id": "ba516e26",
   "metadata": {},
   "source": [
    "Вывод:\n",
    "\n",
    "- Количество пользователей без подписки превышает количество пользователей с подпиской на 8.8%"
   ]
  },
  {
   "cell_type": "code",
   "execution_count": 11,
   "id": "53abee6a",
   "metadata": {},
   "outputs": [
    {
     "data": {
      "text/plain": [
       "count    1534.000000\n",
       "mean       24.903520\n",
       "std         4.572367\n",
       "min        12.000000\n",
       "25%        22.000000\n",
       "50%        25.000000\n",
       "75%        28.000000\n",
       "max        43.000000\n",
       "Name: age, dtype: float64"
      ]
     },
     "metadata": {},
     "output_type": "display_data"
    },
    {
     "data": {
      "image/png": "[encoded data removed]",
      "text/plain": [
       "<Figure size 720x360 with 1 Axes>"
      ]
     },
     "metadata": {
      "needs_background": "light"
     },
     "output_type": "display_data"
    }
   ],
   "source": [
    "(\n",
    "    data_users.pivot_table(index='age', values='user_id', aggfunc='count').sort_values(by='age', ascending=True)\n",
    "    .plot(kind='bar' , grid=True, figsize=(10, 5))\n",
    ")\n",
    "display(data_users['age'].describe())\n",
    "plt.title('Распределение пользователей по возрасту')\n",
    "plt.xlabel('Возраст')\n",
    "plt.ylabel('Частота')\n",
    "plt.show()\n"
   ]
  },
  {
   "cell_type": "markdown",
   "id": "ee608277",
   "metadata": {},
   "source": [
    "Вывод:\n",
    "-  Гистограмма количества пользователей по возрастам показывает, что средний возраст пользователей 24.9, а медиана 25 лет, что говорит об отсутствии явных аномалий и близости к нормальному распределению\n",
    "\n"
   ]
  },
  {
   "cell_type": "code",
   "execution_count": 12,
   "id": "9f99f665",
   "metadata": {},
   "outputs": [
    {
     "data": {
      "text/plain": [
       "count    18068.000000\n",
       "mean      3070.659976\n",
       "std       1116.831209\n",
       "min          0.855683\n",
       "25%       2543.226360\n",
       "50%       3133.609994\n",
       "75%       3776.222735\n",
       "max       7211.007745\n",
       "Name: distance, dtype: float64"
      ]
     },
     "metadata": {},
     "output_type": "display_data"
    },
    {
     "data": {
      "image/png": "[encoded data removed]",
      "text/plain": [
       "<Figure size 432x288 with 1 Axes>"
      ]
     },
     "metadata": {
      "needs_background": "light"
     },
     "output_type": "display_data"
    },
    {
     "data": {
      "text/plain": [
       "''"
      ]
     },
     "execution_count": 12,
     "metadata": {},
     "output_type": "execute_result"
    }
   ],
   "source": [
    "display(data_rides['distance'].describe())\n",
    "plt.hist(data_rides['distance'], bins=100, range=(1,7212))\n",
    "plt.title('Распределение поездок по пройденному расcтоянию')\n",
    "plt.xlabel('Расcтояние в метрах')\n",
    "plt.ylabel('Частота')\n",
    "plt.show()\n",
    ";"
   ]
  },
  {
   "cell_type": "code",
   "execution_count": 13,
   "id": "58e4b7c2",
   "metadata": {},
   "outputs": [
    {
     "data": {
      "text/html": [
       "<div>\n",
       "<style scoped>\n",
       "    .dataframe tbody tr th:only-of-type {\n",
       "        vertical-align: middle;\n",
       "    }\n",
       "\n",
       "    .dataframe tbody tr th {\n",
       "        vertical-align: top;\n",
       "    }\n",
       "\n",
       "    .dataframe thead th {\n",
       "        text-align: right;\n",
       "    }\n",
       "</style>\n",
       "<table border=\"1\" class=\"dataframe\">\n",
       "  <thead>\n",
       "    <tr style=\"text-align: right;\">\n",
       "      <th></th>\n",
       "      <th>user_id</th>\n",
       "      <th>distance</th>\n",
       "      <th>duration</th>\n",
       "      <th>date</th>\n",
       "      <th>month</th>\n",
       "    </tr>\n",
       "  </thead>\n",
       "  <tbody>\n",
       "    <tr>\n",
       "      <th>2</th>\n",
       "      <td>1</td>\n",
       "      <td>754.159807</td>\n",
       "      <td>6.232113</td>\n",
       "      <td>2021-04-20</td>\n",
       "      <td>4</td>\n",
       "    </tr>\n",
       "    <tr>\n",
       "      <th>9</th>\n",
       "      <td>1</td>\n",
       "      <td>748.690645</td>\n",
       "      <td>15.041884</td>\n",
       "      <td>2021-11-22</td>\n",
       "      <td>11</td>\n",
       "    </tr>\n",
       "    <tr>\n",
       "      <th>20</th>\n",
       "      <td>2</td>\n",
       "      <td>923.007439</td>\n",
       "      <td>6.914760</td>\n",
       "      <td>2021-08-03</td>\n",
       "      <td>8</td>\n",
       "    </tr>\n",
       "    <tr>\n",
       "      <th>47</th>\n",
       "      <td>4</td>\n",
       "      <td>724.559572</td>\n",
       "      <td>11.811399</td>\n",
       "      <td>2021-11-14</td>\n",
       "      <td>11</td>\n",
       "    </tr>\n",
       "    <tr>\n",
       "      <th>91</th>\n",
       "      <td>9</td>\n",
       "      <td>979.657684</td>\n",
       "      <td>17.521497</td>\n",
       "      <td>2021-03-08</td>\n",
       "      <td>3</td>\n",
       "    </tr>\n",
       "    <tr>\n",
       "      <th>100</th>\n",
       "      <td>10</td>\n",
       "      <td>680.952663</td>\n",
       "      <td>5.150377</td>\n",
       "      <td>2021-02-21</td>\n",
       "      <td>2</td>\n",
       "    </tr>\n",
       "    <tr>\n",
       "      <th>105</th>\n",
       "      <td>10</td>\n",
       "      <td>1409.589386</td>\n",
       "      <td>15.020549</td>\n",
       "      <td>2021-07-02</td>\n",
       "      <td>7</td>\n",
       "    </tr>\n",
       "    <tr>\n",
       "      <th>121</th>\n",
       "      <td>12</td>\n",
       "      <td>1236.815996</td>\n",
       "      <td>9.710448</td>\n",
       "      <td>2021-08-07</td>\n",
       "      <td>8</td>\n",
       "    </tr>\n",
       "    <tr>\n",
       "      <th>132</th>\n",
       "      <td>13</td>\n",
       "      <td>1158.851148</td>\n",
       "      <td>7.345692</td>\n",
       "      <td>2021-10-26</td>\n",
       "      <td>10</td>\n",
       "    </tr>\n",
       "    <tr>\n",
       "      <th>149</th>\n",
       "      <td>15</td>\n",
       "      <td>634.891669</td>\n",
       "      <td>15.809350</td>\n",
       "      <td>2021-04-05</td>\n",
       "      <td>4</td>\n",
       "    </tr>\n",
       "  </tbody>\n",
       "</table>\n",
       "</div>"
      ],
      "text/plain": [
       "     user_id     distance   duration       date  month\n",
       "2          1   754.159807   6.232113 2021-04-20      4\n",
       "9          1   748.690645  15.041884 2021-11-22     11\n",
       "20         2   923.007439   6.914760 2021-08-03      8\n",
       "47         4   724.559572  11.811399 2021-11-14     11\n",
       "91         9   979.657684  17.521497 2021-03-08      3\n",
       "100       10   680.952663   5.150377 2021-02-21      2\n",
       "105       10  1409.589386  15.020549 2021-07-02      7\n",
       "121       12  1236.815996   9.710448 2021-08-07      8\n",
       "132       13  1158.851148   7.345692 2021-10-26     10\n",
       "149       15   634.891669  15.809350 2021-04-05      4"
      ]
     },
     "execution_count": 13,
     "metadata": {},
     "output_type": "execute_result"
    }
   ],
   "source": [
    "data_anom = data_rides.query('0<distance<1500')\n",
    "data_anom.head(10)"
   ]
  },
  {
   "cell_type": "code",
   "execution_count": 14,
   "id": "8bcd60ab",
   "metadata": {},
   "outputs": [
    {
     "data": {
      "image/png": "[encoded data removed]",
      "text/plain": [
       "<Figure size 432x288 with 1 Axes>"
      ]
     },
     "metadata": {
      "needs_background": "light"
     },
     "output_type": "display_data"
    },
    {
     "data": {
      "image/png": "[encoded data removed]",
      "text/plain": [
       "<Figure size 432x288 with 1 Axes>"
      ]
     },
     "metadata": {
      "needs_background": "light"
     },
     "output_type": "display_data"
    }
   ],
   "source": [
    "data_anom['distance'].hist()\n",
    "plt.title('Распределение поездок по пройденному расcтоянию')\n",
    "plt.xlabel('Расcтояние в метрах')\n",
    "plt.ylabel('Частота')\n",
    "plt.show()\n",
    "data_anom['duration'].hist()\n",
    "plt.title('Распределение длительности поездок')\n",
    "plt.xlabel('Длительность в минутах')\n",
    "plt.ylabel('Частота')\n",
    "plt.show()"
   ]
  },
  {
   "cell_type": "markdown",
   "id": "5678131c",
   "metadata": {},
   "source": [
    " Вывод:\n",
    "- Среднее значение пройденного расстояния равно 3070м, а медианное 3133м , первый квартиль - 2543м,  третий - 3776м\n",
    "- Видим аномалию в пределах от 0-1500 м, исключить эти данные мы не можем будем анализировать и искать причины\n",
    "\n",
    "Дополнительно построил, графики для интервала 0-1500, видим что средняя скорость не превышает 2-8 км\\ч, а пройденное расстояние 400-800м, похоже на то, что самокаты были неисправны или разряжены, также люди могли взять самокат впервые для того чтобы просто попробовать"
   ]
  },
  {
   "cell_type": "code",
   "execution_count": 15,
   "id": "d6f08ba0",
   "metadata": {},
   "outputs": [
    {
     "data": {
      "text/plain": [
       "count    18068.000000\n",
       "mean        17.805011\n",
       "std          6.091051\n",
       "min          0.500000\n",
       "25%         13.597563\n",
       "50%         17.678395\n",
       "75%         21.724800\n",
       "max         40.823963\n",
       "Name: duration, dtype: float64"
      ]
     },
     "metadata": {},
     "output_type": "display_data"
    },
    {
     "data": {
      "image/png": "[encoded data removed]",
      "text/plain": [
       "<Figure size 432x288 with 1 Axes>"
      ]
     },
     "metadata": {
      "needs_background": "light"
     },
     "output_type": "display_data"
    },
    {
     "data": {
      "text/plain": [
       "''"
      ]
     },
     "execution_count": 15,
     "metadata": {},
     "output_type": "execute_result"
    }
   ],
   "source": [
    "display(data_rides['duration'].describe())\n",
    "plt.hist(data_rides['duration'], bins=41, range=(1,41))\n",
    "plt.title('Распределение частоты поездок по продолжительности')\n",
    "plt.xlabel('Продолжительность поездки в минутах')\n",
    "plt.ylabel('Частота')\n",
    "plt.show()\n",
    ";"
   ]
  },
  {
   "cell_type": "markdown",
   "id": "9aecc93a",
   "metadata": {},
   "source": [
    "Вывод:\n",
    "- средняя продолжительность поездки 17.8 минут , меданная 17.7 минут, значения довольно близкие , что также говорит о нормальности распределния, первый квартиль - 13.6 минут, третий - 21.8 минут \n"
   ]
  },
  {
   "cell_type": "markdown",
   "id": "f9ad1cb0",
   "metadata": {},
   "source": [
    "- Зная пройденной расстояние и время, можем посчитать среднюю скорость движения, что может дать дополнительную информацию"
   ]
  },
  {
   "cell_type": "code",
   "execution_count": 16,
   "id": "85b1c16f",
   "metadata": {},
   "outputs": [
    {
     "data": {
      "text/plain": [
       "count    18068.000000\n",
       "mean        13.785261\n",
       "std         44.156189\n",
       "min          0.005133\n",
       "25%          8.127843\n",
       "50%         10.251135\n",
       "75%         12.929800\n",
       "max        865.320929\n",
       "Name: velocity, dtype: float64"
      ]
     },
     "metadata": {},
     "output_type": "display_data"
    },
    {
     "data": {
      "image/png": "[encoded data removed]",
      "text/plain": [
       "<Figure size 432x288 with 1 Axes>"
      ]
     },
     "metadata": {
      "needs_background": "light"
     },
     "output_type": "display_data"
    },
    {
     "data": {
      "text/plain": [
       "''"
      ]
     },
     "execution_count": 16,
     "metadata": {},
     "output_type": "execute_result"
    }
   ],
   "source": [
    "# Расчитаем среднюю скорость движения км/ч\n",
    "data_rides['velocity'] = (data_rides['distance']/1000)/(data_rides['duration']/60)\n",
    "display(data_rides['velocity'].describe())\n",
    "plt.hist(data_rides['velocity'], bins=100, range=(1,30))\n",
    "plt.title('Распределение частоты поездок по скорости')\n",
    "plt.xlabel('Скорость движения')\n",
    "plt.ylabel('Частота')\n",
    "plt.show()\n",
    ";"
   ]
  },
  {
   "cell_type": "markdown",
   "id": "5cae0073",
   "metadata": {},
   "source": [
    "Вывод:\n",
    "- средняя скорость поездки 13.8 км/ч , меданная 10.3 км/ч, на графике также проявилась аномалия в области 0-5 км/ч, первый квартиль - 8.1 км/ч, третий - 12.9 км/ч \n"
   ]
  },
  {
   "cell_type": "code",
   "execution_count": 17,
   "id": "73b43d3e",
   "metadata": {},
   "outputs": [
    {
     "data": {
      "text/html": [
       "<div>\n",
       "<style scoped>\n",
       "    .dataframe tbody tr th:only-of-type {\n",
       "        vertical-align: middle;\n",
       "    }\n",
       "\n",
       "    .dataframe tbody tr th {\n",
       "        vertical-align: top;\n",
       "    }\n",
       "\n",
       "    .dataframe thead th {\n",
       "        text-align: right;\n",
       "    }\n",
       "</style>\n",
       "<table border=\"1\" class=\"dataframe\">\n",
       "  <thead>\n",
       "    <tr style=\"text-align: right;\">\n",
       "      <th></th>\n",
       "      <th>user_id</th>\n",
       "      <th>distance</th>\n",
       "      <th>duration</th>\n",
       "      <th>date</th>\n",
       "      <th>month</th>\n",
       "      <th>velocity</th>\n",
       "    </tr>\n",
       "  </thead>\n",
       "  <tbody>\n",
       "    <tr>\n",
       "      <th>6531</th>\n",
       "      <td>701</td>\n",
       "      <td>4196.445201</td>\n",
       "      <td>0.5</td>\n",
       "      <td>2021-08-31</td>\n",
       "      <td>8</td>\n",
       "      <td>503.573424</td>\n",
       "    </tr>\n",
       "    <tr>\n",
       "      <th>6570</th>\n",
       "      <td>704</td>\n",
       "      <td>4830.824371</td>\n",
       "      <td>0.5</td>\n",
       "      <td>2021-10-14</td>\n",
       "      <td>10</td>\n",
       "      <td>579.698925</td>\n",
       "    </tr>\n",
       "    <tr>\n",
       "      <th>6680</th>\n",
       "      <td>712</td>\n",
       "      <td>4684.004397</td>\n",
       "      <td>0.5</td>\n",
       "      <td>2021-03-04</td>\n",
       "      <td>3</td>\n",
       "      <td>562.080528</td>\n",
       "    </tr>\n",
       "    <tr>\n",
       "      <th>6695</th>\n",
       "      <td>713</td>\n",
       "      <td>5215.642710</td>\n",
       "      <td>0.5</td>\n",
       "      <td>2021-02-25</td>\n",
       "      <td>2</td>\n",
       "      <td>625.877125</td>\n",
       "    </tr>\n",
       "    <tr>\n",
       "      <th>6768</th>\n",
       "      <td>718</td>\n",
       "      <td>5197.436649</td>\n",
       "      <td>0.5</td>\n",
       "      <td>2021-02-11</td>\n",
       "      <td>2</td>\n",
       "      <td>623.692398</td>\n",
       "    </tr>\n",
       "    <tr>\n",
       "      <th>6860</th>\n",
       "      <td>724</td>\n",
       "      <td>6225.520342</td>\n",
       "      <td>0.5</td>\n",
       "      <td>2021-12-16</td>\n",
       "      <td>12</td>\n",
       "      <td>747.062441</td>\n",
       "    </tr>\n",
       "    <tr>\n",
       "      <th>6883</th>\n",
       "      <td>726</td>\n",
       "      <td>4452.491518</td>\n",
       "      <td>0.5</td>\n",
       "      <td>2021-03-01</td>\n",
       "      <td>3</td>\n",
       "      <td>534.298982</td>\n",
       "    </tr>\n",
       "    <tr>\n",
       "      <th>7018</th>\n",
       "      <td>735</td>\n",
       "      <td>4406.954812</td>\n",
       "      <td>0.5</td>\n",
       "      <td>2021-04-13</td>\n",
       "      <td>4</td>\n",
       "      <td>528.834577</td>\n",
       "    </tr>\n",
       "    <tr>\n",
       "      <th>7160</th>\n",
       "      <td>745</td>\n",
       "      <td>5286.167732</td>\n",
       "      <td>0.5</td>\n",
       "      <td>2021-08-17</td>\n",
       "      <td>8</td>\n",
       "      <td>634.340128</td>\n",
       "    </tr>\n",
       "    <tr>\n",
       "      <th>7364</th>\n",
       "      <td>760</td>\n",
       "      <td>4881.391865</td>\n",
       "      <td>0.5</td>\n",
       "      <td>2021-08-29</td>\n",
       "      <td>8</td>\n",
       "      <td>585.767024</td>\n",
       "    </tr>\n",
       "  </tbody>\n",
       "</table>\n",
       "</div>"
      ],
      "text/plain": [
       "      user_id     distance  duration       date  month    velocity\n",
       "6531      701  4196.445201       0.5 2021-08-31      8  503.573424\n",
       "6570      704  4830.824371       0.5 2021-10-14     10  579.698925\n",
       "6680      712  4684.004397       0.5 2021-03-04      3  562.080528\n",
       "6695      713  5215.642710       0.5 2021-02-25      2  625.877125\n",
       "6768      718  5197.436649       0.5 2021-02-11      2  623.692398\n",
       "6860      724  6225.520342       0.5 2021-12-16     12  747.062441\n",
       "6883      726  4452.491518       0.5 2021-03-01      3  534.298982\n",
       "7018      735  4406.954812       0.5 2021-04-13      4  528.834577\n",
       "7160      745  5286.167732       0.5 2021-08-17      8  634.340128\n",
       "7364      760  4881.391865       0.5 2021-08-29      8  585.767024"
      ]
     },
     "execution_count": 17,
     "metadata": {},
     "output_type": "execute_result"
    }
   ],
   "source": [
    "data_ano = data_rides.query('velocity>30')\n",
    "data_ano.head(10)"
   ]
  },
  {
   "cell_type": "code",
   "execution_count": 18,
   "id": "49480aa0",
   "metadata": {},
   "outputs": [
    {
     "data": {
      "image/png": "[encoded data removed]",
      "text/plain": [
       "<Figure size 432x288 with 1 Axes>"
      ]
     },
     "metadata": {
      "needs_background": "light"
     },
     "output_type": "display_data"
    },
    {
     "data": {
      "image/png": "[encoded data removed]",
      "text/plain": [
       "<Figure size 432x288 with 1 Axes>"
      ]
     },
     "metadata": {
      "needs_background": "light"
     },
     "output_type": "display_data"
    },
    {
     "data": {
      "image/png": "[encoded data removed]",
      "text/plain": [
       "<Figure size 432x288 with 1 Axes>"
      ]
     },
     "metadata": {
      "needs_background": "light"
     },
     "output_type": "display_data"
    }
   ],
   "source": [
    "data_ano['distance'].hist()\n",
    "plt.title('Распределение поездок по пройденному расcтоянию')\n",
    "plt.xlabel('Расcтояние в метрах')\n",
    "plt.ylabel('Частота')\n",
    "plt.show()\n",
    "data_ano['duration'].hist()\n",
    "plt.title('Распределение длительности поездок')\n",
    "plt.xlabel('Длительность в минутах')\n",
    "plt.ylabel('Частота')\n",
    "plt.show()\n",
    "data_ano['velocity'].hist()\n",
    "plt.title('Распределение средней скорости')\n",
    "plt.xlabel('Скорость км\\ч')\n",
    "plt.ylabel('Частота')\n",
    "plt.show()"
   ]
  },
  {
   "cell_type": "markdown",
   "id": "ac8f6095",
   "metadata": {},
   "source": [
    "Вывод: проанализировал аномальные значения скорости, обнаружил проблему с недостоверными данными длительности поездки = 0,5 \n",
    "Связано с ошибкой при логировании данных"
   ]
  },
  {
   "cell_type": "markdown",
   "id": "8feef1cb",
   "metadata": {},
   "source": [
    "Вывод по исследовательскму анализу\n",
    "\n",
    "\n",
    "-  Арендой самокатов пользуются больше всего в южных городах, в которых сезон проката больше, на второй позиции оказался уральский город Екатеринбург, возможно связано с проблемами с ообщественным транспортом или образом жизни людей.\n",
    "\n",
    "- Число пользователей без подписки (free) - 54,4% превышает количество пользователей с подпиской (ultra) 45,6% на 8.8%. \n",
    "\n",
    "- Средний возраст пользователей распределен нормально с медианой примерно в 25 лет, средний возраст и медиана практически совпадают.\n",
    "\n",
    "- Среднее значение пройденного расстояния равно 3070м, а медианное 3133м , первый квартиль - 2543м,  третий - 3776м, видим аномалию в пределах от 0-1500 м, исключить эти данные мы не можем будем анализировать и искать причины\n",
    "\n",
    "- Средняя продолжительность поездки 17.8 минут , меданная 17.7 минут, значения довольно близкие , что также говорит о нормальности распределния, первый квартиль - 13.6 минут, третий - 21.8 минут \n",
    "\n",
    "Также рассчитали среднюю скорость поездки построили график распределения: \n",
    "- средняя скорость поездки 13.8 км/ч , меданная 10.3 км/ч, на графике также проявилась аномалия в области 0-5 км/ч, первый квартиль - 8.1 км/ч, третий - 12.9 км/ч \n",
    "\n",
    "\n",
    "\n",
    "Все данные близки к нормальному распределению, есть некоторая аномалия в области данных по дистанции (0-1500),  видим что средняя скорость не превышает 2-8 км\\ч, а пройденное расстояние 400-800м, похоже на то, что самокаты были неисправны или разряжены, также люди могли взять самокат впервые для того чтобы просто попробовать\n",
    "\n",
    "Проанализировал аномальные значения скорости, обнаружил проблему с недостоверными данными длительности поездки = 0,5 \n",
    "Связано с ошибкой при логировании данных"
   ]
  },
  {
   "cell_type": "markdown",
   "id": "e0c5764a",
   "metadata": {},
   "source": [
    "### Шаг 4. Объединение данных"
   ]
  },
  {
   "cell_type": "code",
   "execution_count": 19,
   "id": "344dfde8",
   "metadata": {},
   "outputs": [
    {
     "data": {
      "text/html": [
       "<div>\n",
       "<style scoped>\n",
       "    .dataframe tbody tr th:only-of-type {\n",
       "        vertical-align: middle;\n",
       "    }\n",
       "\n",
       "    .dataframe tbody tr th {\n",
       "        vertical-align: top;\n",
       "    }\n",
       "\n",
       "    .dataframe thead th {\n",
       "        text-align: right;\n",
       "    }\n",
       "</style>\n",
       "<table border=\"1\" class=\"dataframe\">\n",
       "  <thead>\n",
       "    <tr style=\"text-align: right;\">\n",
       "      <th></th>\n",
       "      <th>user_id</th>\n",
       "      <th>name</th>\n",
       "      <th>age</th>\n",
       "      <th>city</th>\n",
       "      <th>subscription_type</th>\n",
       "      <th>distance</th>\n",
       "      <th>duration</th>\n",
       "      <th>date</th>\n",
       "      <th>month</th>\n",
       "      <th>velocity</th>\n",
       "      <th>minute_price</th>\n",
       "      <th>start_ride_price</th>\n",
       "      <th>subscription_fee</th>\n",
       "    </tr>\n",
       "  </thead>\n",
       "  <tbody>\n",
       "    <tr>\n",
       "      <th>0</th>\n",
       "      <td>1</td>\n",
       "      <td>Кира</td>\n",
       "      <td>22</td>\n",
       "      <td>Тюмень</td>\n",
       "      <td>ultra</td>\n",
       "      <td>4409.919140</td>\n",
       "      <td>25.599769</td>\n",
       "      <td>2021-01-01</td>\n",
       "      <td>1</td>\n",
       "      <td>10.335841</td>\n",
       "      <td>6</td>\n",
       "      <td>0</td>\n",
       "      <td>199</td>\n",
       "    </tr>\n",
       "    <tr>\n",
       "      <th>1</th>\n",
       "      <td>1</td>\n",
       "      <td>Кира</td>\n",
       "      <td>22</td>\n",
       "      <td>Тюмень</td>\n",
       "      <td>ultra</td>\n",
       "      <td>2617.592153</td>\n",
       "      <td>15.816871</td>\n",
       "      <td>2021-01-18</td>\n",
       "      <td>1</td>\n",
       "      <td>9.929620</td>\n",
       "      <td>6</td>\n",
       "      <td>0</td>\n",
       "      <td>199</td>\n",
       "    </tr>\n",
       "    <tr>\n",
       "      <th>2</th>\n",
       "      <td>1</td>\n",
       "      <td>Кира</td>\n",
       "      <td>22</td>\n",
       "      <td>Тюмень</td>\n",
       "      <td>ultra</td>\n",
       "      <td>754.159807</td>\n",
       "      <td>6.232113</td>\n",
       "      <td>2021-04-20</td>\n",
       "      <td>4</td>\n",
       "      <td>7.260713</td>\n",
       "      <td>6</td>\n",
       "      <td>0</td>\n",
       "      <td>199</td>\n",
       "    </tr>\n",
       "    <tr>\n",
       "      <th>3</th>\n",
       "      <td>1</td>\n",
       "      <td>Кира</td>\n",
       "      <td>22</td>\n",
       "      <td>Тюмень</td>\n",
       "      <td>ultra</td>\n",
       "      <td>2694.783254</td>\n",
       "      <td>18.511000</td>\n",
       "      <td>2021-08-11</td>\n",
       "      <td>8</td>\n",
       "      <td>8.734644</td>\n",
       "      <td>6</td>\n",
       "      <td>0</td>\n",
       "      <td>199</td>\n",
       "    </tr>\n",
       "    <tr>\n",
       "      <th>4</th>\n",
       "      <td>1</td>\n",
       "      <td>Кира</td>\n",
       "      <td>22</td>\n",
       "      <td>Тюмень</td>\n",
       "      <td>ultra</td>\n",
       "      <td>4028.687306</td>\n",
       "      <td>26.265803</td>\n",
       "      <td>2021-08-28</td>\n",
       "      <td>8</td>\n",
       "      <td>9.202888</td>\n",
       "      <td>6</td>\n",
       "      <td>0</td>\n",
       "      <td>199</td>\n",
       "    </tr>\n",
       "    <tr>\n",
       "      <th>5</th>\n",
       "      <td>1</td>\n",
       "      <td>Кира</td>\n",
       "      <td>22</td>\n",
       "      <td>Тюмень</td>\n",
       "      <td>ultra</td>\n",
       "      <td>2770.890808</td>\n",
       "      <td>16.650138</td>\n",
       "      <td>2021-10-09</td>\n",
       "      <td>10</td>\n",
       "      <td>9.985109</td>\n",
       "      <td>6</td>\n",
       "      <td>0</td>\n",
       "      <td>199</td>\n",
       "    </tr>\n",
       "    <tr>\n",
       "      <th>6</th>\n",
       "      <td>1</td>\n",
       "      <td>Кира</td>\n",
       "      <td>22</td>\n",
       "      <td>Тюмень</td>\n",
       "      <td>ultra</td>\n",
       "      <td>3039.020292</td>\n",
       "      <td>14.927879</td>\n",
       "      <td>2021-10-19</td>\n",
       "      <td>10</td>\n",
       "      <td>12.214811</td>\n",
       "      <td>6</td>\n",
       "      <td>0</td>\n",
       "      <td>199</td>\n",
       "    </tr>\n",
       "    <tr>\n",
       "      <th>7</th>\n",
       "      <td>1</td>\n",
       "      <td>Кира</td>\n",
       "      <td>22</td>\n",
       "      <td>Тюмень</td>\n",
       "      <td>ultra</td>\n",
       "      <td>2842.118050</td>\n",
       "      <td>23.117468</td>\n",
       "      <td>2021-11-06</td>\n",
       "      <td>11</td>\n",
       "      <td>7.376547</td>\n",
       "      <td>6</td>\n",
       "      <td>0</td>\n",
       "      <td>199</td>\n",
       "    </tr>\n",
       "    <tr>\n",
       "      <th>8</th>\n",
       "      <td>1</td>\n",
       "      <td>Кира</td>\n",
       "      <td>22</td>\n",
       "      <td>Тюмень</td>\n",
       "      <td>ultra</td>\n",
       "      <td>3412.690668</td>\n",
       "      <td>15.238072</td>\n",
       "      <td>2021-11-14</td>\n",
       "      <td>11</td>\n",
       "      <td>13.437490</td>\n",
       "      <td>6</td>\n",
       "      <td>0</td>\n",
       "      <td>199</td>\n",
       "    </tr>\n",
       "    <tr>\n",
       "      <th>9</th>\n",
       "      <td>1</td>\n",
       "      <td>Кира</td>\n",
       "      <td>22</td>\n",
       "      <td>Тюмень</td>\n",
       "      <td>ultra</td>\n",
       "      <td>748.690645</td>\n",
       "      <td>15.041884</td>\n",
       "      <td>2021-11-22</td>\n",
       "      <td>11</td>\n",
       "      <td>2.986424</td>\n",
       "      <td>6</td>\n",
       "      <td>0</td>\n",
       "      <td>199</td>\n",
       "    </tr>\n",
       "  </tbody>\n",
       "</table>\n",
       "</div>"
      ],
      "text/plain": [
       "   user_id  name  age    city subscription_type     distance   duration  \\\n",
       "0        1  Кира   22  Тюмень             ultra  4409.919140  25.599769   \n",
       "1        1  Кира   22  Тюмень             ultra  2617.592153  15.816871   \n",
       "2        1  Кира   22  Тюмень             ultra   754.159807   6.232113   \n",
       "3        1  Кира   22  Тюмень             ultra  2694.783254  18.511000   \n",
       "4        1  Кира   22  Тюмень             ultra  4028.687306  26.265803   \n",
       "5        1  Кира   22  Тюмень             ultra  2770.890808  16.650138   \n",
       "6        1  Кира   22  Тюмень             ultra  3039.020292  14.927879   \n",
       "7        1  Кира   22  Тюмень             ultra  2842.118050  23.117468   \n",
       "8        1  Кира   22  Тюмень             ultra  3412.690668  15.238072   \n",
       "9        1  Кира   22  Тюмень             ultra   748.690645  15.041884   \n",
       "\n",
       "        date  month   velocity  minute_price  start_ride_price  \\\n",
       "0 2021-01-01      1  10.335841             6                 0   \n",
       "1 2021-01-18      1   9.929620             6                 0   \n",
       "2 2021-04-20      4   7.260713             6                 0   \n",
       "3 2021-08-11      8   8.734644             6                 0   \n",
       "4 2021-08-28      8   9.202888             6                 0   \n",
       "5 2021-10-09     10   9.985109             6                 0   \n",
       "6 2021-10-19     10  12.214811             6                 0   \n",
       "7 2021-11-06     11   7.376547             6                 0   \n",
       "8 2021-11-14     11  13.437490             6                 0   \n",
       "9 2021-11-22     11   2.986424             6                 0   \n",
       "\n",
       "   subscription_fee  \n",
       "0               199  \n",
       "1               199  \n",
       "2               199  \n",
       "3               199  \n",
       "4               199  \n",
       "5               199  \n",
       "6               199  \n",
       "7               199  \n",
       "8               199  \n",
       "9               199  "
      ]
     },
     "metadata": {},
     "output_type": "display_data"
    },
    {
     "data": {
      "text/plain": [
       "''"
      ]
     },
     "execution_count": 19,
     "metadata": {},
     "output_type": "execute_result"
    }
   ],
   "source": [
    "# Cшиваем датасеты в единый \n",
    "all_data = data_users.merge(data_rides)\n",
    "all_data = all_data.merge(data_subs)\n",
    "display(all_data.head(10))\n",
    ";"
   ]
  },
  {
   "cell_type": "code",
   "execution_count": 20,
   "id": "d29e57a9",
   "metadata": {},
   "outputs": [],
   "source": [
    "# каждое значение из столбца duration округляется с помощью «потолка»: \n",
    "all_data['duration'] = np.ceil(all_data['duration'])"
   ]
  },
  {
   "cell_type": "code",
   "execution_count": 21,
   "id": "a9082307",
   "metadata": {},
   "outputs": [
    {
     "name": "stdout",
     "output_type": "stream",
     "text": [
      "<class 'pandas.core.frame.DataFrame'>\n",
      "RangeIndex: 18068 entries, 0 to 18067\n",
      "Data columns (total 6 columns):\n",
      " #   Column    Non-Null Count  Dtype         \n",
      "---  ------    --------------  -----         \n",
      " 0   user_id   18068 non-null  int64         \n",
      " 1   distance  18068 non-null  float64       \n",
      " 2   duration  18068 non-null  float64       \n",
      " 3   date      18068 non-null  datetime64[ns]\n",
      " 4   month     18068 non-null  int64         \n",
      " 5   velocity  18068 non-null  float64       \n",
      "dtypes: datetime64[ns](1), float64(3), int64(2)\n",
      "memory usage: 847.1 KB\n"
     ]
    }
   ],
   "source": [
    "data_rides.info()"
   ]
  },
  {
   "cell_type": "code",
   "execution_count": 22,
   "id": "08a815a2",
   "metadata": {},
   "outputs": [
    {
     "name": "stdout",
     "output_type": "stream",
     "text": [
      "<class 'pandas.core.frame.DataFrame'>\n",
      "Int64Index: 18068 entries, 0 to 18067\n",
      "Data columns (total 13 columns):\n",
      " #   Column             Non-Null Count  Dtype         \n",
      "---  ------             --------------  -----         \n",
      " 0   user_id            18068 non-null  int64         \n",
      " 1   name               18068 non-null  object        \n",
      " 2   age                18068 non-null  int64         \n",
      " 3   city               18068 non-null  object        \n",
      " 4   subscription_type  18068 non-null  object        \n",
      " 5   distance           18068 non-null  float64       \n",
      " 6   duration           18068 non-null  float64       \n",
      " 7   date               18068 non-null  datetime64[ns]\n",
      " 8   month              18068 non-null  int64         \n",
      " 9   velocity           18068 non-null  float64       \n",
      " 10  minute_price       18068 non-null  int64         \n",
      " 11  start_ride_price   18068 non-null  int64         \n",
      " 12  subscription_fee   18068 non-null  int64         \n",
      "dtypes: datetime64[ns](1), float64(3), int64(6), object(3)\n",
      "memory usage: 1.9+ MB\n"
     ]
    }
   ],
   "source": [
    "all_data.info()"
   ]
  },
  {
   "cell_type": "markdown",
   "id": "8df76a22",
   "metadata": {},
   "source": [
    "После объединения таблиц количество данных не изменилось и пропусковв не появилось, \n",
    "объединение выполнено корректно"
   ]
  },
  {
   "cell_type": "code",
   "execution_count": 23,
   "id": "5cc859ba",
   "metadata": {},
   "outputs": [
    {
     "data": {
      "text/html": [
       "<div>\n",
       "<style scoped>\n",
       "    .dataframe tbody tr th:only-of-type {\n",
       "        vertical-align: middle;\n",
       "    }\n",
       "\n",
       "    .dataframe tbody tr th {\n",
       "        vertical-align: top;\n",
       "    }\n",
       "\n",
       "    .dataframe thead th {\n",
       "        text-align: right;\n",
       "    }\n",
       "</style>\n",
       "<table border=\"1\" class=\"dataframe\">\n",
       "  <thead>\n",
       "    <tr style=\"text-align: right;\">\n",
       "      <th></th>\n",
       "      <th>user_id</th>\n",
       "      <th>name</th>\n",
       "      <th>age</th>\n",
       "      <th>city</th>\n",
       "      <th>subscription_type</th>\n",
       "      <th>distance</th>\n",
       "      <th>duration</th>\n",
       "      <th>date</th>\n",
       "      <th>month</th>\n",
       "      <th>velocity</th>\n",
       "      <th>minute_price</th>\n",
       "      <th>start_ride_price</th>\n",
       "      <th>subscription_fee</th>\n",
       "    </tr>\n",
       "  </thead>\n",
       "  <tbody>\n",
       "    <tr>\n",
       "      <th>6500</th>\n",
       "      <td>700</td>\n",
       "      <td>Айдар</td>\n",
       "      <td>22</td>\n",
       "      <td>Омск</td>\n",
       "      <td>free</td>\n",
       "      <td>2515.690719</td>\n",
       "      <td>15.0</td>\n",
       "      <td>2021-01-02</td>\n",
       "      <td>1</td>\n",
       "      <td>10.100278</td>\n",
       "      <td>8</td>\n",
       "      <td>50</td>\n",
       "      <td>0</td>\n",
       "    </tr>\n",
       "    <tr>\n",
       "      <th>6501</th>\n",
       "      <td>700</td>\n",
       "      <td>Айдар</td>\n",
       "      <td>22</td>\n",
       "      <td>Омск</td>\n",
       "      <td>free</td>\n",
       "      <td>846.932642</td>\n",
       "      <td>17.0</td>\n",
       "      <td>2021-02-01</td>\n",
       "      <td>2</td>\n",
       "      <td>3.130090</td>\n",
       "      <td>8</td>\n",
       "      <td>50</td>\n",
       "      <td>0</td>\n",
       "    </tr>\n",
       "    <tr>\n",
       "      <th>6502</th>\n",
       "      <td>700</td>\n",
       "      <td>Айдар</td>\n",
       "      <td>22</td>\n",
       "      <td>Омск</td>\n",
       "      <td>free</td>\n",
       "      <td>4004.434142</td>\n",
       "      <td>21.0</td>\n",
       "      <td>2021-02-04</td>\n",
       "      <td>2</td>\n",
       "      <td>12.003323</td>\n",
       "      <td>8</td>\n",
       "      <td>50</td>\n",
       "      <td>0</td>\n",
       "    </tr>\n",
       "    <tr>\n",
       "      <th>6503</th>\n",
       "      <td>700</td>\n",
       "      <td>Айдар</td>\n",
       "      <td>22</td>\n",
       "      <td>Омск</td>\n",
       "      <td>free</td>\n",
       "      <td>1205.911290</td>\n",
       "      <td>10.0</td>\n",
       "      <td>2021-02-10</td>\n",
       "      <td>2</td>\n",
       "      <td>7.396057</td>\n",
       "      <td>8</td>\n",
       "      <td>50</td>\n",
       "      <td>0</td>\n",
       "    </tr>\n",
       "    <tr>\n",
       "      <th>6504</th>\n",
       "      <td>700</td>\n",
       "      <td>Айдар</td>\n",
       "      <td>22</td>\n",
       "      <td>Омск</td>\n",
       "      <td>free</td>\n",
       "      <td>3047.379435</td>\n",
       "      <td>18.0</td>\n",
       "      <td>2021-02-14</td>\n",
       "      <td>2</td>\n",
       "      <td>10.491519</td>\n",
       "      <td>8</td>\n",
       "      <td>50</td>\n",
       "      <td>0</td>\n",
       "    </tr>\n",
       "    <tr>\n",
       "      <th>6505</th>\n",
       "      <td>700</td>\n",
       "      <td>Айдар</td>\n",
       "      <td>22</td>\n",
       "      <td>Омск</td>\n",
       "      <td>free</td>\n",
       "      <td>4342.002254</td>\n",
       "      <td>23.0</td>\n",
       "      <td>2021-02-23</td>\n",
       "      <td>2</td>\n",
       "      <td>11.646997</td>\n",
       "      <td>8</td>\n",
       "      <td>50</td>\n",
       "      <td>0</td>\n",
       "    </tr>\n",
       "    <tr>\n",
       "      <th>6506</th>\n",
       "      <td>700</td>\n",
       "      <td>Айдар</td>\n",
       "      <td>22</td>\n",
       "      <td>Омск</td>\n",
       "      <td>free</td>\n",
       "      <td>3798.334905</td>\n",
       "      <td>19.0</td>\n",
       "      <td>2021-03-03</td>\n",
       "      <td>3</td>\n",
       "      <td>12.491950</td>\n",
       "      <td>8</td>\n",
       "      <td>50</td>\n",
       "      <td>0</td>\n",
       "    </tr>\n",
       "    <tr>\n",
       "      <th>6507</th>\n",
       "      <td>700</td>\n",
       "      <td>Айдар</td>\n",
       "      <td>22</td>\n",
       "      <td>Омск</td>\n",
       "      <td>free</td>\n",
       "      <td>2984.551206</td>\n",
       "      <td>16.0</td>\n",
       "      <td>2021-04-09</td>\n",
       "      <td>4</td>\n",
       "      <td>11.609352</td>\n",
       "      <td>8</td>\n",
       "      <td>50</td>\n",
       "      <td>0</td>\n",
       "    </tr>\n",
       "    <tr>\n",
       "      <th>6508</th>\n",
       "      <td>700</td>\n",
       "      <td>Айдар</td>\n",
       "      <td>22</td>\n",
       "      <td>Омск</td>\n",
       "      <td>free</td>\n",
       "      <td>3360.107141</td>\n",
       "      <td>17.0</td>\n",
       "      <td>2021-06-12</td>\n",
       "      <td>6</td>\n",
       "      <td>12.025079</td>\n",
       "      <td>8</td>\n",
       "      <td>50</td>\n",
       "      <td>0</td>\n",
       "    </tr>\n",
       "    <tr>\n",
       "      <th>6509</th>\n",
       "      <td>700</td>\n",
       "      <td>Айдар</td>\n",
       "      <td>22</td>\n",
       "      <td>Омск</td>\n",
       "      <td>free</td>\n",
       "      <td>2567.543847</td>\n",
       "      <td>12.0</td>\n",
       "      <td>2021-06-23</td>\n",
       "      <td>6</td>\n",
       "      <td>13.618322</td>\n",
       "      <td>8</td>\n",
       "      <td>50</td>\n",
       "      <td>0</td>\n",
       "    </tr>\n",
       "  </tbody>\n",
       "</table>\n",
       "</div>"
      ],
      "text/plain": [
       "      user_id   name  age  city subscription_type     distance  duration  \\\n",
       "6500      700  Айдар   22  Омск              free  2515.690719      15.0   \n",
       "6501      700  Айдар   22  Омск              free   846.932642      17.0   \n",
       "6502      700  Айдар   22  Омск              free  4004.434142      21.0   \n",
       "6503      700  Айдар   22  Омск              free  1205.911290      10.0   \n",
       "6504      700  Айдар   22  Омск              free  3047.379435      18.0   \n",
       "6505      700  Айдар   22  Омск              free  4342.002254      23.0   \n",
       "6506      700  Айдар   22  Омск              free  3798.334905      19.0   \n",
       "6507      700  Айдар   22  Омск              free  2984.551206      16.0   \n",
       "6508      700  Айдар   22  Омск              free  3360.107141      17.0   \n",
       "6509      700  Айдар   22  Омск              free  2567.543847      12.0   \n",
       "\n",
       "           date  month   velocity  minute_price  start_ride_price  \\\n",
       "6500 2021-01-02      1  10.100278             8                50   \n",
       "6501 2021-02-01      2   3.130090             8                50   \n",
       "6502 2021-02-04      2  12.003323             8                50   \n",
       "6503 2021-02-10      2   7.396057             8                50   \n",
       "6504 2021-02-14      2  10.491519             8                50   \n",
       "6505 2021-02-23      2  11.646997             8                50   \n",
       "6506 2021-03-03      3  12.491950             8                50   \n",
       "6507 2021-04-09      4  11.609352             8                50   \n",
       "6508 2021-06-12      6  12.025079             8                50   \n",
       "6509 2021-06-23      6  13.618322             8                50   \n",
       "\n",
       "      subscription_fee  \n",
       "6500                 0  \n",
       "6501                 0  \n",
       "6502                 0  \n",
       "6503                 0  \n",
       "6504                 0  \n",
       "6505                 0  \n",
       "6506                 0  \n",
       "6507                 0  \n",
       "6508                 0  \n",
       "6509                 0  "
      ]
     },
     "metadata": {},
     "output_type": "display_data"
    },
    {
     "data": {
      "text/plain": [
       "''"
      ]
     },
     "execution_count": 23,
     "metadata": {},
     "output_type": "execute_result"
    }
   ],
   "source": [
    "# создадим датасет с пользователями без подписки\n",
    "free_subs = all_data.query(\"subscription_type == 'free'\")\n",
    "display(free_subs.head(10))\n",
    ";"
   ]
  },
  {
   "cell_type": "code",
   "execution_count": 24,
   "id": "cd9a27bf",
   "metadata": {},
   "outputs": [
    {
     "data": {
      "text/plain": [
       "count    11568.000000\n",
       "mean      3045.495282\n",
       "std       1246.173806\n",
       "min          0.855683\n",
       "25%       2366.562689\n",
       "50%       3114.648465\n",
       "75%       3905.697894\n",
       "max       7211.007745\n",
       "Name: distance, dtype: float64"
      ]
     },
     "metadata": {},
     "output_type": "display_data"
    },
    {
     "data": {
      "image/png": "[encoded data removed]",
      "text/plain": [
       "<Figure size 432x288 with 1 Axes>"
      ]
     },
     "metadata": {
      "needs_background": "light"
     },
     "output_type": "display_data"
    },
    {
     "data": {
      "text/plain": [
       "''"
      ]
     },
     "execution_count": 24,
     "metadata": {},
     "output_type": "execute_result"
    }
   ],
   "source": [
    "display(free_subs['distance'].describe())\n",
    "plt.hist(free_subs['distance'], bins=100, range = (1, 7212))\n",
    "plt.title('Расстояние, бесплатный тариф')\n",
    "plt.xlabel('Расстояние, м')\n",
    "plt.ylabel('Частота')\n",
    "plt.axvline(x=3045.49, ymin=0, ymax = 500, linewidth=2, color='red')\n",
    "plt.axvline(x=3114.65, ymin=0, ymax = 500, linewidth=2, color='blue')\n",
    "plt.show()\n",
    ";"
   ]
  },
  {
   "cell_type": "markdown",
   "id": "599dc731",
   "metadata": {},
   "source": [
    "Вывод:\n",
    "- Для бесплатного тарифа распределение похоже на распределение по всем данным медиана и среднее также близки к данным по всем подпискам, чуть более явная аномалия в интервале 0-1500м"
   ]
  },
  {
   "cell_type": "code",
   "execution_count": 25,
   "id": "d303176a",
   "metadata": {},
   "outputs": [
    {
     "data": {
      "text/plain": [
       "count    11568.000000\n",
       "mean        17.890992\n",
       "std          6.330250\n",
       "min          1.000000\n",
       "25%         13.000000\n",
       "50%         18.000000\n",
       "75%         22.000000\n",
       "max         35.000000\n",
       "Name: duration, dtype: float64"
      ]
     },
     "metadata": {},
     "output_type": "display_data"
    },
    {
     "data": {
      "image/png": "[encoded data removed]",
      "text/plain": [
       "<Figure size 432x288 with 1 Axes>"
      ]
     },
     "metadata": {
      "needs_background": "light"
     },
     "output_type": "display_data"
    },
    {
     "data": {
      "text/plain": [
       "''"
      ]
     },
     "execution_count": 25,
     "metadata": {},
     "output_type": "execute_result"
    }
   ],
   "source": [
    "display(free_subs['duration'].describe())\n",
    "plt.hist(free_subs['duration'], bins=35, range = (1, 35))\n",
    "plt.title('Длительность, бесплатный тариф')\n",
    "plt.xlabel('Длительность, минут')\n",
    "plt.ylabel('Частота')\n",
    "plt.axvline(x=17.39, ymin=0, ymax = 500, linewidth=2, color='red')\n",
    "plt.axvline(x=17.32, ymin=0, ymax = 500, linewidth=2, color='blue')\n",
    "plt.show()\n",
    ";"
   ]
  },
  {
   "cell_type": "markdown",
   "id": "34a56320",
   "metadata": {},
   "source": [
    "Вывод:\n",
    "- Для бесплатного тарифа распределение похоже на распределение по всем данным медиана и среднее также близки к данным по всем подпискам"
   ]
  },
  {
   "cell_type": "code",
   "execution_count": 26,
   "id": "b8cc95c0",
   "metadata": {},
   "outputs": [
    {
     "data": {
      "text/html": [
       "<div>\n",
       "<style scoped>\n",
       "    .dataframe tbody tr th:only-of-type {\n",
       "        vertical-align: middle;\n",
       "    }\n",
       "\n",
       "    .dataframe tbody tr th {\n",
       "        vertical-align: top;\n",
       "    }\n",
       "\n",
       "    .dataframe thead th {\n",
       "        text-align: right;\n",
       "    }\n",
       "</style>\n",
       "<table border=\"1\" class=\"dataframe\">\n",
       "  <thead>\n",
       "    <tr style=\"text-align: right;\">\n",
       "      <th></th>\n",
       "      <th>user_id</th>\n",
       "      <th>name</th>\n",
       "      <th>age</th>\n",
       "      <th>city</th>\n",
       "      <th>subscription_type</th>\n",
       "      <th>distance</th>\n",
       "      <th>duration</th>\n",
       "      <th>date</th>\n",
       "      <th>month</th>\n",
       "      <th>velocity</th>\n",
       "      <th>minute_price</th>\n",
       "      <th>start_ride_price</th>\n",
       "      <th>subscription_fee</th>\n",
       "    </tr>\n",
       "  </thead>\n",
       "  <tbody>\n",
       "    <tr>\n",
       "      <th>6500</th>\n",
       "      <td>700</td>\n",
       "      <td>Айдар</td>\n",
       "      <td>22</td>\n",
       "      <td>Омск</td>\n",
       "      <td>free</td>\n",
       "      <td>2515.690719</td>\n",
       "      <td>15.0</td>\n",
       "      <td>2021-01-02</td>\n",
       "      <td>1</td>\n",
       "      <td>10.100278</td>\n",
       "      <td>8</td>\n",
       "      <td>50</td>\n",
       "      <td>0</td>\n",
       "    </tr>\n",
       "    <tr>\n",
       "      <th>6501</th>\n",
       "      <td>700</td>\n",
       "      <td>Айдар</td>\n",
       "      <td>22</td>\n",
       "      <td>Омск</td>\n",
       "      <td>free</td>\n",
       "      <td>846.932642</td>\n",
       "      <td>17.0</td>\n",
       "      <td>2021-02-01</td>\n",
       "      <td>2</td>\n",
       "      <td>3.130090</td>\n",
       "      <td>8</td>\n",
       "      <td>50</td>\n",
       "      <td>0</td>\n",
       "    </tr>\n",
       "    <tr>\n",
       "      <th>6502</th>\n",
       "      <td>700</td>\n",
       "      <td>Айдар</td>\n",
       "      <td>22</td>\n",
       "      <td>Омск</td>\n",
       "      <td>free</td>\n",
       "      <td>4004.434142</td>\n",
       "      <td>21.0</td>\n",
       "      <td>2021-02-04</td>\n",
       "      <td>2</td>\n",
       "      <td>12.003323</td>\n",
       "      <td>8</td>\n",
       "      <td>50</td>\n",
       "      <td>0</td>\n",
       "    </tr>\n",
       "    <tr>\n",
       "      <th>6503</th>\n",
       "      <td>700</td>\n",
       "      <td>Айдар</td>\n",
       "      <td>22</td>\n",
       "      <td>Омск</td>\n",
       "      <td>free</td>\n",
       "      <td>1205.911290</td>\n",
       "      <td>10.0</td>\n",
       "      <td>2021-02-10</td>\n",
       "      <td>2</td>\n",
       "      <td>7.396057</td>\n",
       "      <td>8</td>\n",
       "      <td>50</td>\n",
       "      <td>0</td>\n",
       "    </tr>\n",
       "    <tr>\n",
       "      <th>6504</th>\n",
       "      <td>700</td>\n",
       "      <td>Айдар</td>\n",
       "      <td>22</td>\n",
       "      <td>Омск</td>\n",
       "      <td>free</td>\n",
       "      <td>3047.379435</td>\n",
       "      <td>18.0</td>\n",
       "      <td>2021-02-14</td>\n",
       "      <td>2</td>\n",
       "      <td>10.491519</td>\n",
       "      <td>8</td>\n",
       "      <td>50</td>\n",
       "      <td>0</td>\n",
       "    </tr>\n",
       "    <tr>\n",
       "      <th>6505</th>\n",
       "      <td>700</td>\n",
       "      <td>Айдар</td>\n",
       "      <td>22</td>\n",
       "      <td>Омск</td>\n",
       "      <td>free</td>\n",
       "      <td>4342.002254</td>\n",
       "      <td>23.0</td>\n",
       "      <td>2021-02-23</td>\n",
       "      <td>2</td>\n",
       "      <td>11.646997</td>\n",
       "      <td>8</td>\n",
       "      <td>50</td>\n",
       "      <td>0</td>\n",
       "    </tr>\n",
       "    <tr>\n",
       "      <th>6506</th>\n",
       "      <td>700</td>\n",
       "      <td>Айдар</td>\n",
       "      <td>22</td>\n",
       "      <td>Омск</td>\n",
       "      <td>free</td>\n",
       "      <td>3798.334905</td>\n",
       "      <td>19.0</td>\n",
       "      <td>2021-03-03</td>\n",
       "      <td>3</td>\n",
       "      <td>12.491950</td>\n",
       "      <td>8</td>\n",
       "      <td>50</td>\n",
       "      <td>0</td>\n",
       "    </tr>\n",
       "    <tr>\n",
       "      <th>6507</th>\n",
       "      <td>700</td>\n",
       "      <td>Айдар</td>\n",
       "      <td>22</td>\n",
       "      <td>Омск</td>\n",
       "      <td>free</td>\n",
       "      <td>2984.551206</td>\n",
       "      <td>16.0</td>\n",
       "      <td>2021-04-09</td>\n",
       "      <td>4</td>\n",
       "      <td>11.609352</td>\n",
       "      <td>8</td>\n",
       "      <td>50</td>\n",
       "      <td>0</td>\n",
       "    </tr>\n",
       "    <tr>\n",
       "      <th>6508</th>\n",
       "      <td>700</td>\n",
       "      <td>Айдар</td>\n",
       "      <td>22</td>\n",
       "      <td>Омск</td>\n",
       "      <td>free</td>\n",
       "      <td>3360.107141</td>\n",
       "      <td>17.0</td>\n",
       "      <td>2021-06-12</td>\n",
       "      <td>6</td>\n",
       "      <td>12.025079</td>\n",
       "      <td>8</td>\n",
       "      <td>50</td>\n",
       "      <td>0</td>\n",
       "    </tr>\n",
       "    <tr>\n",
       "      <th>6509</th>\n",
       "      <td>700</td>\n",
       "      <td>Айдар</td>\n",
       "      <td>22</td>\n",
       "      <td>Омск</td>\n",
       "      <td>free</td>\n",
       "      <td>2567.543847</td>\n",
       "      <td>12.0</td>\n",
       "      <td>2021-06-23</td>\n",
       "      <td>6</td>\n",
       "      <td>13.618322</td>\n",
       "      <td>8</td>\n",
       "      <td>50</td>\n",
       "      <td>0</td>\n",
       "    </tr>\n",
       "  </tbody>\n",
       "</table>\n",
       "</div>"
      ],
      "text/plain": [
       "      user_id   name  age  city subscription_type     distance  duration  \\\n",
       "6500      700  Айдар   22  Омск              free  2515.690719      15.0   \n",
       "6501      700  Айдар   22  Омск              free   846.932642      17.0   \n",
       "6502      700  Айдар   22  Омск              free  4004.434142      21.0   \n",
       "6503      700  Айдар   22  Омск              free  1205.911290      10.0   \n",
       "6504      700  Айдар   22  Омск              free  3047.379435      18.0   \n",
       "6505      700  Айдар   22  Омск              free  4342.002254      23.0   \n",
       "6506      700  Айдар   22  Омск              free  3798.334905      19.0   \n",
       "6507      700  Айдар   22  Омск              free  2984.551206      16.0   \n",
       "6508      700  Айдар   22  Омск              free  3360.107141      17.0   \n",
       "6509      700  Айдар   22  Омск              free  2567.543847      12.0   \n",
       "\n",
       "           date  month   velocity  minute_price  start_ride_price  \\\n",
       "6500 2021-01-02      1  10.100278             8                50   \n",
       "6501 2021-02-01      2   3.130090             8                50   \n",
       "6502 2021-02-04      2  12.003323             8                50   \n",
       "6503 2021-02-10      2   7.396057             8                50   \n",
       "6504 2021-02-14      2  10.491519             8                50   \n",
       "6505 2021-02-23      2  11.646997             8                50   \n",
       "6506 2021-03-03      3  12.491950             8                50   \n",
       "6507 2021-04-09      4  11.609352             8                50   \n",
       "6508 2021-06-12      6  12.025079             8                50   \n",
       "6509 2021-06-23      6  13.618322             8                50   \n",
       "\n",
       "      subscription_fee  \n",
       "6500                 0  \n",
       "6501                 0  \n",
       "6502                 0  \n",
       "6503                 0  \n",
       "6504                 0  \n",
       "6505                 0  \n",
       "6506                 0  \n",
       "6507                 0  \n",
       "6508                 0  \n",
       "6509                 0  "
      ]
     },
     "metadata": {},
     "output_type": "display_data"
    },
    {
     "data": {
      "text/plain": [
       "''"
      ]
     },
     "execution_count": 26,
     "metadata": {},
     "output_type": "execute_result"
    }
   ],
   "source": [
    "# создадим датасет с пользователями с подпиской\n",
    "ultra_subs = all_data.query(\"subscription_type == 'ultra'\")\n",
    "display(free_subs.head(10))\n",
    ";"
   ]
  },
  {
   "cell_type": "code",
   "execution_count": 27,
   "id": "10024e60",
   "metadata": {},
   "outputs": [
    {
     "data": {
      "text/plain": [
       "count    6500.000000\n",
       "mean     3115.445388\n",
       "std       836.895330\n",
       "min       244.210438\n",
       "25%      2785.444017\n",
       "50%      3148.637229\n",
       "75%      3560.574425\n",
       "max      5699.769662\n",
       "Name: distance, dtype: float64"
      ]
     },
     "metadata": {},
     "output_type": "display_data"
    },
    {
     "data": {
      "image/png": "[encoded data removed]",
      "text/plain": [
       "<Figure size 432x288 with 1 Axes>"
      ]
     },
     "metadata": {
      "needs_background": "light"
     },
     "output_type": "display_data"
    },
    {
     "data": {
      "text/plain": [
       "''"
      ]
     },
     "execution_count": 27,
     "metadata": {},
     "output_type": "execute_result"
    }
   ],
   "source": [
    "display(ultra_subs['distance'].describe())\n",
    "plt.hist(ultra_subs['distance'], bins=35, range = (1, 7212))\n",
    "plt.title('Расстояние, платный тариф')\n",
    "plt.xlabel('Расстояние, м')\n",
    "plt.ylabel('Частота')\n",
    "plt.axvline(x=3115.4, ymin=0, ymax = 500, linewidth=2, color='red')\n",
    "plt.axvline(x=3148.6, ymin=0, ymax = 500, linewidth=2, color='blue')\n",
    "plt.show()\n",
    ";"
   ]
  },
  {
   "cell_type": "code",
   "execution_count": 28,
   "id": "c6fc9b72",
   "metadata": {},
   "outputs": [
    {
     "data": {
      "text/plain": [
       "count    6500.000000\n",
       "mean       19.037692\n",
       "std         5.577439\n",
       "min         4.000000\n",
       "25%        15.000000\n",
       "50%        19.000000\n",
       "75%        22.000000\n",
       "max        41.000000\n",
       "Name: duration, dtype: float64"
      ]
     },
     "metadata": {},
     "output_type": "display_data"
    },
    {
     "data": {
      "image/png": "[encoded data removed]",
      "text/plain": [
       "<Figure size 432x288 with 1 Axes>"
      ]
     },
     "metadata": {
      "needs_background": "light"
     },
     "output_type": "display_data"
    },
    {
     "data": {
      "text/plain": [
       "''"
      ]
     },
     "execution_count": 28,
     "metadata": {},
     "output_type": "execute_result"
    }
   ],
   "source": [
    "display(ultra_subs['duration'].describe())\n",
    "plt.hist(ultra_subs['duration'], bins=35, range = (1, 35))\n",
    "plt.title('Длительность, платный тариф')\n",
    "plt.xlabel('Длительность, минут')\n",
    "plt.ylabel('Частота')\n",
    "plt.axvline(x=18.4, ymin=0, ymax = 500, linewidth=2, color='red')\n",
    "plt.axvline(x=18.17, ymin=0, ymax = 500, linewidth=2, color='blue')\n",
    "plt.show()\n",
    ";"
   ]
  },
  {
   "cell_type": "markdown",
   "id": "b8f97eb5",
   "metadata": {},
   "source": [
    "Вывод\n",
    "\n",
    "- Объединили данные о пользователях, поездках и тарифах в один датафрейм - all_data.\n",
    "\n",
    "- Создали еще два датафрейма на основе all_data:\n",
    "\n",
    "free_subs - пользователи с бесплатным тарифом\n",
    "\n",
    "ultra_subs - пользователи  с платным тарифом\n",
    "\n",
    "- Визуализировали информацию о дистанции и времени поездки для каждого тарифа.\n",
    "\n",
    "- Для бесплатного тарифа время поездки составляет от 13 до 22 минут, и проезжают от 2.3 до 3.9 км, есть пользователи.\n",
    "\n",
    "- Платный тариф. В основном время укладывается в промежуток от 15 до 22 минут. Пик расстояния приходится от 2.7 3.5 км.\n",
    "\n",
    "Таким образом, можно сделать вывод, что пользователи с бесплатным тарифом в целом совершают более долгие поездки, а также проезжают большее расстояние, чем пользователи на платном тарифе. Скорее всего пользователи с платной подпиской ездят постоянно по одним маршрутам не больше определенного комфортного для поездки расстояния, а по бесплатному тарифу могут ездить люди разово не прогнозируя точное время и длительность поездки"
   ]
  },
  {
   "cell_type": "markdown",
   "id": "205349c5",
   "metadata": {},
   "source": [
    "### Шаг 5. Подсчёт выручки\n",
    "\n"
   ]
  },
  {
   "cell_type": "code",
   "execution_count": 29,
   "id": "b9c59cd5",
   "metadata": {},
   "outputs": [
    {
     "data": {
      "text/html": [
       "<div>\n",
       "<style scoped>\n",
       "    .dataframe tbody tr th:only-of-type {\n",
       "        vertical-align: middle;\n",
       "    }\n",
       "\n",
       "    .dataframe tbody tr th {\n",
       "        vertical-align: top;\n",
       "    }\n",
       "\n",
       "    .dataframe thead th {\n",
       "        text-align: right;\n",
       "    }\n",
       "</style>\n",
       "<table border=\"1\" class=\"dataframe\">\n",
       "  <thead>\n",
       "    <tr style=\"text-align: right;\">\n",
       "      <th></th>\n",
       "      <th></th>\n",
       "      <th>distance</th>\n",
       "      <th>duration</th>\n",
       "      <th>name</th>\n",
       "      <th>subscription_type</th>\n",
       "    </tr>\n",
       "    <tr>\n",
       "      <th>month</th>\n",
       "      <th>user_id</th>\n",
       "      <th></th>\n",
       "      <th></th>\n",
       "      <th></th>\n",
       "      <th></th>\n",
       "    </tr>\n",
       "  </thead>\n",
       "  <tbody>\n",
       "    <tr>\n",
       "      <th rowspan=\"5\" valign=\"top\">1</th>\n",
       "      <th>1</th>\n",
       "      <td>7027.511294</td>\n",
       "      <td>42.0</td>\n",
       "      <td>2</td>\n",
       "      <td>ultra</td>\n",
       "    </tr>\n",
       "    <tr>\n",
       "      <th>3</th>\n",
       "      <td>3061.777147</td>\n",
       "      <td>13.0</td>\n",
       "      <td>1</td>\n",
       "      <td>ultra</td>\n",
       "    </tr>\n",
       "    <tr>\n",
       "      <th>5</th>\n",
       "      <td>3914.646990</td>\n",
       "      <td>13.0</td>\n",
       "      <td>1</td>\n",
       "      <td>ultra</td>\n",
       "    </tr>\n",
       "    <tr>\n",
       "      <th>7</th>\n",
       "      <td>6478.080979</td>\n",
       "      <td>28.0</td>\n",
       "      <td>2</td>\n",
       "      <td>ultra</td>\n",
       "    </tr>\n",
       "    <tr>\n",
       "      <th>12</th>\n",
       "      <td>3577.151148</td>\n",
       "      <td>33.0</td>\n",
       "      <td>1</td>\n",
       "      <td>ultra</td>\n",
       "    </tr>\n",
       "    <tr>\n",
       "      <th>...</th>\n",
       "      <th>...</th>\n",
       "      <td>...</td>\n",
       "      <td>...</td>\n",
       "      <td>...</td>\n",
       "      <td>...</td>\n",
       "    </tr>\n",
       "    <tr>\n",
       "      <th rowspan=\"5\" valign=\"top\">12</th>\n",
       "      <th>1525</th>\n",
       "      <td>4597.854350</td>\n",
       "      <td>34.0</td>\n",
       "      <td>1</td>\n",
       "      <td>free</td>\n",
       "    </tr>\n",
       "    <tr>\n",
       "      <th>1526</th>\n",
       "      <td>3644.121544</td>\n",
       "      <td>23.0</td>\n",
       "      <td>1</td>\n",
       "      <td>free</td>\n",
       "    </tr>\n",
       "    <tr>\n",
       "      <th>1528</th>\n",
       "      <td>3998.569324</td>\n",
       "      <td>11.0</td>\n",
       "      <td>1</td>\n",
       "      <td>free</td>\n",
       "    </tr>\n",
       "    <tr>\n",
       "      <th>1532</th>\n",
       "      <td>6111.889853</td>\n",
       "      <td>42.0</td>\n",
       "      <td>2</td>\n",
       "      <td>free</td>\n",
       "    </tr>\n",
       "    <tr>\n",
       "      <th>1534</th>\n",
       "      <td>2371.711192</td>\n",
       "      <td>16.0</td>\n",
       "      <td>1</td>\n",
       "      <td>free</td>\n",
       "    </tr>\n",
       "  </tbody>\n",
       "</table>\n",
       "<p>11331 rows × 4 columns</p>\n",
       "</div>"
      ],
      "text/plain": [
       "                  distance  duration  name subscription_type\n",
       "month user_id                                               \n",
       "1     1        7027.511294      42.0     2             ultra\n",
       "      3        3061.777147      13.0     1             ultra\n",
       "      5        3914.646990      13.0     1             ultra\n",
       "      7        6478.080979      28.0     2             ultra\n",
       "      12       3577.151148      33.0     1             ultra\n",
       "...                    ...       ...   ...               ...\n",
       "12    1525     4597.854350      34.0     1              free\n",
       "      1526     3644.121544      23.0     1              free\n",
       "      1528     3998.569324      11.0     1              free\n",
       "      1532     6111.889853      42.0     2              free\n",
       "      1534     2371.711192      16.0     1              free\n",
       "\n",
       "[11331 rows x 4 columns]"
      ]
     },
     "metadata": {},
     "output_type": "display_data"
    },
    {
     "data": {
      "text/plain": [
       "''"
      ]
     },
     "execution_count": 29,
     "metadata": {},
     "output_type": "execute_result"
    }
   ],
   "source": [
    "total_data = pd.pivot_table(all_data,\n",
    "                           index=['month', 'user_id'],\n",
    "                           values = ['distance', 'duration', 'name', 'subscription_type'],\n",
    "                           aggfunc = {'distance': sum, \n",
    "                                      'duration' : sum, \n",
    "                                      'name' : len, \n",
    "                                      'subscription_type' : min})\n",
    "display(total_data)\n",
    ";"
   ]
  },
  {
   "cell_type": "code",
   "execution_count": 30,
   "id": "457656d7",
   "metadata": {},
   "outputs": [],
   "source": [
    "# каждое значение из столбца duration округляется с помощью «потолка»: \n",
    "#total_data['duration'] = np.ceil(total_data['duration'])\n",
    "# перенес на верх"
   ]
  },
  {
   "cell_type": "code",
   "execution_count": 31,
   "id": "5800fa72",
   "metadata": {},
   "outputs": [
    {
     "data": {
      "text/html": [
       "<div>\n",
       "<style scoped>\n",
       "    .dataframe tbody tr th:only-of-type {\n",
       "        vertical-align: middle;\n",
       "    }\n",
       "\n",
       "    .dataframe tbody tr th {\n",
       "        vertical-align: top;\n",
       "    }\n",
       "\n",
       "    .dataframe thead th {\n",
       "        text-align: right;\n",
       "    }\n",
       "</style>\n",
       "<table border=\"1\" class=\"dataframe\">\n",
       "  <thead>\n",
       "    <tr style=\"text-align: right;\">\n",
       "      <th></th>\n",
       "      <th></th>\n",
       "      <th>distance</th>\n",
       "      <th>duration</th>\n",
       "      <th>name</th>\n",
       "      <th>subscription_type</th>\n",
       "    </tr>\n",
       "    <tr>\n",
       "      <th>month</th>\n",
       "      <th>user_id</th>\n",
       "      <th></th>\n",
       "      <th></th>\n",
       "      <th></th>\n",
       "      <th></th>\n",
       "    </tr>\n",
       "  </thead>\n",
       "  <tbody>\n",
       "    <tr>\n",
       "      <th>1</th>\n",
       "      <th>1</th>\n",
       "      <td>7027.511294</td>\n",
       "      <td>42.0</td>\n",
       "      <td>2</td>\n",
       "      <td>ultra</td>\n",
       "    </tr>\n",
       "    <tr>\n",
       "      <th>4</th>\n",
       "      <th>1</th>\n",
       "      <td>754.159807</td>\n",
       "      <td>7.0</td>\n",
       "      <td>1</td>\n",
       "      <td>ultra</td>\n",
       "    </tr>\n",
       "    <tr>\n",
       "      <th>8</th>\n",
       "      <th>1</th>\n",
       "      <td>6723.470560</td>\n",
       "      <td>46.0</td>\n",
       "      <td>2</td>\n",
       "      <td>ultra</td>\n",
       "    </tr>\n",
       "    <tr>\n",
       "      <th>10</th>\n",
       "      <th>1</th>\n",
       "      <td>5809.911100</td>\n",
       "      <td>32.0</td>\n",
       "      <td>2</td>\n",
       "      <td>ultra</td>\n",
       "    </tr>\n",
       "    <tr>\n",
       "      <th>11</th>\n",
       "      <th>1</th>\n",
       "      <td>7003.499363</td>\n",
       "      <td>56.0</td>\n",
       "      <td>3</td>\n",
       "      <td>ultra</td>\n",
       "    </tr>\n",
       "    <tr>\n",
       "      <th>12</th>\n",
       "      <th>1</th>\n",
       "      <td>6751.629942</td>\n",
       "      <td>28.0</td>\n",
       "      <td>2</td>\n",
       "      <td>ultra</td>\n",
       "    </tr>\n",
       "  </tbody>\n",
       "</table>\n",
       "</div>"
      ],
      "text/plain": [
       "                  distance  duration  name subscription_type\n",
       "month user_id                                               \n",
       "1     1        7027.511294      42.0     2             ultra\n",
       "4     1         754.159807       7.0     1             ultra\n",
       "8     1        6723.470560      46.0     2             ultra\n",
       "10    1        5809.911100      32.0     2             ultra\n",
       "11    1        7003.499363      56.0     3             ultra\n",
       "12    1        6751.629942      28.0     2             ultra"
      ]
     },
     "execution_count": 31,
     "metadata": {},
     "output_type": "execute_result"
    }
   ],
   "source": [
    "total_data.query('user_id == 1')"
   ]
  },
  {
   "cell_type": "code",
   "execution_count": 32,
   "id": "ac3292b9",
   "metadata": {},
   "outputs": [],
   "source": [
    "def revenue(row):\n",
    "    if row['subscription_type'] == 'ultra':\n",
    "        return 6 * row['duration'] + 199\n",
    "    elif row['subscription_type'] == 'free':\n",
    "        return 8 * row['duration'] + 50 * row['name']\n",
    "    else:\n",
    "        return 'Not sub'"
   ]
  },
  {
   "cell_type": "code",
   "execution_count": 33,
   "id": "c530d1ce",
   "metadata": {},
   "outputs": [
    {
     "data": {
      "text/plain": [
       "month  user_id\n",
       "1      1          451.0\n",
       "       3          277.0\n",
       "       5          277.0\n",
       "       7          367.0\n",
       "       12         397.0\n",
       "       13         451.0\n",
       "       14         409.0\n",
       "       15         433.0\n",
       "       20         373.0\n",
       "       22         277.0\n",
       "Name: revenue_per_month, dtype: float64"
      ]
     },
     "metadata": {},
     "output_type": "display_data"
    },
    {
     "data": {
      "text/plain": [
       "''"
      ]
     },
     "execution_count": 33,
     "metadata": {},
     "output_type": "execute_result"
    }
   ],
   "source": [
    "total_data['revenue_per_month'] = total_data.apply(revenue, axis=1)\n",
    "display(total_data['revenue_per_month'].head(10))\n",
    ";"
   ]
  },
  {
   "cell_type": "markdown",
   "id": "2d87feb2",
   "metadata": {},
   "source": [
    "Вывод\n",
    "\n",
    "- Создали новый датафрейм с данными total_data на основе датафрейма с объединенными данными.\n",
    "\n",
    "Нашли суммарное расстояние, количество поездок и суммарную длительность поездок для каждого пользователя за каждый месяц. \n",
    "- Добавили столбец с ежемесячной выручкой, от каждого пользователя."
   ]
  },
  {
   "cell_type": "markdown",
   "id": "41545ac0",
   "metadata": {},
   "source": [
    "### Шаг 6. Проверка гипотез"
   ]
  },
  {
   "cell_type": "markdown",
   "id": "0a4eb4ce",
   "metadata": {},
   "source": [
    "#### Проверим гипотезу: пользователи с подпиской тратят больше времени на поездки, чем пользователи на бесплатном тарифе.\n",
    "\n",
    "    H_0: Длительность поездок (duration) пользователей на подписке ultra = длительности поездок (duration) пользователей на подписке free\n",
    "    H_1: Длительность поездок (duration) пользователей на подписке ultra > Длительность поездок (duration) пользователей на подписке free"
   ]
  },
  {
   "cell_type": "code",
   "execution_count": 34,
   "id": "23ea867b",
   "metadata": {},
   "outputs": [
    {
     "name": "stdout",
     "output_type": "stream",
     "text": [
      "2.4959453720736625e-34\n",
      "Отвергаем нулевую гипотезу\n"
     ]
    }
   ],
   "source": [
    "results = st.ttest_ind(ultra_subs['duration'], \n",
    "                       free_subs['duration'],\n",
    "                       alternative = 'greater')\n",
    "\n",
    "alpha = 0.05\n",
    "\n",
    "print(results.pvalue)\n",
    "\n",
    "if results.pvalue < alpha:\n",
    "    print('Отвергаем нулевую гипотезу')\n",
    "else:\n",
    "    print('Не удалось отвергнуть нулевую гипотезу')"
   ]
  },
  {
   "cell_type": "markdown",
   "id": "4d87a49f",
   "metadata": {},
   "source": [
    "Вывод:\n",
    "- отвергли гипотезу о том, что длительность поездки пользователей на тарифе ultra равно длительности поездки пользователей на тарифе free."
   ]
  },
  {
   "cell_type": "markdown",
   "id": "e52c6803",
   "metadata": {},
   "source": [
    "#### Проверим гипотезу: пользователи с подпиской проезжают расстояние, не превышающее 3130 метров за одну поездку.\n",
    "   \n",
    "    H_0: Расстояние (distance) пройденное пользователями на подписке ultra = 3130 метров\n",
    "    H_1: Расстояние (distance) пройденное пользователями на подписке ultra < 3130 метров"
   ]
  },
  {
   "cell_type": "code",
   "execution_count": 35,
   "id": "e768c26a",
   "metadata": {},
   "outputs": [
    {
     "name": "stdout",
     "output_type": "stream",
     "text": [
      "0.9195368847849785\n",
      "Не удалось отвергнуть нулевую гипотезу\n"
     ]
    }
   ],
   "source": [
    "dist_value = 3130.0\n",
    "alpha = 0.05\n",
    "\n",
    "results = st.ttest_1samp(\n",
    "    ultra_subs['distance'], \n",
    "    dist_value,\n",
    "    alternative='greater')\n",
    "    \n",
    "print(results.pvalue)\n",
    "\n",
    "if (results.pvalue < alpha):\n",
    "    print('Отвергаем нулевую гипотезу')\n",
    "else:\n",
    "    print('Не удалось отвергнуть нулевую гипотезу')"
   ]
  },
  {
   "cell_type": "markdown",
   "id": "cc5b779e",
   "metadata": {},
   "source": [
    "Вывод:\n",
    "- нельзя утверждать, что расстояние, которое проезжают пользователи на тарифе ultra равно 3130 метров."
   ]
  },
  {
   "cell_type": "markdown",
   "id": "785e4050",
   "metadata": {},
   "source": [
    "#### Проверим гипотезу: ежемесячная выручка от пользователей с подпиской выше, чем от пользователей без подписки\n",
    "    H_0: Ежемесячная выручка revenue_per_month пользователей по подписке ultra = ежемесячной выручке revenue_per_month пользователей по подписке free\n",
    "    H_1: Ежемесячная выручка revenue_per_month пользователей на подписке ultra > ежемесячной выручке revenue_per_month пользователей на подписке free"
   ]
  },
  {
   "cell_type": "code",
   "execution_count": 36,
   "id": "a37d8bda",
   "metadata": {},
   "outputs": [
    {
     "name": "stdout",
     "output_type": "stream",
     "text": [
      "1.8850394384715216e-31\n",
      "Отвергаем нулевую гипотезу\n"
     ]
    }
   ],
   "source": [
    "results = st.ttest_ind(total_data.query('subscription_type == \"ultra\"')['revenue_per_month'], \n",
    "                       total_data.query('subscription_type == \"free\"')['revenue_per_month'],\n",
    "                       alternative = 'greater')\n",
    "\n",
    "alpha = 0.05\n",
    "\n",
    "print(results.pvalue)\n",
    "\n",
    "if results.pvalue < alpha:\n",
    "    print('Отвергаем нулевую гипотезу')\n",
    "else:\n",
    "    print('Не удалось отвергнуть нулевую гипотезу')"
   ]
  },
  {
   "cell_type": "markdown",
   "id": "b6412bcf",
   "metadata": {},
   "source": [
    "Вывод:\n",
    "- можно утверждать, что ежемесячная выручка с пользователей по подписке ultra превышает ежемесячную выручку с пользователей по подписке free"
   ]
  },
  {
   "cell_type": "markdown",
   "id": "61d6822d",
   "metadata": {},
   "source": [
    "####  Представьте такую ситуацию: техническая команда сервиса обновила сервера, с которыми взаимодействует мобильное приложение. Она надеется, что из-за этого количество обращений в техподдержку значимо снизилось. Некоторый файл содержит для каждого пользователя данные о количестве обращений до обновления и после него. Какой тест вам понадобился бы для проверки этой гипотезы?\n",
    "\n",
    "Будем использовать гипотезу о равенстве средних для зависимых парных выборок.\n",
    "\n",
    "Гипотезы будут сформулированы так:\n",
    "\n",
    "H0 : μ1 = μ2\n",
    "\n",
    "H1 : μ1 != μ2\n",
    "\n",
    "где μ1 и μ2 - средние значения количество обращений в техподдержку до и после изменения.\n",
    "\n",
    "Необходимо применение метода scipy.stats.ttest_rel()\n",
    "\n",
    "Если требования к зависимым выборкам не выполняются, можно воспользоваться методом scipy.stats.ttest_ind()."
   ]
  },
  {
   "cell_type": "markdown",
   "id": "e913ad5c",
   "metadata": {},
   "source": [
    "- Нулевая гипотеза формулирует, что количество обращений не изменилось,\n",
    "альтернативная что изменилось в любую сторону, выделенный фрагмент указывает изменения в какую сторону нас интересуют"
   ]
  },
  {
   "cell_type": "markdown",
   "id": "fe7091b0",
   "metadata": {},
   "source": [
    "#### Вывод по проверке гипотез\n",
    "\n",
    "- Нулевая гипотеза отвергнута, средняя продолжительность поездки с подпиской больше продолжительности поездок без подписки при уровне значимости в 5 %.\n",
    "\n",
    "- Нулевую гипотезу неудалось отвергнуть, содно утверждать что среднее расстояние поездки, пользователей с подпиской, не превышает оптимальное расстоянием в 3130 метров с точки зрения износа самоката, при уровне значимости в 5 %.\n",
    "\n",
    "- Нулевую гипотезу отвергаем, средняя месячная выручка от пользователей с подпиской, больше средней месячной выручки от пользователей без подписки, при уровне значимости в 5 %.\n",
    "\n",
    "- Необходимо применение метода scipy.stats.ttest_rel(), для сравнения зависимых выборок, удовлетворяющих условию что, переменная измеряется дважды (количество обращений до обновления и после него) для одних и тех же объектов (пользователь) и имеют одинаковые размеры. При проверке на то что, истинное среднее значение генеральной выборки до изменения больше, чем истинное среднее значение генеральной совокупности после изменения следует указать alternative=\"less\". Если же требования к зависимым выборкам не выполняются, можно воспользоваться методом scipy.stats.ttest_ind()."
   ]
  },
  {
   "cell_type": "markdown",
   "id": "61213c5e",
   "metadata": {},
   "source": [
    "### Шаг 7. Распределения"
   ]
  },
  {
   "cell_type": "markdown",
   "id": "89bbd8d1",
   "metadata": {},
   "source": [
    "#### Какое количество промокодов нужно раздать на один бесплатный месяц, чтобы в следующем месяце как минимум 100 существующих клиентов продлили подписку."
   ]
  },
  {
   "cell_type": "code",
   "execution_count": 37,
   "id": "1aaa792b",
   "metadata": {},
   "outputs": [
    {
     "name": "stdout",
     "output_type": "stream",
     "text": [
      "При раздаче промокодов в количестве 1161 вероятность, не выполнить план меньше 5.0 %\n"
     ]
    },
    {
     "data": {
      "image/png": "[encoded data removed]",
      "text/plain": [
       "<Figure size 432x288 with 1 Axes>"
      ]
     },
     "metadata": {
      "needs_background": "light"
     },
     "output_type": "display_data"
    },
    {
     "data": {
      "text/plain": [
       "''"
      ]
     },
     "execution_count": 37,
     "metadata": {},
     "output_type": "execute_result"
    }
   ],
   "source": [
    "n = 1000\n",
    "p = 0.1\n",
    "k = 99\n",
    "binom_cdf = 0.05\n",
    "\n",
    "while binom_cdf < binom.cdf(k, n, p):\n",
    "    n += 1\n",
    "print(f'При раздаче промокодов в количестве {n} вероятность, не выполнить план меньше {binom.cdf(k, n, p).round(2)*100} %')\n",
    "\n",
    "# мат.ожиданию и ст.отклонению биномиального распределения\n",
    "mu = n * p\n",
    "sigma = (n * p * (1 - p))**0.5\n",
    "\n",
    "arange = np.arange((mu - 4 * sigma),(mu + 4 * sigma),1)\n",
    "\n",
    "plt.plot(arange, st.norm.pdf(arange, mu, sigma), 'b-')\n",
    "plt.axvline(x=k, color='red')\n",
    "plt.axvline(x=mu, color='green')\n",
    "plt.show()\n",
    ";"
   ]
  },
  {
   "cell_type": "markdown",
   "id": "f5bee723",
   "metadata": {},
   "source": [
    "Вывод:\n",
    "\n",
    "- Нужно раздать минимум 1161 промокода, для того чтобы 100 существующих клиентов продлили подписку"
   ]
  },
  {
   "cell_type": "markdown",
   "id": "a54362b1",
   "metadata": {},
   "source": [
    "#### Оценить вероятность того, что уведомление откроют не более 399,5 тыс. пользователей, если разослать 1 млн уведомлений"
   ]
  },
  {
   "cell_type": "code",
   "execution_count": 39,
   "id": "5427d559",
   "metadata": {},
   "outputs": [
    {
     "name": "stdout",
     "output_type": "stream",
     "text": [
      "Вероятность открыть сообщение: 0.15371708296369768\n"
     ]
    },
    {
     "data": {
      "image/png": "[encoded data removed]",
      "text/plain": [
       "<Figure size 432x288 with 1 Axes>"
      ]
     },
     "metadata": {
      "needs_background": "light"
     },
     "output_type": "display_data"
    }
   ],
   "source": [
    "n = 1000000\n",
    "p = 0.4\n",
    "k = 399500\n",
    "\n",
    "mu = n * p\n",
    "sigma = (n * p * (1 - p))**0.5\n",
    "\n",
    "# задаём нормальное распределение\n",
    "distr = st.norm(mu, sigma) \n",
    "\n",
    "# считаем вероятность хвоста слева от 399.5 тысяч\n",
    "result = distr.cdf(k)\n",
    "print('Вероятность открыть сообщение:', result)\n",
    "\n",
    "arange = np.arange((mu - 4 * sigma),(mu + 4 * sigma),1)\n",
    "plt.plot(arange, st.norm.pdf(arange, mu, sigma), 'b-')\n",
    "plt.xticks(rotation=90)\n",
    "plt.axvline(x=k, color='red')\n",
    "plt.axvline(x=mu, color='green')\n",
    "plt.show()"
   ]
  },
  {
   "cell_type": "markdown",
   "id": "08eb590b",
   "metadata": {},
   "source": [
    "Вывод:\n",
    "\n",
    "- отправка 1 млн уведомлений, даст  вероятность того, что уведомление откроют не более 399,5 тыс. пользователей с вероятностью 15,37 %."
   ]
  },
  {
   "cell_type": "markdown",
   "id": "4426b5d5",
   "metadata": {},
   "source": [
    "### Общий вывод\n",
    "\n",
    "- Загружены исходные данные о пользователях сервиса аренды самокатов из 3 разных датасетов\n",
    "- Пропусков в таблицах не найдено\n",
    "- удалили 31 дубликат. \n",
    "- добавили столбец month с номером месяца.\n",
    "\n",
    "Провели исследовательский анализ данных:\n",
    "\n",
    "- Арендой самокатов пользуются больше всего в южных городах, в которых сезон проката больше, на второй позиции оказался уральский город Екатеринбург, возможно связано с проблемами с ообщественным транспортом или образом жизни людей.\n",
    "- Число пользователей без подписки (free) - 54,4% превышает количество пользователей с подпиской (ultra) 45,6% на 8.8%.\n",
    "- Средний возраст пользователей распределен нормально с медианой примерно в 25 лет, средний возраст и медиана практически совпадают.\n",
    "- Среднее значение пройденного расстояния равно 3070м, а медианное 3133м , первый квартиль - 2543м, третий - 3776м, видим аномалию в пределах от 0-1500 м, исключить эти данные мы не можем будем анализировать и искать причины\n",
    "- Средняя продолжительность поездки 17.8 минут , меданная 17.7 минут, значения довольно близкие , что также говорит о нормальности распределния, первый квартиль - 13.6 минут, третий - 21.8 минут\n",
    "- Также рассчитали среднюю скорость поездки построили график распределения:\n",
    "    - средняя скорость поездки 13.8 км/ч , меданная 10.3 км/ч, на графике также проявилась аномалия в области 0-5 км/ч, первый квартиль - 8.1 км/ч, третий - 12.9 км/ч\n",
    "Все данные близки к нормальному распределению, есть некоторая аномалия в области данных по дистанции (0-1500), требуется дополнительный анализ причины\n",
    "\n",
    "- Объединили данные о пользователях, поездках и тарифах в один датафрейм - all_data.\n",
    "- Создали еще два датафрейма на основе all_data:\n",
    "        free_subs - пользователи с бесплатным тарифом\n",
    "        ultra_subs - пользователи  с платным тарифом\n",
    "\n",
    "- Визуализировали информацию о дистанции и времени поездки для каждого тарифа.\n",
    "- Для бесплатного тарифа время поездки составляет от 13 до 22 минут, и проезжают от 2.3 до 3.9 км, есть пользователи.\n",
    "- Платный тариф. В основном время укладывается в промежуток от 15 до 22 минут. Пик расстояния приходится от 2.7 3.5 км.\n",
    "\n",
    "- Создали новый датафрейм с данными total_data на основе датафрейма с объединенными данными.\n",
    "- Нашли суммарное расстояние, количество поездок и суммарную длительность поездок для каждого пользователя за каждый месяц. \n",
    "- Добавили столбец с ежемесячной выручкой, от каждого пользователя.\n",
    "\n",
    "Проверили гипотезы:\n",
    "\n",
    "- Пользователи с подпиской тратят больше времени на поездки, чем пользователи на бесплатном тарифе\n",
    "    - Отвергли нулевую гипотезу\n",
    "- Пользователи с подпиской проезжают расстояние, не превышающее 3130 метров за одну поездку\n",
    "    - Не удалось отвергнуть нулевую гипотезу\n",
    "- Помесячная выручка от пользователей с подпиской выше, чем выручка от пользователей без подписки\n",
    "    - Отвергли нулевую гипотезу\n",
    "\n",
    "Выяснили\n",
    "- Нужно раздать минимум 1172 промокода, для того чтобы 100 существующих клиентов продлили подписку\n",
    "- Отправка 1 млн уведомлений, даст вероятность того, что уведомление откроют не более 399,5 тыс. пользователей с вероятностью 15,37 %."
   ]
  }
 ],
 "metadata": {
  "ExecuteTimeLog": [
   {
    "duration": 43,
    "start_time": "2024-03-10T05:43:59.984Z"
   },
   {
    "duration": 405,
    "start_time": "2024-03-10T05:44:04.160Z"
   },
   {
    "duration": 76,
    "start_time": "2024-03-10T05:44:05.651Z"
   },
   {
    "duration": 2,
    "start_time": "2024-03-10T05:44:11.645Z"
   },
   {
    "duration": 35,
    "start_time": "2024-03-10T05:44:22.303Z"
   },
   {
    "duration": 146,
    "start_time": "2024-03-10T05:45:15.609Z"
   },
   {
    "duration": 39,
    "start_time": "2024-03-10T05:45:51.437Z"
   },
   {
    "duration": 45,
    "start_time": "2024-03-10T05:46:01.430Z"
   },
   {
    "duration": 30,
    "start_time": "2024-03-10T05:46:11.328Z"
   },
   {
    "duration": 30,
    "start_time": "2024-03-10T05:46:45.850Z"
   },
   {
    "duration": 34,
    "start_time": "2024-03-10T05:46:49.409Z"
   },
   {
    "duration": 45,
    "start_time": "2024-03-10T05:46:52.517Z"
   },
   {
    "duration": 31,
    "start_time": "2024-03-10T05:46:55.613Z"
   },
   {
    "duration": 4,
    "start_time": "2024-03-10T05:49:10.964Z"
   },
   {
    "duration": 56,
    "start_time": "2024-03-10T05:49:14.586Z"
   },
   {
    "duration": 58,
    "start_time": "2024-03-10T05:49:27.444Z"
   },
   {
    "duration": 66,
    "start_time": "2024-03-10T05:49:34.405Z"
   },
   {
    "duration": 69,
    "start_time": "2024-03-10T05:49:43.928Z"
   },
   {
    "duration": 351,
    "start_time": "2024-03-10T05:53:13.317Z"
   },
   {
    "duration": 41,
    "start_time": "2024-03-10T05:53:13.670Z"
   },
   {
    "duration": 42,
    "start_time": "2024-03-10T05:53:13.713Z"
   },
   {
    "duration": 21,
    "start_time": "2024-03-10T05:53:13.756Z"
   },
   {
    "duration": 12,
    "start_time": "2024-03-10T05:56:02.638Z"
   },
   {
    "duration": 9,
    "start_time": "2024-03-10T05:56:29.943Z"
   },
   {
    "duration": 9,
    "start_time": "2024-03-10T05:56:52.181Z"
   },
   {
    "duration": 843,
    "start_time": "2024-03-10T05:59:25.384Z"
   },
   {
    "duration": 22,
    "start_time": "2024-03-10T06:02:12.750Z"
   },
   {
    "duration": 11,
    "start_time": "2024-03-10T06:02:54.491Z"
   },
   {
    "duration": 35,
    "start_time": "2024-03-10T06:04:20.026Z"
   },
   {
    "duration": 35,
    "start_time": "2024-03-10T06:04:30.808Z"
   },
   {
    "duration": 1058,
    "start_time": "2024-03-10T06:05:07.546Z"
   },
   {
    "duration": 38,
    "start_time": "2024-03-10T06:05:08.606Z"
   },
   {
    "duration": 37,
    "start_time": "2024-03-10T06:05:08.646Z"
   },
   {
    "duration": 19,
    "start_time": "2024-03-10T06:05:08.685Z"
   },
   {
    "duration": 10,
    "start_time": "2024-03-10T06:05:08.705Z"
   },
   {
    "duration": 11,
    "start_time": "2024-03-10T06:05:08.716Z"
   },
   {
    "duration": 9,
    "start_time": "2024-03-10T06:05:08.728Z"
   },
   {
    "duration": 100,
    "start_time": "2024-03-10T06:06:16.433Z"
   },
   {
    "duration": 15,
    "start_time": "2024-03-10T06:06:45.507Z"
   },
   {
    "duration": 14,
    "start_time": "2024-03-10T06:07:00.632Z"
   },
   {
    "duration": 14,
    "start_time": "2024-03-10T06:07:09.548Z"
   },
   {
    "duration": 67,
    "start_time": "2024-03-10T06:08:11.506Z"
   },
   {
    "duration": 12,
    "start_time": "2024-03-10T06:08:19.187Z"
   },
   {
    "duration": 11,
    "start_time": "2024-03-10T06:08:50.770Z"
   },
   {
    "duration": 13,
    "start_time": "2024-03-10T06:09:48.678Z"
   },
   {
    "duration": 11,
    "start_time": "2024-03-10T06:10:39.262Z"
   },
   {
    "duration": 222,
    "start_time": "2024-03-10T06:15:58.248Z"
   },
   {
    "duration": 160,
    "start_time": "2024-03-10T06:16:12.796Z"
   },
   {
    "duration": 189,
    "start_time": "2024-03-10T06:18:01.084Z"
   },
   {
    "duration": 178,
    "start_time": "2024-03-10T06:18:31.313Z"
   },
   {
    "duration": 183,
    "start_time": "2024-03-10T06:19:11.829Z"
   },
   {
    "duration": 179,
    "start_time": "2024-03-10T06:19:28.406Z"
   },
   {
    "duration": 168,
    "start_time": "2024-03-10T06:19:36.262Z"
   },
   {
    "duration": 174,
    "start_time": "2024-03-10T06:21:14.240Z"
   },
   {
    "duration": 187,
    "start_time": "2024-03-10T06:21:40.293Z"
   },
   {
    "duration": 1084,
    "start_time": "2024-03-10T06:22:26.736Z"
   },
   {
    "duration": 39,
    "start_time": "2024-03-10T06:22:27.822Z"
   },
   {
    "duration": 37,
    "start_time": "2024-03-10T06:22:27.862Z"
   },
   {
    "duration": 20,
    "start_time": "2024-03-10T06:22:27.900Z"
   },
   {
    "duration": 11,
    "start_time": "2024-03-10T06:22:27.921Z"
   },
   {
    "duration": 13,
    "start_time": "2024-03-10T06:22:27.934Z"
   },
   {
    "duration": 10,
    "start_time": "2024-03-10T06:22:27.948Z"
   },
   {
    "duration": 183,
    "start_time": "2024-03-10T06:22:27.965Z"
   },
   {
    "duration": 31,
    "start_time": "2024-03-10T06:22:38.985Z"
   },
   {
    "duration": 34,
    "start_time": "2024-03-10T06:22:54.551Z"
   },
   {
    "duration": 57,
    "start_time": "2024-03-10T06:23:08.845Z"
   },
   {
    "duration": 33,
    "start_time": "2024-03-10T06:23:25.173Z"
   },
   {
    "duration": 14,
    "start_time": "2024-03-10T06:23:42.326Z"
   },
   {
    "duration": 15,
    "start_time": "2024-03-10T06:23:48.049Z"
   },
   {
    "duration": 12,
    "start_time": "2024-03-10T06:23:54.964Z"
   },
   {
    "duration": 1045,
    "start_time": "2024-03-10T06:24:08.563Z"
   },
   {
    "duration": 41,
    "start_time": "2024-03-10T06:24:09.609Z"
   },
   {
    "duration": 41,
    "start_time": "2024-03-10T06:24:09.651Z"
   },
   {
    "duration": 20,
    "start_time": "2024-03-10T06:24:09.694Z"
   },
   {
    "duration": 13,
    "start_time": "2024-03-10T06:24:09.716Z"
   },
   {
    "duration": 17,
    "start_time": "2024-03-10T06:24:09.730Z"
   },
   {
    "duration": 27,
    "start_time": "2024-03-10T06:24:09.748Z"
   },
   {
    "duration": 203,
    "start_time": "2024-03-10T06:24:09.777Z"
   },
   {
    "duration": 178,
    "start_time": "2024-03-10T06:26:10.043Z"
   },
   {
    "duration": 1236,
    "start_time": "2024-03-10T06:27:19.465Z"
   },
   {
    "duration": 1234,
    "start_time": "2024-03-10T06:27:30.462Z"
   },
   {
    "duration": 1186,
    "start_time": "2024-03-10T06:28:03.452Z"
   },
   {
    "duration": 1190,
    "start_time": "2024-03-10T06:28:44.244Z"
   },
   {
    "duration": 186,
    "start_time": "2024-03-10T06:29:00.490Z"
   },
   {
    "duration": 196,
    "start_time": "2024-03-10T06:30:31.289Z"
   },
   {
    "duration": 176,
    "start_time": "2024-03-10T06:32:29.064Z"
   },
   {
    "duration": 374,
    "start_time": "2024-03-10T06:32:31.922Z"
   },
   {
    "duration": 779,
    "start_time": "2024-03-10T06:35:15.976Z"
   },
   {
    "duration": 530,
    "start_time": "2024-03-10T06:36:24.238Z"
   },
   {
    "duration": 548,
    "start_time": "2024-03-10T06:36:37.609Z"
   },
   {
    "duration": 949,
    "start_time": "2024-03-10T06:37:13.824Z"
   },
   {
    "duration": 872,
    "start_time": "2024-03-10T06:37:39.687Z"
   },
   {
    "duration": 664,
    "start_time": "2024-03-10T06:39:01.834Z"
   },
   {
    "duration": 48,
    "start_time": "2024-03-10T06:53:28.812Z"
   },
   {
    "duration": 60,
    "start_time": "2024-03-10T06:53:56.497Z"
   },
   {
    "duration": 41,
    "start_time": "2024-03-10T06:54:17.905Z"
   },
   {
    "duration": 6,
    "start_time": "2024-03-10T06:59:23.567Z"
   },
   {
    "duration": 6,
    "start_time": "2024-03-10T06:59:31.252Z"
   },
   {
    "duration": 5,
    "start_time": "2024-03-10T07:00:40.693Z"
   },
   {
    "duration": 5,
    "start_time": "2024-03-10T07:00:54.401Z"
   },
   {
    "duration": 6,
    "start_time": "2024-03-10T07:03:55.236Z"
   },
   {
    "duration": 4,
    "start_time": "2024-03-10T07:08:23.624Z"
   },
   {
    "duration": 8,
    "start_time": "2024-03-10T07:08:26.490Z"
   },
   {
    "duration": 1266,
    "start_time": "2024-03-10T07:15:17.707Z"
   },
   {
    "duration": 1213,
    "start_time": "2024-03-10T07:15:58.359Z"
   },
   {
    "duration": 7,
    "start_time": "2024-03-10T07:16:34.002Z"
   },
   {
    "duration": 6,
    "start_time": "2024-03-10T07:20:08.161Z"
   },
   {
    "duration": 177,
    "start_time": "2024-03-10T07:23:33.640Z"
   },
   {
    "duration": 15,
    "start_time": "2024-03-10T07:24:07.446Z"
   },
   {
    "duration": 4,
    "start_time": "2024-03-10T07:24:54.441Z"
   },
   {
    "duration": 164,
    "start_time": "2024-03-10T07:25:42.447Z"
   },
   {
    "duration": 170,
    "start_time": "2024-03-10T07:25:58.674Z"
   },
   {
    "duration": 190,
    "start_time": "2024-03-10T07:27:23.276Z"
   },
   {
    "duration": 161,
    "start_time": "2024-03-10T07:38:45.814Z"
   },
   {
    "duration": 160,
    "start_time": "2024-03-10T07:39:18.945Z"
   },
   {
    "duration": 147,
    "start_time": "2024-03-10T07:39:29.982Z"
   },
   {
    "duration": 137,
    "start_time": "2024-03-10T07:39:52.121Z"
   },
   {
    "duration": 67,
    "start_time": "2024-03-10T07:40:44.868Z"
   },
   {
    "duration": 229,
    "start_time": "2024-03-10T07:40:59.139Z"
   },
   {
    "duration": 133,
    "start_time": "2024-03-10T07:41:15.272Z"
   },
   {
    "duration": 127,
    "start_time": "2024-03-10T07:41:33.485Z"
   },
   {
    "duration": 135,
    "start_time": "2024-03-10T07:42:00.887Z"
   },
   {
    "duration": 130,
    "start_time": "2024-03-10T07:42:21.272Z"
   },
   {
    "duration": 261,
    "start_time": "2024-03-10T07:45:20.076Z"
   },
   {
    "duration": 278,
    "start_time": "2024-03-10T07:45:27.152Z"
   },
   {
    "duration": 277,
    "start_time": "2024-03-10T07:46:14.457Z"
   },
   {
    "duration": 8,
    "start_time": "2024-03-10T07:46:56.465Z"
   },
   {
    "duration": 10,
    "start_time": "2024-03-10T07:47:08.233Z"
   },
   {
    "duration": 7,
    "start_time": "2024-03-10T07:48:04.551Z"
   },
   {
    "duration": 325,
    "start_time": "2024-03-10T07:49:02.585Z"
   },
   {
    "duration": 281,
    "start_time": "2024-03-10T07:49:15.554Z"
   },
   {
    "duration": 18,
    "start_time": "2024-03-10T07:54:24.871Z"
   },
   {
    "duration": 14,
    "start_time": "2024-03-10T07:54:36.555Z"
   },
   {
    "duration": 1025,
    "start_time": "2024-03-10T07:56:47.699Z"
   },
   {
    "duration": 52,
    "start_time": "2024-03-10T07:56:48.727Z"
   },
   {
    "duration": 53,
    "start_time": "2024-03-10T07:56:48.780Z"
   },
   {
    "duration": 32,
    "start_time": "2024-03-10T07:56:48.835Z"
   },
   {
    "duration": 226,
    "start_time": "2024-03-10T07:56:48.869Z"
   },
   {
    "duration": 642,
    "start_time": "2024-03-10T07:56:49.096Z"
   },
   {
    "duration": 9,
    "start_time": "2024-03-10T07:56:49.740Z"
   },
   {
    "duration": 18,
    "start_time": "2024-03-10T07:56:49.751Z"
   },
   {
    "duration": 200,
    "start_time": "2024-03-10T07:56:49.771Z"
   },
   {
    "duration": 146,
    "start_time": "2024-03-10T07:56:49.973Z"
   },
   {
    "duration": 293,
    "start_time": "2024-03-10T07:56:50.120Z"
   },
   {
    "duration": 787,
    "start_time": "2024-03-10T07:56:50.415Z"
   },
   {
    "duration": 260,
    "start_time": "2024-03-10T07:58:22.268Z"
   },
   {
    "duration": 228,
    "start_time": "2024-03-10T07:59:50.425Z"
   },
   {
    "duration": 319,
    "start_time": "2024-03-10T08:00:10.436Z"
   },
   {
    "duration": 1351,
    "start_time": "2024-03-10T08:00:38.942Z"
   },
   {
    "duration": 1458,
    "start_time": "2024-03-10T08:02:18.370Z"
   },
   {
    "duration": 1396,
    "start_time": "2024-03-10T08:03:05.952Z"
   },
   {
    "duration": 239,
    "start_time": "2024-03-10T08:03:15.928Z"
   },
   {
    "duration": 251,
    "start_time": "2024-03-10T08:09:25.204Z"
   },
   {
    "duration": 189,
    "start_time": "2024-03-10T08:09:45.280Z"
   },
   {
    "duration": 260,
    "start_time": "2024-03-10T08:09:58.388Z"
   },
   {
    "duration": 188,
    "start_time": "2024-03-10T08:10:52.257Z"
   },
   {
    "duration": 198,
    "start_time": "2024-03-10T08:12:01.019Z"
   },
   {
    "duration": 94,
    "start_time": "2024-03-10T08:19:31.526Z"
   },
   {
    "duration": 7,
    "start_time": "2024-03-10T08:19:42.736Z"
   },
   {
    "duration": 9,
    "start_time": "2024-03-10T08:20:02.828Z"
   },
   {
    "duration": 10,
    "start_time": "2024-03-10T08:21:20.894Z"
   },
   {
    "duration": 9,
    "start_time": "2024-03-10T08:21:58.716Z"
   },
   {
    "duration": 9,
    "start_time": "2024-03-10T08:22:25.580Z"
   },
   {
    "duration": 354,
    "start_time": "2024-03-10T08:32:22.990Z"
   },
   {
    "duration": 165,
    "start_time": "2024-03-10T08:32:59.431Z"
   },
   {
    "duration": 275,
    "start_time": "2024-03-10T08:33:18.744Z"
   },
   {
    "duration": 91,
    "start_time": "2024-03-10T08:56:46.690Z"
   },
   {
    "duration": 11,
    "start_time": "2024-03-10T08:57:06.047Z"
   },
   {
    "duration": 29,
    "start_time": "2024-03-10T08:57:41.901Z"
   },
   {
    "duration": 27,
    "start_time": "2024-03-10T08:58:32.352Z"
   },
   {
    "duration": 912,
    "start_time": "2024-03-10T09:00:09.422Z"
   },
   {
    "duration": 7,
    "start_time": "2024-03-10T09:00:24.915Z"
   },
   {
    "duration": 22,
    "start_time": "2024-03-10T09:01:28.412Z"
   },
   {
    "duration": 15,
    "start_time": "2024-03-10T09:01:39.345Z"
   },
   {
    "duration": 20,
    "start_time": "2024-03-10T09:04:09.621Z"
   },
   {
    "duration": 28,
    "start_time": "2024-03-10T09:04:20.486Z"
   },
   {
    "duration": 20,
    "start_time": "2024-03-10T09:04:32.107Z"
   },
   {
    "duration": 196,
    "start_time": "2024-03-10T09:04:36.152Z"
   },
   {
    "duration": 183,
    "start_time": "2024-03-10T09:05:12.833Z"
   },
   {
    "duration": 182,
    "start_time": "2024-03-10T09:05:32.965Z"
   },
   {
    "duration": 185,
    "start_time": "2024-03-10T09:05:59.555Z"
   },
   {
    "duration": 192,
    "start_time": "2024-03-10T09:06:06.708Z"
   },
   {
    "duration": 187,
    "start_time": "2024-03-10T09:06:44.423Z"
   },
   {
    "duration": 257,
    "start_time": "2024-03-10T09:07:17.225Z"
   },
   {
    "duration": 239,
    "start_time": "2024-03-10T09:07:27.152Z"
   },
   {
    "duration": 240,
    "start_time": "2024-03-10T09:07:34.474Z"
   },
   {
    "duration": 190,
    "start_time": "2024-03-10T09:07:50.105Z"
   },
   {
    "duration": 21,
    "start_time": "2024-03-10T09:11:32.159Z"
   },
   {
    "duration": 170,
    "start_time": "2024-03-10T09:12:09.289Z"
   },
   {
    "duration": 165,
    "start_time": "2024-03-10T09:12:45.093Z"
   },
   {
    "duration": 164,
    "start_time": "2024-03-10T09:12:57.211Z"
   },
   {
    "duration": 169,
    "start_time": "2024-03-10T09:13:34.232Z"
   },
   {
    "duration": 156,
    "start_time": "2024-03-10T09:14:14.144Z"
   },
   {
    "duration": 1150,
    "start_time": "2024-03-10T09:23:20.770Z"
   },
   {
    "duration": 51,
    "start_time": "2024-03-10T09:23:21.922Z"
   },
   {
    "duration": 54,
    "start_time": "2024-03-10T09:23:21.975Z"
   },
   {
    "duration": 30,
    "start_time": "2024-03-10T09:23:22.030Z"
   },
   {
    "duration": 208,
    "start_time": "2024-03-10T09:23:22.062Z"
   },
   {
    "duration": 662,
    "start_time": "2024-03-10T09:23:22.272Z"
   },
   {
    "duration": 7,
    "start_time": "2024-03-10T09:23:22.935Z"
   },
   {
    "duration": 5,
    "start_time": "2024-03-10T09:23:22.943Z"
   },
   {
    "duration": 204,
    "start_time": "2024-03-10T09:23:22.949Z"
   },
   {
    "duration": 142,
    "start_time": "2024-03-10T09:23:23.171Z"
   },
   {
    "duration": 316,
    "start_time": "2024-03-10T09:23:23.315Z"
   },
   {
    "duration": 392,
    "start_time": "2024-03-10T09:23:23.633Z"
   },
   {
    "duration": 207,
    "start_time": "2024-03-10T09:23:24.027Z"
   },
   {
    "duration": 250,
    "start_time": "2024-03-10T09:23:24.236Z"
   },
   {
    "duration": 29,
    "start_time": "2024-03-10T09:23:24.488Z"
   },
   {
    "duration": 20,
    "start_time": "2024-03-10T09:23:24.519Z"
   },
   {
    "duration": 277,
    "start_time": "2024-03-10T09:23:24.541Z"
   },
   {
    "duration": 193,
    "start_time": "2024-03-10T09:23:24.820Z"
   },
   {
    "duration": 27,
    "start_time": "2024-03-10T09:23:25.015Z"
   },
   {
    "duration": 214,
    "start_time": "2024-03-10T09:23:25.044Z"
   },
   {
    "duration": 203,
    "start_time": "2024-03-10T09:23:25.266Z"
   },
   {
    "duration": 828,
    "start_time": "2024-03-10T09:26:22.363Z"
   },
   {
    "duration": 926,
    "start_time": "2024-03-10T09:26:43.392Z"
   },
   {
    "duration": 5,
    "start_time": "2024-03-10T09:28:07.570Z"
   },
   {
    "duration": 116,
    "start_time": "2024-03-10T09:28:16.216Z"
   },
   {
    "duration": 4,
    "start_time": "2024-03-10T09:28:42.628Z"
   },
   {
    "duration": 4,
    "start_time": "2024-03-10T09:28:58.256Z"
   },
   {
    "duration": 5,
    "start_time": "2024-03-10T09:29:12.276Z"
   },
   {
    "duration": 12,
    "start_time": "2024-03-10T09:30:46.227Z"
   },
   {
    "duration": 1172,
    "start_time": "2024-03-10T09:32:09.348Z"
   },
   {
    "duration": 65,
    "start_time": "2024-03-10T09:32:10.522Z"
   },
   {
    "duration": 52,
    "start_time": "2024-03-10T09:32:10.588Z"
   },
   {
    "duration": 50,
    "start_time": "2024-03-10T09:32:10.642Z"
   },
   {
    "duration": 209,
    "start_time": "2024-03-10T09:32:10.698Z"
   },
   {
    "duration": 681,
    "start_time": "2024-03-10T09:32:10.909Z"
   },
   {
    "duration": 9,
    "start_time": "2024-03-10T09:32:11.596Z"
   },
   {
    "duration": 31,
    "start_time": "2024-03-10T09:32:11.606Z"
   },
   {
    "duration": 214,
    "start_time": "2024-03-10T09:32:11.639Z"
   },
   {
    "duration": 176,
    "start_time": "2024-03-10T09:32:11.854Z"
   },
   {
    "duration": 320,
    "start_time": "2024-03-10T09:32:12.032Z"
   },
   {
    "duration": 355,
    "start_time": "2024-03-10T09:32:12.354Z"
   },
   {
    "duration": 190,
    "start_time": "2024-03-10T09:32:12.711Z"
   },
   {
    "duration": 265,
    "start_time": "2024-03-10T09:32:12.904Z"
   },
   {
    "duration": 34,
    "start_time": "2024-03-10T09:32:13.177Z"
   },
   {
    "duration": 23,
    "start_time": "2024-03-10T09:32:13.213Z"
   },
   {
    "duration": 281,
    "start_time": "2024-03-10T09:32:13.238Z"
   },
   {
    "duration": 203,
    "start_time": "2024-03-10T09:32:13.521Z"
   },
   {
    "duration": 18,
    "start_time": "2024-03-10T09:32:13.725Z"
   },
   {
    "duration": 203,
    "start_time": "2024-03-10T09:32:13.745Z"
   },
   {
    "duration": 184,
    "start_time": "2024-03-10T09:32:13.949Z"
   },
   {
    "duration": 897,
    "start_time": "2024-03-10T09:32:14.135Z"
   },
   {
    "duration": 3,
    "start_time": "2024-03-10T09:32:15.033Z"
   },
   {
    "duration": 44,
    "start_time": "2024-03-10T09:32:15.038Z"
   },
   {
    "duration": 4,
    "start_time": "2024-03-10T09:36:36.104Z"
   },
   {
    "duration": 13,
    "start_time": "2024-03-10T09:37:16.362Z"
   },
   {
    "duration": 238,
    "start_time": "2024-03-10T09:37:29.978Z"
   },
   {
    "duration": 145,
    "start_time": "2024-03-10T09:37:42.375Z"
   },
   {
    "duration": 139,
    "start_time": "2024-03-10T09:38:00.796Z"
   },
   {
    "duration": 136,
    "start_time": "2024-03-10T09:38:09.550Z"
   },
   {
    "duration": 2,
    "start_time": "2024-03-10T09:41:18.019Z"
   },
   {
    "duration": 6,
    "start_time": "2024-03-10T09:44:07.912Z"
   },
   {
    "duration": 7,
    "start_time": "2024-03-10T09:46:02.429Z"
   },
   {
    "duration": 5,
    "start_time": "2024-03-10T09:46:17.571Z"
   },
   {
    "duration": 6,
    "start_time": "2024-03-10T09:46:29.117Z"
   },
   {
    "duration": 5,
    "start_time": "2024-03-10T09:51:31.144Z"
   },
   {
    "duration": 85,
    "start_time": "2024-03-10T09:54:27.792Z"
   },
   {
    "duration": 15,
    "start_time": "2024-03-10T10:02:25.466Z"
   },
   {
    "duration": 10,
    "start_time": "2024-03-10T10:02:47.543Z"
   },
   {
    "duration": 13,
    "start_time": "2024-03-10T10:02:52.545Z"
   },
   {
    "duration": 273,
    "start_time": "2024-03-10T10:15:20.598Z"
   },
   {
    "duration": 228,
    "start_time": "2024-03-10T10:18:14.680Z"
   },
   {
    "duration": 263,
    "start_time": "2024-03-10T10:19:10.027Z"
   },
   {
    "duration": 249,
    "start_time": "2024-03-10T10:19:27.671Z"
   },
   {
    "duration": 265,
    "start_time": "2024-03-10T10:20:49.215Z"
   },
   {
    "duration": 239,
    "start_time": "2024-03-10T10:21:07.766Z"
   },
   {
    "duration": 253,
    "start_time": "2024-03-10T10:22:19.264Z"
   },
   {
    "duration": 246,
    "start_time": "2024-03-10T10:22:24.127Z"
   },
   {
    "duration": 203,
    "start_time": "2024-03-10T10:22:34.713Z"
   },
   {
    "duration": 256,
    "start_time": "2024-03-10T10:23:36.966Z"
   },
   {
    "duration": 1120,
    "start_time": "2024-03-10T10:40:34.829Z"
   },
   {
    "duration": 51,
    "start_time": "2024-03-10T10:40:35.951Z"
   },
   {
    "duration": 49,
    "start_time": "2024-03-10T10:40:36.004Z"
   },
   {
    "duration": 36,
    "start_time": "2024-03-10T10:40:36.055Z"
   },
   {
    "duration": 189,
    "start_time": "2024-03-10T10:40:36.093Z"
   },
   {
    "duration": 582,
    "start_time": "2024-03-10T10:40:36.283Z"
   },
   {
    "duration": 7,
    "start_time": "2024-03-10T10:40:36.867Z"
   },
   {
    "duration": 5,
    "start_time": "2024-03-10T10:40:36.875Z"
   },
   {
    "duration": 189,
    "start_time": "2024-03-10T10:40:36.882Z"
   },
   {
    "duration": 147,
    "start_time": "2024-03-10T10:40:37.074Z"
   },
   {
    "duration": 277,
    "start_time": "2024-03-10T10:40:37.223Z"
   },
   {
    "duration": 331,
    "start_time": "2024-03-10T10:40:37.502Z"
   },
   {
    "duration": 172,
    "start_time": "2024-03-10T10:40:37.835Z"
   },
   {
    "duration": 233,
    "start_time": "2024-03-10T10:40:38.009Z"
   },
   {
    "duration": 36,
    "start_time": "2024-03-10T10:40:38.244Z"
   },
   {
    "duration": 20,
    "start_time": "2024-03-10T10:40:38.281Z"
   },
   {
    "duration": 248,
    "start_time": "2024-03-10T10:40:38.303Z"
   },
   {
    "duration": 183,
    "start_time": "2024-03-10T10:40:38.553Z"
   },
   {
    "duration": 16,
    "start_time": "2024-03-10T10:40:38.737Z"
   },
   {
    "duration": 186,
    "start_time": "2024-03-10T10:40:38.755Z"
   },
   {
    "duration": 176,
    "start_time": "2024-03-10T10:40:38.943Z"
   },
   {
    "duration": 876,
    "start_time": "2024-03-10T10:40:39.121Z"
   },
   {
    "duration": 3,
    "start_time": "2024-03-10T10:40:39.998Z"
   },
   {
    "duration": 24,
    "start_time": "2024-03-10T10:40:40.002Z"
   },
   {
    "duration": 4,
    "start_time": "2024-03-10T10:40:40.027Z"
   },
   {
    "duration": 219,
    "start_time": "2024-03-10T10:40:40.032Z"
   },
   {
    "duration": 5,
    "start_time": "2024-03-10T10:40:40.252Z"
   },
   {
    "duration": 4,
    "start_time": "2024-03-10T10:40:40.265Z"
   },
   {
    "duration": 10,
    "start_time": "2024-03-10T10:40:40.270Z"
   },
   {
    "duration": 248,
    "start_time": "2024-03-10T10:40:40.281Z"
   },
   {
    "duration": 276,
    "start_time": "2024-03-10T10:40:40.531Z"
   },
   {
    "duration": 1273,
    "start_time": "2024-03-10T12:47:13.421Z"
   },
   {
    "duration": 99,
    "start_time": "2024-03-10T12:47:14.696Z"
   },
   {
    "duration": 95,
    "start_time": "2024-03-10T12:47:14.797Z"
   },
   {
    "duration": 65,
    "start_time": "2024-03-10T12:47:14.894Z"
   },
   {
    "duration": 220,
    "start_time": "2024-03-10T12:47:14.961Z"
   },
   {
    "duration": 753,
    "start_time": "2024-03-10T12:47:15.182Z"
   },
   {
    "duration": 7,
    "start_time": "2024-03-10T12:47:15.937Z"
   },
   {
    "duration": 21,
    "start_time": "2024-03-10T12:47:15.945Z"
   },
   {
    "duration": 201,
    "start_time": "2024-03-10T12:47:15.968Z"
   },
   {
    "duration": 152,
    "start_time": "2024-03-10T12:47:16.172Z"
   },
   {
    "duration": 305,
    "start_time": "2024-03-10T12:47:16.326Z"
   },
   {
    "duration": 338,
    "start_time": "2024-03-10T12:47:16.632Z"
   },
   {
    "duration": 215,
    "start_time": "2024-03-10T12:47:16.972Z"
   },
   {
    "duration": 264,
    "start_time": "2024-03-10T12:47:17.190Z"
   },
   {
    "duration": 37,
    "start_time": "2024-03-10T12:47:17.456Z"
   },
   {
    "duration": 22,
    "start_time": "2024-03-10T12:47:17.495Z"
   },
   {
    "duration": 274,
    "start_time": "2024-03-10T12:47:17.518Z"
   },
   {
    "duration": 214,
    "start_time": "2024-03-10T12:47:17.793Z"
   },
   {
    "duration": 16,
    "start_time": "2024-03-10T12:47:18.009Z"
   },
   {
    "duration": 198,
    "start_time": "2024-03-10T12:47:18.027Z"
   },
   {
    "duration": 188,
    "start_time": "2024-03-10T12:47:18.227Z"
   },
   {
    "duration": 952,
    "start_time": "2024-03-10T12:47:18.416Z"
   },
   {
    "duration": 6,
    "start_time": "2024-03-10T12:47:19.370Z"
   },
   {
    "duration": 15,
    "start_time": "2024-03-10T12:47:19.378Z"
   },
   {
    "duration": 3,
    "start_time": "2024-03-10T12:47:19.394Z"
   },
   {
    "duration": 243,
    "start_time": "2024-03-10T12:47:19.399Z"
   },
   {
    "duration": 5,
    "start_time": "2024-03-10T12:47:19.644Z"
   },
   {
    "duration": 18,
    "start_time": "2024-03-10T12:47:19.651Z"
   },
   {
    "duration": 12,
    "start_time": "2024-03-10T12:47:19.671Z"
   },
   {
    "duration": 319,
    "start_time": "2024-03-10T12:47:19.685Z"
   },
   {
    "duration": 5,
    "start_time": "2024-03-10T12:47:20.005Z"
   },
   {
    "duration": 9,
    "start_time": "2024-03-11T03:37:07.949Z"
   },
   {
    "duration": 1387,
    "start_time": "2024-03-11T03:37:25.096Z"
   },
   {
    "duration": 113,
    "start_time": "2024-03-11T03:37:26.485Z"
   },
   {
    "duration": 183,
    "start_time": "2024-03-11T03:37:26.600Z"
   },
   {
    "duration": 73,
    "start_time": "2024-03-11T03:37:26.785Z"
   },
   {
    "duration": 209,
    "start_time": "2024-03-11T03:37:26.860Z"
   },
   {
    "duration": 714,
    "start_time": "2024-03-11T03:37:27.071Z"
   },
   {
    "duration": 8,
    "start_time": "2024-03-11T03:37:27.791Z"
   },
   {
    "duration": 7,
    "start_time": "2024-03-11T03:37:27.800Z"
   },
   {
    "duration": 245,
    "start_time": "2024-03-11T03:37:27.809Z"
   },
   {
    "duration": 166,
    "start_time": "2024-03-11T03:37:28.058Z"
   },
   {
    "duration": 320,
    "start_time": "2024-03-11T03:37:28.225Z"
   },
   {
    "duration": 363,
    "start_time": "2024-03-11T03:37:28.547Z"
   },
   {
    "duration": 16,
    "start_time": "2024-03-11T03:37:28.911Z"
   },
   {
    "duration": 224,
    "start_time": "2024-03-11T03:37:28.928Z"
   },
   {
    "duration": 276,
    "start_time": "2024-03-11T03:37:29.154Z"
   },
   {
    "duration": 32,
    "start_time": "2024-03-11T03:37:29.432Z"
   },
   {
    "duration": 39,
    "start_time": "2024-03-11T03:37:29.465Z"
   },
   {
    "duration": 283,
    "start_time": "2024-03-11T03:37:29.505Z"
   },
   {
    "duration": 213,
    "start_time": "2024-03-11T03:37:29.789Z"
   },
   {
    "duration": 21,
    "start_time": "2024-03-11T03:37:30.004Z"
   },
   {
    "duration": 230,
    "start_time": "2024-03-11T03:37:30.027Z"
   },
   {
    "duration": 200,
    "start_time": "2024-03-11T03:37:30.259Z"
   },
   {
    "duration": 958,
    "start_time": "2024-03-11T03:37:30.461Z"
   },
   {
    "duration": 5,
    "start_time": "2024-03-11T03:37:31.421Z"
   },
   {
    "duration": 245,
    "start_time": "2024-03-11T03:37:31.428Z"
   },
   {
    "duration": 216,
    "start_time": "2024-03-11T03:37:31.675Z"
   },
   {
    "duration": 411,
    "start_time": "2024-03-11T03:37:31.894Z"
   },
   {
    "duration": 18,
    "start_time": "2024-03-11T03:37:32.308Z"
   },
   {
    "duration": 61,
    "start_time": "2024-03-11T03:37:32.327Z"
   },
   {
    "duration": 52,
    "start_time": "2024-03-11T03:37:32.389Z"
   },
   {
    "duration": 333,
    "start_time": "2024-03-11T03:37:32.442Z"
   },
   {
    "duration": 16,
    "start_time": "2024-03-11T03:37:32.777Z"
   },
   {
    "duration": 261,
    "start_time": "2024-03-11T03:37:32.795Z"
   },
   {
    "duration": 556,
    "start_time": "2024-03-11T03:38:52.992Z"
   },
   {
    "duration": 140,
    "start_time": "2024-03-11T03:39:41.840Z"
   },
   {
    "duration": 178,
    "start_time": "2024-03-11T03:39:55.294Z"
   },
   {
    "duration": 262,
    "start_time": "2024-03-11T03:40:06.257Z"
   },
   {
    "duration": 17,
    "start_time": "2024-03-11T03:40:40.803Z"
   },
   {
    "duration": 14,
    "start_time": "2024-03-11T03:40:47.251Z"
   },
   {
    "duration": 509,
    "start_time": "2024-03-11T03:41:38.678Z"
   },
   {
    "duration": 372,
    "start_time": "2024-03-11T03:42:25.240Z"
   },
   {
    "duration": 508,
    "start_time": "2024-03-11T03:44:31.714Z"
   },
   {
    "duration": 14,
    "start_time": "2024-03-11T04:33:14.365Z"
   },
   {
    "duration": 13,
    "start_time": "2024-03-11T04:33:20.936Z"
   },
   {
    "duration": 18,
    "start_time": "2024-03-11T04:33:30.420Z"
   },
   {
    "duration": 13,
    "start_time": "2024-03-11T04:33:59.361Z"
   },
   {
    "duration": 474,
    "start_time": "2024-03-11T04:34:04.579Z"
   },
   {
    "duration": 14,
    "start_time": "2024-03-11T04:34:23.191Z"
   },
   {
    "duration": 563,
    "start_time": "2024-03-11T04:34:25.811Z"
   },
   {
    "duration": 15,
    "start_time": "2024-03-11T04:39:02.471Z"
   },
   {
    "duration": 11,
    "start_time": "2024-03-11T04:39:47.274Z"
   },
   {
    "duration": 11,
    "start_time": "2024-03-11T04:40:00.794Z"
   },
   {
    "duration": 11,
    "start_time": "2024-03-11T04:40:13.235Z"
   },
   {
    "duration": 296,
    "start_time": "2024-03-11T04:43:29.812Z"
   },
   {
    "duration": 105,
    "start_time": "2024-03-11T04:44:17.861Z"
   },
   {
    "duration": 325,
    "start_time": "2024-03-11T04:44:30.960Z"
   },
   {
    "duration": 203,
    "start_time": "2024-03-11T04:44:41.207Z"
   },
   {
    "duration": 275,
    "start_time": "2024-03-11T04:44:50.109Z"
   },
   {
    "duration": 289,
    "start_time": "2024-03-11T04:45:02.186Z"
   },
   {
    "duration": 308,
    "start_time": "2024-03-11T04:46:02.852Z"
   },
   {
    "duration": 267,
    "start_time": "2024-03-11T04:46:24.214Z"
   },
   {
    "duration": 394,
    "start_time": "2024-03-11T04:46:55.893Z"
   },
   {
    "duration": 4,
    "start_time": "2024-03-11T04:48:02.020Z"
   },
   {
    "duration": 5,
    "start_time": "2024-03-11T04:50:14.534Z"
   },
   {
    "duration": 284,
    "start_time": "2024-03-11T05:02:29.889Z"
   },
   {
    "duration": 1144,
    "start_time": "2024-03-11T05:03:33.833Z"
   },
   {
    "duration": 54,
    "start_time": "2024-03-11T05:03:34.979Z"
   },
   {
    "duration": 56,
    "start_time": "2024-03-11T05:03:35.034Z"
   },
   {
    "duration": 31,
    "start_time": "2024-03-11T05:03:35.092Z"
   },
   {
    "duration": 211,
    "start_time": "2024-03-11T05:03:35.124Z"
   },
   {
    "duration": 710,
    "start_time": "2024-03-11T05:03:35.337Z"
   },
   {
    "duration": 12,
    "start_time": "2024-03-11T05:03:36.050Z"
   },
   {
    "duration": 28,
    "start_time": "2024-03-11T05:03:36.064Z"
   },
   {
    "duration": 219,
    "start_time": "2024-03-11T05:03:36.094Z"
   },
   {
    "duration": 180,
    "start_time": "2024-03-11T05:03:36.316Z"
   },
   {
    "duration": 333,
    "start_time": "2024-03-11T05:03:36.498Z"
   },
   {
    "duration": 377,
    "start_time": "2024-03-11T05:03:36.833Z"
   },
   {
    "duration": 15,
    "start_time": "2024-03-11T05:03:37.212Z"
   },
   {
    "duration": 2103,
    "start_time": "2024-03-11T05:03:37.229Z"
   },
   {
    "duration": 0,
    "start_time": "2024-03-11T05:03:39.334Z"
   },
   {
    "duration": 0,
    "start_time": "2024-03-11T05:03:39.335Z"
   },
   {
    "duration": 0,
    "start_time": "2024-03-11T05:03:39.336Z"
   },
   {
    "duration": 0,
    "start_time": "2024-03-11T05:03:39.337Z"
   },
   {
    "duration": 0,
    "start_time": "2024-03-11T05:03:39.338Z"
   },
   {
    "duration": 0,
    "start_time": "2024-03-11T05:03:39.339Z"
   },
   {
    "duration": 0,
    "start_time": "2024-03-11T05:03:39.341Z"
   },
   {
    "duration": 0,
    "start_time": "2024-03-11T05:03:39.342Z"
   },
   {
    "duration": 0,
    "start_time": "2024-03-11T05:03:39.343Z"
   },
   {
    "duration": 0,
    "start_time": "2024-03-11T05:03:39.344Z"
   },
   {
    "duration": 0,
    "start_time": "2024-03-11T05:03:39.345Z"
   },
   {
    "duration": 0,
    "start_time": "2024-03-11T05:03:39.346Z"
   },
   {
    "duration": 0,
    "start_time": "2024-03-11T05:03:39.347Z"
   },
   {
    "duration": 0,
    "start_time": "2024-03-11T05:03:39.348Z"
   },
   {
    "duration": 0,
    "start_time": "2024-03-11T05:03:39.349Z"
   },
   {
    "duration": 0,
    "start_time": "2024-03-11T05:03:39.350Z"
   },
   {
    "duration": 0,
    "start_time": "2024-03-11T05:03:39.351Z"
   },
   {
    "duration": 0,
    "start_time": "2024-03-11T05:03:39.352Z"
   },
   {
    "duration": 0,
    "start_time": "2024-03-11T05:03:39.354Z"
   },
   {
    "duration": 0,
    "start_time": "2024-03-11T05:03:39.355Z"
   },
   {
    "duration": 0,
    "start_time": "2024-03-11T05:03:39.356Z"
   },
   {
    "duration": 0,
    "start_time": "2024-03-11T05:03:39.357Z"
   },
   {
    "duration": 0,
    "start_time": "2024-03-11T05:03:39.358Z"
   },
   {
    "duration": 0,
    "start_time": "2024-03-11T05:03:39.359Z"
   },
   {
    "duration": 0,
    "start_time": "2024-03-11T05:03:39.360Z"
   },
   {
    "duration": 387,
    "start_time": "2024-03-11T05:04:51.715Z"
   },
   {
    "duration": 221,
    "start_time": "2024-03-11T05:04:57.347Z"
   },
   {
    "duration": 282,
    "start_time": "2024-03-11T05:04:59.394Z"
   },
   {
    "duration": 18,
    "start_time": "2024-03-11T05:05:09.323Z"
   },
   {
    "duration": 588,
    "start_time": "2024-03-11T05:05:10.116Z"
   },
   {
    "duration": 30,
    "start_time": "2024-03-11T05:05:14.098Z"
   },
   {
    "duration": 4,
    "start_time": "2024-03-11T05:05:14.387Z"
   },
   {
    "duration": 11,
    "start_time": "2024-03-11T05:05:15.292Z"
   },
   {
    "duration": 16,
    "start_time": "2024-03-11T05:05:15.635Z"
   },
   {
    "duration": 22,
    "start_time": "2024-03-11T05:05:17.851Z"
   },
   {
    "duration": 391,
    "start_time": "2024-03-11T05:05:20.130Z"
   },
   {
    "duration": 324,
    "start_time": "2024-03-11T05:05:20.978Z"
   },
   {
    "duration": 20,
    "start_time": "2024-03-11T05:05:21.595Z"
   },
   {
    "duration": 312,
    "start_time": "2024-03-11T05:05:21.745Z"
   },
   {
    "duration": 337,
    "start_time": "2024-03-11T05:05:22.059Z"
   },
   {
    "duration": 998,
    "start_time": "2024-03-11T05:05:22.562Z"
   },
   {
    "duration": 2,
    "start_time": "2024-03-11T05:05:23.562Z"
   },
   {
    "duration": 36,
    "start_time": "2024-03-11T05:05:23.565Z"
   },
   {
    "duration": 4,
    "start_time": "2024-03-11T05:05:23.603Z"
   },
   {
    "duration": 169,
    "start_time": "2024-03-11T05:05:23.608Z"
   },
   {
    "duration": 5,
    "start_time": "2024-03-11T05:05:24.306Z"
   },
   {
    "duration": 6,
    "start_time": "2024-03-11T05:05:25.122Z"
   },
   {
    "duration": 11,
    "start_time": "2024-03-11T05:05:25.834Z"
   },
   {
    "duration": 295,
    "start_time": "2024-03-11T05:05:27.371Z"
   },
   {
    "duration": 7,
    "start_time": "2024-03-11T05:05:27.770Z"
   },
   {
    "duration": 290,
    "start_time": "2024-03-11T05:05:28.474Z"
   },
   {
    "duration": 1205,
    "start_time": "2024-03-11T05:05:37.561Z"
   },
   {
    "duration": 53,
    "start_time": "2024-03-11T05:05:38.768Z"
   },
   {
    "duration": 56,
    "start_time": "2024-03-11T05:05:38.822Z"
   },
   {
    "duration": 42,
    "start_time": "2024-03-11T05:05:38.881Z"
   },
   {
    "duration": 216,
    "start_time": "2024-03-11T05:05:38.925Z"
   },
   {
    "duration": 741,
    "start_time": "2024-03-11T05:05:39.143Z"
   },
   {
    "duration": 11,
    "start_time": "2024-03-11T05:05:39.886Z"
   },
   {
    "duration": 10,
    "start_time": "2024-03-11T05:05:39.898Z"
   },
   {
    "duration": 218,
    "start_time": "2024-03-11T05:05:39.910Z"
   },
   {
    "duration": 171,
    "start_time": "2024-03-11T05:05:40.131Z"
   },
   {
    "duration": 310,
    "start_time": "2024-03-11T05:05:40.304Z"
   },
   {
    "duration": 360,
    "start_time": "2024-03-11T05:05:40.616Z"
   },
   {
    "duration": 21,
    "start_time": "2024-03-11T05:05:40.978Z"
   },
   {
    "duration": 322,
    "start_time": "2024-03-11T05:05:41.001Z"
   },
   {
    "duration": 218,
    "start_time": "2024-03-11T05:05:41.325Z"
   },
   {
    "duration": 274,
    "start_time": "2024-03-11T05:05:41.545Z"
   },
   {
    "duration": 15,
    "start_time": "2024-03-11T05:05:41.821Z"
   },
   {
    "duration": 491,
    "start_time": "2024-03-11T05:05:41.838Z"
   },
   {
    "duration": 32,
    "start_time": "2024-03-11T05:05:42.331Z"
   },
   {
    "duration": 5,
    "start_time": "2024-03-11T05:05:42.365Z"
   },
   {
    "duration": 12,
    "start_time": "2024-03-11T05:05:42.391Z"
   },
   {
    "duration": 15,
    "start_time": "2024-03-11T05:05:42.405Z"
   },
   {
    "duration": 24,
    "start_time": "2024-03-11T05:05:42.422Z"
   },
   {
    "duration": 498,
    "start_time": "2024-03-11T05:05:42.448Z"
   },
   {
    "duration": 323,
    "start_time": "2024-03-11T05:05:42.948Z"
   },
   {
    "duration": 28,
    "start_time": "2024-03-11T05:05:43.272Z"
   },
   {
    "duration": 309,
    "start_time": "2024-03-11T05:05:43.302Z"
   },
   {
    "duration": 293,
    "start_time": "2024-03-11T05:05:43.615Z"
   },
   {
    "duration": 934,
    "start_time": "2024-03-11T05:05:43.909Z"
   },
   {
    "duration": 3,
    "start_time": "2024-03-11T05:05:44.844Z"
   },
   {
    "duration": 15,
    "start_time": "2024-03-11T05:05:44.848Z"
   },
   {
    "duration": 3,
    "start_time": "2024-03-11T05:05:44.865Z"
   },
   {
    "duration": 174,
    "start_time": "2024-03-11T05:05:44.870Z"
   },
   {
    "duration": 6,
    "start_time": "2024-03-11T05:05:45.046Z"
   },
   {
    "duration": 249,
    "start_time": "2024-03-11T05:05:45.053Z"
   },
   {
    "duration": 243,
    "start_time": "2024-03-11T05:05:45.304Z"
   },
   {
    "duration": 330,
    "start_time": "2024-03-11T05:05:45.549Z"
   },
   {
    "duration": 14,
    "start_time": "2024-03-11T05:05:45.881Z"
   },
   {
    "duration": 272,
    "start_time": "2024-03-11T05:05:45.896Z"
   }
  ],
  "kernelspec": {
   "display_name": "Python 3 (ipykernel)",
   "language": "python",
   "name": "python3"
  },
  "language_info": {
   "codemirror_mode": {
    "name": "ipython",
    "version": 3
   },
   "file_extension": ".py",
   "mimetype": "text/x-python",
   "name": "python",
   "nbconvert_exporter": "python",
   "pygments_lexer": "ipython3",
   "version": "3.9.5"
  },
  "toc": {
   "base_numbering": 1,
   "nav_menu": {},
   "number_sections": true,
   "sideBar": true,
   "skip_h1_title": true,
   "title_cell": "Table of Contents",
   "title_sidebar": "Contents",
   "toc_cell": false,
   "toc_position": {},
   "toc_section_display": true,
   "toc_window_display": false
  }
 },
 "nbformat": 4,
 "nbformat_minor": 5
}
